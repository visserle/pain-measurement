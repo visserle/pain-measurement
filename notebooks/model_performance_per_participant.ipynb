{
    "cells": [
        {
            "cell_type": "code",
            "execution_count": 5,
            "metadata": {},
            "outputs": [],
            "source": [
                "%%capture\n",
                "from pathlib import Path\n",
                "\n",
                "if Path.cwd().stem == \"notebooks\":\n",
                "    %cd ..\n",
                "    %load_ext autoreload\n",
                "    %autoreload 2"
            ]
        },
        {
            "cell_type": "code",
            "execution_count": 6,
            "metadata": {},
            "outputs": [
                {
                    "data": {
                        "text/plain": [
                            "polars.config.Config"
                        ]
                    },
                    "execution_count": 6,
                    "metadata": {},
                    "output_type": "execute_result"
                }
            ],
            "source": [
                "import logging\n",
                "import time\n",
                "from pathlib import Path\n",
                "\n",
                "import numpy as np\n",
                "import polars as pl\n",
                "import torch\n",
                "\n",
                "from src.data.database_manager import DatabaseManager\n",
                "from src.log_config import configure_logging\n",
                "from src.models.data_loader import create_dataloaders\n",
                "from src.models.data_preparation import prepare_data\n",
                "from src.models.main_config import RANDOM_SEED\n",
                "from src.models.utils import load_model\n",
                "from src.plots.model_performance_per_participant import (\n",
                "    analyze_per_participant,\n",
                "    get_summary_statistics,\n",
                "    plot_participant_performance,\n",
                ")\n",
                "\n",
                "configure_logging(\n",
                "    stream_level=logging.DEBUG,\n",
                "    ignore_libs=[\"matplotlib\", \"Comm\", \"bokeh\", \"tornado\", \"filelock\"],\n",
                ")\n",
                "\n",
                "pl.Config.set_tbl_rows(12)  # for the 12 trials"
            ]
        },
        {
            "cell_type": "code",
            "execution_count": 7,
            "metadata": {},
            "outputs": [
                {
                    "name": "stdout",
                    "output_type": "stream",
                    "text": [
                        "10:26:17 | \u001b[92mINFO    \u001b[0m| utils | Using device: mps\n",
                        "10:26:17 | \u001b[92mINFO    \u001b[0m| utils | Loaded PatchTST model with test accuracy 0.77 to mps\n",
                        "10:26:17 | \u001b[92mINFO    \u001b[0m| utils | Input shape: (70, 2) | Features: ['eda_raw', 'pupil_mean'] | Sample duration: 7000 ms\n",
                        "10:26:17 | \u001b[36mDEBUG   \u001b[0m| utils | Intervals: {'increases': 'strictly_increasing_intervals', 'plateaus': 'plateau_intervals', 'decreases': 'major_decreasing_intervals'}\n",
                        "10:26:17 | \u001b[36mDEBUG   \u001b[0m| utils | Label mapping: {'increases': 0, 'plateaus': 0, 'decreases': 1}\n",
                        "10:26:17 | \u001b[36mDEBUG   \u001b[0m| utils | Offset ms: {'increases': 0, 'plateaus': 5000, 'decreases': 1000}\n",
                        "10:26:18 | \u001b[36mDEBUG   \u001b[0m| sample_creation | Removed 749 samples with less than 69 data points\n",
                        "10:26:18 | \u001b[36mDEBUG   \u001b[0m| data_preparation | Preparing data with sample duration 7000 ms and random seed 1337\n",
                        "10:26:18 | \u001b[36mDEBUG   \u001b[0m| data_preparation | Samples are based on intervals: {'increases': 'strictly_increasing_intervals', 'plateaus': 'plateau_intervals', 'decreases': 'major_decreasing_intervals'}\n",
                        "10:26:18 | \u001b[36mDEBUG   \u001b[0m| data_preparation | Offsets for intervals: {'increases': 0, 'plateaus': 5000, 'decreases': 1000}\n",
                        "10:26:18 | \u001b[36mDEBUG   \u001b[0m| data_preparation | Label mapping: {'increases': 0, 'plateaus': 0, 'decreases': 1}\n",
                        "10:26:18 | \u001b[92mINFO    \u001b[0m| data_preparation | Number of unique participants in training set: 24\n",
                        "10:26:18 | \u001b[92mINFO    \u001b[0m| data_preparation | Number of unique participants in validation set: 9\n",
                        "10:26:18 | \u001b[92mINFO    \u001b[0m| data_preparation | Number of unique participants in test set: 9\n",
                        "10:26:18 | \u001b[36mDEBUG   \u001b[0m| data_preparation | Participant IDs in test set: [ 1  8 10 16 17 20 24 36 37]\n",
                        "10:26:18 | \u001b[36mDEBUG   \u001b[0m| sample_creation | Removed 749 samples with less than 69 data points\n",
                        "10:26:18 | \u001b[36mDEBUG   \u001b[0m| data_loader | Dataset summary: Train: 2227 samples, Test: 599 samples | Input shape: (2227, 70, 2), Label shape: (2227, 2)\n"
                    ]
                }
            ],
            "source": [
                "model, feature_list, sample_duration_ms, intervals, label_mapping, offsets_ms = (\n",
                "    load_model(\n",
                "        # \"results/experiment_eda_raw_pupil_mean/model/PatchTST_20250730-175809.pt\"\n",
                "        # \"results/experiment_eda_raw/model/PatchTST_20250730-222814.pt\"\n",
                "        # \"results/experiment_eda_raw_pupil_mean/model/PatchTST_20250731-091436.pt\"\n",
                "        # \"results/experiment_eda_raw_pupil_mean/model/PatchTST_20250804-134048.pt\"\n",
                "        # \"results/experiment_eda_raw_pupil_mean/model/PatchTST_20250804-144005.pt\"\n",
                "        \"results/experiment_eda_raw_pupil_mean/model/PatchTST_20250804-150402.pt\"  # 7 s with plateaus, very nice\n",
                "        # \"results/experiment_eda_raw_pupil_mean/model/PatchTST_20250804-151623.pt\"  # 5 s with plateaus,  0.73,  not so nice, model is quite unstable\n",
                "    )\n",
                ")\n",
                "# Load data from database\n",
                "db = DatabaseManager()\n",
                "with db:\n",
                "    df = db.get_table(\n",
                "        \"Merged_and_Labeled_Data\",\n",
                "        exclude_trials_with_measurement_problems=True,\n",
                "    )\n",
                "\n",
                "# Prepare data\n",
                "X_train, y_train, X_val, y_val, X_train_val, y_train_val, X_test, y_test = prepare_data(\n",
                "    df,\n",
                "    feature_list,\n",
                "    sample_duration_ms,\n",
                "    RANDOM_SEED,\n",
                "    intervals,\n",
                "    label_mapping,\n",
                "    offsets_ms,\n",
                ")\n",
                "\n",
                "test_groups = prepare_data(\n",
                "    df, feature_list, sample_duration_ms, RANDOM_SEED, only_return_test_groups=True\n",
                ")\n",
                "_, test_loader = create_dataloaders(\n",
                "    X_train_val, y_train_val, X_test, y_test, batch_size=64\n",
                ")"
            ]
        },
        {
            "cell_type": "code",
            "execution_count": 8,
            "metadata": {},
            "outputs": [
                {
                    "ename": "IndexError",
                    "evalue": "boolean index did not match indexed array along axis 0; size of axis is 599 but size of corresponding boolean axis is 544",
                    "output_type": "error",
                    "traceback": [
                        "\u001b[31m---------------------------------------------------------------------------\u001b[39m",
                        "\u001b[31mIndexError\u001b[39m                                Traceback (most recent call last)",
                        "\u001b[36mCell\u001b[39m\u001b[36m \u001b[39m\u001b[32mIn[8]\u001b[39m\u001b[32m, line 1\u001b[39m\n\u001b[32m----> \u001b[39m\u001b[32m1\u001b[39m results_df = \u001b[43manalyze_per_participant\u001b[49m\u001b[43m(\u001b[49m\n\u001b[32m      2\u001b[39m \u001b[43m    \u001b[49m\u001b[43mmodel\u001b[49m\u001b[43m,\u001b[49m\n\u001b[32m      3\u001b[39m \u001b[43m    \u001b[49m\u001b[43mtest_loader\u001b[49m\u001b[43m,\u001b[49m\n\u001b[32m      4\u001b[39m \u001b[43m    \u001b[49m\u001b[43mtest_groups\u001b[49m\u001b[43m,\u001b[49m\n\u001b[32m      5\u001b[39m \u001b[43m    \u001b[49m\u001b[43mthreshold\u001b[49m\u001b[43m=\u001b[49m\u001b[32;43m0.50\u001b[39;49m\u001b[43m,\u001b[49m\n\u001b[32m      6\u001b[39m \u001b[43m)\u001b[49m\n\u001b[32m      7\u001b[39m (\n\u001b[32m      8\u001b[39m     results_df.remove(participant=\u001b[33m\"\u001b[39m\u001b[33moverall\u001b[39m\u001b[33m\"\u001b[39m)\n\u001b[32m      9\u001b[39m     .sort(\u001b[33m\"\u001b[39m\u001b[33maccuracy\u001b[39m\u001b[33m\"\u001b[39m, descending=\u001b[38;5;28;01mTrue\u001b[39;00m)\n\u001b[32m     10\u001b[39m     .get_column(\u001b[33m\"\u001b[39m\u001b[33mparticipant\u001b[39m\u001b[33m\"\u001b[39m)\n\u001b[32m     11\u001b[39m     .to_list()\n\u001b[32m     12\u001b[39m )\n",
                        "\u001b[36mFile \u001b[39m\u001b[32m~/drive/PhD/Code/pain-measurement/src/plots/model_performance_per_participant.py:85\u001b[39m, in \u001b[36manalyze_per_participant\u001b[39m\u001b[34m(model, test_loader, test_groups, threshold)\u001b[39m\n\u001b[32m     82\u001b[39m mask = test_groups == participant\n\u001b[32m     84\u001b[39m \u001b[38;5;66;03m# Get true labels and predictions for this participant\u001b[39;00m\n\u001b[32m---> \u001b[39m\u001b[32m85\u001b[39m p_true = \u001b[43moverall_y_true\u001b[49m\u001b[43m[\u001b[49m\u001b[43mmask\u001b[49m\u001b[43m]\u001b[49m\n\u001b[32m     86\u001b[39m p_scores = overall_scores[mask]\n\u001b[32m     87\u001b[39m p_pred = overall_y_pred[mask]\n",
                        "\u001b[31mIndexError\u001b[39m: boolean index did not match indexed array along axis 0; size of axis is 599 but size of corresponding boolean axis is 544"
                    ]
                }
            ],
            "source": [
                "results_df = analyze_per_participant(\n",
                "    model,\n",
                "    test_loader,\n",
                "    test_groups,\n",
                "    threshold=0.50,\n",
                ")\n",
                "(\n",
                "    results_df.remove(participant=\"overall\")\n",
                "    .sort(\"accuracy\", descending=True)\n",
                "    .get_column(\"participant\")\n",
                "    .to_list()\n",
                ")"
            ]
        },
        {
            "cell_type": "code",
            "execution_count": null,
            "metadata": {},
            "outputs": [
                {
                    "data": {
                        "image/png": "[encoded data removed]",
                        "text/plain": [
                            "<Figure size 800x500 with 1 Axes>"
                        ]
                    },
                    "metadata": {},
                    "output_type": "display_data"
                }
            ],
            "source": [
                "model_performance_per_participant = plot_participant_performance(results_df)"
            ]
        },
        {
            "cell_type": "code",
            "execution_count": 21,
            "metadata": {},
            "outputs": [
                {
                    "name": "stdout",
                    "output_type": "stream",
                    "text": [
                        "Summary of classification accuracy across participants\n",
                        "shape: (5, 2)\n",
                        "┌─────────────────────────────────┬───────────────┐\n",
                        "│ Measure                         ┆ Value         │\n",
                        "│ ---                             ┆ ---           │\n",
                        "│ str                             ┆ str           │\n",
                        "╞═════════════════════════════════╪═══════════════╡\n",
                        "│ Overall accuracy                ┆ 73.4%         │\n",
                        "│ Participants above chance leve… ┆ 9 out of 9    │\n",
                        "│ Participants above overall acc… ┆ 5 out of 9    │\n",
                        "│ Highest accuracy (Participant … ┆ 95.5% (ID: 6) │\n",
                        "│ Lowest accuracy (Participant I… ┆ 57.1% (ID: 7) │\n",
                        "└─────────────────────────────────┴───────────────┘\n"
                    ]
                }
            ],
            "source": [
                "summary_df = get_summary_statistics(results_df)\n",
                "\n",
                "print(\"Summary of classification accuracy across participants\")\n",
                "print(summary_df)"
            ]
        },
        {
            "cell_type": "code",
            "execution_count": 22,
            "metadata": {},
            "outputs": [],
            "source": [
                "# Save figure\n",
                "FIGURE_DIR = Path(\"/Users/visser/drive/PhD/Papers/PAIN/figures\")\n",
                "\n",
                "model_performance_per_participant.savefig(\n",
                "    FIGURE_DIR / \"model_performance_per_participant.png\", dpi=300, bbox_inches=\"tight\"\n",
                ")\n"
            ]
        },
        {
            "cell_type": "markdown",
            "metadata": {},
            "source": [
                "## Inference time per sample"
            ]
        },
        {
            "cell_type": "code",
            "execution_count": 17,
            "metadata": {},
            "outputs": [
                {
                    "name": "stdout",
                    "output_type": "stream",
                    "text": [
                        "Compiling model...\n",
                        "Running warm-up...\n",
                        "\n",
                        "Inference time comparison (averaged over 100 runs):\n",
                        "Original model: 0.465 ms\n",
                        "Compiled model: 0.289 ms\n",
                        "Speedup: 1.61x\n"
                    ]
                }
            ],
            "source": [
                "# Put model in evaluation mode\n",
                "model.eval()\n",
                "\n",
                "# Move to device first\n",
                "device = torch.device(\"cuda\" if torch.cuda.is_available() else \"cpu\")\n",
                "model = model.to(device)\n",
                "\n",
                "# Compile the model\n",
                "print(\"Compiling model...\")\n",
                "compiled_model = torch.compile(model)\n",
                "\n",
                "# Get a single sample\n",
                "single_sample, single_label = next(iter(test_loader))\n",
                "single_sample = single_sample[:1].to(device)\n",
                "\n",
                "# Warm-up runs (more important for compiled models)\n",
                "print(\"Running warm-up...\")\n",
                "for _ in range(10):\n",
                "    with torch.no_grad():\n",
                "        _ = compiled_model(single_sample)\n",
                "\n",
                "# Measure inference time for both compiled and original\n",
                "num_runs = 100\n",
                "times_original = []\n",
                "times_compiled = []\n",
                "\n",
                "# Test original model\n",
                "for _ in range(num_runs):\n",
                "    start_time = time.perf_counter()\n",
                "    with torch.no_grad():\n",
                "        _ = model(single_sample)\n",
                "    if torch.cuda.is_available():\n",
                "        torch.cuda.synchronize()\n",
                "    times_original.append(time.perf_counter() - start_time)\n",
                "\n",
                "# Test compiled model\n",
                "for _ in range(num_runs):\n",
                "    start_time = time.perf_counter()\n",
                "    with torch.no_grad():\n",
                "        _ = compiled_model(single_sample)\n",
                "    if torch.cuda.is_available():\n",
                "        torch.cuda.synchronize()\n",
                "    times_compiled.append(time.perf_counter() - start_time)\n",
                "\n",
                "# Compare results\n",
                "print(f\"\\nInference time comparison (averaged over {num_runs} runs):\")\n",
                "print(f\"Original model: {sum(times_original) / len(times_original) * 1000:.3f} ms\")\n",
                "print(f\"Compiled model: {sum(times_compiled) / len(times_compiled) * 1000:.3f} ms\")\n",
                "print(f\"Speedup: {sum(times_original) / sum(times_compiled):.2f}x\")"
            ]
        },
        {
            "cell_type": "code",
            "execution_count": null,
            "metadata": {},
            "outputs": [],
            "source": []
        },
        {
            "cell_type": "code",
            "execution_count": null,
            "metadata": {},
            "outputs": [],
            "source": []
        }
    ],
    "metadata": {
        "kernelspec": {
            "display_name": "pain",
            "language": "python",
            "name": "python3"
        },
        "language_info": {
            "codemirror_mode": {
                "name": "ipython",
                "version": 3
            },
            "file_extension": ".py",
            "mimetype": "text/x-python",
            "name": "python",
            "nbconvert_exporter": "python",
            "pygments_lexer": "ipython3",
            "version": "3.12.10"
        }
    },
    "nbformat": 4,
    "nbformat_minor": 2
}
