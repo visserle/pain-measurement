{
 "cells": [
  {
   "cell_type": "code",
   "execution_count": 1,
   "metadata": {},
   "outputs": [],
   "source": [
    "%%capture\n",
    "from pathlib import Path\n",
    "\n",
    "if Path.cwd().stem == \"notebooks\":\n",
    "    %cd ..\n",
    "    %load_ext autoreload\n",
    "    %autoreload 2"
   ]
  },
  {
   "cell_type": "code",
   "execution_count": 2,
   "metadata": {},
   "outputs": [
    {
     "data": {
      "application/javascript": "(function(root) {\n  function now() {\n    return new Date();\n  }\n\n  var force = true;\n  var py_version = '3.4.2'.replace('rc', '-rc.').replace('.dev', '-dev.');\n  var reloading = false;\n  var Bokeh = root.Bokeh;\n\n  if (typeof (root._bokeh_timeout) === \"undefined\" || force) {\n    root._bokeh_timeout = Date.now() + 5000;\n    root._bokeh_failed_load = false;\n  }\n\n  function run_callbacks() {\n    try {\n      root._bokeh_onload_callbacks.forEach(function(callback) {\n        if (callback != null)\n          callback();\n      });\n    } finally {\n      delete root._bokeh_onload_callbacks;\n    }\n    console.debug(\"Bokeh: all callbacks have finished\");\n  }\n\n  function load_libs(css_urls, js_urls, js_modules, js_exports, callback) {\n    if (css_urls == null) css_urls = [];\n    if (js_urls == null) js_urls = [];\n    if (js_modules == null) js_modules = [];\n    if (js_exports == null) js_exports = {};\n\n    root._bokeh_onload_callbacks.push(callback);\n\n    if (root._bokeh_is_loading > 0) {\n      console.debug(\"Bokeh: BokehJS is being loaded, scheduling callback at\", now());\n      return null;\n    }\n    if (js_urls.length === 0 && js_modules.length === 0 && Object.keys(js_exports).length === 0) {\n      run_callbacks();\n      return null;\n    }\n    if (!reloading) {\n      console.debug(\"Bokeh: BokehJS not loaded, scheduling load and callback at\", now());\n    }\n\n    function on_load() {\n      root._bokeh_is_loading--;\n      if (root._bokeh_is_loading === 0) {\n        console.debug(\"Bokeh: all BokehJS libraries/stylesheets loaded\");\n        run_callbacks()\n      }\n    }\n    window._bokeh_on_load = on_load\n\n    function on_error() {\n      console.error(\"failed to load \" + url);\n    }\n\n    var skip = [];\n    if (window.requirejs) {\n      window.requirejs.config({'packages': {}, 'paths': {}, 'shim': {}});\n      root._bokeh_is_loading = css_urls.length + 0;\n    } else {\n      root._bokeh_is_loading = css_urls.length + js_urls.length + js_modules.length + Object.keys(js_exports).length;\n    }\n\n    var existing_stylesheets = []\n    var links = document.getElementsByTagName('link')\n    for (var i = 0; i < links.length; i++) {\n      var link = links[i]\n      if (link.href != null) {\n\texisting_stylesheets.push(link.href)\n      }\n    }\n    for (var i = 0; i < css_urls.length; i++) {\n      var url = css_urls[i];\n      if (existing_stylesheets.indexOf(url) !== -1) {\n\ton_load()\n\tcontinue;\n      }\n      const element = document.createElement(\"link\");\n      element.onload = on_load;\n      element.onerror = on_error;\n      element.rel = \"stylesheet\";\n      element.type = \"text/css\";\n      element.href = url;\n      console.debug(\"Bokeh: injecting link tag for BokehJS stylesheet: \", url);\n      document.body.appendChild(element);\n    }    var existing_scripts = []\n    var scripts = document.getElementsByTagName('script')\n    for (var i = 0; i < scripts.length; i++) {\n      var script = scripts[i]\n      if (script.src != null) {\n\texisting_scripts.push(script.src)\n      }\n    }\n    for (var i = 0; i < js_urls.length; i++) {\n      var url = js_urls[i];\n      if (skip.indexOf(url) !== -1 || existing_scripts.indexOf(url) !== -1) {\n\tif (!window.requirejs) {\n\t  on_load();\n\t}\n\tcontinue;\n      }\n      var element = document.createElement('script');\n      element.onload = on_load;\n      element.onerror = on_error;\n      element.async = false;\n      element.src = url;\n      console.debug(\"Bokeh: injecting script tag for BokehJS library: \", url);\n      document.head.appendChild(element);\n    }\n    for (var i = 0; i < js_modules.length; i++) {\n      var url = js_modules[i];\n      if (skip.indexOf(url) !== -1 || existing_scripts.indexOf(url) !== -1) {\n\tif (!window.requirejs) {\n\t  on_load();\n\t}\n\tcontinue;\n      }\n      var element = document.createElement('script');\n      element.onload = on_load;\n      element.onerror = on_error;\n      element.async = false;\n      element.src = url;\n      element.type = \"module\";\n      console.debug(\"Bokeh: injecting script tag for BokehJS library: \", url);\n      document.head.appendChild(element);\n    }\n    for (const name in js_exports) {\n      var url = js_exports[name];\n      if (skip.indexOf(url) >= 0 || root[name] != null) {\n\tif (!window.requirejs) {\n\t  on_load();\n\t}\n\tcontinue;\n      }\n      var element = document.createElement('script');\n      element.onerror = on_error;\n      element.async = false;\n      element.type = \"module\";\n      console.debug(\"Bokeh: injecting script tag for BokehJS library: \", url);\n      element.textContent = `\n      import ${name} from \"${url}\"\n      window.${name} = ${name}\n      window._bokeh_on_load()\n      `\n      document.head.appendChild(element);\n    }\n    if (!js_urls.length && !js_modules.length) {\n      on_load()\n    }\n  };\n\n  function inject_raw_css(css) {\n    const element = document.createElement(\"style\");\n    element.appendChild(document.createTextNode(css));\n    document.body.appendChild(element);\n  }\n\n  var js_urls = [\"https://cdn.bokeh.org/bokeh/release/bokeh-3.4.2.min.js\", \"https://cdn.bokeh.org/bokeh/release/bokeh-gl-3.4.2.min.js\", \"https://cdn.bokeh.org/bokeh/release/bokeh-widgets-3.4.2.min.js\", \"https://cdn.bokeh.org/bokeh/release/bokeh-tables-3.4.2.min.js\", \"https://cdn.holoviz.org/panel/1.4.4/dist/panel.min.js\"];\n  var js_modules = [];\n  var js_exports = {};\n  var css_urls = [];\n  var inline_js = [    function(Bokeh) {\n      Bokeh.set_log_level(\"info\");\n    },\nfunction(Bokeh) {} // ensure no trailing comma for IE\n  ];\n\n  function run_inline_js() {\n    if ((root.Bokeh !== undefined) || (force === true)) {\n      for (var i = 0; i < inline_js.length; i++) {\n\ttry {\n          inline_js[i].call(root, root.Bokeh);\n\t} catch(e) {\n\t  if (!reloading) {\n\t    throw e;\n\t  }\n\t}\n      }\n      // Cache old bokeh versions\n      if (Bokeh != undefined && !reloading) {\n\tvar NewBokeh = root.Bokeh;\n\tif (Bokeh.versions === undefined) {\n\t  Bokeh.versions = new Map();\n\t}\n\tif (NewBokeh.version !== Bokeh.version) {\n\t  Bokeh.versions.set(NewBokeh.version, NewBokeh)\n\t}\n\troot.Bokeh = Bokeh;\n      }} else if (Date.now() < root._bokeh_timeout) {\n      setTimeout(run_inline_js, 100);\n    } else if (!root._bokeh_failed_load) {\n      console.log(\"Bokeh: BokehJS failed to load within specified timeout.\");\n      root._bokeh_failed_load = true;\n    }\n    root._bokeh_is_initializing = false\n  }\n\n  function load_or_wait() {\n    // Implement a backoff loop that tries to ensure we do not load multiple\n    // versions of Bokeh and its dependencies at the same time.\n    // In recent versions we use the root._bokeh_is_initializing flag\n    // to determine whether there is an ongoing attempt to initialize\n    // bokeh, however for backward compatibility we also try to ensure\n    // that we do not start loading a newer (Panel>=1.0 and Bokeh>3) version\n    // before older versions are fully initialized.\n    if (root._bokeh_is_initializing && Date.now() > root._bokeh_timeout) {\n      root._bokeh_is_initializing = false;\n      root._bokeh_onload_callbacks = undefined;\n      console.log(\"Bokeh: BokehJS was loaded multiple times but one version failed to initialize.\");\n      load_or_wait();\n    } else if (root._bokeh_is_initializing || (typeof root._bokeh_is_initializing === \"undefined\" && root._bokeh_onload_callbacks !== undefined)) {\n      setTimeout(load_or_wait, 100);\n    } else {\n      root._bokeh_is_initializing = true\n      root._bokeh_onload_callbacks = []\n      var bokeh_loaded = Bokeh != null && (Bokeh.version === py_version || (Bokeh.versions !== undefined && Bokeh.versions.has(py_version)));\n      if (!reloading && !bokeh_loaded) {\n\troot.Bokeh = undefined;\n      }\n      load_libs(css_urls, js_urls, js_modules, js_exports, function() {\n\tconsole.debug(\"Bokeh: BokehJS plotting callback run at\", now());\n\trun_inline_js();\n      });\n    }\n  }\n  // Give older versions of the autoload script a head-start to ensure\n  // they initialize before we start loading newer version.\n  setTimeout(load_or_wait, 100)\n}(window));",
      "application/vnd.holoviews_load.v0+json": ""
     },
     "metadata": {},
     "output_type": "display_data"
    },
    {
     "data": {
      "application/javascript": "\nif ((window.PyViz === undefined) || (window.PyViz instanceof HTMLElement)) {\n  window.PyViz = {comms: {}, comm_status:{}, kernels:{}, receivers: {}, plot_index: []}\n}\n\n\n    function JupyterCommManager() {\n    }\n\n    JupyterCommManager.prototype.register_target = function(plot_id, comm_id, msg_handler) {\n      if (window.comm_manager || ((window.Jupyter !== undefined) && (Jupyter.notebook.kernel != null))) {\n        var comm_manager = window.comm_manager || Jupyter.notebook.kernel.comm_manager;\n        comm_manager.register_target(comm_id, function(comm) {\n          comm.on_msg(msg_handler);\n        });\n      } else if ((plot_id in window.PyViz.kernels) && (window.PyViz.kernels[plot_id])) {\n        window.PyViz.kernels[plot_id].registerCommTarget(comm_id, function(comm) {\n          comm.onMsg = msg_handler;\n        });\n      } else if (typeof google != 'undefined' && google.colab.kernel != null) {\n        google.colab.kernel.comms.registerTarget(comm_id, (comm) => {\n          var messages = comm.messages[Symbol.asyncIterator]();\n          function processIteratorResult(result) {\n            var message = result.value;\n            console.log(message)\n            var content = {data: message.data, comm_id};\n            var buffers = []\n            for (var buffer of message.buffers || []) {\n              buffers.push(new DataView(buffer))\n            }\n            var metadata = message.metadata || {};\n            var msg = {content, buffers, metadata}\n            msg_handler(msg);\n            return messages.next().then(processIteratorResult);\n          }\n          return messages.next().then(processIteratorResult);\n        })\n      }\n    }\n\n    JupyterCommManager.prototype.get_client_comm = function(plot_id, comm_id, msg_handler) {\n      if (comm_id in window.PyViz.comms) {\n        return window.PyViz.comms[comm_id];\n      } else if (window.comm_manager || ((window.Jupyter !== undefined) && (Jupyter.notebook.kernel != null))) {\n        var comm_manager = window.comm_manager || Jupyter.notebook.kernel.comm_manager;\n        var comm = comm_manager.new_comm(comm_id, {}, {}, {}, comm_id);\n        if (msg_handler) {\n          comm.on_msg(msg_handler);\n        }\n      } else if ((plot_id in window.PyViz.kernels) && (window.PyViz.kernels[plot_id])) {\n        var comm = window.PyViz.kernels[plot_id].connectToComm(comm_id);\n        comm.open();\n        if (msg_handler) {\n          comm.onMsg = msg_handler;\n        }\n      } else if (typeof google != 'undefined' && google.colab.kernel != null) {\n        var comm_promise = google.colab.kernel.comms.open(comm_id)\n        comm_promise.then((comm) => {\n          window.PyViz.comms[comm_id] = comm;\n          if (msg_handler) {\n            var messages = comm.messages[Symbol.asyncIterator]();\n            function processIteratorResult(result) {\n              var message = result.value;\n              var content = {data: message.data};\n              var metadata = message.metadata || {comm_id};\n              var msg = {content, metadata}\n              msg_handler(msg);\n              return messages.next().then(processIteratorResult);\n            }\n            return messages.next().then(processIteratorResult);\n          }\n        }) \n        var sendClosure = (data, metadata, buffers, disposeOnDone) => {\n          return comm_promise.then((comm) => {\n            comm.send(data, metadata, buffers, disposeOnDone);\n          });\n        };\n        var comm = {\n          send: sendClosure\n        };\n      }\n      window.PyViz.comms[comm_id] = comm;\n      return comm;\n    }\n    window.PyViz.comm_manager = new JupyterCommManager();\n    \n\n\nvar JS_MIME_TYPE = 'application/javascript';\nvar HTML_MIME_TYPE = 'text/html';\nvar EXEC_MIME_TYPE = 'application/vnd.holoviews_exec.v0+json';\nvar CLASS_NAME = 'output';\n\n/**\n * Render data to the DOM node\n */\nfunction render(props, node) {\n  var div = document.createElement(\"div\");\n  var script = document.createElement(\"script\");\n  node.appendChild(div);\n  node.appendChild(script);\n}\n\n/**\n * Handle when a new output is added\n */\nfunction handle_add_output(event, handle) {\n  var output_area = handle.output_area;\n  var output = handle.output;\n  if ((output.data == undefined) || (!output.data.hasOwnProperty(EXEC_MIME_TYPE))) {\n    return\n  }\n  var id = output.metadata[EXEC_MIME_TYPE][\"id\"];\n  var toinsert = output_area.element.find(\".\" + CLASS_NAME.split(' ')[0]);\n  if (id !== undefined) {\n    var nchildren = toinsert.length;\n    var html_node = toinsert[nchildren-1].children[0];\n    html_node.innerHTML = output.data[HTML_MIME_TYPE];\n    var scripts = [];\n    var nodelist = html_node.querySelectorAll(\"script\");\n    for (var i in nodelist) {\n      if (nodelist.hasOwnProperty(i)) {\n        scripts.push(nodelist[i])\n      }\n    }\n\n    scripts.forEach( function (oldScript) {\n      var newScript = document.createElement(\"script\");\n      var attrs = [];\n      var nodemap = oldScript.attributes;\n      for (var j in nodemap) {\n        if (nodemap.hasOwnProperty(j)) {\n          attrs.push(nodemap[j])\n        }\n      }\n      attrs.forEach(function(attr) { newScript.setAttribute(attr.name, attr.value) });\n      newScript.appendChild(document.createTextNode(oldScript.innerHTML));\n      oldScript.parentNode.replaceChild(newScript, oldScript);\n    });\n    if (JS_MIME_TYPE in output.data) {\n      toinsert[nchildren-1].children[1].textContent = output.data[JS_MIME_TYPE];\n    }\n    output_area._hv_plot_id = id;\n    if ((window.Bokeh !== undefined) && (id in Bokeh.index)) {\n      window.PyViz.plot_index[id] = Bokeh.index[id];\n    } else {\n      window.PyViz.plot_index[id] = null;\n    }\n  } else if (output.metadata[EXEC_MIME_TYPE][\"server_id\"] !== undefined) {\n    var bk_div = document.createElement(\"div\");\n    bk_div.innerHTML = output.data[HTML_MIME_TYPE];\n    var script_attrs = bk_div.children[0].attributes;\n    for (var i = 0; i < script_attrs.length; i++) {\n      toinsert[toinsert.length - 1].childNodes[1].setAttribute(script_attrs[i].name, script_attrs[i].value);\n    }\n    // store reference to server id on output_area\n    output_area._bokeh_server_id = output.metadata[EXEC_MIME_TYPE][\"server_id\"];\n  }\n}\n\n/**\n * Handle when an output is cleared or removed\n */\nfunction handle_clear_output(event, handle) {\n  var id = handle.cell.output_area._hv_plot_id;\n  var server_id = handle.cell.output_area._bokeh_server_id;\n  if (((id === undefined) || !(id in PyViz.plot_index)) && (server_id !== undefined)) { return; }\n  var comm = window.PyViz.comm_manager.get_client_comm(\"hv-extension-comm\", \"hv-extension-comm\", function () {});\n  if (server_id !== null) {\n    comm.send({event_type: 'server_delete', 'id': server_id});\n    return;\n  } else if (comm !== null) {\n    comm.send({event_type: 'delete', 'id': id});\n  }\n  delete PyViz.plot_index[id];\n  if ((window.Bokeh !== undefined) & (id in window.Bokeh.index)) {\n    var doc = window.Bokeh.index[id].model.document\n    doc.clear();\n    const i = window.Bokeh.documents.indexOf(doc);\n    if (i > -1) {\n      window.Bokeh.documents.splice(i, 1);\n    }\n  }\n}\n\n/**\n * Handle kernel restart event\n */\nfunction handle_kernel_cleanup(event, handle) {\n  delete PyViz.comms[\"hv-extension-comm\"];\n  window.PyViz.plot_index = {}\n}\n\n/**\n * Handle update_display_data messages\n */\nfunction handle_update_output(event, handle) {\n  handle_clear_output(event, {cell: {output_area: handle.output_area}})\n  handle_add_output(event, handle)\n}\n\nfunction register_renderer(events, OutputArea) {\n  function append_mime(data, metadata, element) {\n    // create a DOM node to render to\n    var toinsert = this.create_output_subarea(\n    metadata,\n    CLASS_NAME,\n    EXEC_MIME_TYPE\n    );\n    this.keyboard_manager.register_events(toinsert);\n    // Render to node\n    var props = {data: data, metadata: metadata[EXEC_MIME_TYPE]};\n    render(props, toinsert[0]);\n    element.append(toinsert);\n    return toinsert\n  }\n\n  events.on('output_added.OutputArea', handle_add_output);\n  events.on('output_updated.OutputArea', handle_update_output);\n  events.on('clear_output.CodeCell', handle_clear_output);\n  events.on('delete.Cell', handle_clear_output);\n  events.on('kernel_ready.Kernel', handle_kernel_cleanup);\n\n  OutputArea.prototype.register_mime_type(EXEC_MIME_TYPE, append_mime, {\n    safe: true,\n    index: 0\n  });\n}\n\nif (window.Jupyter !== undefined) {\n  try {\n    var events = require('base/js/events');\n    var OutputArea = require('notebook/js/outputarea').OutputArea;\n    if (OutputArea.prototype.mime_types().indexOf(EXEC_MIME_TYPE) == -1) {\n      register_renderer(events, OutputArea);\n    }\n  } catch(err) {\n  }\n}\n",
      "application/vnd.holoviews_load.v0+json": ""
     },
     "metadata": {},
     "output_type": "display_data"
    },
    {
     "data": {
      "text/html": [
       "<style>*[data-root-id],\n",
       "*[data-root-id] > * {\n",
       "  box-sizing: border-box;\n",
       "  font-family: var(--jp-ui-font-family);\n",
       "  font-size: var(--jp-ui-font-size1);\n",
       "  color: var(--vscode-editor-foreground, var(--jp-ui-font-color1));\n",
       "}\n",
       "\n",
       "/* Override VSCode background color */\n",
       ".cell-output-ipywidget-background:has(\n",
       "    > .cell-output-ipywidget-background > .lm-Widget > *[data-root-id]\n",
       "  ),\n",
       ".cell-output-ipywidget-background:has(> .lm-Widget > *[data-root-id]) {\n",
       "  background-color: transparent !important;\n",
       "}\n",
       "</style>"
      ]
     },
     "metadata": {},
     "output_type": "display_data"
    },
    {
     "data": {
      "application/vnd.holoviews_exec.v0+json": "",
      "text/html": [
       "<div id='p1002'>\n",
       "  <div id=\"b2848ac3-2fb1-4de5-aa41-d15207136a44\" data-root-id=\"p1002\" style=\"display: contents;\"></div>\n",
       "</div>\n",
       "<script type=\"application/javascript\">(function(root) {\n",
       "  var docs_json = {\"6be6c158-f775-47ea-822f-4cb57e12f7e3\":{\"version\":\"3.4.2\",\"title\":\"Bokeh Application\",\"roots\":[{\"type\":\"object\",\"name\":\"panel.models.browser.BrowserInfo\",\"id\":\"p1002\"},{\"type\":\"object\",\"name\":\"panel.models.comm_manager.CommManager\",\"id\":\"p1003\",\"attributes\":{\"plot_id\":\"p1002\",\"comm_id\":\"9000724769104e2b8700092aee046339\",\"client_comm_id\":\"ae8afc0aad0d4874a40d7f1916f14fb9\"}}],\"defs\":[{\"type\":\"model\",\"name\":\"ReactiveHTML1\"},{\"type\":\"model\",\"name\":\"FlexBox1\",\"properties\":[{\"name\":\"align_content\",\"kind\":\"Any\",\"default\":\"flex-start\"},{\"name\":\"align_items\",\"kind\":\"Any\",\"default\":\"flex-start\"},{\"name\":\"flex_direction\",\"kind\":\"Any\",\"default\":\"row\"},{\"name\":\"flex_wrap\",\"kind\":\"Any\",\"default\":\"wrap\"},{\"name\":\"gap\",\"kind\":\"Any\",\"default\":\"\"},{\"name\":\"justify_content\",\"kind\":\"Any\",\"default\":\"flex-start\"}]},{\"type\":\"model\",\"name\":\"FloatPanel1\",\"properties\":[{\"name\":\"config\",\"kind\":\"Any\",\"default\":{\"type\":\"map\"}},{\"name\":\"contained\",\"kind\":\"Any\",\"default\":true},{\"name\":\"position\",\"kind\":\"Any\",\"default\":\"right-top\"},{\"name\":\"offsetx\",\"kind\":\"Any\",\"default\":null},{\"name\":\"offsety\",\"kind\":\"Any\",\"default\":null},{\"name\":\"theme\",\"kind\":\"Any\",\"default\":\"primary\"},{\"name\":\"status\",\"kind\":\"Any\",\"default\":\"normalized\"}]},{\"type\":\"model\",\"name\":\"GridStack1\",\"properties\":[{\"name\":\"mode\",\"kind\":\"Any\",\"default\":\"warn\"},{\"name\":\"ncols\",\"kind\":\"Any\",\"default\":null},{\"name\":\"nrows\",\"kind\":\"Any\",\"default\":null},{\"name\":\"allow_resize\",\"kind\":\"Any\",\"default\":true},{\"name\":\"allow_drag\",\"kind\":\"Any\",\"default\":true},{\"name\":\"state\",\"kind\":\"Any\",\"default\":[]}]},{\"type\":\"model\",\"name\":\"drag1\",\"properties\":[{\"name\":\"slider_width\",\"kind\":\"Any\",\"default\":5},{\"name\":\"slider_color\",\"kind\":\"Any\",\"default\":\"black\"},{\"name\":\"value\",\"kind\":\"Any\",\"default\":50}]},{\"type\":\"model\",\"name\":\"click1\",\"properties\":[{\"name\":\"terminal_output\",\"kind\":\"Any\",\"default\":\"\"},{\"name\":\"debug_name\",\"kind\":\"Any\",\"default\":\"\"},{\"name\":\"clears\",\"kind\":\"Any\",\"default\":0}]},{\"type\":\"model\",\"name\":\"FastWrapper1\",\"properties\":[{\"name\":\"object\",\"kind\":\"Any\",\"default\":null},{\"name\":\"style\",\"kind\":\"Any\",\"default\":null}]},{\"type\":\"model\",\"name\":\"NotificationAreaBase1\",\"properties\":[{\"name\":\"js_events\",\"kind\":\"Any\",\"default\":{\"type\":\"map\"}},{\"name\":\"position\",\"kind\":\"Any\",\"default\":\"bottom-right\"},{\"name\":\"_clear\",\"kind\":\"Any\",\"default\":0}]},{\"type\":\"model\",\"name\":\"NotificationArea1\",\"properties\":[{\"name\":\"js_events\",\"kind\":\"Any\",\"default\":{\"type\":\"map\"}},{\"name\":\"notifications\",\"kind\":\"Any\",\"default\":[]},{\"name\":\"position\",\"kind\":\"Any\",\"default\":\"bottom-right\"},{\"name\":\"_clear\",\"kind\":\"Any\",\"default\":0},{\"name\":\"types\",\"kind\":\"Any\",\"default\":[{\"type\":\"map\",\"entries\":[[\"type\",\"warning\"],[\"background\",\"#ffc107\"],[\"icon\",{\"type\":\"map\",\"entries\":[[\"className\",\"fas fa-exclamation-triangle\"],[\"tagName\",\"i\"],[\"color\",\"white\"]]}]]},{\"type\":\"map\",\"entries\":[[\"type\",\"info\"],[\"background\",\"#007bff\"],[\"icon\",{\"type\":\"map\",\"entries\":[[\"className\",\"fas fa-info-circle\"],[\"tagName\",\"i\"],[\"color\",\"white\"]]}]]}]}]},{\"type\":\"model\",\"name\":\"Notification\",\"properties\":[{\"name\":\"background\",\"kind\":\"Any\",\"default\":null},{\"name\":\"duration\",\"kind\":\"Any\",\"default\":3000},{\"name\":\"icon\",\"kind\":\"Any\",\"default\":null},{\"name\":\"message\",\"kind\":\"Any\",\"default\":\"\"},{\"name\":\"notification_type\",\"kind\":\"Any\",\"default\":null},{\"name\":\"_destroyed\",\"kind\":\"Any\",\"default\":false}]},{\"type\":\"model\",\"name\":\"TemplateActions1\",\"properties\":[{\"name\":\"open_modal\",\"kind\":\"Any\",\"default\":0},{\"name\":\"close_modal\",\"kind\":\"Any\",\"default\":0}]},{\"type\":\"model\",\"name\":\"BootstrapTemplateActions1\",\"properties\":[{\"name\":\"open_modal\",\"kind\":\"Any\",\"default\":0},{\"name\":\"close_modal\",\"kind\":\"Any\",\"default\":0}]},{\"type\":\"model\",\"name\":\"TemplateEditor1\",\"properties\":[{\"name\":\"layout\",\"kind\":\"Any\",\"default\":[]}]},{\"type\":\"model\",\"name\":\"MaterialTemplateActions1\",\"properties\":[{\"name\":\"open_modal\",\"kind\":\"Any\",\"default\":0},{\"name\":\"close_modal\",\"kind\":\"Any\",\"default\":0}]},{\"type\":\"model\",\"name\":\"copy_to_clipboard1\",\"properties\":[{\"name\":\"fill\",\"kind\":\"Any\",\"default\":\"none\"},{\"name\":\"value\",\"kind\":\"Any\",\"default\":null}]}]}};\n",
       "  var render_items = [{\"docid\":\"6be6c158-f775-47ea-822f-4cb57e12f7e3\",\"roots\":{\"p1002\":\"b2848ac3-2fb1-4de5-aa41-d15207136a44\"},\"root_ids\":[\"p1002\"]}];\n",
       "  var docs = Object.values(docs_json)\n",
       "  if (!docs) {\n",
       "    return\n",
       "  }\n",
       "  const py_version = docs[0].version.replace('rc', '-rc.').replace('.dev', '-dev.')\n",
       "  async function embed_document(root) {\n",
       "    var Bokeh = get_bokeh(root)\n",
       "    await Bokeh.embed.embed_items_notebook(docs_json, render_items);\n",
       "    for (const render_item of render_items) {\n",
       "      for (const root_id of render_item.root_ids) {\n",
       "\tconst id_el = document.getElementById(root_id)\n",
       "\tif (id_el.children.length && id_el.children[0].hasAttribute('data-root-id')) {\n",
       "\t  const root_el = id_el.children[0]\n",
       "\t  root_el.id = root_el.id + '-rendered'\n",
       "\t  for (const child of root_el.children) {\n",
       "            // Ensure JupyterLab does not capture keyboard shortcuts\n",
       "            // see: https://jupyterlab.readthedocs.io/en/4.1.x/extension/notebook.html#keyboard-interaction-model\n",
       "\t    child.setAttribute('data-lm-suppress-shortcuts', 'true')\n",
       "\t  }\n",
       "\t}\n",
       "      }\n",
       "    }\n",
       "  }\n",
       "  function get_bokeh(root) {\n",
       "    if (root.Bokeh === undefined) {\n",
       "      return null\n",
       "    } else if (root.Bokeh.version !== py_version) {\n",
       "      if (root.Bokeh.versions === undefined || !root.Bokeh.versions.has(py_version)) {\n",
       "\treturn null\n",
       "      }\n",
       "      return root.Bokeh.versions.get(py_version);\n",
       "    } else if (root.Bokeh.version === py_version) {\n",
       "      return root.Bokeh\n",
       "    }\n",
       "    return null\n",
       "  }\n",
       "  function is_loaded(root) {\n",
       "    var Bokeh = get_bokeh(root)\n",
       "    return (Bokeh != null && Bokeh.Panel !== undefined)\n",
       "  }\n",
       "  if (is_loaded(root)) {\n",
       "    embed_document(root);\n",
       "  } else {\n",
       "    var attempts = 0;\n",
       "    var timer = setInterval(function(root) {\n",
       "      if (is_loaded(root)) {\n",
       "        clearInterval(timer);\n",
       "        embed_document(root);\n",
       "      } else if (document.readyState == \"complete\") {\n",
       "        attempts++;\n",
       "        if (attempts > 200) {\n",
       "          clearInterval(timer);\n",
       "\t  var Bokeh = get_bokeh(root)\n",
       "\t  if (Bokeh == null || Bokeh.Panel == null) {\n",
       "            console.warn(\"Panel: ERROR: Unable to run Panel code because Bokeh or Panel library is missing\");\n",
       "\t  } else {\n",
       "\t    console.warn(\"Panel: WARNING: Attempting to render but not all required libraries could be resolved.\")\n",
       "\t    embed_document(root)\n",
       "\t  }\n",
       "        }\n",
       "      }\n",
       "    }, 25, root)\n",
       "  }\n",
       "})(window);</script>"
      ]
     },
     "metadata": {
      "application/vnd.holoviews_exec.v0+json": {
       "id": "p1002"
      }
     },
     "output_type": "display_data"
    }
   ],
   "source": [
    "import logging\n",
    "\n",
    "import holoviews as hv\n",
    "import hvplot.polars  # noqa\n",
    "import neurokit2 as nk\n",
    "import pandas as pd\n",
    "import polars as pl\n",
    "from icecream import ic\n",
    "from polars import col\n",
    "\n",
    "from src.data.database_manager import DatabaseManager\n",
    "from src.data.quality_checks import check_sample_rate\n",
    "from src.features.eda import nk_process_eda\n",
    "from src.features.scaling import scale_min_max\n",
    "from src.features.transforming import map_trials\n",
    "from src.log_config import configure_logging\n",
    "from src.plots.utils import prepare_multiline_hvplot\n",
    "\n",
    "configure_logging(\n",
    "    stream_level=logging.DEBUG, ignore_libs=(\"Comm\", \"bokeh\", \"tornado\", \"matplotlib\")\n",
    ")\n",
    "logger = logging.getLogger(__name__.rsplit(\".\", maxsplit=1)[-1])\n",
    "\n",
    "pl.Config.set_tbl_rows(12)  # for the 12 trials\n",
    "hv.output(widget_location=\"bottom\", size=130)"
   ]
  },
  {
   "cell_type": "code",
   "execution_count": 3,
   "metadata": {},
   "outputs": [],
   "source": [
    "db = DatabaseManager()"
   ]
  },
  {
   "cell_type": "code",
   "execution_count": 4,
   "metadata": {},
   "outputs": [],
   "source": [
    "with db:\n",
    "    # df = db.get_table(\"Preprocess_eda\")\n",
    "    df = db.get_table(\"Feature_eda\")  # decimated to 10 Hz\n"
   ]
  },
  {
   "cell_type": "markdown",
   "metadata": {},
   "source": [
    "## Comparing neurokit / biopac / highpass filter (0.05 Hz) vs Median smoothing\n",
    "\n",
    "From the neurokit2 documentation:\n",
    "  * **High-pass filtering**: Method implemented in Biopac's Acqknowledge. The raw EDA signal\n",
    "    is passed through a high pass filter with a cutoff frequency of 0.05 Hz\n",
    "    (cutoff frequency can be adjusted by the ``cutoff`` argument).\n",
    "  * **Median smoothing**: Method implemented in Biopac's Acqknowledge. The raw EDA signal is\n",
    "    passed through a median value smoothing filter, which removes areas of rapid change. The\n",
    "    phasic component is then calculated by subtracting the smoothed signal from the original.\n",
    "    This method is computationally intensive and the processing time depends on the smoothing\n",
    "    factor, which can be controlled by the as ``smoothing_factor`` argument, set by default to\n",
    "    ``4`` seconds. Higher values will produce results more rapidly."
   ]
  },
  {
   "cell_type": "markdown",
   "metadata": {},
   "source": [
    "-> high pass filter is much faster than median smoothing"
   ]
  },
  {
   "cell_type": "code",
   "execution_count": 5,
   "metadata": {},
   "outputs": [
    {
     "data": {
      "application/vnd.jupyter.widget-view+json": {
       "model_id": "d1b223c9c42044ab87439545cd1ede20",
       "version_major": 2,
       "version_minor": 0
      },
      "text/plain": [
       "BokehModel(combine_events=True, render_bundle={'docs_json': {'2b0a42e8-12dc-4c8a-91fc-1bb932355aba': {'version…"
      ]
     },
     "execution_count": 5,
     "metadata": {},
     "output_type": "execute_result"
    }
   ],
   "source": [
    "scale_min_max(df).hvplot(\n",
    "    x=\"timestamp\",\n",
    "    y=[\"eda_raw\", \"eda_phasic\", \"eda_tonic\"],\n",
    "    groupby=\"trial_id\",\n",
    ")"
   ]
  },
  {
   "cell_type": "code",
   "execution_count": null,
   "metadata": {},
   "outputs": [],
   "source": []
  },
  {
   "cell_type": "code",
   "execution_count": null,
   "metadata": {},
   "outputs": [],
   "source": []
  },
  {
   "cell_type": "code",
   "execution_count": null,
   "metadata": {},
   "outputs": [],
   "source": []
  },
  {
   "cell_type": "markdown",
   "metadata": {},
   "source": [
    "## Join with Stimulus data"
   ]
  },
  {
   "cell_type": "code",
   "execution_count": 6,
   "metadata": {},
   "outputs": [
    {
     "name": "stderr",
     "output_type": "stream",
     "text": [
      "ic| d.equals(df): False\n",
      "ic| eda.height: 5936076, stimulus.height: 597860, d.height: 5936076\n"
     ]
    },
    {
     "data": {
      "text/html": [
       "<div><style>\n",
       ".dataframe > thead > tr,\n",
       ".dataframe > tbody > tr {\n",
       "  text-align: right;\n",
       "  white-space: pre-wrap;\n",
       "}\n",
       "</style>\n",
       "<small>shape: (5_936_076, 12)</small><table border=\"1\" class=\"dataframe\"><thead><tr><th>trial_id</th><th>trial_number</th><th>participant_id</th><th>rownumber</th><th>timestamp</th><th>samplenumber</th><th>eda_raw</th><th>eda_tonic</th><th>eda_phasic</th><th>rownumber_right</th><th>temperature</th><th>rating</th></tr><tr><td>u16</td><td>u8</td><td>u8</td><td>u32</td><td>f64</td><td>i64</td><td>f64</td><td>f64</td><td>f64</td><td>u32</td><td>f64</td><td>f64</td></tr></thead><tbody><tr><td>1</td><td>1</td><td>1</td><td>37660</td><td>294210.3603</td><td>57892</td><td>0.752359</td><td>0.752113</td><td>0.000246</td><td>0</td><td>45.75</td><td>42.5</td></tr><tr><td>1</td><td>1</td><td>1</td><td>37661</td><td>294211.3575</td><td>57893</td><td>0.754579</td><td>0.752115</td><td>0.002464</td><td>0</td><td>45.75</td><td>42.5</td></tr><tr><td>1</td><td>1</td><td>1</td><td>37663</td><td>294224.331</td><td>57895</td><td>0.753247</td><td>0.752117</td><td>0.00113</td><td>0</td><td>45.75</td><td>42.5</td></tr><tr><td>1</td><td>1</td><td>1</td><td>37664</td><td>294242.275</td><td>57896</td><td>0.754135</td><td>0.752119</td><td>0.002016</td><td>0</td><td>45.75</td><td>42.5</td></tr><tr><td>1</td><td>1</td><td>1</td><td>37666</td><td>294248.2588</td><td>57898</td><td>0.754135</td><td>0.752121</td><td>0.002014</td><td>0</td><td>45.75</td><td>42.5</td></tr><tr><td>1</td><td>1</td><td>1</td><td>37667</td><td>294276.1835</td><td>57899</td><td>0.754135</td><td>0.752123</td><td>0.002012</td><td>0</td><td>45.75</td><td>42.5</td></tr><tr><td>&hellip;</td><td>&hellip;</td><td>&hellip;</td><td>&hellip;</td><td>&hellip;</td><td>&hellip;</td><td>&hellip;</td><td>&hellip;</td><td>&hellip;</td><td>&hellip;</td><td>&hellip;</td><td>&hellip;</td></tr><tr><td>332</td><td>12</td><td>28</td><td>355476</td><td>2.7771e6</td><td>467073</td><td>13.679468</td><td>13.578894</td><td>-0.012187</td><td>21610</td><td>45.582614</td><td>85.0</td></tr><tr><td>332</td><td>12</td><td>28</td><td>355477</td><td>2.7771e6</td><td>467074</td><td>13.679468</td><td>13.578894</td><td>-0.012765</td><td>21611</td><td>45.582614</td><td>85.0</td></tr><tr><td>332</td><td>12</td><td>28</td><td>355478</td><td>2.7771e6</td><td>467075</td><td>13.674363</td><td>13.578894</td><td>-0.018451</td><td>21611</td><td>45.582614</td><td>85.0</td></tr><tr><td>332</td><td>12</td><td>28</td><td>355479</td><td>2.7771e6</td><td>467076</td><td>13.679468</td><td>13.578894</td><td>-0.013927</td><td>21611</td><td>45.582614</td><td>85.0</td></tr><tr><td>332</td><td>12</td><td>28</td><td>355481</td><td>2.7771e6</td><td>467078</td><td>13.684573</td><td>13.578894</td><td>-0.009405</td><td>21611</td><td>45.582614</td><td>85.0</td></tr><tr><td>332</td><td>12</td><td>28</td><td>355482</td><td>2.7771e6</td><td>467079</td><td>13.684573</td><td>13.578894</td><td>-0.009989</td><td>21611</td><td>45.582614</td><td>85.0</td></tr></tbody></table></div>"
      ],
      "text/plain": [
       "shape: (5_936_076, 12)\n",
       "┌──────────┬────────────┬────────────┬───────────┬───┬────────────┬───────────┬───────────┬────────┐\n",
       "│ trial_id ┆ trial_numb ┆ participan ┆ rownumber ┆ … ┆ eda_phasic ┆ rownumber ┆ temperatu ┆ rating │\n",
       "│ ---      ┆ er         ┆ t_id       ┆ ---       ┆   ┆ ---        ┆ _right    ┆ re        ┆ ---    │\n",
       "│ u16      ┆ ---        ┆ ---        ┆ u32       ┆   ┆ f64        ┆ ---       ┆ ---       ┆ f64    │\n",
       "│          ┆ u8         ┆ u8         ┆           ┆   ┆            ┆ u32       ┆ f64       ┆        │\n",
       "╞══════════╪════════════╪════════════╪═══════════╪═══╪════════════╪═══════════╪═══════════╪════════╡\n",
       "│ 1        ┆ 1          ┆ 1          ┆ 37660     ┆ … ┆ 0.000246   ┆ 0         ┆ 45.75     ┆ 42.5   │\n",
       "│ 1        ┆ 1          ┆ 1          ┆ 37661     ┆ … ┆ 0.002464   ┆ 0         ┆ 45.75     ┆ 42.5   │\n",
       "│ 1        ┆ 1          ┆ 1          ┆ 37663     ┆ … ┆ 0.00113    ┆ 0         ┆ 45.75     ┆ 42.5   │\n",
       "│ 1        ┆ 1          ┆ 1          ┆ 37664     ┆ … ┆ 0.002016   ┆ 0         ┆ 45.75     ┆ 42.5   │\n",
       "│ 1        ┆ 1          ┆ 1          ┆ 37666     ┆ … ┆ 0.002014   ┆ 0         ┆ 45.75     ┆ 42.5   │\n",
       "│ 1        ┆ 1          ┆ 1          ┆ 37667     ┆ … ┆ 0.002012   ┆ 0         ┆ 45.75     ┆ 42.5   │\n",
       "│ …        ┆ …          ┆ …          ┆ …         ┆ … ┆ …          ┆ …         ┆ …         ┆ …      │\n",
       "│ 332      ┆ 12         ┆ 28         ┆ 355476    ┆ … ┆ -0.012187  ┆ 21610     ┆ 45.582614 ┆ 85.0   │\n",
       "│ 332      ┆ 12         ┆ 28         ┆ 355477    ┆ … ┆ -0.012765  ┆ 21611     ┆ 45.582614 ┆ 85.0   │\n",
       "│ 332      ┆ 12         ┆ 28         ┆ 355478    ┆ … ┆ -0.018451  ┆ 21611     ┆ 45.582614 ┆ 85.0   │\n",
       "│ 332      ┆ 12         ┆ 28         ┆ 355479    ┆ … ┆ -0.013927  ┆ 21611     ┆ 45.582614 ┆ 85.0   │\n",
       "│ 332      ┆ 12         ┆ 28         ┆ 355481    ┆ … ┆ -0.009405  ┆ 21611     ┆ 45.582614 ┆ 85.0   │\n",
       "│ 332      ┆ 12         ┆ 28         ┆ 355482    ┆ … ┆ -0.009989  ┆ 21611     ┆ 45.582614 ┆ 85.0   │\n",
       "└──────────┴────────────┴────────────┴───────────┴───┴────────────┴───────────┴───────────┴────────┘"
      ]
     },
     "execution_count": 6,
     "metadata": {},
     "output_type": "execute_result"
    }
   ],
   "source": [
    "with db:\n",
    "    eda = db.get_table(\"Preprocess_eda\")\n",
    "    stimulus = db.get_table(\"Raw_Stimulus\")\n",
    "    trials = db.get_table(\"Trials\")\n",
    "\n",
    "d = eda.join_asof(\n",
    "    stimulus,\n",
    "    on=\"timestamp\",\n",
    "    by=[\"trial_id\", \"trial_number\", \"participant_id\"],\n",
    "    strategy=\"nearest\",\n",
    "    coalesce=True,\n",
    ")\n",
    "ic(d.equals(df))\n",
    "ic(eda.height, stimulus.height, d.height)\n",
    "d\n"
   ]
  },
  {
   "cell_type": "code",
   "execution_count": null,
   "metadata": {},
   "outputs": [
    {
     "data": {
      "text/html": [
       "<div><style>\n",
       ".dataframe > thead > tr,\n",
       ".dataframe > tbody > tr {\n",
       "  text-align: right;\n",
       "  white-space: pre-wrap;\n",
       "}\n",
       "</style>\n",
       "<small>shape: (597_860, 12)</small><table border=\"1\" class=\"dataframe\"><thead><tr><th>trial_id</th><th>trial_number</th><th>participant_id</th><th>rownumber</th><th>timestamp</th><th>temperature</th><th>rating</th><th>stimulus_seed</th><th>skin_area</th><th>timestamp_start</th><th>timestamp_end</th><th>duration</th></tr><tr><td>u16</td><td>u8</td><td>u8</td><td>u32</td><td>f64</td><td>f64</td><td>f64</td><td>u16</td><td>u8</td><td>f64</td><td>f64</td><td>f64</td></tr></thead><tbody><tr><td>1</td><td>1</td><td>1</td><td>0</td><td>294224.331</td><td>45.75</td><td>42.5</td><td>396</td><td>1</td><td>294197.3945</td><td>474206.7098</td><td>180009.3153</td></tr><tr><td>1</td><td>1</td><td>1</td><td>1</td><td>294357.9645</td><td>45.750102</td><td>42.5</td><td>396</td><td>1</td><td>294197.3945</td><td>474206.7098</td><td>180009.3153</td></tr><tr><td>1</td><td>1</td><td>1</td><td>2</td><td>294458.0292</td><td>45.75041</td><td>35.375</td><td>396</td><td>1</td><td>294197.3945</td><td>474206.7098</td><td>180009.3153</td></tr><tr><td>1</td><td>1</td><td>1</td><td>3</td><td>294558.6006</td><td>45.750922</td><td>14.875</td><td>396</td><td>1</td><td>294197.3945</td><td>474206.7098</td><td>180009.3153</td></tr><tr><td>1</td><td>1</td><td>1</td><td>4</td><td>294658.3354</td><td>45.751639</td><td>10.125</td><td>396</td><td>1</td><td>294197.3945</td><td>474206.7098</td><td>180009.3153</td></tr><tr><td>1</td><td>1</td><td>1</td><td>5</td><td>294758.4957</td><td>45.75256</td><td>22.75</td><td>396</td><td>1</td><td>294197.3945</td><td>474206.7098</td><td>180009.3153</td></tr><tr><td>&hellip;</td><td>&hellip;</td><td>&hellip;</td><td>&hellip;</td><td>&hellip;</td><td>&hellip;</td><td>&hellip;</td><td>&hellip;</td><td>&hellip;</td><td>&hellip;</td><td>&hellip;</td><td>&hellip;</td></tr><tr><td>332</td><td>12</td><td>28</td><td>21606</td><td>2.7766e6</td><td>45.587356</td><td>85.0</td><td>133</td><td>1</td><td>2.5971e6</td><td>2.7771e6</td><td>180026.123</td></tr><tr><td>332</td><td>12</td><td>28</td><td>21607</td><td>2.7767e6</td><td>45.585285</td><td>85.0</td><td>133</td><td>1</td><td>2.5971e6</td><td>2.7771e6</td><td>180026.123</td></tr><tr><td>332</td><td>12</td><td>28</td><td>21608</td><td>2.7768e6</td><td>45.583802</td><td>85.0</td><td>133</td><td>1</td><td>2.5971e6</td><td>2.7771e6</td><td>180026.123</td></tr><tr><td>332</td><td>12</td><td>28</td><td>21609</td><td>2.7769e6</td><td>45.582911</td><td>85.0</td><td>133</td><td>1</td><td>2.5971e6</td><td>2.7771e6</td><td>180026.123</td></tr><tr><td>332</td><td>12</td><td>28</td><td>21610</td><td>2.7770e6</td><td>45.582614</td><td>85.0</td><td>133</td><td>1</td><td>2.5971e6</td><td>2.7771e6</td><td>180026.123</td></tr><tr><td>332</td><td>12</td><td>28</td><td>21611</td><td>2.7771e6</td><td>45.582614</td><td>85.0</td><td>133</td><td>1</td><td>2.5971e6</td><td>2.7771e6</td><td>180026.123</td></tr></tbody></table></div>"
      ],
      "text/plain": [
       "shape: (597_860, 12)\n",
       "┌──────────┬───────────┬───────────┬───────────┬───┬───────────┬───────────┬───────────┬───────────┐\n",
       "│ trial_id ┆ trial_num ┆ participa ┆ rownumber ┆ … ┆ skin_area ┆ timestamp ┆ timestamp ┆ duration  │\n",
       "│ ---      ┆ ber       ┆ nt_id     ┆ ---       ┆   ┆ ---       ┆ _start    ┆ _end      ┆ ---       │\n",
       "│ u16      ┆ ---       ┆ ---       ┆ u32       ┆   ┆ u8        ┆ ---       ┆ ---       ┆ f64       │\n",
       "│          ┆ u8        ┆ u8        ┆           ┆   ┆           ┆ f64       ┆ f64       ┆           │\n",
       "╞══════════╪═══════════╪═══════════╪═══════════╪═══╪═══════════╪═══════════╪═══════════╪═══════════╡\n",
       "│ 1        ┆ 1         ┆ 1         ┆ 0         ┆ … ┆ 1         ┆ 294197.39 ┆ 474206.70 ┆ 180009.31 │\n",
       "│          ┆           ┆           ┆           ┆   ┆           ┆ 45        ┆ 98        ┆ 53        │\n",
       "│ 1        ┆ 1         ┆ 1         ┆ 1         ┆ … ┆ 1         ┆ 294197.39 ┆ 474206.70 ┆ 180009.31 │\n",
       "│          ┆           ┆           ┆           ┆   ┆           ┆ 45        ┆ 98        ┆ 53        │\n",
       "│ 1        ┆ 1         ┆ 1         ┆ 2         ┆ … ┆ 1         ┆ 294197.39 ┆ 474206.70 ┆ 180009.31 │\n",
       "│          ┆           ┆           ┆           ┆   ┆           ┆ 45        ┆ 98        ┆ 53        │\n",
       "│ 1        ┆ 1         ┆ 1         ┆ 3         ┆ … ┆ 1         ┆ 294197.39 ┆ 474206.70 ┆ 180009.31 │\n",
       "│          ┆           ┆           ┆           ┆   ┆           ┆ 45        ┆ 98        ┆ 53        │\n",
       "│ 1        ┆ 1         ┆ 1         ┆ 4         ┆ … ┆ 1         ┆ 294197.39 ┆ 474206.70 ┆ 180009.31 │\n",
       "│          ┆           ┆           ┆           ┆   ┆           ┆ 45        ┆ 98        ┆ 53        │\n",
       "│ 1        ┆ 1         ┆ 1         ┆ 5         ┆ … ┆ 1         ┆ 294197.39 ┆ 474206.70 ┆ 180009.31 │\n",
       "│          ┆           ┆           ┆           ┆   ┆           ┆ 45        ┆ 98        ┆ 53        │\n",
       "│ …        ┆ …         ┆ …         ┆ …         ┆ … ┆ …         ┆ …         ┆ …         ┆ …         │\n",
       "│ 332      ┆ 12        ┆ 28        ┆ 21606     ┆ … ┆ 1         ┆ 2.5971e6  ┆ 2.7771e6  ┆ 180026.12 │\n",
       "│          ┆           ┆           ┆           ┆   ┆           ┆           ┆           ┆ 3         │\n",
       "│ 332      ┆ 12        ┆ 28        ┆ 21607     ┆ … ┆ 1         ┆ 2.5971e6  ┆ 2.7771e6  ┆ 180026.12 │\n",
       "│          ┆           ┆           ┆           ┆   ┆           ┆           ┆           ┆ 3         │\n",
       "│ 332      ┆ 12        ┆ 28        ┆ 21608     ┆ … ┆ 1         ┆ 2.5971e6  ┆ 2.7771e6  ┆ 180026.12 │\n",
       "│          ┆           ┆           ┆           ┆   ┆           ┆           ┆           ┆ 3         │\n",
       "│ 332      ┆ 12        ┆ 28        ┆ 21609     ┆ … ┆ 1         ┆ 2.5971e6  ┆ 2.7771e6  ┆ 180026.12 │\n",
       "│          ┆           ┆           ┆           ┆   ┆           ┆           ┆           ┆ 3         │\n",
       "│ 332      ┆ 12        ┆ 28        ┆ 21610     ┆ … ┆ 1         ┆ 2.5971e6  ┆ 2.7771e6  ┆ 180026.12 │\n",
       "│          ┆           ┆           ┆           ┆   ┆           ┆           ┆           ┆ 3         │\n",
       "│ 332      ┆ 12        ┆ 28        ┆ 21611     ┆ … ┆ 1         ┆ 2.5971e6  ┆ 2.7771e6  ┆ 180026.12 │\n",
       "│          ┆           ┆           ┆           ┆   ┆           ┆           ┆           ┆ 3         │\n",
       "└──────────┴───────────┴───────────┴───────────┴───┴───────────┴───────────┴───────────┴───────────┘"
      ]
     },
     "execution_count": 7,
     "metadata": {},
     "output_type": "execute_result"
    }
   ],
   "source": [
    "from src.features.transforming import merge_dfs\n",
    "\n",
    "df = merge_dfs([stimulus, trials], on=[\"trial_id\", \"participant_id\", \"trial_number\"])\n",
    "df"
   ]
  },
  {
   "cell_type": "code",
   "execution_count": 9,
   "metadata": {},
   "outputs": [
    {
     "data": {
      "application/vnd.jupyter.widget-view+json": {
       "model_id": "bd9dd80fd1844f3b9ffdb982f172acc6",
       "version_major": 2,
       "version_minor": 0
      },
      "text/plain": [
       "BokehModel(combine_events=True, render_bundle={'docs_json': {'4a4f5ccc-f8fe-4d15-8b7e-f150c3084b33': {'version…"
      ]
     },
     "execution_count": 9,
     "metadata": {},
     "output_type": "execute_result"
    }
   ],
   "source": [
    "d = d.with_columns(\n",
    "    [\n",
    "        (col(\"timestamp\") - col(\"timestamp\").min().over(\"trial_id\")).alias(\n",
    "            \"normalized_timestamp\"\n",
    "        )\n",
    "    ]\n",
    ")\n",
    "prepare_multiline_hvplot(scale_min_max(d)).hvplot(\n",
    "    x=\"normalized_timestamp\",\n",
    "    y=[\"eda_raw\", \"eda_phasic\", \"eda_tonic\", \"rating\"],\n",
    "    groupby=\"trial_id\",\n",
    ")"
   ]
  },
  {
   "cell_type": "code",
   "execution_count": null,
   "metadata": {},
   "outputs": [
    {
     "data": {
      "text/html": [
       "<div><style>\n",
       ".dataframe > thead > tr,\n",
       ".dataframe > tbody > tr {\n",
       "  text-align: right;\n",
       "  white-space: pre-wrap;\n",
       "}\n",
       "</style>\n",
       "<small>shape: (5_935_133, 20)</small><table border=\"1\" class=\"dataframe\"><thead><tr><th>trial_id</th><th>trial_number</th><th>participant_id</th><th>rownumber</th><th>timestamp</th><th>samplenumber</th><th>eda_d_battery</th><th>eda_raw</th><th>eda_d_packetreceptionrate</th><th>eda_tonic</th><th>eda_phasic</th><th>temperature</th><th>rating</th><th>trial_number_right</th><th>participant_id_right</th><th>stimulus_seed</th><th>skin_area</th><th>timestamp_start</th><th>timestamp_end</th><th>duration</th></tr><tr><td>u16</td><td>u8</td><td>u8</td><td>u32</td><td>f64</td><td>i64</td><td>f64</td><td>f64</td><td>i64</td><td>f64</td><td>f64</td><td>f64</td><td>f64</td><td>u8</td><td>u8</td><td>u16</td><td>u8</td><td>f64</td><td>f64</td><td>f64</td></tr></thead><tbody><tr><td>1</td><td>1</td><td>1</td><td>0</td><td>294224.331</td><td>57895</td><td>3677.435897</td><td>0.753247</td><td>100</td><td>0.752117</td><td>0.00113</td><td>45.75</td><td>42.5</td><td>1</td><td>1</td><td>396</td><td>1</td><td>294197.3945</td><td>474206.7098</td><td>180009.3153</td></tr><tr><td>1</td><td>1</td><td>1</td><td>0</td><td>294242.275</td><td>57896</td><td>3687.630769</td><td>0.754135</td><td>100</td><td>0.752119</td><td>0.002016</td><td>45.75</td><td>42.5</td><td>1</td><td>1</td><td>396</td><td>1</td><td>294197.3945</td><td>474206.7098</td><td>180009.3153</td></tr><tr><td>1</td><td>1</td><td>1</td><td>0</td><td>294248.2588</td><td>57898</td><td>3692.0</td><td>0.754135</td><td>100</td><td>0.752121</td><td>0.002014</td><td>45.75</td><td>42.5</td><td>1</td><td>1</td><td>396</td><td>1</td><td>294197.3945</td><td>474206.7098</td><td>180009.3153</td></tr><tr><td>1</td><td>1</td><td>1</td><td>0</td><td>294276.1835</td><td>57899</td><td>3678.892308</td><td>0.754135</td><td>100</td><td>0.752123</td><td>0.002012</td><td>45.75</td><td>42.5</td><td>1</td><td>1</td><td>396</td><td>1</td><td>294197.3945</td><td>474206.7098</td><td>180009.3153</td></tr><tr><td>1</td><td>1</td><td>1</td><td>0</td><td>294277.1819</td><td>57900</td><td>3692.0</td><td>0.752359</td><td>100</td><td>0.752125</td><td>0.000234</td><td>45.75</td><td>42.5</td><td>1</td><td>1</td><td>396</td><td>1</td><td>294197.3945</td><td>474206.7098</td><td>180009.3153</td></tr><tr><td>1</td><td>1</td><td>1</td><td>0</td><td>294309.0952</td><td>57902</td><td>3705.107692</td><td>0.752359</td><td>100</td><td>0.752127</td><td>0.000232</td><td>45.75</td><td>42.5</td><td>1</td><td>1</td><td>396</td><td>1</td><td>294197.3945</td><td>474206.7098</td><td>180009.3153</td></tr><tr><td>&hellip;</td><td>&hellip;</td><td>&hellip;</td><td>&hellip;</td><td>&hellip;</td><td>&hellip;</td><td>&hellip;</td><td>&hellip;</td><td>&hellip;</td><td>&hellip;</td><td>&hellip;</td><td>&hellip;</td><td>&hellip;</td><td>&hellip;</td><td>&hellip;</td><td>&hellip;</td><td>&hellip;</td><td>&hellip;</td><td>&hellip;</td><td>&hellip;</td></tr><tr><td>332</td><td>12</td><td>28</td><td>21610</td><td>2.7771e6</td><td>467073</td><td>3603.158974</td><td>13.679468</td><td>99</td><td>13.578894</td><td>-0.012187</td><td>45.582614</td><td>85.0</td><td>12</td><td>28</td><td>133</td><td>1</td><td>2.5971e6</td><td>2.7771e6</td><td>180026.123</td></tr><tr><td>332</td><td>12</td><td>28</td><td>21610</td><td>2.7771e6</td><td>467074</td><td>3617.723077</td><td>13.679468</td><td>99</td><td>13.578894</td><td>-0.012765</td><td>45.582614</td><td>85.0</td><td>12</td><td>28</td><td>133</td><td>1</td><td>2.5971e6</td><td>2.7771e6</td><td>180026.123</td></tr><tr><td>332</td><td>12</td><td>28</td><td>21610</td><td>2.7771e6</td><td>467075</td><td>3582.769231</td><td>13.674363</td><td>99</td><td>13.578894</td><td>-0.018451</td><td>45.582614</td><td>85.0</td><td>12</td><td>28</td><td>133</td><td>1</td><td>2.5971e6</td><td>2.7771e6</td><td>180026.123</td></tr><tr><td>332</td><td>12</td><td>28</td><td>21610</td><td>2.7771e6</td><td>467076</td><td>3607.528205</td><td>13.679468</td><td>99</td><td>13.578894</td><td>-0.013927</td><td>45.582614</td><td>85.0</td><td>12</td><td>28</td><td>133</td><td>1</td><td>2.5971e6</td><td>2.7771e6</td><td>180026.123</td></tr><tr><td>332</td><td>12</td><td>28</td><td>21610</td><td>2.7771e6</td><td>467078</td><td>3606.071795</td><td>13.684573</td><td>99</td><td>13.578894</td><td>-0.009405</td><td>45.582614</td><td>85.0</td><td>12</td><td>28</td><td>133</td><td>1</td><td>2.5971e6</td><td>2.7771e6</td><td>180026.123</td></tr><tr><td>332</td><td>12</td><td>28</td><td>21610</td><td>2.7771e6</td><td>467079</td><td>3582.769231</td><td>13.684573</td><td>99</td><td>13.578894</td><td>-0.009989</td><td>45.582614</td><td>85.0</td><td>12</td><td>28</td><td>133</td><td>1</td><td>2.5971e6</td><td>2.7771e6</td><td>180026.123</td></tr></tbody></table></div>"
      ],
      "text/plain": [
       "shape: (5_935_133, 20)\n",
       "┌──────────┬───────────┬───────────┬───────────┬───┬───────────┬───────────┬───────────┬───────────┐\n",
       "│ trial_id ┆ trial_num ┆ participa ┆ rownumber ┆ … ┆ skin_area ┆ timestamp ┆ timestamp ┆ duration  │\n",
       "│ ---      ┆ ber       ┆ nt_id     ┆ ---       ┆   ┆ ---       ┆ _start    ┆ _end      ┆ ---       │\n",
       "│ u16      ┆ ---       ┆ ---       ┆ u32       ┆   ┆ u8        ┆ ---       ┆ ---       ┆ f64       │\n",
       "│          ┆ u8        ┆ u8        ┆           ┆   ┆           ┆ f64       ┆ f64       ┆           │\n",
       "╞══════════╪═══════════╪═══════════╪═══════════╪═══╪═══════════╪═══════════╪═══════════╪═══════════╡\n",
       "│ 1        ┆ 1         ┆ 1         ┆ 0         ┆ … ┆ 1         ┆ 294197.39 ┆ 474206.70 ┆ 180009.31 │\n",
       "│          ┆           ┆           ┆           ┆   ┆           ┆ 45        ┆ 98        ┆ 53        │\n",
       "│ 1        ┆ 1         ┆ 1         ┆ 0         ┆ … ┆ 1         ┆ 294197.39 ┆ 474206.70 ┆ 180009.31 │\n",
       "│          ┆           ┆           ┆           ┆   ┆           ┆ 45        ┆ 98        ┆ 53        │\n",
       "│ 1        ┆ 1         ┆ 1         ┆ 0         ┆ … ┆ 1         ┆ 294197.39 ┆ 474206.70 ┆ 180009.31 │\n",
       "│          ┆           ┆           ┆           ┆   ┆           ┆ 45        ┆ 98        ┆ 53        │\n",
       "│ 1        ┆ 1         ┆ 1         ┆ 0         ┆ … ┆ 1         ┆ 294197.39 ┆ 474206.70 ┆ 180009.31 │\n",
       "│          ┆           ┆           ┆           ┆   ┆           ┆ 45        ┆ 98        ┆ 53        │\n",
       "│ 1        ┆ 1         ┆ 1         ┆ 0         ┆ … ┆ 1         ┆ 294197.39 ┆ 474206.70 ┆ 180009.31 │\n",
       "│          ┆           ┆           ┆           ┆   ┆           ┆ 45        ┆ 98        ┆ 53        │\n",
       "│ 1        ┆ 1         ┆ 1         ┆ 0         ┆ … ┆ 1         ┆ 294197.39 ┆ 474206.70 ┆ 180009.31 │\n",
       "│          ┆           ┆           ┆           ┆   ┆           ┆ 45        ┆ 98        ┆ 53        │\n",
       "│ …        ┆ …         ┆ …         ┆ …         ┆ … ┆ …         ┆ …         ┆ …         ┆ …         │\n",
       "│ 332      ┆ 12        ┆ 28        ┆ 21610     ┆ … ┆ 1         ┆ 2.5971e6  ┆ 2.7771e6  ┆ 180026.12 │\n",
       "│          ┆           ┆           ┆           ┆   ┆           ┆           ┆           ┆ 3         │\n",
       "│ 332      ┆ 12        ┆ 28        ┆ 21610     ┆ … ┆ 1         ┆ 2.5971e6  ┆ 2.7771e6  ┆ 180026.12 │\n",
       "│          ┆           ┆           ┆           ┆   ┆           ┆           ┆           ┆ 3         │\n",
       "│ 332      ┆ 12        ┆ 28        ┆ 21610     ┆ … ┆ 1         ┆ 2.5971e6  ┆ 2.7771e6  ┆ 180026.12 │\n",
       "│          ┆           ┆           ┆           ┆   ┆           ┆           ┆           ┆ 3         │\n",
       "│ 332      ┆ 12        ┆ 28        ┆ 21610     ┆ … ┆ 1         ┆ 2.5971e6  ┆ 2.7771e6  ┆ 180026.12 │\n",
       "│          ┆           ┆           ┆           ┆   ┆           ┆           ┆           ┆ 3         │\n",
       "│ 332      ┆ 12        ┆ 28        ┆ 21610     ┆ … ┆ 1         ┆ 2.5971e6  ┆ 2.7771e6  ┆ 180026.12 │\n",
       "│          ┆           ┆           ┆           ┆   ┆           ┆           ┆           ┆ 3         │\n",
       "│ 332      ┆ 12        ┆ 28        ┆ 21610     ┆ … ┆ 1         ┆ 2.5971e6  ┆ 2.7771e6  ┆ 180026.12 │\n",
       "│          ┆           ┆           ┆           ┆   ┆           ┆           ┆           ┆ 3         │\n",
       "└──────────┴───────────┴───────────┴───────────┴───┴───────────┴───────────┴───────────┴───────────┘"
      ]
     },
     "execution_count": 16,
     "metadata": {},
     "output_type": "execute_result"
    }
   ],
   "source": [
    "query = \"\"\"\n",
    "SELECT * FROM Preprocess_EDA AS pe\n",
    "ASOF JOIN Raw_Stimulus rs USING (trial_id, timestamp)\n",
    "ORDER BY pe.trial_id, pe.timestamp\n",
    "\"\"\"\n",
    "\n",
    "with db:\n",
    "    df = db.execute(query).pl()\n",
    "    trials = db.get_table(\"Trials\")\n",
    "\n",
    "assert df.height == df.unique(subset=[\"trial_id\", \"timestamp\"]).height\n",
    "df = df.join(trials, on=\"trial_id\").sort(\"trial_id\", \"timestamp\")\n",
    "df"
   ]
  },
  {
   "cell_type": "code",
   "execution_count": null,
   "metadata": {},
   "outputs": [
    {
     "data": {
      "application/vnd.jupyter.widget-view+json": {
       "model_id": "e2b6dc86282e4ecdaf041a375cba7a74",
       "version_major": 2,
       "version_minor": 0
      },
      "text/plain": [
       "BokehModel(combine_events=True, render_bundle={'docs_json': {'961779e4-7e02-4d34-a831-96d26ecb9dd3': {'version…"
      ]
     },
     "execution_count": 42,
     "metadata": {},
     "output_type": "execute_result"
    }
   ],
   "source": [
    "df = df.with_columns(\n",
    "    [\n",
    "        (col(\"timestamp\") - col(\"timestamp\").min().over(\"trial_id\")).alias(\n",
    "            \"normalized_timestamp\"\n",
    "        )\n",
    "    ]\n",
    ")\n",
    "prepare_multiline_hvplot(scale_min_max(df)).plot(\n",
    "    x=\"normalized_timestamp\",\n",
    "    y=[\"eda_raw\", \"eda_phasic\", \"eda_tonic\", \"rating\"],\n",
    "    groupby=\"trial_id\",\n",
    ")"
   ]
  },
  {
   "cell_type": "code",
   "execution_count": null,
   "metadata": {},
   "outputs": [
    {
     "data": {
      "text/html": [
       "<div><style>\n",
       ".dataframe > thead > tr,\n",
       ".dataframe > tbody > tr {\n",
       "  text-align: right;\n",
       "  white-space: pre-wrap;\n",
       "}\n",
       "</style>\n",
       "<small>shape: (2_161, 10)</small><table border=\"1\" class=\"dataframe\"><thead><tr><th>stimulus_seed</th><th>time_bin</th><th>avg_eda_tonic</th><th>avg_eda_phasic</th><th>std_dev</th><th>avg_rating</th><th>avg_temperature</th><th>sample_size</th><th>ci_lower</th><th>ci_upper</th></tr><tr><td>u16</td><td>f64</td><td>f64</td><td>f64</td><td>f64</td><td>f64</td><td>f64</td><td>u32</td><td>f64</td><td>f64</td></tr></thead><tbody><tr><td>133</td><td>0.0</td><td>22.886292</td><td>0.373452</td><td>10.601662</td><td>43.415821</td><td>44.254339</td><td>2808</td><td>22.494161</td><td>23.278423</td></tr><tr><td>133</td><td>1000.0</td><td>22.782184</td><td>0.812295</td><td>10.551183</td><td>58.040525</td><td>44.346072</td><td>2773</td><td>22.389465</td><td>23.174904</td></tr><tr><td>133</td><td>2000.0</td><td>22.919694</td><td>0.456742</td><td>10.536789</td><td>62.033432</td><td>44.557211</td><td>2793</td><td>22.528917</td><td>23.310471</td></tr><tr><td>133</td><td>3000.0</td><td>22.831353</td><td>-0.118834</td><td>10.50778</td><td>65.607251</td><td>44.828431</td><td>2796</td><td>22.441861</td><td>23.220845</td></tr><tr><td>133</td><td>4000.0</td><td>22.763015</td><td>-0.396032</td><td>10.499473</td><td>69.239004</td><td>45.185155</td><td>2785</td><td>22.373063</td><td>23.152967</td></tr><tr><td>133</td><td>5000.0</td><td>22.797022</td><td>-0.443184</td><td>10.393702</td><td>73.333363</td><td>45.533857</td><td>2777</td><td>22.410443</td><td>23.183601</td></tr><tr><td>&hellip;</td><td>&hellip;</td><td>&hellip;</td><td>&hellip;</td><td>&hellip;</td><td>&hellip;</td><td>&hellip;</td><td>&hellip;</td><td>&hellip;</td><td>&hellip;</td></tr><tr><td>952</td><td>174000.0</td><td>19.440774</td><td>0.052874</td><td>10.663146</td><td>14.925999</td><td>44.729711</td><td>2777</td><td>19.044173</td><td>19.837374</td></tr><tr><td>952</td><td>175000.0</td><td>19.343655</td><td>0.02307</td><td>10.596552</td><td>12.240214</td><td>44.606854</td><td>2759</td><td>18.948248</td><td>19.739063</td></tr><tr><td>952</td><td>176000.0</td><td>19.377804</td><td>0.000619</td><td>10.627787</td><td>10.576108</td><td>44.499223</td><td>2797</td><td>18.983934</td><td>19.771674</td></tr><tr><td>952</td><td>177000.0</td><td>19.291393</td><td>-0.01063</td><td>10.54937</td><td>9.233932</td><td>44.431786</td><td>2754</td><td>18.897389</td><td>19.685397</td></tr><tr><td>952</td><td>178000.0</td><td>19.279526</td><td>-0.030461</td><td>10.622399</td><td>7.649398</td><td>44.375148</td><td>2782</td><td>18.884796</td><td>19.674256</td></tr><tr><td>952</td><td>179000.0</td><td>19.243824</td><td>-0.036776</td><td>10.489083</td><td>5.883545</td><td>44.354949</td><td>2721</td><td>18.849703</td><td>19.637945</td></tr></tbody></table></div>"
      ],
      "text/plain": [
       "shape: (2_161, 10)\n",
       "┌───────────┬──────────┬───────────┬───────────┬───┬───────────┬───────────┬───────────┬───────────┐\n",
       "│ stimulus_ ┆ time_bin ┆ avg_eda_t ┆ avg_eda_p ┆ … ┆ avg_tempe ┆ sample_si ┆ ci_lower  ┆ ci_upper  │\n",
       "│ seed      ┆ ---      ┆ onic      ┆ hasic     ┆   ┆ rature    ┆ ze        ┆ ---       ┆ ---       │\n",
       "│ ---       ┆ f64      ┆ ---       ┆ ---       ┆   ┆ ---       ┆ ---       ┆ f64       ┆ f64       │\n",
       "│ u16       ┆          ┆ f64       ┆ f64       ┆   ┆ f64       ┆ u32       ┆           ┆           │\n",
       "╞═══════════╪══════════╪═══════════╪═══════════╪═══╪═══════════╪═══════════╪═══════════╪═══════════╡\n",
       "│ 133       ┆ 0.0      ┆ 22.886292 ┆ 0.373452  ┆ … ┆ 44.254339 ┆ 2808      ┆ 22.494161 ┆ 23.278423 │\n",
       "│ 133       ┆ 1000.0   ┆ 22.782184 ┆ 0.812295  ┆ … ┆ 44.346072 ┆ 2773      ┆ 22.389465 ┆ 23.174904 │\n",
       "│ 133       ┆ 2000.0   ┆ 22.919694 ┆ 0.456742  ┆ … ┆ 44.557211 ┆ 2793      ┆ 22.528917 ┆ 23.310471 │\n",
       "│ 133       ┆ 3000.0   ┆ 22.831353 ┆ -0.118834 ┆ … ┆ 44.828431 ┆ 2796      ┆ 22.441861 ┆ 23.220845 │\n",
       "│ 133       ┆ 4000.0   ┆ 22.763015 ┆ -0.396032 ┆ … ┆ 45.185155 ┆ 2785      ┆ 22.373063 ┆ 23.152967 │\n",
       "│ 133       ┆ 5000.0   ┆ 22.797022 ┆ -0.443184 ┆ … ┆ 45.533857 ┆ 2777      ┆ 22.410443 ┆ 23.183601 │\n",
       "│ …         ┆ …        ┆ …         ┆ …         ┆ … ┆ …         ┆ …         ┆ …         ┆ …         │\n",
       "│ 952       ┆ 174000.0 ┆ 19.440774 ┆ 0.052874  ┆ … ┆ 44.729711 ┆ 2777      ┆ 19.044173 ┆ 19.837374 │\n",
       "│ 952       ┆ 175000.0 ┆ 19.343655 ┆ 0.02307   ┆ … ┆ 44.606854 ┆ 2759      ┆ 18.948248 ┆ 19.739063 │\n",
       "│ 952       ┆ 176000.0 ┆ 19.377804 ┆ 0.000619  ┆ … ┆ 44.499223 ┆ 2797      ┆ 18.983934 ┆ 19.771674 │\n",
       "│ 952       ┆ 177000.0 ┆ 19.291393 ┆ -0.01063  ┆ … ┆ 44.431786 ┆ 2754      ┆ 18.897389 ┆ 19.685397 │\n",
       "│ 952       ┆ 178000.0 ┆ 19.279526 ┆ -0.030461 ┆ … ┆ 44.375148 ┆ 2782      ┆ 18.884796 ┆ 19.674256 │\n",
       "│ 952       ┆ 179000.0 ┆ 19.243824 ┆ -0.036776 ┆ … ┆ 44.354949 ┆ 2721      ┆ 18.849703 ┆ 19.637945 │\n",
       "└───────────┴──────────┴───────────┴───────────┴───┴───────────┴───────────┴───────────┴───────────┘"
      ]
     },
     "execution_count": 12,
     "metadata": {},
     "output_type": "execute_result"
    }
   ],
   "source": [
    "result = (\n",
    "    df.with_columns([(col(\"normalized_timestamp\") // 1000 * 1000).alias(\"time_bin\")])\n",
    "    .group_by([\"stimulus_seed\", \"time_bin\"])\n",
    "    .agg(\n",
    "        [\n",
    "            col(\"eda_tonic\").mean().alias(\"avg_eda_tonic\"),\n",
    "            col(\"eda_phasic\").mean().alias(\"avg_eda_phasic\"),\n",
    "            col(\"eda_tonic\").std().alias(\"std_dev\"),\n",
    "            col(\"rating\").mean().alias(\"avg_rating\"),\n",
    "            col(\"temperature\").mean().alias(\"avg_temperature\"),\n",
    "            pl.len().alias(\"sample_size\"),\n",
    "        ]\n",
    "    )\n",
    "    .with_columns(\n",
    "        [\n",
    "            (\n",
    "                col(\"avg_eda_tonic\")\n",
    "                - 1.96 * (col(\"std_dev\") / col(\"sample_size\").sqrt())\n",
    "            ).alias(\"ci_lower\"),\n",
    "            (\n",
    "                col(\"avg_eda_tonic\")\n",
    "                + 1.96 * (col(\"std_dev\") / col(\"sample_size\").sqrt())\n",
    "            ).alias(\"ci_upper\"),\n",
    "        ]\n",
    "    )\n",
    "    # .select(\n",
    "    #     [\n",
    "    #         \"stimulus_seed\",\n",
    "    #         \"time_bin\",\n",
    "    #         \"avg_eda_tonic\",\n",
    "    #         \"ci_lower\",\n",
    "    #         \"ci_upper\",\n",
    "    #         \"avg_eda_phasic\",\n",
    "    #     ]\n",
    "    # )\n",
    "    .sort([\"stimulus_seed\", \"time_bin\"])\n",
    ")\n",
    "result"
   ]
  },
  {
   "cell_type": "code",
   "execution_count": null,
   "metadata": {},
   "outputs": [
    {
     "name": "stdout",
     "output_type": "stream",
     "text": [
      "10:31:00 | \u001b[93mWARNING \u001b[0m| transformations | No 'trial_id' column found. Applying function to the entire DataFrame.\n"
     ]
    },
    {
     "data": {
      "text/html": [
       "<div><style>\n",
       ".dataframe > thead > tr,\n",
       ".dataframe > tbody > tr {\n",
       "  text-align: right;\n",
       "  white-space: pre-wrap;\n",
       "}\n",
       "</style>\n",
       "<small>shape: (2_161, 10)</small><table border=\"1\" class=\"dataframe\"><thead><tr><th>stimulus_seed</th><th>time_bin</th><th>avg_eda_tonic</th><th>avg_eda_phasic</th><th>std_dev</th><th>avg_rating</th><th>avg_temperature</th><th>sample_size</th><th>ci_lower</th><th>ci_upper</th></tr><tr><td>u16</td><td>f64</td><td>f64</td><td>f64</td><td>f64</td><td>f64</td><td>f64</td><td>u32</td><td>f64</td><td>f64</td></tr></thead><tbody><tr><td>133</td><td>0.0</td><td>0.853967</td><td>0.661401</td><td>0.604283</td><td>0.439204</td><td>0.426908</td><td>2808</td><td>0.818985</td><td>0.81036</td></tr><tr><td>133</td><td>1000.0</td><td>0.841162</td><td>0.890469</td><td>0.589217</td><td>0.593368</td><td>0.449696</td><td>2773</td><td>0.802396</td><td>0.794426</td></tr><tr><td>133</td><td>2000.0</td><td>0.858076</td><td>0.704877</td><td>0.584922</td><td>0.635459</td><td>0.502146</td><td>2793</td><td>0.824492</td><td>0.815293</td></tr><tr><td>133</td><td>3000.0</td><td>0.847209</td><td>0.404436</td><td>0.576264</td><td>0.673131</td><td>0.569521</td><td>2796</td><td>0.810698</td><td>0.801497</td></tr><tr><td>133</td><td>4000.0</td><td>0.838804</td><td>0.259744</td><td>0.573784</td><td>0.711415</td><td>0.658137</td><td>2785</td><td>0.799797</td><td>0.791049</td></tr><tr><td>133</td><td>5000.0</td><td>0.842987</td><td>0.235131</td><td>0.542217</td><td>0.754575</td><td>0.74476</td><td>2777</td><td>0.80572</td><td>0.795765</td></tr><tr><td>&hellip;</td><td>&hellip;</td><td>&hellip;</td><td>&hellip;</td><td>&hellip;</td><td>&hellip;</td><td>&hellip;</td><td>&hellip;</td><td>&hellip;</td><td>&hellip;</td></tr><tr><td>952</td><td>174000.0</td><td>0.430152</td><td>0.494065</td><td>0.622633</td><td>0.138884</td><td>0.544998</td><td>2777</td><td>0.272339</td><td>0.280686</td></tr><tr><td>952</td><td>175000.0</td><td>0.418206</td><td>0.478508</td><td>0.602758</td><td>0.110572</td><td>0.514478</td><td>2759</td><td>0.25714</td><td>0.265553</td></tr><tr><td>952</td><td>176000.0</td><td>0.422406</td><td>0.466789</td><td>0.61208</td><td>0.09303</td><td>0.487741</td><td>2797</td><td>0.262795</td><td>0.270572</td></tr><tr><td>952</td><td>177000.0</td><td>0.411777</td><td>0.460917</td><td>0.588676</td><td>0.078882</td><td>0.470989</td><td>2754</td><td>0.249082</td><td>0.257292</td></tr><tr><td>952</td><td>178000.0</td><td>0.410318</td><td>0.450565</td><td>0.610472</td><td>0.062179</td><td>0.456919</td><td>2782</td><td>0.247086</td><td>0.255577</td></tr><tr><td>952</td><td>179000.0</td><td>0.405926</td><td>0.447269</td><td>0.570683</td><td>0.043564</td><td>0.451901</td><td>2721</td><td>0.241526</td><td>0.249988</td></tr></tbody></table></div>"
      ],
      "text/plain": [
       "shape: (2_161, 10)\n",
       "┌────────────┬──────────┬────────────┬───────────┬───┬───────────┬───────────┬──────────┬──────────┐\n",
       "│ stimulus_s ┆ time_bin ┆ avg_eda_to ┆ avg_eda_p ┆ … ┆ avg_tempe ┆ sample_si ┆ ci_lower ┆ ci_upper │\n",
       "│ eed        ┆ ---      ┆ nic        ┆ hasic     ┆   ┆ rature    ┆ ze        ┆ ---      ┆ ---      │\n",
       "│ ---        ┆ f64      ┆ ---        ┆ ---       ┆   ┆ ---       ┆ ---       ┆ f64      ┆ f64      │\n",
       "│ u16        ┆          ┆ f64        ┆ f64       ┆   ┆ f64       ┆ u32       ┆          ┆          │\n",
       "╞════════════╪══════════╪════════════╪═══════════╪═══╪═══════════╪═══════════╪══════════╪══════════╡\n",
       "│ 133        ┆ 0.0      ┆ 0.853967   ┆ 0.661401  ┆ … ┆ 0.426908  ┆ 2808      ┆ 0.818985 ┆ 0.81036  │\n",
       "│ 133        ┆ 1000.0   ┆ 0.841162   ┆ 0.890469  ┆ … ┆ 0.449696  ┆ 2773      ┆ 0.802396 ┆ 0.794426 │\n",
       "│ 133        ┆ 2000.0   ┆ 0.858076   ┆ 0.704877  ┆ … ┆ 0.502146  ┆ 2793      ┆ 0.824492 ┆ 0.815293 │\n",
       "│ 133        ┆ 3000.0   ┆ 0.847209   ┆ 0.404436  ┆ … ┆ 0.569521  ┆ 2796      ┆ 0.810698 ┆ 0.801497 │\n",
       "│ 133        ┆ 4000.0   ┆ 0.838804   ┆ 0.259744  ┆ … ┆ 0.658137  ┆ 2785      ┆ 0.799797 ┆ 0.791049 │\n",
       "│ 133        ┆ 5000.0   ┆ 0.842987   ┆ 0.235131  ┆ … ┆ 0.74476   ┆ 2777      ┆ 0.80572  ┆ 0.795765 │\n",
       "│ …          ┆ …        ┆ …          ┆ …         ┆ … ┆ …         ┆ …         ┆ …        ┆ …        │\n",
       "│ 952        ┆ 174000.0 ┆ 0.430152   ┆ 0.494065  ┆ … ┆ 0.544998  ┆ 2777      ┆ 0.272339 ┆ 0.280686 │\n",
       "│ 952        ┆ 175000.0 ┆ 0.418206   ┆ 0.478508  ┆ … ┆ 0.514478  ┆ 2759      ┆ 0.25714  ┆ 0.265553 │\n",
       "│ 952        ┆ 176000.0 ┆ 0.422406   ┆ 0.466789  ┆ … ┆ 0.487741  ┆ 2797      ┆ 0.262795 ┆ 0.270572 │\n",
       "│ 952        ┆ 177000.0 ┆ 0.411777   ┆ 0.460917  ┆ … ┆ 0.470989  ┆ 2754      ┆ 0.249082 ┆ 0.257292 │\n",
       "│ 952        ┆ 178000.0 ┆ 0.410318   ┆ 0.450565  ┆ … ┆ 0.456919  ┆ 2782      ┆ 0.247086 ┆ 0.255577 │\n",
       "│ 952        ┆ 179000.0 ┆ 0.405926   ┆ 0.447269  ┆ … ┆ 0.451901  ┆ 2721      ┆ 0.241526 ┆ 0.249988 │\n",
       "└────────────┴──────────┴────────────┴───────────┴───┴───────────┴───────────┴──────────┴──────────┘"
      ]
     },
     "execution_count": 13,
     "metadata": {},
     "output_type": "execute_result"
    }
   ],
   "source": [
    "result = scale_min_max(result, exclude_additional_columns=[\"time_bin\"])\n",
    "result"
   ]
  },
  {
   "cell_type": "code",
   "execution_count": null,
   "metadata": {},
   "outputs": [
    {
     "data": {
      "application/vnd.jupyter.widget-view+json": {
       "model_id": "30dd27cb32e94936a510d1318810d2a0",
       "version_major": 2,
       "version_minor": 0
      },
      "text/plain": [
       "BokehModel(combine_events=True, render_bundle={'docs_json': {'71811756-e8e1-402e-b23e-5a1c03c1dd93': {'version…"
      ]
     },
     "execution_count": 14,
     "metadata": {},
     "output_type": "execute_result"
    }
   ],
   "source": [
    "result.plot(\n",
    "    x=\"time_bin\",\n",
    "    y=[\"avg_temperature\", \"avg_eda_tonic\"],  # \"avg_eda_phasic\"],\n",
    "    groupby=\"stimulus_seed\",\n",
    "    kind=\"line\",\n",
    "    grid=True,\n",
    ") * result.hvplot.area(\n",
    "    x=\"time_bin\",\n",
    "    y=\"ci_lower\",\n",
    "    y2=\"ci_upper\",\n",
    "    groupby=\"stimulus_seed\",\n",
    "    alpha=0.5,\n",
    "    line_width=0,\n",
    "    fill_color=\"lightblue\",\n",
    "    grid=True,\n",
    "    xlim=(0, 180 * 1000),\n",
    ")"
   ]
  },
  {
   "cell_type": "code",
   "execution_count": null,
   "metadata": {},
   "outputs": [
    {
     "data": {
      "application/vnd.jupyter.widget-view+json": {
       "model_id": "c3e169867ed841a3bca07c6a64082203",
       "version_major": 2,
       "version_minor": 0
      },
      "text/plain": [
       "BokehModel(combine_events=True, render_bundle={'docs_json': {'5917d8ca-d26c-411d-83ff-36eca57ff399': {'version…"
      ]
     },
     "execution_count": 15,
     "metadata": {},
     "output_type": "execute_result"
    }
   ],
   "source": [
    "scale_min_max(df).plot(\n",
    "    x=\"timestamp\",\n",
    "    y=[\"eda_raw\", \"eda_phasic\", \"eda_tonic\", \"rating\", \"temperature\"],\n",
    "    groupby=\"trial_id\",\n",
    ")"
   ]
  },
  {
   "cell_type": "code",
   "execution_count": null,
   "metadata": {},
   "outputs": [],
   "source": []
  },
  {
   "cell_type": "code",
   "execution_count": null,
   "metadata": {},
   "outputs": [],
   "source": []
  }
 ],
 "metadata": {
  "kernelspec": {
   "display_name": "pain",
   "language": "python",
   "name": "python3"
  },
  "language_info": {
   "codemirror_mode": {
    "name": "ipython",
    "version": 3
   },
   "file_extension": ".py",
   "mimetype": "text/x-python",
   "name": "python",
   "nbconvert_exporter": "python",
   "pygments_lexer": "ipython3",
   "version": "3.12.10"
  }
 },
 "nbformat": 4,
 "nbformat_minor": 2
}
