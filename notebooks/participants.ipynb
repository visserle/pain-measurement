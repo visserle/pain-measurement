{
    "cells": [
        {
            "cell_type": "code",
            "execution_count": 45,
            "metadata": {},
            "outputs": [],
            "source": [
                "%%capture\n",
                "from pathlib import Path\n",
                "\n",
                "if Path.cwd().stem == \"notebooks\":\n",
                "    %cd ..\n",
                "%load_ext autoreload\n",
                "%autoreload 2"
            ]
        },
        {
            "cell_type": "code",
            "execution_count": 46,
            "metadata": {},
            "outputs": [],
            "source": [
                "import json\n",
                "import logging\n",
                "from pathlib import Path\n",
                "\n",
                "import altair as alt\n",
                "import holoviews as hv\n",
                "import hvplot.polars  # noqa\n",
                "import matplotlib.pyplot as plt\n",
                "import numpy as np\n",
                "import polars as pl\n",
                "from polars import col\n",
                "\n",
                "from src.data.database_manager import DatabaseManager\n",
                "from src.log_config import configure_logging\n",
                "\n",
                "logger = logging.getLogger(__name__.rsplit(\".\", maxsplit=1)[-1])\n",
                "configure_logging(\n",
                "    stream_level=logging.DEBUG,\n",
                "    ignore_libs=[\"matplotlib\", \"Comm\", \"bokeh\", \"tornado\", \"param\", \"numba\"],\n",
                ")\n",
                "\n",
                "pl.Config.set_tbl_rows(12)  # for the 12 trials\n",
                "hv.output(widget_location=\"bottom\", size=130)"
            ]
        },
        {
            "cell_type": "code",
            "execution_count": 47,
            "metadata": {},
            "outputs": [
                {
                    "data": {
                        "text/plain": [
                            "True"
                        ]
                    },
                    "execution_count": 47,
                    "metadata": {},
                    "output_type": "execute_result"
                }
            ],
            "source": [
                "\"er\" in \"fgfzftrertt\""
            ]
        },
        {
            "cell_type": "code",
            "execution_count": 48,
            "metadata": {},
            "outputs": [
                {
                    "name": "stdout",
                    "output_type": "stream",
                    "text": [
                        "15:46:48 | \u001b[1m\u001b[91m\u001b[4mCRITICAL\u001b[0m| __main__ | Anonymize participants ids before sharing the data\n"
                    ]
                }
            ],
            "source": [
                "logger.fatal(\"Anonymize participants ids before sharing the data\")"
            ]
        },
        {
            "cell_type": "code",
            "execution_count": 49,
            "metadata": {},
            "outputs": [],
            "source": [
                "REPORTS_DIR = Path(\"reports\")\n",
                "PAPER_DIR = Path(\"/Users/visser/Dropbox/PhD/Papers/PAIN/data\")\n",
                "DIRS = [REPORTS_DIR, PAPER_DIR]\n",
                "\n",
                "FILE_NAME = \"participants.json\""
            ]
        },
        {
            "cell_type": "code",
            "execution_count": 50,
            "metadata": {},
            "outputs": [],
            "source": [
                "db = DatabaseManager()"
            ]
        },
        {
            "cell_type": "code",
            "execution_count": 51,
            "metadata": {},
            "outputs": [],
            "source": [
                "with db:\n",
                "    all_participants = db.get_table(\n",
                "        \"Questionnaire_General\", exclude_trials_with_measurement_problems=False\n",
                "    )\n",
                "    included_participants = db.get_table(\n",
                "        \"Questionnaire_General\", exclude_trials_with_measurement_problems=True\n",
                "    )"
            ]
        },
        {
            "cell_type": "markdown",
            "metadata": {},
            "source": [
                "## BMI check for all participants"
            ]
        },
        {
            "cell_type": "code",
            "execution_count": 52,
            "metadata": {},
            "outputs": [],
            "source": [
                "# Cast height string to float\n",
                "all_participants = all_participants.with_columns(\n",
                "    pl.col(\"height\").str.replace(\",\", \".\").cast(pl.Float64)\n",
                ")\n",
                "included_participants = included_participants.with_columns(\n",
                "    pl.col(\"height\").str.replace(\",\", \".\").cast(pl.Float64)\n",
                ")\n",
                "\n",
                "# Add BMI column\n",
                "all_participants = all_participants.with_columns(\n",
                "    (col(\"weight\") / col(\"height\") ** 2).round().cast(pl.Int8).alias(\"bmi\")\n",
                ")\n",
                "included_participants = included_participants.with_columns(\n",
                "    (col(\"weight\") / col(\"height\") ** 2).round().cast(pl.Int8).alias(\"bmi\")\n",
                ")\n"
            ]
        },
        {
            "cell_type": "code",
            "execution_count": 54,
            "metadata": {},
            "outputs": [],
            "source": [
                "bmi_too_low = all_participants.filter(col(\"bmi\") < 18)[\"participant_id\"].to_list()\n",
                "bmi_too_high = all_participants.filter(col(\"bmi\") > 30)[\"participant_id\"].to_list()\n",
                "if bmi_too_low:\n",
                "    logger.fatal(f\"Participant IDs with BMI too low: {bmi_too_low}, has to be excluded\")\n",
                "if bmi_too_high:\n",
                "    logger.fatal(\n",
                "        f\"Participant IDs with BMI too high: {bmi_too_high}, has to be excluded\"\n",
                "    )"
            ]
        },
        {
            "cell_type": "markdown",
            "metadata": {},
            "source": [
                "## Stats for included participants"
            ]
        },
        {
            "cell_type": "code",
            "execution_count": 55,
            "metadata": {},
            "outputs": [],
            "source": [
                "participants_stats = {}"
            ]
        },
        {
            "cell_type": "code",
            "execution_count": null,
            "metadata": {},
            "outputs": [],
            "source": [
                "# Number of participants\n",
                "participants_stats[\"n_participants\"] = included_participants[\n",
                "    \"participant_id\"\n",
                "].n_unique()\n",
                "participants_stats[\"n_female\"] = included_participants.filter(\n",
                "    col(\"gender\") == \"Female\"\n",
                ").height\n",
                "participants_stats[\"n_male\"] = included_participants.filter(\n",
                "    col(\"gender\") == \"Male\"\n",
                ").height\n",
                "participants_stats[\"n_included_participants\"] = included_participants[\n",
                "    \"participant_id\"\n",
                "].n_unique()\n",
                "participants_stats[\"n_excluded_participants\"] = (\n",
                "    participants_stats[\"n_participants\"] - participants_stats[\"n_included_participants\"]\n",
                ")\n",
                "\n",
                "# Age\n",
                "participants_stats[\"mean_age\"] = round(included_participants[\"age\"].mean(), 1)\n",
                "participants_stats[\"std_age\"] = round(included_participants[\"age\"].std(), 1)\n",
                "participants_stats[\"min_age\"] = included_participants[\"age\"].min()\n",
                "participants_stats[\"max_age\"] = included_participants[\"age\"].max()\n",
                "\n",
                "# BMI\n",
                "participants_stats[\"mean_bmi\"] = round(included_participants[\"bmi\"].mean(), 1)\n",
                "participants_stats[\"std_bmi\"] = round(included_participants[\"bmi\"].std(), 1)\n",
                "participants_stats[\"min_bmi\"] = included_participants[\"bmi\"].min()\n",
                "participants_stats[\"max_bmi\"] = included_participants[\"bmi\"].max()\n",
                "\n",
                "# Education\n",
                "key_map = {\n",
                "    \"University degree\": \"n_university\",\n",
                "    \"Trade/technical/vocational training\": \"n_trade\",\n",
                "    \"Abitur (university entrance qualification)\": \"n_abitur\",\n",
                "    \"Secondary school leaving certificate (Mittlere Reife)\": \"n_secondary\",\n",
                "}\n",
                "value_count = dict(\n",
                "    included_participants[\"education\"].value_counts().rows_by_key(\"education\")\n",
                ")\n",
                "value_count = {key_map.get(k, k): v[0] for k, v in value_count.items()}  # as int\n",
                "participants_stats |= dict(value_count)\n",
                "\n",
                "# Employment\n",
                "key_map = {\n",
                "    \"Employed part-time\": \"n_employed_part_time\",\n",
                "    \"Employed full-time\": \"n_employed_full_time\",\n",
                "    \"Student\": \"n_student\",\n",
                "    \"Retired\": \"n_retired\",\n",
                "    \"Unemployed\": \"n_unemployed\",\n",
                "}\n",
                "value_count = dict(\n",
                "    included_participants[\"employment_status\"]\n",
                "    .value_counts()\n",
                "    .rows_by_key(\"employment_status\")\n",
                ")\n",
                "value_count = {key_map.get(k, k): v[0] for k, v in value_count.items()}  # as int\n",
                "participants_stats |= dict(value_count)\n",
                "\n",
                "# Physical activity\n",
                "key_map = {\n",
                "    \"Daily\": \"n_daily\",\n",
                "    \"Several times a week\": \"n_several_times_week\",\n",
                "    \"Once a week\": \"n_once_week\",\n",
                "    \"A few times a month\": \"n_few_times_month\",\n",
                "    \"Rarely\": \"n_rarely\",\n",
                "    \"Never\": \"n_never\",\n",
                "}\n",
                "value_count = dict(\n",
                "    included_participants[\"physical_activity\"]\n",
                "    .value_counts()\n",
                "    .rows_by_key(\"physical_activity\")\n",
                ")\n",
                "value_count = {key_map.get(k, k): v[0] for k, v in value_count.items()}  # as int\n",
                "participants_stats |= dict(value_count)\n",
                "\n",
                "# Medidation\n",
                "participants_stats[\"n_meditation\"] = included_participants.filter(\n",
                "    col(\"meditation\") == \"Yes\"\n",
                ").height"
            ]
        },
        {
            "cell_type": "code",
            "execution_count": 57,
            "metadata": {},
            "outputs": [],
            "source": [
                "# Save as json\n",
                "for DIR in DIRS:\n",
                "    with open(DIR / FILE_NAME, \"w\") as f:\n",
                "        json.dump(participants_stats, f, indent=4)\n"
            ]
        },
        {
            "cell_type": "code",
            "execution_count": 61,
            "metadata": {},
            "outputs": [
                {
                    "data": {
                        "text/plain": [
                            "{'n_participants': 42,\n",
                            " 'n_female': 23,\n",
                            " 'n_male': 19,\n",
                            " 'n_included_participants': 42,\n",
                            " 'n_excluded_participants': 0,\n",
                            " 'mean_age': 26.2,\n",
                            " 'std_age': 5.1,\n",
                            " 'min_age': 18,\n",
                            " 'max_age': 39,\n",
                            " 'mean_bmi': 23.4,\n",
                            " 'std_bmi': 3.0,\n",
                            " 'min_bmi': 19,\n",
                            " 'max_bmi': 30,\n",
                            " 'n_secondary': (1,),\n",
                            " 'n_trade': (4,),\n",
                            " 'n_university': (14,),\n",
                            " 'n_abitur': (23,),\n",
                            " 'n_employed_part_time': (2,),\n",
                            " 'n_student': (34,),\n",
                            " 'n_unemployed': (4,),\n",
                            " 'n_employed_full_time': (2,),\n",
                            " 'n_daily': (2,),\n",
                            " 'n_once_week': (7,),\n",
                            " 'n_few_times_month': (6,),\n",
                            " 'n_several_times_week': (27,),\n",
                            " 'n_meditation': 2}"
                        ]
                    },
                    "execution_count": 61,
                    "metadata": {},
                    "output_type": "execute_result"
                }
            ],
            "source": [
                "participants_stats"
            ]
        }
    ],
    "metadata": {
        "kernelspec": {
            "display_name": "pain",
            "language": "python",
            "name": "python3"
        },
        "language_info": {
            "codemirror_mode": {
                "name": "ipython",
                "version": 3
            },
            "file_extension": ".py",
            "mimetype": "text/x-python",
            "name": "python",
            "nbconvert_exporter": "python",
            "pygments_lexer": "ipython3",
            "version": "3.12.4"
        },
        "orig_nbformat": 4
    },
    "nbformat": 4,
    "nbformat_minor": 2
}
