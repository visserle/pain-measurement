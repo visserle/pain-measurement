{
    "cells": [
        {
            "cell_type": "code",
            "execution_count": 1,
            "metadata": {},
            "outputs": [],
            "source": [
                "%%capture\n",
                "from pathlib import Path\n",
                "\n",
                "if Path.cwd().stem == \"notebooks\":\n",
                "    %cd ..\n",
                "    %load_ext autoreload\n",
                "    %autoreload 2"
            ]
        },
        {
            "cell_type": "code",
            "execution_count": 2,
            "metadata": {},
            "outputs": [
                {
                    "data": {
                        "application/javascript": "(function(root) {\n  function now() {\n    return new Date();\n  }\n\n  var force = true;\n  var py_version = '3.4.2'.replace('rc', '-rc.').replace('.dev', '-dev.');\n  var reloading = false;\n  var Bokeh = root.Bokeh;\n\n  if (typeof (root._bokeh_timeout) === \"undefined\" || force) {\n    root._bokeh_timeout = Date.now() + 5000;\n    root._bokeh_failed_load = false;\n  }\n\n  function run_callbacks() {\n    try {\n      root._bokeh_onload_callbacks.forEach(function(callback) {\n        if (callback != null)\n          callback();\n      });\n    } finally {\n      delete root._bokeh_onload_callbacks;\n    }\n    console.debug(\"Bokeh: all callbacks have finished\");\n  }\n\n  function load_libs(css_urls, js_urls, js_modules, js_exports, callback) {\n    if (css_urls == null) css_urls = [];\n    if (js_urls == null) js_urls = [];\n    if (js_modules == null) js_modules = [];\n    if (js_exports == null) js_exports = {};\n\n    root._bokeh_onload_callbacks.push(callback);\n\n    if (root._bokeh_is_loading > 0) {\n      console.debug(\"Bokeh: BokehJS is being loaded, scheduling callback at\", now());\n      return null;\n    }\n    if (js_urls.length === 0 && js_modules.length === 0 && Object.keys(js_exports).length === 0) {\n      run_callbacks();\n      return null;\n    }\n    if (!reloading) {\n      console.debug(\"Bokeh: BokehJS not loaded, scheduling load and callback at\", now());\n    }\n\n    function on_load() {\n      root._bokeh_is_loading--;\n      if (root._bokeh_is_loading === 0) {\n        console.debug(\"Bokeh: all BokehJS libraries/stylesheets loaded\");\n        run_callbacks()\n      }\n    }\n    window._bokeh_on_load = on_load\n\n    function on_error() {\n      console.error(\"failed to load \" + url);\n    }\n\n    var skip = [];\n    if (window.requirejs) {\n      window.requirejs.config({'packages': {}, 'paths': {}, 'shim': {}});\n      root._bokeh_is_loading = css_urls.length + 0;\n    } else {\n      root._bokeh_is_loading = css_urls.length + js_urls.length + js_modules.length + Object.keys(js_exports).length;\n    }\n\n    var existing_stylesheets = []\n    var links = document.getElementsByTagName('link')\n    for (var i = 0; i < links.length; i++) {\n      var link = links[i]\n      if (link.href != null) {\n\texisting_stylesheets.push(link.href)\n      }\n    }\n    for (var i = 0; i < css_urls.length; i++) {\n      var url = css_urls[i];\n      if (existing_stylesheets.indexOf(url) !== -1) {\n\ton_load()\n\tcontinue;\n      }\n      const element = document.createElement(\"link\");\n      element.onload = on_load;\n      element.onerror = on_error;\n      element.rel = \"stylesheet\";\n      element.type = \"text/css\";\n      element.href = url;\n      console.debug(\"Bokeh: injecting link tag for BokehJS stylesheet: \", url);\n      document.body.appendChild(element);\n    }    var existing_scripts = []\n    var scripts = document.getElementsByTagName('script')\n    for (var i = 0; i < scripts.length; i++) {\n      var script = scripts[i]\n      if (script.src != null) {\n\texisting_scripts.push(script.src)\n      }\n    }\n    for (var i = 0; i < js_urls.length; i++) {\n      var url = js_urls[i];\n      if (skip.indexOf(url) !== -1 || existing_scripts.indexOf(url) !== -1) {\n\tif (!window.requirejs) {\n\t  on_load();\n\t}\n\tcontinue;\n      }\n      var element = document.createElement('script');\n      element.onload = on_load;\n      element.onerror = on_error;\n      element.async = false;\n      element.src = url;\n      console.debug(\"Bokeh: injecting script tag for BokehJS library: \", url);\n      document.head.appendChild(element);\n    }\n    for (var i = 0; i < js_modules.length; i++) {\n      var url = js_modules[i];\n      if (skip.indexOf(url) !== -1 || existing_scripts.indexOf(url) !== -1) {\n\tif (!window.requirejs) {\n\t  on_load();\n\t}\n\tcontinue;\n      }\n      var element = document.createElement('script');\n      element.onload = on_load;\n      element.onerror = on_error;\n      element.async = false;\n      element.src = url;\n      element.type = \"module\";\n      console.debug(\"Bokeh: injecting script tag for BokehJS library: \", url);\n      document.head.appendChild(element);\n    }\n    for (const name in js_exports) {\n      var url = js_exports[name];\n      if (skip.indexOf(url) >= 0 || root[name] != null) {\n\tif (!window.requirejs) {\n\t  on_load();\n\t}\n\tcontinue;\n      }\n      var element = document.createElement('script');\n      element.onerror = on_error;\n      element.async = false;\n      element.type = \"module\";\n      console.debug(\"Bokeh: injecting script tag for BokehJS library: \", url);\n      element.textContent = `\n      import ${name} from \"${url}\"\n      window.${name} = ${name}\n      window._bokeh_on_load()\n      `\n      document.head.appendChild(element);\n    }\n    if (!js_urls.length && !js_modules.length) {\n      on_load()\n    }\n  };\n\n  function inject_raw_css(css) {\n    const element = document.createElement(\"style\");\n    element.appendChild(document.createTextNode(css));\n    document.body.appendChild(element);\n  }\n\n  var js_urls = [\"https://cdn.bokeh.org/bokeh/release/bokeh-3.4.2.min.js\", \"https://cdn.bokeh.org/bokeh/release/bokeh-gl-3.4.2.min.js\", \"https://cdn.bokeh.org/bokeh/release/bokeh-widgets-3.4.2.min.js\", \"https://cdn.bokeh.org/bokeh/release/bokeh-tables-3.4.2.min.js\", \"https://cdn.holoviz.org/panel/1.4.4/dist/panel.min.js\"];\n  var js_modules = [];\n  var js_exports = {};\n  var css_urls = [];\n  var inline_js = [    function(Bokeh) {\n      Bokeh.set_log_level(\"info\");\n    },\nfunction(Bokeh) {} // ensure no trailing comma for IE\n  ];\n\n  function run_inline_js() {\n    if ((root.Bokeh !== undefined) || (force === true)) {\n      for (var i = 0; i < inline_js.length; i++) {\n\ttry {\n          inline_js[i].call(root, root.Bokeh);\n\t} catch(e) {\n\t  if (!reloading) {\n\t    throw e;\n\t  }\n\t}\n      }\n      // Cache old bokeh versions\n      if (Bokeh != undefined && !reloading) {\n\tvar NewBokeh = root.Bokeh;\n\tif (Bokeh.versions === undefined) {\n\t  Bokeh.versions = new Map();\n\t}\n\tif (NewBokeh.version !== Bokeh.version) {\n\t  Bokeh.versions.set(NewBokeh.version, NewBokeh)\n\t}\n\troot.Bokeh = Bokeh;\n      }} else if (Date.now() < root._bokeh_timeout) {\n      setTimeout(run_inline_js, 100);\n    } else if (!root._bokeh_failed_load) {\n      console.log(\"Bokeh: BokehJS failed to load within specified timeout.\");\n      root._bokeh_failed_load = true;\n    }\n    root._bokeh_is_initializing = false\n  }\n\n  function load_or_wait() {\n    // Implement a backoff loop that tries to ensure we do not load multiple\n    // versions of Bokeh and its dependencies at the same time.\n    // In recent versions we use the root._bokeh_is_initializing flag\n    // to determine whether there is an ongoing attempt to initialize\n    // bokeh, however for backward compatibility we also try to ensure\n    // that we do not start loading a newer (Panel>=1.0 and Bokeh>3) version\n    // before older versions are fully initialized.\n    if (root._bokeh_is_initializing && Date.now() > root._bokeh_timeout) {\n      root._bokeh_is_initializing = false;\n      root._bokeh_onload_callbacks = undefined;\n      console.log(\"Bokeh: BokehJS was loaded multiple times but one version failed to initialize.\");\n      load_or_wait();\n    } else if (root._bokeh_is_initializing || (typeof root._bokeh_is_initializing === \"undefined\" && root._bokeh_onload_callbacks !== undefined)) {\n      setTimeout(load_or_wait, 100);\n    } else {\n      root._bokeh_is_initializing = true\n      root._bokeh_onload_callbacks = []\n      var bokeh_loaded = Bokeh != null && (Bokeh.version === py_version || (Bokeh.versions !== undefined && Bokeh.versions.has(py_version)));\n      if (!reloading && !bokeh_loaded) {\n\troot.Bokeh = undefined;\n      }\n      load_libs(css_urls, js_urls, js_modules, js_exports, function() {\n\tconsole.debug(\"Bokeh: BokehJS plotting callback run at\", now());\n\trun_inline_js();\n      });\n    }\n  }\n  // Give older versions of the autoload script a head-start to ensure\n  // they initialize before we start loading newer version.\n  setTimeout(load_or_wait, 100)\n}(window));",
                        "application/vnd.holoviews_load.v0+json": ""
                    },
                    "metadata": {},
                    "output_type": "display_data"
                },
                {
                    "data": {
                        "application/javascript": "\nif ((window.PyViz === undefined) || (window.PyViz instanceof HTMLElement)) {\n  window.PyViz = {comms: {}, comm_status:{}, kernels:{}, receivers: {}, plot_index: []}\n}\n\n\n    function JupyterCommManager() {\n    }\n\n    JupyterCommManager.prototype.register_target = function(plot_id, comm_id, msg_handler) {\n      if (window.comm_manager || ((window.Jupyter !== undefined) && (Jupyter.notebook.kernel != null))) {\n        var comm_manager = window.comm_manager || Jupyter.notebook.kernel.comm_manager;\n        comm_manager.register_target(comm_id, function(comm) {\n          comm.on_msg(msg_handler);\n        });\n      } else if ((plot_id in window.PyViz.kernels) && (window.PyViz.kernels[plot_id])) {\n        window.PyViz.kernels[plot_id].registerCommTarget(comm_id, function(comm) {\n          comm.onMsg = msg_handler;\n        });\n      } else if (typeof google != 'undefined' && google.colab.kernel != null) {\n        google.colab.kernel.comms.registerTarget(comm_id, (comm) => {\n          var messages = comm.messages[Symbol.asyncIterator]();\n          function processIteratorResult(result) {\n            var message = result.value;\n            console.log(message)\n            var content = {data: message.data, comm_id};\n            var buffers = []\n            for (var buffer of message.buffers || []) {\n              buffers.push(new DataView(buffer))\n            }\n            var metadata = message.metadata || {};\n            var msg = {content, buffers, metadata}\n            msg_handler(msg);\n            return messages.next().then(processIteratorResult);\n          }\n          return messages.next().then(processIteratorResult);\n        })\n      }\n    }\n\n    JupyterCommManager.prototype.get_client_comm = function(plot_id, comm_id, msg_handler) {\n      if (comm_id in window.PyViz.comms) {\n        return window.PyViz.comms[comm_id];\n      } else if (window.comm_manager || ((window.Jupyter !== undefined) && (Jupyter.notebook.kernel != null))) {\n        var comm_manager = window.comm_manager || Jupyter.notebook.kernel.comm_manager;\n        var comm = comm_manager.new_comm(comm_id, {}, {}, {}, comm_id);\n        if (msg_handler) {\n          comm.on_msg(msg_handler);\n        }\n      } else if ((plot_id in window.PyViz.kernels) && (window.PyViz.kernels[plot_id])) {\n        var comm = window.PyViz.kernels[plot_id].connectToComm(comm_id);\n        comm.open();\n        if (msg_handler) {\n          comm.onMsg = msg_handler;\n        }\n      } else if (typeof google != 'undefined' && google.colab.kernel != null) {\n        var comm_promise = google.colab.kernel.comms.open(comm_id)\n        comm_promise.then((comm) => {\n          window.PyViz.comms[comm_id] = comm;\n          if (msg_handler) {\n            var messages = comm.messages[Symbol.asyncIterator]();\n            function processIteratorResult(result) {\n              var message = result.value;\n              var content = {data: message.data};\n              var metadata = message.metadata || {comm_id};\n              var msg = {content, metadata}\n              msg_handler(msg);\n              return messages.next().then(processIteratorResult);\n            }\n            return messages.next().then(processIteratorResult);\n          }\n        }) \n        var sendClosure = (data, metadata, buffers, disposeOnDone) => {\n          return comm_promise.then((comm) => {\n            comm.send(data, metadata, buffers, disposeOnDone);\n          });\n        };\n        var comm = {\n          send: sendClosure\n        };\n      }\n      window.PyViz.comms[comm_id] = comm;\n      return comm;\n    }\n    window.PyViz.comm_manager = new JupyterCommManager();\n    \n\n\nvar JS_MIME_TYPE = 'application/javascript';\nvar HTML_MIME_TYPE = 'text/html';\nvar EXEC_MIME_TYPE = 'application/vnd.holoviews_exec.v0+json';\nvar CLASS_NAME = 'output';\n\n/**\n * Render data to the DOM node\n */\nfunction render(props, node) {\n  var div = document.createElement(\"div\");\n  var script = document.createElement(\"script\");\n  node.appendChild(div);\n  node.appendChild(script);\n}\n\n/**\n * Handle when a new output is added\n */\nfunction handle_add_output(event, handle) {\n  var output_area = handle.output_area;\n  var output = handle.output;\n  if ((output.data == undefined) || (!output.data.hasOwnProperty(EXEC_MIME_TYPE))) {\n    return\n  }\n  var id = output.metadata[EXEC_MIME_TYPE][\"id\"];\n  var toinsert = output_area.element.find(\".\" + CLASS_NAME.split(' ')[0]);\n  if (id !== undefined) {\n    var nchildren = toinsert.length;\n    var html_node = toinsert[nchildren-1].children[0];\n    html_node.innerHTML = output.data[HTML_MIME_TYPE];\n    var scripts = [];\n    var nodelist = html_node.querySelectorAll(\"script\");\n    for (var i in nodelist) {\n      if (nodelist.hasOwnProperty(i)) {\n        scripts.push(nodelist[i])\n      }\n    }\n\n    scripts.forEach( function (oldScript) {\n      var newScript = document.createElement(\"script\");\n      var attrs = [];\n      var nodemap = oldScript.attributes;\n      for (var j in nodemap) {\n        if (nodemap.hasOwnProperty(j)) {\n          attrs.push(nodemap[j])\n        }\n      }\n      attrs.forEach(function(attr) { newScript.setAttribute(attr.name, attr.value) });\n      newScript.appendChild(document.createTextNode(oldScript.innerHTML));\n      oldScript.parentNode.replaceChild(newScript, oldScript);\n    });\n    if (JS_MIME_TYPE in output.data) {\n      toinsert[nchildren-1].children[1].textContent = output.data[JS_MIME_TYPE];\n    }\n    output_area._hv_plot_id = id;\n    if ((window.Bokeh !== undefined) && (id in Bokeh.index)) {\n      window.PyViz.plot_index[id] = Bokeh.index[id];\n    } else {\n      window.PyViz.plot_index[id] = null;\n    }\n  } else if (output.metadata[EXEC_MIME_TYPE][\"server_id\"] !== undefined) {\n    var bk_div = document.createElement(\"div\");\n    bk_div.innerHTML = output.data[HTML_MIME_TYPE];\n    var script_attrs = bk_div.children[0].attributes;\n    for (var i = 0; i < script_attrs.length; i++) {\n      toinsert[toinsert.length - 1].childNodes[1].setAttribute(script_attrs[i].name, script_attrs[i].value);\n    }\n    // store reference to server id on output_area\n    output_area._bokeh_server_id = output.metadata[EXEC_MIME_TYPE][\"server_id\"];\n  }\n}\n\n/**\n * Handle when an output is cleared or removed\n */\nfunction handle_clear_output(event, handle) {\n  var id = handle.cell.output_area._hv_plot_id;\n  var server_id = handle.cell.output_area._bokeh_server_id;\n  if (((id === undefined) || !(id in PyViz.plot_index)) && (server_id !== undefined)) { return; }\n  var comm = window.PyViz.comm_manager.get_client_comm(\"hv-extension-comm\", \"hv-extension-comm\", function () {});\n  if (server_id !== null) {\n    comm.send({event_type: 'server_delete', 'id': server_id});\n    return;\n  } else if (comm !== null) {\n    comm.send({event_type: 'delete', 'id': id});\n  }\n  delete PyViz.plot_index[id];\n  if ((window.Bokeh !== undefined) & (id in window.Bokeh.index)) {\n    var doc = window.Bokeh.index[id].model.document\n    doc.clear();\n    const i = window.Bokeh.documents.indexOf(doc);\n    if (i > -1) {\n      window.Bokeh.documents.splice(i, 1);\n    }\n  }\n}\n\n/**\n * Handle kernel restart event\n */\nfunction handle_kernel_cleanup(event, handle) {\n  delete PyViz.comms[\"hv-extension-comm\"];\n  window.PyViz.plot_index = {}\n}\n\n/**\n * Handle update_display_data messages\n */\nfunction handle_update_output(event, handle) {\n  handle_clear_output(event, {cell: {output_area: handle.output_area}})\n  handle_add_output(event, handle)\n}\n\nfunction register_renderer(events, OutputArea) {\n  function append_mime(data, metadata, element) {\n    // create a DOM node to render to\n    var toinsert = this.create_output_subarea(\n    metadata,\n    CLASS_NAME,\n    EXEC_MIME_TYPE\n    );\n    this.keyboard_manager.register_events(toinsert);\n    // Render to node\n    var props = {data: data, metadata: metadata[EXEC_MIME_TYPE]};\n    render(props, toinsert[0]);\n    element.append(toinsert);\n    return toinsert\n  }\n\n  events.on('output_added.OutputArea', handle_add_output);\n  events.on('output_updated.OutputArea', handle_update_output);\n  events.on('clear_output.CodeCell', handle_clear_output);\n  events.on('delete.Cell', handle_clear_output);\n  events.on('kernel_ready.Kernel', handle_kernel_cleanup);\n\n  OutputArea.prototype.register_mime_type(EXEC_MIME_TYPE, append_mime, {\n    safe: true,\n    index: 0\n  });\n}\n\nif (window.Jupyter !== undefined) {\n  try {\n    var events = require('base/js/events');\n    var OutputArea = require('notebook/js/outputarea').OutputArea;\n    if (OutputArea.prototype.mime_types().indexOf(EXEC_MIME_TYPE) == -1) {\n      register_renderer(events, OutputArea);\n    }\n  } catch(err) {\n  }\n}\n",
                        "application/vnd.holoviews_load.v0+json": ""
                    },
                    "metadata": {},
                    "output_type": "display_data"
                },
                {
                    "data": {
                        "text/html": [
                            "<style>*[data-root-id],\n",
                            "*[data-root-id] > * {\n",
                            "  box-sizing: border-box;\n",
                            "  font-family: var(--jp-ui-font-family);\n",
                            "  font-size: var(--jp-ui-font-size1);\n",
                            "  color: var(--vscode-editor-foreground, var(--jp-ui-font-color1));\n",
                            "}\n",
                            "\n",
                            "/* Override VSCode background color */\n",
                            ".cell-output-ipywidget-background:has(\n",
                            "    > .cell-output-ipywidget-background > .lm-Widget > *[data-root-id]\n",
                            "  ),\n",
                            ".cell-output-ipywidget-background:has(> .lm-Widget > *[data-root-id]) {\n",
                            "  background-color: transparent !important;\n",
                            "}\n",
                            "</style>"
                        ]
                    },
                    "metadata": {},
                    "output_type": "display_data"
                },
                {
                    "data": {
                        "application/vnd.holoviews_exec.v0+json": "",
                        "text/html": [
                            "<div id='p1002'>\n",
                            "  <div id=\"f9e6a6e6-e1aa-4075-8063-7f565c9ad6f3\" data-root-id=\"p1002\" style=\"display: contents;\"></div>\n",
                            "</div>\n",
                            "<script type=\"application/javascript\">(function(root) {\n",
                            "  var docs_json = {\"8310c64f-8f79-49e3-803f-469183566e2a\":{\"version\":\"3.4.2\",\"title\":\"Bokeh Application\",\"roots\":[{\"type\":\"object\",\"name\":\"panel.models.browser.BrowserInfo\",\"id\":\"p1002\"},{\"type\":\"object\",\"name\":\"panel.models.comm_manager.CommManager\",\"id\":\"p1003\",\"attributes\":{\"plot_id\":\"p1002\",\"comm_id\":\"4466906360774fd28617983adc89c6aa\",\"client_comm_id\":\"96bcd39e7d9549f59bbd923fce962e32\"}}],\"defs\":[{\"type\":\"model\",\"name\":\"ReactiveHTML1\"},{\"type\":\"model\",\"name\":\"FlexBox1\",\"properties\":[{\"name\":\"align_content\",\"kind\":\"Any\",\"default\":\"flex-start\"},{\"name\":\"align_items\",\"kind\":\"Any\",\"default\":\"flex-start\"},{\"name\":\"flex_direction\",\"kind\":\"Any\",\"default\":\"row\"},{\"name\":\"flex_wrap\",\"kind\":\"Any\",\"default\":\"wrap\"},{\"name\":\"gap\",\"kind\":\"Any\",\"default\":\"\"},{\"name\":\"justify_content\",\"kind\":\"Any\",\"default\":\"flex-start\"}]},{\"type\":\"model\",\"name\":\"FloatPanel1\",\"properties\":[{\"name\":\"config\",\"kind\":\"Any\",\"default\":{\"type\":\"map\"}},{\"name\":\"contained\",\"kind\":\"Any\",\"default\":true},{\"name\":\"position\",\"kind\":\"Any\",\"default\":\"right-top\"},{\"name\":\"offsetx\",\"kind\":\"Any\",\"default\":null},{\"name\":\"offsety\",\"kind\":\"Any\",\"default\":null},{\"name\":\"theme\",\"kind\":\"Any\",\"default\":\"primary\"},{\"name\":\"status\",\"kind\":\"Any\",\"default\":\"normalized\"}]},{\"type\":\"model\",\"name\":\"GridStack1\",\"properties\":[{\"name\":\"mode\",\"kind\":\"Any\",\"default\":\"warn\"},{\"name\":\"ncols\",\"kind\":\"Any\",\"default\":null},{\"name\":\"nrows\",\"kind\":\"Any\",\"default\":null},{\"name\":\"allow_resize\",\"kind\":\"Any\",\"default\":true},{\"name\":\"allow_drag\",\"kind\":\"Any\",\"default\":true},{\"name\":\"state\",\"kind\":\"Any\",\"default\":[]}]},{\"type\":\"model\",\"name\":\"drag1\",\"properties\":[{\"name\":\"slider_width\",\"kind\":\"Any\",\"default\":5},{\"name\":\"slider_color\",\"kind\":\"Any\",\"default\":\"black\"},{\"name\":\"value\",\"kind\":\"Any\",\"default\":50}]},{\"type\":\"model\",\"name\":\"click1\",\"properties\":[{\"name\":\"terminal_output\",\"kind\":\"Any\",\"default\":\"\"},{\"name\":\"debug_name\",\"kind\":\"Any\",\"default\":\"\"},{\"name\":\"clears\",\"kind\":\"Any\",\"default\":0}]},{\"type\":\"model\",\"name\":\"FastWrapper1\",\"properties\":[{\"name\":\"object\",\"kind\":\"Any\",\"default\":null},{\"name\":\"style\",\"kind\":\"Any\",\"default\":null}]},{\"type\":\"model\",\"name\":\"NotificationAreaBase1\",\"properties\":[{\"name\":\"js_events\",\"kind\":\"Any\",\"default\":{\"type\":\"map\"}},{\"name\":\"position\",\"kind\":\"Any\",\"default\":\"bottom-right\"},{\"name\":\"_clear\",\"kind\":\"Any\",\"default\":0}]},{\"type\":\"model\",\"name\":\"NotificationArea1\",\"properties\":[{\"name\":\"js_events\",\"kind\":\"Any\",\"default\":{\"type\":\"map\"}},{\"name\":\"notifications\",\"kind\":\"Any\",\"default\":[]},{\"name\":\"position\",\"kind\":\"Any\",\"default\":\"bottom-right\"},{\"name\":\"_clear\",\"kind\":\"Any\",\"default\":0},{\"name\":\"types\",\"kind\":\"Any\",\"default\":[{\"type\":\"map\",\"entries\":[[\"type\",\"warning\"],[\"background\",\"#ffc107\"],[\"icon\",{\"type\":\"map\",\"entries\":[[\"className\",\"fas fa-exclamation-triangle\"],[\"tagName\",\"i\"],[\"color\",\"white\"]]}]]},{\"type\":\"map\",\"entries\":[[\"type\",\"info\"],[\"background\",\"#007bff\"],[\"icon\",{\"type\":\"map\",\"entries\":[[\"className\",\"fas fa-info-circle\"],[\"tagName\",\"i\"],[\"color\",\"white\"]]}]]}]}]},{\"type\":\"model\",\"name\":\"Notification\",\"properties\":[{\"name\":\"background\",\"kind\":\"Any\",\"default\":null},{\"name\":\"duration\",\"kind\":\"Any\",\"default\":3000},{\"name\":\"icon\",\"kind\":\"Any\",\"default\":null},{\"name\":\"message\",\"kind\":\"Any\",\"default\":\"\"},{\"name\":\"notification_type\",\"kind\":\"Any\",\"default\":null},{\"name\":\"_destroyed\",\"kind\":\"Any\",\"default\":false}]},{\"type\":\"model\",\"name\":\"TemplateActions1\",\"properties\":[{\"name\":\"open_modal\",\"kind\":\"Any\",\"default\":0},{\"name\":\"close_modal\",\"kind\":\"Any\",\"default\":0}]},{\"type\":\"model\",\"name\":\"BootstrapTemplateActions1\",\"properties\":[{\"name\":\"open_modal\",\"kind\":\"Any\",\"default\":0},{\"name\":\"close_modal\",\"kind\":\"Any\",\"default\":0}]},{\"type\":\"model\",\"name\":\"TemplateEditor1\",\"properties\":[{\"name\":\"layout\",\"kind\":\"Any\",\"default\":[]}]},{\"type\":\"model\",\"name\":\"MaterialTemplateActions1\",\"properties\":[{\"name\":\"open_modal\",\"kind\":\"Any\",\"default\":0},{\"name\":\"close_modal\",\"kind\":\"Any\",\"default\":0}]},{\"type\":\"model\",\"name\":\"copy_to_clipboard1\",\"properties\":[{\"name\":\"fill\",\"kind\":\"Any\",\"default\":\"none\"},{\"name\":\"value\",\"kind\":\"Any\",\"default\":null}]}]}};\n",
                            "  var render_items = [{\"docid\":\"8310c64f-8f79-49e3-803f-469183566e2a\",\"roots\":{\"p1002\":\"f9e6a6e6-e1aa-4075-8063-7f565c9ad6f3\"},\"root_ids\":[\"p1002\"]}];\n",
                            "  var docs = Object.values(docs_json)\n",
                            "  if (!docs) {\n",
                            "    return\n",
                            "  }\n",
                            "  const py_version = docs[0].version.replace('rc', '-rc.').replace('.dev', '-dev.')\n",
                            "  async function embed_document(root) {\n",
                            "    var Bokeh = get_bokeh(root)\n",
                            "    await Bokeh.embed.embed_items_notebook(docs_json, render_items);\n",
                            "    for (const render_item of render_items) {\n",
                            "      for (const root_id of render_item.root_ids) {\n",
                            "\tconst id_el = document.getElementById(root_id)\n",
                            "\tif (id_el.children.length && id_el.children[0].hasAttribute('data-root-id')) {\n",
                            "\t  const root_el = id_el.children[0]\n",
                            "\t  root_el.id = root_el.id + '-rendered'\n",
                            "\t  for (const child of root_el.children) {\n",
                            "            // Ensure JupyterLab does not capture keyboard shortcuts\n",
                            "            // see: https://jupyterlab.readthedocs.io/en/4.1.x/extension/notebook.html#keyboard-interaction-model\n",
                            "\t    child.setAttribute('data-lm-suppress-shortcuts', 'true')\n",
                            "\t  }\n",
                            "\t}\n",
                            "      }\n",
                            "    }\n",
                            "  }\n",
                            "  function get_bokeh(root) {\n",
                            "    if (root.Bokeh === undefined) {\n",
                            "      return null\n",
                            "    } else if (root.Bokeh.version !== py_version) {\n",
                            "      if (root.Bokeh.versions === undefined || !root.Bokeh.versions.has(py_version)) {\n",
                            "\treturn null\n",
                            "      }\n",
                            "      return root.Bokeh.versions.get(py_version);\n",
                            "    } else if (root.Bokeh.version === py_version) {\n",
                            "      return root.Bokeh\n",
                            "    }\n",
                            "    return null\n",
                            "  }\n",
                            "  function is_loaded(root) {\n",
                            "    var Bokeh = get_bokeh(root)\n",
                            "    return (Bokeh != null && Bokeh.Panel !== undefined)\n",
                            "  }\n",
                            "  if (is_loaded(root)) {\n",
                            "    embed_document(root);\n",
                            "  } else {\n",
                            "    var attempts = 0;\n",
                            "    var timer = setInterval(function(root) {\n",
                            "      if (is_loaded(root)) {\n",
                            "        clearInterval(timer);\n",
                            "        embed_document(root);\n",
                            "      } else if (document.readyState == \"complete\") {\n",
                            "        attempts++;\n",
                            "        if (attempts > 200) {\n",
                            "          clearInterval(timer);\n",
                            "\t  var Bokeh = get_bokeh(root)\n",
                            "\t  if (Bokeh == null || Bokeh.Panel == null) {\n",
                            "            console.warn(\"Panel: ERROR: Unable to run Panel code because Bokeh or Panel library is missing\");\n",
                            "\t  } else {\n",
                            "\t    console.warn(\"Panel: WARNING: Attempting to render but not all required libraries could be resolved.\")\n",
                            "\t    embed_document(root)\n",
                            "\t  }\n",
                            "        }\n",
                            "      }\n",
                            "    }, 25, root)\n",
                            "  }\n",
                            "})(window);</script>"
                        ]
                    },
                    "metadata": {
                        "application/vnd.holoviews_exec.v0+json": {
                            "id": "p1002"
                        }
                    },
                    "output_type": "display_data"
                }
            ],
            "source": [
                "import logging\n",
                "\n",
                "import holoviews as hv\n",
                "import hvplot.polars  # noqa\n",
                "import matplotlib.pyplot as plt\n",
                "import polars as pl\n",
                "from polars import col\n",
                "\n",
                "from src.data.database_manager import DatabaseManager\n",
                "from src.log_config import configure_logging\n",
                "from src.plots.utils import prepare_multiline_hvplot\n",
                "\n",
                "configure_logging(stream_level=logging.DEBUG, ignore_libs=(\"Comm\", \"bokeh\", \"tornado\"))\n",
                "logger = logging.getLogger(__name__.rsplit(\".\", maxsplit=1)[-1])\n",
                "\n",
                "\n",
                "hv.output(widget_location=\"bottom\", size=130)"
            ]
        },
        {
            "cell_type": "code",
            "execution_count": 3,
            "metadata": {},
            "outputs": [],
            "source": [
                "db = DatabaseManager()"
            ]
        },
        {
            "cell_type": "code",
            "execution_count": 4,
            "metadata": {},
            "outputs": [],
            "source": [
                "with db:\n",
                "    stimulus = db.get_table(\"Feature_Stimulus\")\n",
                "    labels = db.get_table(\"Labels\")"
            ]
        },
        {
            "cell_type": "code",
            "execution_count": 5,
            "metadata": {},
            "outputs": [],
            "source": [
                "df = labels.filter(col(\"major_decreasing_intervals\") > 0)"
            ]
        },
        {
            "cell_type": "code",
            "execution_count": 6,
            "metadata": {},
            "outputs": [
                {
                    "data": {
                        "text/html": [
                            "<div><style>\n",
                            ".dataframe > thead > tr,\n",
                            ".dataframe > tbody > tr {\n",
                            "  text-align: right;\n",
                            "  white-space: pre-wrap;\n",
                            "}\n",
                            "</style>\n",
                            "<small>shape: (199_183, 15)</small><table border=\"1\" class=\"dataframe\"><thead><tr><th>trial_id</th><th>trial_number</th><th>participant_id</th><th>rownumber</th><th>timestamp</th><th>temperature</th><th>rating</th><th>stimulus_seed</th><th>skin_area</th><th>normalized_timestamp</th><th>decreasing_intervals</th><th>major_decreasing_intervals</th><th>increasing_intervals</th><th>plateau_intervals</th><th>prolonged_minima_intervals</th></tr><tr><td>u16</td><td>u8</td><td>u8</td><td>u32</td><td>f64</td><td>f64</td><td>f64</td><td>u16</td><td>u8</td><td>f64</td><td>i64</td><td>i64</td><td>i64</td><td>i64</td><td>i64</td></tr></thead><tbody><tr><td>1</td><td>1</td><td>1</td><td>690</td><td>363232.998</td><td>0.967948</td><td>1.0</td><td>396</td><td>1</td><td>69008.667</td><td>2</td><td>1</td><td>0</td><td>0</td><td>0</td></tr><tr><td>1</td><td>1</td><td>1</td><td>691</td><td>363331.7346</td><td>0.96789</td><td>1.0</td><td>396</td><td>1</td><td>69107.4036</td><td>2</td><td>1</td><td>0</td><td>0</td><td>0</td></tr><tr><td>1</td><td>1</td><td>1</td><td>692</td><td>363432.4644</td><td>0.967715</td><td>1.0</td><td>396</td><td>1</td><td>69208.1334</td><td>2</td><td>1</td><td>0</td><td>0</td><td>0</td></tr><tr><td>1</td><td>1</td><td>1</td><td>693</td><td>363534.196</td><td>0.967423</td><td>1.0</td><td>396</td><td>1</td><td>69309.865</td><td>2</td><td>1</td><td>0</td><td>0</td><td>0</td></tr><tr><td>1</td><td>1</td><td>1</td><td>694</td><td>363633.926</td><td>0.967015</td><td>1.0</td><td>396</td><td>1</td><td>69409.595</td><td>2</td><td>1</td><td>0</td><td>0</td><td>0</td></tr><tr><td>&hellip;</td><td>&hellip;</td><td>&hellip;</td><td>&hellip;</td><td>&hellip;</td><td>&hellip;</td><td>&hellip;</td><td>&hellip;</td><td>&hellip;</td><td>&hellip;</td><td>&hellip;</td><td>&hellip;</td><td>&hellip;</td><td>&hellip;</td><td>&hellip;</td></tr><tr><td>332</td><td>12</td><td>28</td><td>21477</td><td>2.7637e6</td><td>0.073359</td><td>0.6</td><td>133</td><td>1</td><td>166587.1057</td><td>1659</td><td>996</td><td>0</td><td>0</td><td>0</td></tr><tr><td>332</td><td>12</td><td>28</td><td>21478</td><td>2.7638e6</td><td>0.07307</td><td>0.6</td><td>133</td><td>1</td><td>166686.839</td><td>1659</td><td>996</td><td>0</td><td>0</td><td>0</td></tr><tr><td>332</td><td>12</td><td>28</td><td>21479</td><td>2.7639e6</td><td>0.072897</td><td>0.6</td><td>133</td><td>1</td><td>166787.5704</td><td>1659</td><td>996</td><td>0</td><td>0</td><td>0</td></tr><tr><td>332</td><td>12</td><td>28</td><td>21480</td><td>2.7640e6</td><td>0.072839</td><td>0.6</td><td>133</td><td>1</td><td>166887.304</td><td>1659</td><td>996</td><td>0</td><td>0</td><td>0</td></tr><tr><td>332</td><td>12</td><td>28</td><td>21481</td><td>2.7641e6</td><td>0.072839</td><td>0.6</td><td>133</td><td>1</td><td>166988.0344</td><td>1659</td><td>996</td><td>0</td><td>0</td><td>0</td></tr></tbody></table></div>"
                        ],
                        "text/plain": [
                            "shape: (199_183, 15)\n",
                            "┌──────────┬───────────┬───────────┬───────────┬───┬───────────┬───────────┬───────────┬───────────┐\n",
                            "│ trial_id ┆ trial_num ┆ participa ┆ rownumber ┆ … ┆ major_dec ┆ increasin ┆ plateau_i ┆ prolonged │\n",
                            "│ ---      ┆ ber       ┆ nt_id     ┆ ---       ┆   ┆ reasing_i ┆ g_interva ┆ ntervals  ┆ _minima_i │\n",
                            "│ u16      ┆ ---       ┆ ---       ┆ u32       ┆   ┆ ntervals  ┆ ls        ┆ ---       ┆ ntervals  │\n",
                            "│          ┆ u8        ┆ u8        ┆           ┆   ┆ ---       ┆ ---       ┆ i64       ┆ ---       │\n",
                            "│          ┆           ┆           ┆           ┆   ┆ i64       ┆ i64       ┆           ┆ i64       │\n",
                            "╞══════════╪═══════════╪═══════════╪═══════════╪═══╪═══════════╪═══════════╪═══════════╪═══════════╡\n",
                            "│ 1        ┆ 1         ┆ 1         ┆ 690       ┆ … ┆ 1         ┆ 0         ┆ 0         ┆ 0         │\n",
                            "│ 1        ┆ 1         ┆ 1         ┆ 691       ┆ … ┆ 1         ┆ 0         ┆ 0         ┆ 0         │\n",
                            "│ 1        ┆ 1         ┆ 1         ┆ 692       ┆ … ┆ 1         ┆ 0         ┆ 0         ┆ 0         │\n",
                            "│ 1        ┆ 1         ┆ 1         ┆ 693       ┆ … ┆ 1         ┆ 0         ┆ 0         ┆ 0         │\n",
                            "│ 1        ┆ 1         ┆ 1         ┆ 694       ┆ … ┆ 1         ┆ 0         ┆ 0         ┆ 0         │\n",
                            "│ …        ┆ …         ┆ …         ┆ …         ┆ … ┆ …         ┆ …         ┆ …         ┆ …         │\n",
                            "│ 332      ┆ 12        ┆ 28        ┆ 21477     ┆ … ┆ 996       ┆ 0         ┆ 0         ┆ 0         │\n",
                            "│ 332      ┆ 12        ┆ 28        ┆ 21478     ┆ … ┆ 996       ┆ 0         ┆ 0         ┆ 0         │\n",
                            "│ 332      ┆ 12        ┆ 28        ┆ 21479     ┆ … ┆ 996       ┆ 0         ┆ 0         ┆ 0         │\n",
                            "│ 332      ┆ 12        ┆ 28        ┆ 21480     ┆ … ┆ 996       ┆ 0         ┆ 0         ┆ 0         │\n",
                            "│ 332      ┆ 12        ┆ 28        ┆ 21481     ┆ … ┆ 996       ┆ 0         ┆ 0         ┆ 0         │\n",
                            "└──────────┴───────────┴───────────┴───────────┴───┴───────────┴───────────┴───────────┴───────────┘"
                        ]
                    },
                    "execution_count": 6,
                    "metadata": {},
                    "output_type": "execute_result"
                }
            ],
            "source": [
                "df"
            ]
        },
        {
            "cell_type": "code",
            "execution_count": 7,
            "metadata": {},
            "outputs": [],
            "source": [
                "# Normalize time for major decreasing intervals\n",
                "df = df.with_columns(\n",
                "    (\n",
                "        col(\"timestamp\") - col(\"timestamp\").min().over(\"major_decreasing_intervals\")\n",
                "    ).alias(\"normalized_time\")\n",
                ")"
            ]
        },
        {
            "cell_type": "code",
            "execution_count": 8,
            "metadata": {},
            "outputs": [
                {
                    "data": {
                        "text/html": [
                            "<div><style>\n",
                            ".dataframe > thead > tr,\n",
                            ".dataframe > tbody > tr {\n",
                            "  text-align: right;\n",
                            "  white-space: pre-wrap;\n",
                            "}\n",
                            "</style>\n",
                            "<small>shape: (200_423, 16)</small><table border=\"1\" class=\"dataframe\"><thead><tr><th>trial_id</th><th>trial_number</th><th>participant_id</th><th>rownumber</th><th>timestamp</th><th>temperature</th><th>rating</th><th>stimulus_seed</th><th>skin_area</th><th>normalized_timestamp</th><th>decreasing_intervals</th><th>major_decreasing_intervals</th><th>increasing_intervals</th><th>plateau_intervals</th><th>prolonged_minima_intervals</th><th>normalized_time</th></tr><tr><td>u16</td><td>u8</td><td>u8</td><td>f64</td><td>f64</td><td>f64</td><td>f64</td><td>u16</td><td>f64</td><td>f64</td><td>i64</td><td>i64</td><td>i64</td><td>i64</td><td>i64</td><td>f64</td></tr></thead><tbody><tr><td>1</td><td>1</td><td>1</td><td>690.0</td><td>363232.998</td><td>0.967948</td><td>1.0</td><td>396</td><td>1.0</td><td>69008.667</td><td>2</td><td>1</td><td>0</td><td>0</td><td>0</td><td>0.0</td></tr><tr><td>1</td><td>1</td><td>1</td><td>691.0</td><td>363331.7346</td><td>0.96789</td><td>1.0</td><td>396</td><td>1.0</td><td>69107.4036</td><td>2</td><td>1</td><td>0</td><td>0</td><td>0</td><td>98.7366</td></tr><tr><td>1</td><td>1</td><td>1</td><td>692.0</td><td>363432.4644</td><td>0.967715</td><td>1.0</td><td>396</td><td>1.0</td><td>69208.1334</td><td>2</td><td>1</td><td>0</td><td>0</td><td>0</td><td>199.4664</td></tr><tr><td>1</td><td>1</td><td>1</td><td>693.0</td><td>363534.196</td><td>0.967423</td><td>1.0</td><td>396</td><td>1.0</td><td>69309.865</td><td>2</td><td>1</td><td>0</td><td>0</td><td>0</td><td>301.198</td></tr><tr><td>1</td><td>1</td><td>1</td><td>694.0</td><td>363633.926</td><td>0.967015</td><td>1.0</td><td>396</td><td>1.0</td><td>69409.595</td><td>2</td><td>1</td><td>0</td><td>0</td><td>0</td><td>400.928</td></tr><tr><td>&hellip;</td><td>&hellip;</td><td>&hellip;</td><td>&hellip;</td><td>&hellip;</td><td>&hellip;</td><td>&hellip;</td><td>&hellip;</td><td>&hellip;</td><td>&hellip;</td><td>&hellip;</td><td>&hellip;</td><td>&hellip;</td><td>&hellip;</td><td>&hellip;</td><td>&hellip;</td></tr><tr><td>332</td><td>12</td><td>28</td><td>21478.0</td><td>2.7638e6</td><td>0.07307</td><td>0.6</td><td>133</td><td>1.0</td><td>166686.839</td><td>1659</td><td>996</td><td>0</td><td>0</td><td>0</td><td>19682.1372</td></tr><tr><td>332</td><td>12</td><td>28</td><td>21479.0</td><td>2.7639e6</td><td>0.072897</td><td>0.6</td><td>133</td><td>1.0</td><td>166787.5704</td><td>1659</td><td>996</td><td>0</td><td>0</td><td>0</td><td>19782.8686</td></tr><tr><td>332</td><td>12</td><td>28</td><td>21480.0</td><td>2.7640e6</td><td>0.072839</td><td>0.6</td><td>133</td><td>1.0</td><td>166887.304</td><td>1659</td><td>996</td><td>0</td><td>0</td><td>0</td><td>19882.6022</td></tr><tr><td>332</td><td>12</td><td>28</td><td>21481.0</td><td>2.7641e6</td><td>0.072839</td><td>0.6</td><td>133</td><td>1.0</td><td>166988.0344</td><td>1659</td><td>996</td><td>0</td><td>0</td><td>0</td><td>19983.3326</td></tr><tr><td>332</td><td>12</td><td>28</td><td>NaN</td><td>NaN</td><td>NaN</td><td>NaN</td><td>133</td><td>NaN</td><td>NaN</td><td>1659</td><td>996</td><td>0</td><td>0</td><td>0</td><td>NaN</td></tr></tbody></table></div>"
                        ],
                        "text/plain": [
                            "shape: (200_423, 16)\n",
                            "┌──────────┬───────────┬───────────┬───────────┬───┬───────────┬───────────┬───────────┬───────────┐\n",
                            "│ trial_id ┆ trial_num ┆ participa ┆ rownumber ┆ … ┆ increasin ┆ plateau_i ┆ prolonged ┆ normalize │\n",
                            "│ ---      ┆ ber       ┆ nt_id     ┆ ---       ┆   ┆ g_interva ┆ ntervals  ┆ _minima_i ┆ d_time    │\n",
                            "│ u16      ┆ ---       ┆ ---       ┆ f64       ┆   ┆ ls        ┆ ---       ┆ ntervals  ┆ ---       │\n",
                            "│          ┆ u8        ┆ u8        ┆           ┆   ┆ ---       ┆ i64       ┆ ---       ┆ f64       │\n",
                            "│          ┆           ┆           ┆           ┆   ┆ i64       ┆           ┆ i64       ┆           │\n",
                            "╞══════════╪═══════════╪═══════════╪═══════════╪═══╪═══════════╪═══════════╪═══════════╪═══════════╡\n",
                            "│ 1        ┆ 1         ┆ 1         ┆ 690.0     ┆ … ┆ 0         ┆ 0         ┆ 0         ┆ 0.0       │\n",
                            "│ 1        ┆ 1         ┆ 1         ┆ 691.0     ┆ … ┆ 0         ┆ 0         ┆ 0         ┆ 98.7366   │\n",
                            "│ 1        ┆ 1         ┆ 1         ┆ 692.0     ┆ … ┆ 0         ┆ 0         ┆ 0         ┆ 199.4664  │\n",
                            "│ 1        ┆ 1         ┆ 1         ┆ 693.0     ┆ … ┆ 0         ┆ 0         ┆ 0         ┆ 301.198   │\n",
                            "│ 1        ┆ 1         ┆ 1         ┆ 694.0     ┆ … ┆ 0         ┆ 0         ┆ 0         ┆ 400.928   │\n",
                            "│ …        ┆ …         ┆ …         ┆ …         ┆ … ┆ …         ┆ …         ┆ …         ┆ …         │\n",
                            "│ 332      ┆ 12        ┆ 28        ┆ 21478.0   ┆ … ┆ 0         ┆ 0         ┆ 0         ┆ 19682.137 │\n",
                            "│          ┆           ┆           ┆           ┆   ┆           ┆           ┆           ┆ 2         │\n",
                            "│ 332      ┆ 12        ┆ 28        ┆ 21479.0   ┆ … ┆ 0         ┆ 0         ┆ 0         ┆ 19782.868 │\n",
                            "│          ┆           ┆           ┆           ┆   ┆           ┆           ┆           ┆ 6         │\n",
                            "│ 332      ┆ 12        ┆ 28        ┆ 21480.0   ┆ … ┆ 0         ┆ 0         ┆ 0         ┆ 19882.602 │\n",
                            "│          ┆           ┆           ┆           ┆   ┆           ┆           ┆           ┆ 2         │\n",
                            "│ 332      ┆ 12        ┆ 28        ┆ 21481.0   ┆ … ┆ 0         ┆ 0         ┆ 0         ┆ 19983.332 │\n",
                            "│          ┆           ┆           ┆           ┆   ┆           ┆           ┆           ┆ 6         │\n",
                            "│ 332      ┆ 12        ┆ 28        ┆ NaN       ┆ … ┆ 0         ┆ 0         ┆ 0         ┆ NaN       │\n",
                            "└──────────┴───────────┴───────────┴───────────┴───┴───────────┴───────────┴───────────┴───────────┘"
                        ]
                    },
                    "execution_count": 8,
                    "metadata": {},
                    "output_type": "execute_result"
                }
            ],
            "source": [
                "df = prepare_multiline_hvplot(\n",
                "    df,\n",
                "    time_column=\"normalized_time\",\n",
                "    trial_column=\"major_decreasing_intervals\",\n",
                ")\n",
                "df"
            ]
        },
        {
            "cell_type": "code",
            "execution_count": 9,
            "metadata": {},
            "outputs": [
                {
                    "data": {
                        "application/vnd.jupyter.widget-view+json": {
                            "model_id": "fd000f76fb0d410185936c4f4cf8f249",
                            "version_major": 2,
                            "version_minor": 0
                        },
                        "text/plain": [
                            "BokehModel(combine_events=True, render_bundle={'docs_json': {'b0d53f16-0dde-43f7-8788-7be0807ea9b4': {'version…"
                        ]
                    },
                    "execution_count": 9,
                    "metadata": {},
                    "output_type": "execute_result"
                }
            ],
            "source": [
                "df.hvplot(\n",
                "    x=\"normalized_time\",\n",
                "    y=[\"rating\"],\n",
                "    groupby=\"participant_id\",\n",
                "    kind=\"step\",\n",
                "    width=800,\n",
                "    height=400,\n",
                "    widget_type=\"scrubber\",\n",
                "    widget_location=\"bottom\",\n",
                ")"
            ]
        },
        {
            "cell_type": "code",
            "execution_count": 10,
            "metadata": {},
            "outputs": [],
            "source": [
                "# Add a column for the interval in the trial to be able to group by it\n",
                "# That way we can dicriminate between the different major decreasing intervals in one\n",
                "# stimulus seed\n",
                "df = df.with_columns(\n",
                "    ((col(\"major_decreasing_intervals\") - 1) % 3 + 1).alias(\n",
                "        \"major_decreasing_interval_in_trial\"\n",
                "    )\n",
                ")"
            ]
        },
        {
            "cell_type": "code",
            "execution_count": 11,
            "metadata": {},
            "outputs": [
                {
                    "data": {
                        "application/vnd.jupyter.widget-view+json": {
                            "model_id": "995a7724d1694bddb4bb6e00870396eb",
                            "version_major": 2,
                            "version_minor": 0
                        },
                        "text/plain": [
                            "BokehModel(combine_events=True, render_bundle={'docs_json': {'6f9027a0-5600-485a-a143-a22011878ebd': {'version…"
                        ]
                    },
                    "execution_count": 11,
                    "metadata": {},
                    "output_type": "execute_result"
                }
            ],
            "source": [
                "df.hvplot(\n",
                "    x=\"normalized_time\",\n",
                "    y=[\"rating\"],\n",
                "    groupby=[\"stimulus_seed\", \"major_decreasing_interval_in_trial\"],\n",
                "    kind=\"step\",\n",
                ")"
            ]
        },
        {
            "cell_type": "code",
            "execution_count": 12,
            "metadata": {},
            "outputs": [
                {
                    "data": {
                        "text/html": [
                            "<div><style>\n",
                            ".dataframe > thead > tr,\n",
                            ".dataframe > tbody > tr {\n",
                            "  text-align: right;\n",
                            "  white-space: pre-wrap;\n",
                            "}\n",
                            "</style>\n",
                            "<small>shape: (428, 3)</small><table border=\"1\" class=\"dataframe\"><thead><tr><th>major_decreasing_intervals</th><th>min_rating</th><th>max_rating</th></tr><tr><td>i64</td><td>f64</td><td>f64</td></tr></thead><tbody><tr><td>1</td><td>0.0</td><td>1.0</td></tr><tr><td>2</td><td>0.0</td><td>1.0</td></tr><tr><td>4</td><td>0.0</td><td>1.0</td></tr><tr><td>5</td><td>0.0</td><td>1.0</td></tr><tr><td>6</td><td>0.0</td><td>1.0</td></tr><tr><td>&hellip;</td><td>&hellip;</td><td>&hellip;</td></tr><tr><td>924</td><td>0.0</td><td>1.0</td></tr><tr><td>955</td><td>0.0</td><td>1.0</td></tr><tr><td>975</td><td>0.0</td><td>1.0</td></tr><tr><td>981</td><td>0.0</td><td>1.0</td></tr><tr><td>983</td><td>0.0</td><td>1.0</td></tr></tbody></table></div>"
                        ],
                        "text/plain": [
                            "shape: (428, 3)\n",
                            "┌────────────────────────────┬────────────┬────────────┐\n",
                            "│ major_decreasing_intervals ┆ min_rating ┆ max_rating │\n",
                            "│ ---                        ┆ ---        ┆ ---        │\n",
                            "│ i64                        ┆ f64        ┆ f64        │\n",
                            "╞════════════════════════════╪════════════╪════════════╡\n",
                            "│ 1                          ┆ 0.0        ┆ 1.0        │\n",
                            "│ 2                          ┆ 0.0        ┆ 1.0        │\n",
                            "│ 4                          ┆ 0.0        ┆ 1.0        │\n",
                            "│ 5                          ┆ 0.0        ┆ 1.0        │\n",
                            "│ 6                          ┆ 0.0        ┆ 1.0        │\n",
                            "│ …                          ┆ …          ┆ …          │\n",
                            "│ 924                        ┆ 0.0        ┆ 1.0        │\n",
                            "│ 955                        ┆ 0.0        ┆ 1.0        │\n",
                            "│ 975                        ┆ 0.0        ┆ 1.0        │\n",
                            "│ 981                        ┆ 0.0        ┆ 1.0        │\n",
                            "│ 983                        ┆ 0.0        ┆ 1.0        │\n",
                            "└────────────────────────────┴────────────┴────────────┘"
                        ]
                    },
                    "execution_count": 12,
                    "metadata": {},
                    "output_type": "execute_result"
                }
            ],
            "source": [
                "# filter all intervals out that do not cover the whole rating spectrum ranging from 0 to 100\n",
                "agg_ratings = df.group_by(\"major_decreasing_intervals\", maintain_order=True).agg(\n",
                "    min_rating=col(\"rating\").min(),\n",
                "    max_rating=col(\"rating\").max(),\n",
                ")\n",
                "agg_ratings\n",
                "\n",
                "agg_ratings = agg_ratings.filter(col(\"min_rating\") == 0).filter(col(\"max_rating\") == 1)\n",
                "agg_ratings"
            ]
        }
    ],
    "metadata": {
        "kernelspec": {
            "display_name": "pain",
            "language": "python",
            "name": "python3"
        },
        "language_info": {
            "codemirror_mode": {
                "name": "ipython",
                "version": 3
            },
            "file_extension": ".py",
            "mimetype": "text/x-python",
            "name": "python",
            "nbconvert_exporter": "python",
            "pygments_lexer": "ipython3",
            "version": "3.12.10"
        }
    },
    "nbformat": 4,
    "nbformat_minor": 2
}
