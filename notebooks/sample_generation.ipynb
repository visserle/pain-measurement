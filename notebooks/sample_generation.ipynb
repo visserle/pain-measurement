{
    "cells": [
        {
            "cell_type": "code",
            "execution_count": 1,
            "metadata": {},
            "outputs": [],
            "source": [
                "%%capture\n",
                "from pathlib import Path\n",
                "\n",
                "if Path.cwd().stem == \"notebooks\":\n",
                "    %cd ..\n",
                "    %load_ext autoreload\n",
                "    %autoreload 2"
            ]
        },
        {
            "cell_type": "code",
            "execution_count": 2,
            "metadata": {},
            "outputs": [
                {
                    "data": {
                        "text/html": [
                            "<script type=\"esms-options\">{\"shimMode\": true}</script><style>*[data-root-id],\n",
                            "*[data-root-id] > * {\n",
                            "  box-sizing: border-box;\n",
                            "  font-family: var(--jp-ui-font-family);\n",
                            "  font-size: var(--jp-ui-font-size1);\n",
                            "  color: var(--vscode-editor-foreground, var(--jp-ui-font-color1));\n",
                            "}\n",
                            "\n",
                            "/* Override VSCode background color */\n",
                            ".cell-output-ipywidget-background:has(\n",
                            "    > .cell-output-ipywidget-background > .lm-Widget > *[data-root-id]\n",
                            "  ),\n",
                            ".cell-output-ipywidget-background:has(> .lm-Widget > *[data-root-id]) {\n",
                            "  background-color: transparent !important;\n",
                            "}\n",
                            "</style>"
                        ]
                    },
                    "metadata": {},
                    "output_type": "display_data"
                },
                {
                    "data": {
                        "application/javascript": "(function(root) {\n  function now() {\n    return new Date();\n  }\n\n  const force = true;\n  const py_version = '3.7.2'.replace('rc', '-rc.').replace('.dev', '-dev.');\n  const reloading = false;\n  const Bokeh = root.Bokeh;\n\n  // Set a timeout for this load but only if we are not already initializing\n  if (typeof (root._bokeh_timeout) === \"undefined\" || (force || !root._bokeh_is_initializing)) {\n    root._bokeh_timeout = Date.now() + 5000;\n    root._bokeh_failed_load = false;\n  }\n\n  function run_callbacks() {\n    try {\n      root._bokeh_onload_callbacks.forEach(function(callback) {\n        if (callback != null)\n          callback();\n      });\n    } finally {\n      delete root._bokeh_onload_callbacks;\n    }\n    console.debug(\"Bokeh: all callbacks have finished\");\n  }\n\n  function load_libs(css_urls, js_urls, js_modules, js_exports, callback) {\n    if (css_urls == null) css_urls = [];\n    if (js_urls == null) js_urls = [];\n    if (js_modules == null) js_modules = [];\n    if (js_exports == null) js_exports = {};\n\n    root._bokeh_onload_callbacks.push(callback);\n\n    if (root._bokeh_is_loading > 0) {\n      // Don't load bokeh if it is still initializing\n      console.debug(\"Bokeh: BokehJS is being loaded, scheduling callback at\", now());\n      return null;\n    } else if (js_urls.length === 0 && js_modules.length === 0 && Object.keys(js_exports).length === 0) {\n      // There is nothing to load\n      run_callbacks();\n      return null;\n    }\n\n    function on_load() {\n      root._bokeh_is_loading--;\n      if (root._bokeh_is_loading === 0) {\n        console.debug(\"Bokeh: all BokehJS libraries/stylesheets loaded\");\n        run_callbacks()\n      }\n    }\n    window._bokeh_on_load = on_load\n\n    function on_error(e) {\n      const src_el = e.srcElement\n      console.error(\"failed to load \" + (src_el.href || src_el.src));\n    }\n\n    const skip = [];\n    if (window.requirejs) {\n      window.requirejs.config({'packages': {}, 'paths': {}, 'shim': {}});\n      root._bokeh_is_loading = css_urls.length + 0;\n    } else {\n      root._bokeh_is_loading = css_urls.length + js_urls.length + js_modules.length + Object.keys(js_exports).length;\n    }\n\n    const existing_stylesheets = []\n    const links = document.getElementsByTagName('link')\n    for (let i = 0; i < links.length; i++) {\n      const link = links[i]\n      if (link.href != null) {\n        existing_stylesheets.push(link.href)\n      }\n    }\n    for (let i = 0; i < css_urls.length; i++) {\n      const url = css_urls[i];\n      const escaped = encodeURI(url)\n      if (existing_stylesheets.indexOf(escaped) !== -1) {\n        on_load()\n        continue;\n      }\n      const element = document.createElement(\"link\");\n      element.onload = on_load;\n      element.onerror = on_error;\n      element.rel = \"stylesheet\";\n      element.type = \"text/css\";\n      element.href = url;\n      console.debug(\"Bokeh: injecting link tag for BokehJS stylesheet: \", url);\n      document.body.appendChild(element);\n    }    var existing_scripts = []\n    const scripts = document.getElementsByTagName('script')\n    for (let i = 0; i < scripts.length; i++) {\n      var script = scripts[i]\n      if (script.src != null) {\n        existing_scripts.push(script.src)\n      }\n    }\n    for (let i = 0; i < js_urls.length; i++) {\n      const url = js_urls[i];\n      const escaped = encodeURI(url)\n      if (skip.indexOf(escaped) !== -1 || existing_scripts.indexOf(escaped) !== -1) {\n        if (!window.requirejs) {\n          on_load();\n        }\n        continue;\n      }\n      const element = document.createElement('script');\n      element.onload = on_load;\n      element.onerror = on_error;\n      element.async = false;\n      element.src = url;\n      console.debug(\"Bokeh: injecting script tag for BokehJS library: \", url);\n      document.head.appendChild(element);\n    }\n    for (let i = 0; i < js_modules.length; i++) {\n      const url = js_modules[i];\n      const escaped = encodeURI(url)\n      if (skip.indexOf(escaped) !== -1 || existing_scripts.indexOf(escaped) !== -1) {\n        if (!window.requirejs) {\n          on_load();\n        }\n        continue;\n      }\n      var element = document.createElement('script');\n      element.onload = on_load;\n      element.onerror = on_error;\n      element.async = false;\n      element.src = url;\n      element.type = \"module\";\n      console.debug(\"Bokeh: injecting script tag for BokehJS library: \", url);\n      document.head.appendChild(element);\n    }\n    for (const name in js_exports) {\n      const url = js_exports[name];\n      const escaped = encodeURI(url)\n      if (skip.indexOf(escaped) >= 0 || root[name] != null) {\n        if (!window.requirejs) {\n          on_load();\n        }\n        continue;\n      }\n      var element = document.createElement('script');\n      element.onerror = on_error;\n      element.async = false;\n      element.type = \"module\";\n      console.debug(\"Bokeh: injecting script tag for BokehJS library: \", url);\n      element.textContent = `\n      import ${name} from \"${url}\"\n      window.${name} = ${name}\n      window._bokeh_on_load()\n      `\n      document.head.appendChild(element);\n    }\n    if (!js_urls.length && !js_modules.length) {\n      on_load()\n    }\n  };\n\n  function inject_raw_css(css) {\n    const element = document.createElement(\"style\");\n    element.appendChild(document.createTextNode(css));\n    document.body.appendChild(element);\n  }\n\n  const js_urls = [\"https://cdn.holoviz.org/panel/1.6.2/dist/bundled/reactiveesm/es-module-shims@^1.10.0/dist/es-module-shims.min.js\", \"https://cdn.bokeh.org/bokeh/release/bokeh-3.7.2.min.js\", \"https://cdn.bokeh.org/bokeh/release/bokeh-gl-3.7.2.min.js\", \"https://cdn.bokeh.org/bokeh/release/bokeh-widgets-3.7.2.min.js\", \"https://cdn.bokeh.org/bokeh/release/bokeh-tables-3.7.2.min.js\", \"https://cdn.holoviz.org/panel/1.6.2/dist/panel.min.js\"];\n  const js_modules = [];\n  const js_exports = {};\n  const css_urls = [];\n  const inline_js = [    function(Bokeh) {\n      Bokeh.set_log_level(\"info\");\n    },\nfunction(Bokeh) {} // ensure no trailing comma for IE\n  ];\n\n  function run_inline_js() {\n    if ((root.Bokeh !== undefined) || (force === true)) {\n      for (let i = 0; i < inline_js.length; i++) {\n        try {\n          inline_js[i].call(root, root.Bokeh);\n        } catch(e) {\n          if (!reloading) {\n            throw e;\n          }\n        }\n      }\n      // Cache old bokeh versions\n      if (Bokeh != undefined && !reloading) {\n        var NewBokeh = root.Bokeh;\n        if (Bokeh.versions === undefined) {\n          Bokeh.versions = new Map();\n        }\n        if (NewBokeh.version !== Bokeh.version) {\n          Bokeh.versions.set(NewBokeh.version, NewBokeh)\n        }\n        root.Bokeh = Bokeh;\n      }\n    } else if (Date.now() < root._bokeh_timeout) {\n      setTimeout(run_inline_js, 100);\n    } else if (!root._bokeh_failed_load) {\n      console.log(\"Bokeh: BokehJS failed to load within specified timeout.\");\n      root._bokeh_failed_load = true;\n    }\n    root._bokeh_is_initializing = false\n  }\n\n  function load_or_wait() {\n    // Implement a backoff loop that tries to ensure we do not load multiple\n    // versions of Bokeh and its dependencies at the same time.\n    // In recent versions we use the root._bokeh_is_initializing flag\n    // to determine whether there is an ongoing attempt to initialize\n    // bokeh, however for backward compatibility we also try to ensure\n    // that we do not start loading a newer (Panel>=1.0 and Bokeh>3) version\n    // before older versions are fully initialized.\n    if (root._bokeh_is_initializing && Date.now() > root._bokeh_timeout) {\n      // If the timeout and bokeh was not successfully loaded we reset\n      // everything and try loading again\n      root._bokeh_timeout = Date.now() + 5000;\n      root._bokeh_is_initializing = false;\n      root._bokeh_onload_callbacks = undefined;\n      root._bokeh_is_loading = 0\n      console.log(\"Bokeh: BokehJS was loaded multiple times but one version failed to initialize.\");\n      load_or_wait();\n    } else if (root._bokeh_is_initializing || (typeof root._bokeh_is_initializing === \"undefined\" && root._bokeh_onload_callbacks !== undefined)) {\n      setTimeout(load_or_wait, 100);\n    } else {\n      root._bokeh_is_initializing = true\n      root._bokeh_onload_callbacks = []\n      const bokeh_loaded = root.Bokeh != null && (root.Bokeh.version === py_version || (root.Bokeh.versions !== undefined && root.Bokeh.versions.has(py_version)));\n      if (!reloading && !bokeh_loaded) {\n        if (root.Bokeh) {\n          root.Bokeh = undefined;\n        }\n        console.debug(\"Bokeh: BokehJS not loaded, scheduling load and callback at\", now());\n      }\n      load_libs(css_urls, js_urls, js_modules, js_exports, function() {\n        console.debug(\"Bokeh: BokehJS plotting callback run at\", now());\n        run_inline_js();\n      });\n    }\n  }\n  // Give older versions of the autoload script a head-start to ensure\n  // they initialize before we start loading newer version.\n  setTimeout(load_or_wait, 100)\n}(window));",
                        "application/vnd.holoviews_load.v0+json": ""
                    },
                    "metadata": {},
                    "output_type": "display_data"
                },
                {
                    "data": {
                        "application/javascript": "\nif ((window.PyViz === undefined) || (window.PyViz instanceof HTMLElement)) {\n  window.PyViz = {comms: {}, comm_status:{}, kernels:{}, receivers: {}, plot_index: []}\n}\n\n\n    function JupyterCommManager() {\n    }\n\n    JupyterCommManager.prototype.register_target = function(plot_id, comm_id, msg_handler) {\n      if (window.comm_manager || ((window.Jupyter !== undefined) && (Jupyter.notebook.kernel != null))) {\n        var comm_manager = window.comm_manager || Jupyter.notebook.kernel.comm_manager;\n        comm_manager.register_target(comm_id, function(comm) {\n          comm.on_msg(msg_handler);\n        });\n      } else if ((plot_id in window.PyViz.kernels) && (window.PyViz.kernels[plot_id])) {\n        window.PyViz.kernels[plot_id].registerCommTarget(comm_id, function(comm) {\n          comm.onMsg = msg_handler;\n        });\n      } else if (typeof google != 'undefined' && google.colab.kernel != null) {\n        google.colab.kernel.comms.registerTarget(comm_id, (comm) => {\n          var messages = comm.messages[Symbol.asyncIterator]();\n          function processIteratorResult(result) {\n            var message = result.value;\n            console.log(message)\n            var content = {data: message.data, comm_id};\n            var buffers = []\n            for (var buffer of message.buffers || []) {\n              buffers.push(new DataView(buffer))\n            }\n            var metadata = message.metadata || {};\n            var msg = {content, buffers, metadata}\n            msg_handler(msg);\n            return messages.next().then(processIteratorResult);\n          }\n          return messages.next().then(processIteratorResult);\n        })\n      }\n    }\n\n    JupyterCommManager.prototype.get_client_comm = function(plot_id, comm_id, msg_handler) {\n      if (comm_id in window.PyViz.comms) {\n        return window.PyViz.comms[comm_id];\n      } else if (window.comm_manager || ((window.Jupyter !== undefined) && (Jupyter.notebook.kernel != null))) {\n        var comm_manager = window.comm_manager || Jupyter.notebook.kernel.comm_manager;\n        var comm = comm_manager.new_comm(comm_id, {}, {}, {}, comm_id);\n        if (msg_handler) {\n          comm.on_msg(msg_handler);\n        }\n      } else if ((plot_id in window.PyViz.kernels) && (window.PyViz.kernels[plot_id])) {\n        var comm = window.PyViz.kernels[plot_id].connectToComm(comm_id);\n        comm.open();\n        if (msg_handler) {\n          comm.onMsg = msg_handler;\n        }\n      } else if (typeof google != 'undefined' && google.colab.kernel != null) {\n        var comm_promise = google.colab.kernel.comms.open(comm_id)\n        comm_promise.then((comm) => {\n          window.PyViz.comms[comm_id] = comm;\n          if (msg_handler) {\n            var messages = comm.messages[Symbol.asyncIterator]();\n            function processIteratorResult(result) {\n              var message = result.value;\n              var content = {data: message.data};\n              var metadata = message.metadata || {comm_id};\n              var msg = {content, metadata}\n              msg_handler(msg);\n              return messages.next().then(processIteratorResult);\n            }\n            return messages.next().then(processIteratorResult);\n          }\n        })\n        var sendClosure = (data, metadata, buffers, disposeOnDone) => {\n          return comm_promise.then((comm) => {\n            comm.send(data, metadata, buffers, disposeOnDone);\n          });\n        };\n        var comm = {\n          send: sendClosure\n        };\n      }\n      window.PyViz.comms[comm_id] = comm;\n      return comm;\n    }\n    window.PyViz.comm_manager = new JupyterCommManager();\n    \n\n\nvar JS_MIME_TYPE = 'application/javascript';\nvar HTML_MIME_TYPE = 'text/html';\nvar EXEC_MIME_TYPE = 'application/vnd.holoviews_exec.v0+json';\nvar CLASS_NAME = 'output';\n\n/**\n * Render data to the DOM node\n */\nfunction render(props, node) {\n  var div = document.createElement(\"div\");\n  var script = document.createElement(\"script\");\n  node.appendChild(div);\n  node.appendChild(script);\n}\n\n/**\n * Handle when a new output is added\n */\nfunction handle_add_output(event, handle) {\n  var output_area = handle.output_area;\n  var output = handle.output;\n  if ((output.data == undefined) || (!output.data.hasOwnProperty(EXEC_MIME_TYPE))) {\n    return\n  }\n  var id = output.metadata[EXEC_MIME_TYPE][\"id\"];\n  var toinsert = output_area.element.find(\".\" + CLASS_NAME.split(' ')[0]);\n  if (id !== undefined) {\n    var nchildren = toinsert.length;\n    var html_node = toinsert[nchildren-1].children[0];\n    html_node.innerHTML = output.data[HTML_MIME_TYPE];\n    var scripts = [];\n    var nodelist = html_node.querySelectorAll(\"script\");\n    for (var i in nodelist) {\n      if (nodelist.hasOwnProperty(i)) {\n        scripts.push(nodelist[i])\n      }\n    }\n\n    scripts.forEach( function (oldScript) {\n      var newScript = document.createElement(\"script\");\n      var attrs = [];\n      var nodemap = oldScript.attributes;\n      for (var j in nodemap) {\n        if (nodemap.hasOwnProperty(j)) {\n          attrs.push(nodemap[j])\n        }\n      }\n      attrs.forEach(function(attr) { newScript.setAttribute(attr.name, attr.value) });\n      newScript.appendChild(document.createTextNode(oldScript.innerHTML));\n      oldScript.parentNode.replaceChild(newScript, oldScript);\n    });\n    if (JS_MIME_TYPE in output.data) {\n      toinsert[nchildren-1].children[1].textContent = output.data[JS_MIME_TYPE];\n    }\n    output_area._hv_plot_id = id;\n    if ((window.Bokeh !== undefined) && (id in Bokeh.index)) {\n      window.PyViz.plot_index[id] = Bokeh.index[id];\n    } else {\n      window.PyViz.plot_index[id] = null;\n    }\n  } else if (output.metadata[EXEC_MIME_TYPE][\"server_id\"] !== undefined) {\n    var bk_div = document.createElement(\"div\");\n    bk_div.innerHTML = output.data[HTML_MIME_TYPE];\n    var script_attrs = bk_div.children[0].attributes;\n    for (var i = 0; i < script_attrs.length; i++) {\n      toinsert[toinsert.length - 1].childNodes[1].setAttribute(script_attrs[i].name, script_attrs[i].value);\n    }\n    // store reference to server id on output_area\n    output_area._bokeh_server_id = output.metadata[EXEC_MIME_TYPE][\"server_id\"];\n  }\n}\n\n/**\n * Handle when an output is cleared or removed\n */\nfunction handle_clear_output(event, handle) {\n  var id = handle.cell.output_area._hv_plot_id;\n  var server_id = handle.cell.output_area._bokeh_server_id;\n  if (((id === undefined) || !(id in PyViz.plot_index)) && (server_id !== undefined)) { return; }\n  var comm = window.PyViz.comm_manager.get_client_comm(\"hv-extension-comm\", \"hv-extension-comm\", function () {});\n  if (server_id !== null) {\n    comm.send({event_type: 'server_delete', 'id': server_id});\n    return;\n  } else if (comm !== null) {\n    comm.send({event_type: 'delete', 'id': id});\n  }\n  delete PyViz.plot_index[id];\n  if ((window.Bokeh !== undefined) & (id in window.Bokeh.index)) {\n    var doc = window.Bokeh.index[id].model.document\n    doc.clear();\n    const i = window.Bokeh.documents.indexOf(doc);\n    if (i > -1) {\n      window.Bokeh.documents.splice(i, 1);\n    }\n  }\n}\n\n/**\n * Handle kernel restart event\n */\nfunction handle_kernel_cleanup(event, handle) {\n  delete PyViz.comms[\"hv-extension-comm\"];\n  window.PyViz.plot_index = {}\n}\n\n/**\n * Handle update_display_data messages\n */\nfunction handle_update_output(event, handle) {\n  handle_clear_output(event, {cell: {output_area: handle.output_area}})\n  handle_add_output(event, handle)\n}\n\nfunction register_renderer(events, OutputArea) {\n  function append_mime(data, metadata, element) {\n    // create a DOM node to render to\n    var toinsert = this.create_output_subarea(\n    metadata,\n    CLASS_NAME,\n    EXEC_MIME_TYPE\n    );\n    this.keyboard_manager.register_events(toinsert);\n    // Render to node\n    var props = {data: data, metadata: metadata[EXEC_MIME_TYPE]};\n    render(props, toinsert[0]);\n    element.append(toinsert);\n    return toinsert\n  }\n\n  events.on('output_added.OutputArea', handle_add_output);\n  events.on('output_updated.OutputArea', handle_update_output);\n  events.on('clear_output.CodeCell', handle_clear_output);\n  events.on('delete.Cell', handle_clear_output);\n  events.on('kernel_ready.Kernel', handle_kernel_cleanup);\n\n  OutputArea.prototype.register_mime_type(EXEC_MIME_TYPE, append_mime, {\n    safe: true,\n    index: 0\n  });\n}\n\nif (window.Jupyter !== undefined) {\n  try {\n    var events = require('base/js/events');\n    var OutputArea = require('notebook/js/outputarea').OutputArea;\n    if (OutputArea.prototype.mime_types().indexOf(EXEC_MIME_TYPE) == -1) {\n      register_renderer(events, OutputArea);\n    }\n  } catch(err) {\n  }\n}\n",
                        "application/vnd.holoviews_load.v0+json": ""
                    },
                    "metadata": {},
                    "output_type": "display_data"
                },
                {
                    "data": {
                        "application/vnd.holoviews_exec.v0+json": "",
                        "text/html": [
                            "<div id='93ecb04e-adbc-44dc-82e5-cf56921c610a'>\n",
                            "  <div id=\"f88b1ce0-6429-42b5-afc1-80795d22b0c1\" data-root-id=\"93ecb04e-adbc-44dc-82e5-cf56921c610a\" style=\"display: contents;\"></div>\n",
                            "</div>\n",
                            "<script type=\"application/javascript\">(function(root) {\n",
                            "  var docs_json = {\"d519526e-5bad-4c6e-aaa3-f48c36c1abfe\":{\"version\":\"3.7.2\",\"title\":\"Bokeh Application\",\"roots\":[{\"type\":\"object\",\"name\":\"panel.models.browser.BrowserInfo\",\"id\":\"93ecb04e-adbc-44dc-82e5-cf56921c610a\"},{\"type\":\"object\",\"name\":\"panel.models.comm_manager.CommManager\",\"id\":\"25ceed78-9725-4b72-9059-cec7a1980503\",\"attributes\":{\"plot_id\":\"93ecb04e-adbc-44dc-82e5-cf56921c610a\",\"comm_id\":\"af19a472994f4a13bb071ef5acb78895\",\"client_comm_id\":\"69bdda4ac7784fa09ac4aee803570e4a\"}}],\"defs\":[{\"type\":\"model\",\"name\":\"ReactiveHTML1\"},{\"type\":\"model\",\"name\":\"FlexBox1\",\"properties\":[{\"name\":\"align_content\",\"kind\":\"Any\",\"default\":\"flex-start\"},{\"name\":\"align_items\",\"kind\":\"Any\",\"default\":\"flex-start\"},{\"name\":\"flex_direction\",\"kind\":\"Any\",\"default\":\"row\"},{\"name\":\"flex_wrap\",\"kind\":\"Any\",\"default\":\"wrap\"},{\"name\":\"gap\",\"kind\":\"Any\",\"default\":\"\"},{\"name\":\"justify_content\",\"kind\":\"Any\",\"default\":\"flex-start\"}]},{\"type\":\"model\",\"name\":\"FloatPanel1\",\"properties\":[{\"name\":\"config\",\"kind\":\"Any\",\"default\":{\"type\":\"map\"}},{\"name\":\"contained\",\"kind\":\"Any\",\"default\":true},{\"name\":\"position\",\"kind\":\"Any\",\"default\":\"right-top\"},{\"name\":\"offsetx\",\"kind\":\"Any\",\"default\":null},{\"name\":\"offsety\",\"kind\":\"Any\",\"default\":null},{\"name\":\"theme\",\"kind\":\"Any\",\"default\":\"primary\"},{\"name\":\"status\",\"kind\":\"Any\",\"default\":\"normalized\"}]},{\"type\":\"model\",\"name\":\"GridStack1\",\"properties\":[{\"name\":\"ncols\",\"kind\":\"Any\",\"default\":null},{\"name\":\"nrows\",\"kind\":\"Any\",\"default\":null},{\"name\":\"allow_resize\",\"kind\":\"Any\",\"default\":true},{\"name\":\"allow_drag\",\"kind\":\"Any\",\"default\":true},{\"name\":\"state\",\"kind\":\"Any\",\"default\":[]}]},{\"type\":\"model\",\"name\":\"drag1\",\"properties\":[{\"name\":\"slider_width\",\"kind\":\"Any\",\"default\":5},{\"name\":\"slider_color\",\"kind\":\"Any\",\"default\":\"black\"},{\"name\":\"value\",\"kind\":\"Any\",\"default\":50}]},{\"type\":\"model\",\"name\":\"click1\",\"properties\":[{\"name\":\"terminal_output\",\"kind\":\"Any\",\"default\":\"\"},{\"name\":\"debug_name\",\"kind\":\"Any\",\"default\":\"\"},{\"name\":\"clears\",\"kind\":\"Any\",\"default\":0}]},{\"type\":\"model\",\"name\":\"FastWrapper1\",\"properties\":[{\"name\":\"object\",\"kind\":\"Any\",\"default\":null},{\"name\":\"style\",\"kind\":\"Any\",\"default\":null}]},{\"type\":\"model\",\"name\":\"NotificationArea1\",\"properties\":[{\"name\":\"js_events\",\"kind\":\"Any\",\"default\":{\"type\":\"map\"}},{\"name\":\"max_notifications\",\"kind\":\"Any\",\"default\":5},{\"name\":\"notifications\",\"kind\":\"Any\",\"default\":[]},{\"name\":\"position\",\"kind\":\"Any\",\"default\":\"bottom-right\"},{\"name\":\"_clear\",\"kind\":\"Any\",\"default\":0},{\"name\":\"types\",\"kind\":\"Any\",\"default\":[{\"type\":\"map\",\"entries\":[[\"type\",\"warning\"],[\"background\",\"#ffc107\"],[\"icon\",{\"type\":\"map\",\"entries\":[[\"className\",\"fas fa-exclamation-triangle\"],[\"tagName\",\"i\"],[\"color\",\"white\"]]}]]},{\"type\":\"map\",\"entries\":[[\"type\",\"info\"],[\"background\",\"#007bff\"],[\"icon\",{\"type\":\"map\",\"entries\":[[\"className\",\"fas fa-info-circle\"],[\"tagName\",\"i\"],[\"color\",\"white\"]]}]]}]}]},{\"type\":\"model\",\"name\":\"Notification\",\"properties\":[{\"name\":\"background\",\"kind\":\"Any\",\"default\":null},{\"name\":\"duration\",\"kind\":\"Any\",\"default\":3000},{\"name\":\"icon\",\"kind\":\"Any\",\"default\":null},{\"name\":\"message\",\"kind\":\"Any\",\"default\":\"\"},{\"name\":\"notification_type\",\"kind\":\"Any\",\"default\":null},{\"name\":\"_rendered\",\"kind\":\"Any\",\"default\":false},{\"name\":\"_destroyed\",\"kind\":\"Any\",\"default\":false}]},{\"type\":\"model\",\"name\":\"TemplateActions1\",\"properties\":[{\"name\":\"open_modal\",\"kind\":\"Any\",\"default\":0},{\"name\":\"close_modal\",\"kind\":\"Any\",\"default\":0}]},{\"type\":\"model\",\"name\":\"BootstrapTemplateActions1\",\"properties\":[{\"name\":\"open_modal\",\"kind\":\"Any\",\"default\":0},{\"name\":\"close_modal\",\"kind\":\"Any\",\"default\":0}]},{\"type\":\"model\",\"name\":\"TemplateEditor1\",\"properties\":[{\"name\":\"layout\",\"kind\":\"Any\",\"default\":[]}]},{\"type\":\"model\",\"name\":\"MaterialTemplateActions1\",\"properties\":[{\"name\":\"open_modal\",\"kind\":\"Any\",\"default\":0},{\"name\":\"close_modal\",\"kind\":\"Any\",\"default\":0}]},{\"type\":\"model\",\"name\":\"ReactiveESM1\",\"properties\":[{\"name\":\"esm_constants\",\"kind\":\"Any\",\"default\":{\"type\":\"map\"}}]},{\"type\":\"model\",\"name\":\"JSComponent1\",\"properties\":[{\"name\":\"esm_constants\",\"kind\":\"Any\",\"default\":{\"type\":\"map\"}}]},{\"type\":\"model\",\"name\":\"ReactComponent1\",\"properties\":[{\"name\":\"esm_constants\",\"kind\":\"Any\",\"default\":{\"type\":\"map\"}}]},{\"type\":\"model\",\"name\":\"AnyWidgetComponent1\",\"properties\":[{\"name\":\"esm_constants\",\"kind\":\"Any\",\"default\":{\"type\":\"map\"}}]},{\"type\":\"model\",\"name\":\"request_value1\",\"properties\":[{\"name\":\"fill\",\"kind\":\"Any\",\"default\":\"none\"},{\"name\":\"_synced\",\"kind\":\"Any\",\"default\":null},{\"name\":\"_request_sync\",\"kind\":\"Any\",\"default\":0}]}]}};\n",
                            "  var render_items = [{\"docid\":\"d519526e-5bad-4c6e-aaa3-f48c36c1abfe\",\"roots\":{\"93ecb04e-adbc-44dc-82e5-cf56921c610a\":\"f88b1ce0-6429-42b5-afc1-80795d22b0c1\"},\"root_ids\":[\"93ecb04e-adbc-44dc-82e5-cf56921c610a\"]}];\n",
                            "  var docs = Object.values(docs_json)\n",
                            "  if (!docs) {\n",
                            "    return\n",
                            "  }\n",
                            "  const py_version = docs[0].version.replace('rc', '-rc.').replace('.dev', '-dev.')\n",
                            "  async function embed_document(root) {\n",
                            "    var Bokeh = get_bokeh(root)\n",
                            "    await Bokeh.embed.embed_items_notebook(docs_json, render_items);\n",
                            "    for (const render_item of render_items) {\n",
                            "      for (const root_id of render_item.root_ids) {\n",
                            "\tconst id_el = document.getElementById(root_id)\n",
                            "\tif (id_el.children.length && id_el.children[0].hasAttribute('data-root-id')) {\n",
                            "\t  const root_el = id_el.children[0]\n",
                            "\t  root_el.id = root_el.id + '-rendered'\n",
                            "\t  for (const child of root_el.children) {\n",
                            "            // Ensure JupyterLab does not capture keyboard shortcuts\n",
                            "            // see: https://jupyterlab.readthedocs.io/en/4.1.x/extension/notebook.html#keyboard-interaction-model\n",
                            "\t    child.setAttribute('data-lm-suppress-shortcuts', 'true')\n",
                            "\t  }\n",
                            "\t}\n",
                            "      }\n",
                            "    }\n",
                            "  }\n",
                            "  function get_bokeh(root) {\n",
                            "    if (root.Bokeh === undefined) {\n",
                            "      return null\n",
                            "    } else if (root.Bokeh.version !== py_version) {\n",
                            "      if (root.Bokeh.versions === undefined || !root.Bokeh.versions.has(py_version)) {\n",
                            "\treturn null\n",
                            "      }\n",
                            "      return root.Bokeh.versions.get(py_version);\n",
                            "    } else if (root.Bokeh.version === py_version) {\n",
                            "      return root.Bokeh\n",
                            "    }\n",
                            "    return null\n",
                            "  }\n",
                            "  function is_loaded(root) {\n",
                            "    var Bokeh = get_bokeh(root)\n",
                            "    return (Bokeh != null && Bokeh.Panel !== undefined)\n",
                            "  }\n",
                            "  if (is_loaded(root)) {\n",
                            "    embed_document(root);\n",
                            "  } else {\n",
                            "    var attempts = 0;\n",
                            "    var timer = setInterval(function(root) {\n",
                            "      if (is_loaded(root)) {\n",
                            "        clearInterval(timer);\n",
                            "        embed_document(root);\n",
                            "      } else if (document.readyState == \"complete\") {\n",
                            "        attempts++;\n",
                            "        if (attempts > 200) {\n",
                            "          clearInterval(timer);\n",
                            "\t  var Bokeh = get_bokeh(root)\n",
                            "\t  if (Bokeh == null || Bokeh.Panel == null) {\n",
                            "            console.warn(\"Panel: ERROR: Unable to run Panel code because Bokeh or Panel library is missing\");\n",
                            "\t  } else {\n",
                            "\t    console.warn(\"Panel: WARNING: Attempting to render but not all required libraries could be resolved.\")\n",
                            "\t    embed_document(root)\n",
                            "\t  }\n",
                            "        }\n",
                            "      }\n",
                            "    }, 25, root)\n",
                            "  }\n",
                            "})(window);</script>"
                        ]
                    },
                    "metadata": {
                        "application/vnd.holoviews_exec.v0+json": {
                            "id": "93ecb04e-adbc-44dc-82e5-cf56921c610a"
                        }
                    },
                    "output_type": "display_data"
                }
            ],
            "source": [
                "import logging\n",
                "from pathlib import Path\n",
                "\n",
                "import holoviews as hv\n",
                "import hvplot.polars  # noqa\n",
                "import ipywidgets\n",
                "import matplotlib.pyplot as plt\n",
                "import numpy as np\n",
                "import polars as pl\n",
                "from polars import col\n",
                "\n",
                "from src.data.database_manager import DatabaseManager\n",
                "from src.features.resampling import (\n",
                "    add_normalized_timestamp,\n",
                ")\n",
                "from src.features.scaling import scale_min_max\n",
                "from src.log_config import configure_logging\n",
                "from src.models.data_loader import transform_sample_df_to_arrays\n",
                "from src.models.sample_creation import create_samples, make_sample_set_balanced\n",
                "from src.plots.utils import prepare_multiline_hvplot\n",
                "\n",
                "configure_logging(\n",
                "    stream_level=logging.DEBUG,\n",
                "    ignore_libs=[\"matplotlib\", \"Comm\", \"bokeh\", \"tornado\"],\n",
                ")\n",
                "\n",
                "pl.Config.set_tbl_rows(12)  # for the 12 trials\n",
                "hv.output(widget_location=\"bottom\", size=130)\n",
                "\n",
                "db = DatabaseManager()"
            ]
        },
        {
            "cell_type": "code",
            "execution_count": 3,
            "metadata": {},
            "outputs": [
                {
                    "data": {
                        "text/html": [
                            "<div><style>\n",
                            ".dataframe > thead > tr,\n",
                            ".dataframe > tbody > tr {\n",
                            "  text-align: right;\n",
                            "  white-space: pre-wrap;\n",
                            "}\n",
                            "</style>\n",
                            "<small>shape: (471, 8)</small><table border=\"1\" class=\"dataframe\"><thead><tr><th>trial_id</th><th>trial_number</th><th>participant_id</th><th>stimulus_seed</th><th>skin_patch</th><th>timestamp_start</th><th>timestamp_end</th><th>duration</th></tr><tr><td>u16</td><td>u8</td><td>u8</td><td>u16</td><td>u8</td><td>f64</td><td>f64</td><td>f64</td></tr></thead><tbody><tr><td>1</td><td>1</td><td>1</td><td>870</td><td>1</td><td>200176.946</td><td>380187.1239</td><td>180010.1779</td></tr><tr><td>2</td><td>2</td><td>1</td><td>681</td><td>2</td><td>412801.8887</td><td>592813.1696</td><td>180011.2809</td></tr><tr><td>3</td><td>3</td><td>1</td><td>265</td><td>3</td><td>626262.7175</td><td>806289.7444</td><td>180027.0269</td></tr><tr><td>4</td><td>4</td><td>1</td><td>396</td><td>4</td><td>834066.1436</td><td>1.0141e6</td><td>180012.663</td></tr><tr><td>5</td><td>5</td><td>1</td><td>743</td><td>5</td><td>1.0434e6</td><td>1.2234e6</td><td>180028.4845</td></tr><tr><td>6</td><td>6</td><td>1</td><td>658</td><td>6</td><td>1.2588e6</td><td>1.4388e6</td><td>180027.9697</td></tr><tr><td>&hellip;</td><td>&hellip;</td><td>&hellip;</td><td>&hellip;</td><td>&hellip;</td><td>&hellip;</td><td>&hellip;</td><td>&hellip;</td></tr><tr><td>491</td><td>11</td><td>41</td><td>243</td><td>5</td><td>2.3274e6</td><td>2.5074e6</td><td>180010.7594</td></tr><tr><td>492</td><td>12</td><td>41</td><td>133</td><td>6</td><td>2.5373e6</td><td>2.7174e6</td><td>180012.6872</td></tr><tr><td>493</td><td>1</td><td>42</td><td>243</td><td>6</td><td>266684.9433</td><td>446695.4535</td><td>180010.5102</td></tr><tr><td>494</td><td>2</td><td>42</td><td>952</td><td>5</td><td>510187.3637</td><td>690214.2399</td><td>180026.8762</td></tr><tr><td>495</td><td>3</td><td>42</td><td>467</td><td>4</td><td>734255.2055</td><td>914267.5632</td><td>180012.3577</td></tr><tr><td>496</td><td>4</td><td>42</td><td>806</td><td>3</td><td>961010.6157</td><td>1.1410e6</td><td>180010.7174</td></tr></tbody></table></div>"
                        ],
                        "text/plain": [
                            "shape: (471, 8)\n",
                            "┌──────────┬────────────┬────────────┬────────────┬────────────┬───────────┬───────────┬───────────┐\n",
                            "│ trial_id ┆ trial_numb ┆ participan ┆ stimulus_s ┆ skin_patch ┆ timestamp ┆ timestamp ┆ duration  │\n",
                            "│ ---      ┆ er         ┆ t_id       ┆ eed        ┆ ---        ┆ _start    ┆ _end      ┆ ---       │\n",
                            "│ u16      ┆ ---        ┆ ---        ┆ ---        ┆ u8         ┆ ---       ┆ ---       ┆ f64       │\n",
                            "│          ┆ u8         ┆ u8         ┆ u16        ┆            ┆ f64       ┆ f64       ┆           │\n",
                            "╞══════════╪════════════╪════════════╪════════════╪════════════╪═══════════╪═══════════╪═══════════╡\n",
                            "│ 1        ┆ 1          ┆ 1          ┆ 870        ┆ 1          ┆ 200176.94 ┆ 380187.12 ┆ 180010.17 │\n",
                            "│          ┆            ┆            ┆            ┆            ┆ 6         ┆ 39        ┆ 79        │\n",
                            "│ 2        ┆ 2          ┆ 1          ┆ 681        ┆ 2          ┆ 412801.88 ┆ 592813.16 ┆ 180011.28 │\n",
                            "│          ┆            ┆            ┆            ┆            ┆ 87        ┆ 96        ┆ 09        │\n",
                            "│ 3        ┆ 3          ┆ 1          ┆ 265        ┆ 3          ┆ 626262.71 ┆ 806289.74 ┆ 180027.02 │\n",
                            "│          ┆            ┆            ┆            ┆            ┆ 75        ┆ 44        ┆ 69        │\n",
                            "│ 4        ┆ 4          ┆ 1          ┆ 396        ┆ 4          ┆ 834066.14 ┆ 1.0141e6  ┆ 180012.66 │\n",
                            "│          ┆            ┆            ┆            ┆            ┆ 36        ┆           ┆ 3         │\n",
                            "│ 5        ┆ 5          ┆ 1          ┆ 743        ┆ 5          ┆ 1.0434e6  ┆ 1.2234e6  ┆ 180028.48 │\n",
                            "│          ┆            ┆            ┆            ┆            ┆           ┆           ┆ 45        │\n",
                            "│ 6        ┆ 6          ┆ 1          ┆ 658        ┆ 6          ┆ 1.2588e6  ┆ 1.4388e6  ┆ 180027.96 │\n",
                            "│          ┆            ┆            ┆            ┆            ┆           ┆           ┆ 97        │\n",
                            "│ …        ┆ …          ┆ …          ┆ …          ┆ …          ┆ …         ┆ …         ┆ …         │\n",
                            "│ 491      ┆ 11         ┆ 41         ┆ 243        ┆ 5          ┆ 2.3274e6  ┆ 2.5074e6  ┆ 180010.75 │\n",
                            "│          ┆            ┆            ┆            ┆            ┆           ┆           ┆ 94        │\n",
                            "│ 492      ┆ 12         ┆ 41         ┆ 133        ┆ 6          ┆ 2.5373e6  ┆ 2.7174e6  ┆ 180012.68 │\n",
                            "│          ┆            ┆            ┆            ┆            ┆           ┆           ┆ 72        │\n",
                            "│ 493      ┆ 1          ┆ 42         ┆ 243        ┆ 6          ┆ 266684.94 ┆ 446695.45 ┆ 180010.51 │\n",
                            "│          ┆            ┆            ┆            ┆            ┆ 33        ┆ 35        ┆ 02        │\n",
                            "│ 494      ┆ 2          ┆ 42         ┆ 952        ┆ 5          ┆ 510187.36 ┆ 690214.23 ┆ 180026.87 │\n",
                            "│          ┆            ┆            ┆            ┆            ┆ 37        ┆ 99        ┆ 62        │\n",
                            "│ 495      ┆ 3          ┆ 42         ┆ 467        ┆ 4          ┆ 734255.20 ┆ 914267.56 ┆ 180012.35 │\n",
                            "│          ┆            ┆            ┆            ┆            ┆ 55        ┆ 32        ┆ 77        │\n",
                            "│ 496      ┆ 4          ┆ 42         ┆ 806        ┆ 3          ┆ 961010.61 ┆ 1.1410e6  ┆ 180010.71 │\n",
                            "│          ┆            ┆            ┆            ┆            ┆ 57        ┆           ┆ 74        │\n",
                            "└──────────┴────────────┴────────────┴────────────┴────────────┴───────────┴───────────┴───────────┘"
                        ]
                    },
                    "execution_count": 3,
                    "metadata": {},
                    "output_type": "execute_result"
                }
            ],
            "source": [
                "db = DatabaseManager()\n",
                "with db:\n",
                "    trials = db.get_trials(\"Trials\", exclude_problematic=1)\n",
                "    inv_trials = db.get_table(\"Invalid_Trials\")\n",
                "\n",
                "trials\n"
            ]
        },
        {
            "cell_type": "code",
            "execution_count": 4,
            "metadata": {},
            "outputs": [
                {
                    "ename": "NameError",
                    "evalue": "name 'df' is not defined",
                    "output_type": "error",
                    "traceback": [
                        "\u001b[31m---------------------------------------------------------------------------\u001b[39m",
                        "\u001b[31mNameError\u001b[39m                                 Traceback (most recent call last)",
                        "\u001b[36mCell\u001b[39m\u001b[36m \u001b[39m\u001b[32mIn[4]\u001b[39m\u001b[32m, line 1\u001b[39m\n\u001b[32m----> \u001b[39m\u001b[32m1\u001b[39m \u001b[43mdf\u001b[49m.group_by(\u001b[33m\"\u001b[39m\u001b[33mtrial_id\u001b[39m\u001b[33m\"\u001b[39m).first()\n",
                        "\u001b[31mNameError\u001b[39m: name 'df' is not defined"
                    ]
                }
            ],
            "source": [
                "df.group_by(\"trial_id\").first()"
            ]
        },
        {
            "cell_type": "code",
            "execution_count": null,
            "metadata": {},
            "outputs": [
                {
                    "name": "stdout",
                    "output_type": "stream",
                    "text": [
                        "14:43:10 | \u001b[36mDEBUG   \u001b[0m| sample_creation | Removed 749 samples with less than 69 data points\n"
                    ]
                },
                {
                    "data": {
                        "text/html": [
                            "<div><style>\n",
                            ".dataframe > thead > tr,\n",
                            ".dataframe > tbody > tr {\n",
                            "  text-align: right;\n",
                            "  white-space: pre-wrap;\n",
                            "}\n",
                            "</style>\n",
                            "<small>shape: (2, 2)</small><table border=\"1\" class=\"dataframe\"><thead><tr><th>label</th><th>len</th></tr><tr><td>u8</td><td>u32</td></tr></thead><tbody><tr><td>0</td><td>2235</td></tr><tr><td>1</td><td>1413</td></tr></tbody></table></div>"
                        ],
                        "text/plain": [
                            "shape: (2, 2)\n",
                            "┌───────┬──────┐\n",
                            "│ label ┆ len  │\n",
                            "│ ---   ┆ ---  │\n",
                            "│ u8    ┆ u32  │\n",
                            "╞═══════╪══════╡\n",
                            "│ 0     ┆ 2235 │\n",
                            "│ 1     ┆ 1413 │\n",
                            "└───────┴──────┘"
                        ]
                    },
                    "execution_count": 8,
                    "metadata": {},
                    "output_type": "execute_result"
                }
            ],
            "source": [
                "with db:\n",
                "    df = db.get_trials(\n",
                "        # \"Explore_Data\",\n",
                "        \"Model_Data\",\n",
                "        exclude_problematic=True,\n",
                "    )\n",
                "\n",
                "intervals = {\n",
                "    \"increases\": \"strictly_increasing_intervals\",\n",
                "    \"plateaus\": \"plateau_intervals\",\n",
                "    \"decreases\": \"major_decreasing_intervals\",\n",
                "}\n",
                "label_mapping = {\n",
                "    \"increases\": 0,\n",
                "    \"plateaus\": 0,\n",
                "    \"decreases\": 1,\n",
                "}\n",
                "offsets_ms = {\n",
                "    \"increases\": 0,\n",
                "    \"decreases\": 1000,\n",
                "    \"plateaus\": 5000,\n",
                "}\n",
                "\n",
                "sample_duration_ms = 7000\n",
                "samples = create_samples(\n",
                "    df,\n",
                "    intervals,\n",
                "    label_mapping,\n",
                "    sample_duration_ms,\n",
                "    offsets_ms,\n",
                ")\n",
                "samples = samples.select(\n",
                "    \"sample_id\",\n",
                "    \"trial_id\",\n",
                "    \"participant_id\",\n",
                "    \"normalized_timestamp\",\n",
                "    \"timestamp\",\n",
                "    \"rating\",\n",
                "    \"temperature\",\n",
                "    \"eda_raw\",\n",
                "    \"pupil\",\n",
                "    \"cheek_raise\",\n",
                "    \"label\",\n",
                ")\n",
                "samples.group_by(\"sample_id\").first().group_by(\"label\").len().sort(\"label\")"
            ]
        },
        {
            "cell_type": "code",
            "execution_count": 19,
            "metadata": {},
            "outputs": [
                {
                    "data": {
                        "text/html": [
                            "<div><style>\n",
                            ".dataframe > thead > tr,\n",
                            ".dataframe > tbody > tr {\n",
                            "  text-align: right;\n",
                            "  white-space: pre-wrap;\n",
                            "}\n",
                            "</style>\n",
                            "<small>shape: (2, 2)</small><table border=\"1\" class=\"dataframe\"><thead><tr><th>label</th><th>len</th></tr><tr><td>u8</td><td>u32</td></tr></thead><tbody><tr><td>0</td><td>1822</td></tr><tr><td>1</td><td>1368</td></tr></tbody></table></div>"
                        ],
                        "text/plain": [
                            "shape: (2, 2)\n",
                            "┌───────┬──────┐\n",
                            "│ label ┆ len  │\n",
                            "│ ---   ┆ ---  │\n",
                            "│ u8    ┆ u32  │\n",
                            "╞═══════╪══════╡\n",
                            "│ 0     ┆ 1822 │\n",
                            "│ 1     ┆ 1368 │\n",
                            "└───────┴──────┘"
                        ]
                    },
                    "execution_count": 19,
                    "metadata": {},
                    "output_type": "execute_result"
                }
            ],
            "source": [
                "samples.group_by(\"sample_id\").first().group_by(\"label\").len().sort(\"label\")"
            ]
        },
        {
            "cell_type": "code",
            "execution_count": 47,
            "metadata": {},
            "outputs": [
                {
                    "data": {
                        "text/html": [
                            "<div><style>\n",
                            ".dataframe > thead > tr,\n",
                            ".dataframe > tbody > tr {\n",
                            "  text-align: right;\n",
                            "  white-space: pre-wrap;\n",
                            "}\n",
                            "</style>\n",
                            "<small>shape: (814_052, 30)</small><table border=\"1\" class=\"dataframe\"><thead><tr><th>trial_id</th><th>trial_number</th><th>participant_id</th><th>timestamp</th><th>temperature</th><th>rating</th><th>eda_raw</th><th>ppg_raw</th><th>heart_rate</th><th>ibi</th><th>pupil_l_raw</th><th>pupil_r_raw</th><th>pupil_r</th><th>pupil_l</th><th>pupil</th><th>brow_furrow</th><th>cheek_raise</th><th>mouth_open</th><th>upper_lip_raise</th><th>nose_wrinkle</th><th>normalized_timestamp</th><th>stimulus_seed</th><th>skin_patch</th><th>decreasing_intervals</th><th>major_decreasing_intervals</th><th>increasing_intervals</th><th>strictly_increasing_intervals</th><th>strictly_increasing_intervals_without_plateaus</th><th>plateau_intervals</th><th>prolonged_minima_intervals</th></tr><tr><td>u16</td><td>u8</td><td>u8</td><td>f64</td><td>f64</td><td>f64</td><td>f64</td><td>f64</td><td>f64</td><td>f64</td><td>f64</td><td>f64</td><td>f64</td><td>f64</td><td>f64</td><td>f64</td><td>f64</td><td>f64</td><td>f64</td><td>f64</td><td>f64</td><td>u16</td><td>u8</td><td>u16</td><td>u16</td><td>u16</td><td>u16</td><td>u16</td><td>u16</td><td>u16</td></tr></thead><tbody><tr><td>1</td><td>1</td><td>1</td><td>216743.5436</td><td>0.0</td><td>0.51125</td><td>33.476543</td><td>1392.210959</td><td>106.043289</td><td>-4.649092</td><td>5.280281</td><td>5.411819</td><td>5.313233</td><td>5.161567</td><td>5.2374</td><td>0.000002</td><td>0.001009</td><td>0.344061</td><td>6.2573e-9</td><td>0.000004</td><td>0.0</td><td>265</td><td>1</td><td>0</td><td>0</td><td>1</td><td>1</td><td>1</td><td>0</td><td>0</td></tr><tr><td>1</td><td>1</td><td>1</td><td>216843.5436</td><td>0.000144</td><td>0.503768</td><td>33.482077</td><td>1390.172786</td><td>105.734251</td><td>0.809401</td><td>5.285799</td><td>5.357385</td><td>5.358735</td><td>5.193335</td><td>5.276035</td><td>0.000002</td><td>0.000993</td><td>0.338073</td><td>6.1435e-9</td><td>0.000004</td><td>100.0</td><td>265</td><td>1</td><td>0</td><td>0</td><td>1</td><td>1</td><td>1</td><td>0</td><td>0</td></tr><tr><td>1</td><td>1</td><td>1</td><td>216943.5436</td><td>0.000627</td><td>0.499372</td><td>33.51028</td><td>1371.116608</td><td>104.402571</td><td>27.412256</td><td>5.251862</td><td>5.318561</td><td>5.378839</td><td>5.214746</td><td>5.296793</td><td>0.000002</td><td>0.000955</td><td>0.324101</td><td>5.8773e-9</td><td>0.000005</td><td>200.0</td><td>265</td><td>1</td><td>0</td><td>0</td><td>1</td><td>1</td><td>1</td><td>0</td><td>0</td></tr><tr><td>1</td><td>1</td><td>1</td><td>217043.5436</td><td>0.00149</td><td>0.497817</td><td>33.540616</td><td>1276.424473</td><td>105.238931</td><td>34.487759</td><td>5.206454</td><td>5.299811</td><td>5.366948</td><td>5.230644</td><td>5.298796</td><td>0.000001</td><td>0.00089</td><td>0.30134</td><td>5.4432e-9</td><td>0.000005</td><td>300.0</td><td>265</td><td>1</td><td>0</td><td>0</td><td>1</td><td>1</td><td>1</td><td>0</td><td>0</td></tr><tr><td>1</td><td>1</td><td>1</td><td>217143.5436</td><td>0.002739</td><td>0.4975</td><td>33.564648</td><td>1323.643234</td><td>103.603785</td><td>-11.190426</td><td>5.167074</td><td>5.293698</td><td>5.370986</td><td>5.230511</td><td>5.300749</td><td>0.000001</td><td>0.000828</td><td>0.279653</td><td>5.0370e-9</td><td>0.000006</td><td>400.0</td><td>265</td><td>1</td><td>0</td><td>0</td><td>1</td><td>1</td><td>1</td><td>0</td><td>0</td></tr><tr><td>1</td><td>1</td><td>1</td><td>217243.5436</td><td>0.004337</td><td>0.4975</td><td>33.608385</td><td>1549.396125</td><td>104.577336</td><td>-5.950501</td><td>5.166472</td><td>5.289672</td><td>5.370156</td><td>5.226913</td><td>5.298535</td><td>0.000001</td><td>0.000773</td><td>0.26018</td><td>4.6649e-9</td><td>0.000007</td><td>500.0</td><td>265</td><td>1</td><td>0</td><td>0</td><td>1</td><td>1</td><td>1</td><td>0</td><td>0</td></tr><tr><td>&hellip;</td><td>&hellip;</td><td>&hellip;</td><td>&hellip;</td><td>&hellip;</td><td>&hellip;</td><td>&hellip;</td><td>&hellip;</td><td>&hellip;</td><td>&hellip;</td><td>&hellip;</td><td>&hellip;</td><td>&hellip;</td><td>&hellip;</td><td>&hellip;</td><td>&hellip;</td><td>&hellip;</td><td>&hellip;</td><td>&hellip;</td><td>&hellip;</td><td>&hellip;</td><td>&hellip;</td><td>&hellip;</td><td>&hellip;</td><td>&hellip;</td><td>&hellip;</td><td>&hellip;</td><td>&hellip;</td><td>&hellip;</td><td>&hellip;</td></tr><tr><td>500</td><td>12</td><td>42</td><td>2.9169e6</td><td>0.343664</td><td>0.0</td><td>5.63217</td><td>1303.314885</td><td>69.363974</td><td>-0.566383</td><td>2.874716</td><td>3.138802</td><td>3.105452</td><td>2.865239</td><td>2.985345</td><td>0.540668</td><td>0.000837</td><td>0.075903</td><td>0.002281</td><td>0.168981</td><td>179500.0</td><td>243</td><td>6</td><td>2405</td><td>0</td><td>0</td><td>0</td><td>0</td><td>0</td><td>0</td></tr><tr><td>500</td><td>12</td><td>42</td><td>2.9170e6</td><td>0.343051</td><td>0.0</td><td>5.630226</td><td>1261.295081</td><td>68.311165</td><td>-1.120452</td><td>2.740845</td><td>3.053513</td><td>3.125596</td><td>2.877898</td><td>3.001747</td><td>0.552525</td><td>0.000909</td><td>0.075434</td><td>0.002196</td><td>0.179887</td><td>179600.0</td><td>243</td><td>6</td><td>2405</td><td>0</td><td>0</td><td>0</td><td>0</td><td>0</td><td>0</td></tr><tr><td>500</td><td>12</td><td>42</td><td>2.9171e6</td><td>0.342598</td><td>0.0</td><td>5.628944</td><td>1289.453577</td><td>67.471458</td><td>-1.083037</td><td>2.385958</td><td>2.843083</td><td>3.12297</td><td>2.871397</td><td>2.997183</td><td>0.569679</td><td>0.000929</td><td>0.074396</td><td>0.002602</td><td>0.187344</td><td>179700.0</td><td>243</td><td>6</td><td>2405</td><td>0</td><td>0</td><td>0</td><td>0</td><td>0</td><td>0</td></tr><tr><td>500</td><td>12</td><td>42</td><td>2.9172e6</td><td>0.342335</td><td>0.0</td><td>5.627656</td><td>1415.202701</td><td>67.605714</td><td>-0.826366</td><td>1.750363</td><td>2.460302</td><td>3.123827</td><td>2.876377</td><td>3.000102</td><td>0.581514</td><td>0.000957</td><td>0.074653</td><td>0.002913</td><td>0.193656</td><td>179800.0</td><td>243</td><td>6</td><td>2405</td><td>0</td><td>0</td><td>0</td><td>0</td><td>0</td><td>0</td></tr><tr><td>500</td><td>12</td><td>42</td><td>2.9173e6</td><td>0.342248</td><td>0.0</td><td>5.626287</td><td>1501.070266</td><td>67.627353</td><td>-1.164152</td><td>1.065841</td><td>1.877816</td><td>3.123636</td><td>2.872566</td><td>2.998101</td><td>0.588073</td><td>0.000967</td><td>0.074539</td><td>0.002921</td><td>0.194946</td><td>179900.0</td><td>243</td><td>6</td><td>2405</td><td>0</td><td>0</td><td>0</td><td>0</td><td>0</td><td>0</td></tr><tr><td>500</td><td>12</td><td>42</td><td>2.9174e6</td><td>0.342248</td><td>0.0</td><td>5.625854</td><td>1516.077567</td><td>67.532423</td><td>-1.359479</td><td>0.906044</td><td>1.729354</td><td>3.12333</td><td>2.87072</td><td>2.997025</td><td>0.592878</td><td>0.000975</td><td>0.074455</td><td>0.002926</td><td>0.19589</td><td>180000.0</td><td>243</td><td>6</td><td>2405</td><td>0</td><td>0</td><td>0</td><td>0</td><td>0</td><td>0</td></tr></tbody></table></div>"
                        ],
                        "text/plain": [
                            "shape: (814_052, 30)\n",
                            "┌──────────┬───────────┬───────────┬───────────┬───┬───────────┬───────────┬───────────┬───────────┐\n",
                            "│ trial_id ┆ trial_num ┆ participa ┆ timestamp ┆ … ┆ strictly_ ┆ strictly_ ┆ plateau_i ┆ prolonged │\n",
                            "│ ---      ┆ ber       ┆ nt_id     ┆ ---       ┆   ┆ increasin ┆ increasin ┆ ntervals  ┆ _minima_i │\n",
                            "│ u16      ┆ ---       ┆ ---       ┆ f64       ┆   ┆ g_interva ┆ g_interva ┆ ---       ┆ ntervals  │\n",
                            "│          ┆ u8        ┆ u8        ┆           ┆   ┆ ls        ┆ ls_…      ┆ u16       ┆ ---       │\n",
                            "│          ┆           ┆           ┆           ┆   ┆ ---       ┆ ---       ┆           ┆ u16       │\n",
                            "│          ┆           ┆           ┆           ┆   ┆ u16       ┆ u16       ┆           ┆           │\n",
                            "╞══════════╪═══════════╪═══════════╪═══════════╪═══╪═══════════╪═══════════╪═══════════╪═══════════╡\n",
                            "│ 1        ┆ 1         ┆ 1         ┆ 216743.54 ┆ … ┆ 1         ┆ 1         ┆ 0         ┆ 0         │\n",
                            "│          ┆           ┆           ┆ 36        ┆   ┆           ┆           ┆           ┆           │\n",
                            "│ 1        ┆ 1         ┆ 1         ┆ 216843.54 ┆ … ┆ 1         ┆ 1         ┆ 0         ┆ 0         │\n",
                            "│          ┆           ┆           ┆ 36        ┆   ┆           ┆           ┆           ┆           │\n",
                            "│ 1        ┆ 1         ┆ 1         ┆ 216943.54 ┆ … ┆ 1         ┆ 1         ┆ 0         ┆ 0         │\n",
                            "│          ┆           ┆           ┆ 36        ┆   ┆           ┆           ┆           ┆           │\n",
                            "│ 1        ┆ 1         ┆ 1         ┆ 217043.54 ┆ … ┆ 1         ┆ 1         ┆ 0         ┆ 0         │\n",
                            "│          ┆           ┆           ┆ 36        ┆   ┆           ┆           ┆           ┆           │\n",
                            "│ 1        ┆ 1         ┆ 1         ┆ 217143.54 ┆ … ┆ 1         ┆ 1         ┆ 0         ┆ 0         │\n",
                            "│          ┆           ┆           ┆ 36        ┆   ┆           ┆           ┆           ┆           │\n",
                            "│ 1        ┆ 1         ┆ 1         ┆ 217243.54 ┆ … ┆ 1         ┆ 1         ┆ 0         ┆ 0         │\n",
                            "│          ┆           ┆           ┆ 36        ┆   ┆           ┆           ┆           ┆           │\n",
                            "│ …        ┆ …         ┆ …         ┆ …         ┆ … ┆ …         ┆ …         ┆ …         ┆ …         │\n",
                            "│ 500      ┆ 12        ┆ 42        ┆ 2.9169e6  ┆ … ┆ 0         ┆ 0         ┆ 0         ┆ 0         │\n",
                            "│ 500      ┆ 12        ┆ 42        ┆ 2.9170e6  ┆ … ┆ 0         ┆ 0         ┆ 0         ┆ 0         │\n",
                            "│ 500      ┆ 12        ┆ 42        ┆ 2.9171e6  ┆ … ┆ 0         ┆ 0         ┆ 0         ┆ 0         │\n",
                            "│ 500      ┆ 12        ┆ 42        ┆ 2.9172e6  ┆ … ┆ 0         ┆ 0         ┆ 0         ┆ 0         │\n",
                            "│ 500      ┆ 12        ┆ 42        ┆ 2.9173e6  ┆ … ┆ 0         ┆ 0         ┆ 0         ┆ 0         │\n",
                            "│ 500      ┆ 12        ┆ 42        ┆ 2.9174e6  ┆ … ┆ 0         ┆ 0         ┆ 0         ┆ 0         │\n",
                            "└──────────┴───────────┴───────────┴───────────┴───┴───────────┴───────────┴───────────┴───────────┘"
                        ]
                    },
                    "execution_count": 47,
                    "metadata": {},
                    "output_type": "execute_result"
                }
            ],
            "source": [
                "df"
            ]
        },
        {
            "cell_type": "code",
            "execution_count": 49,
            "metadata": {},
            "outputs": [
                {
                    "data": {
                        "application/vnd.jupyter.widget-view+json": {
                            "model_id": "4e25ebdc163b4360a97c5a7991834750",
                            "version_major": 2,
                            "version_minor": 0
                        },
                        "text/plain": [
                            "BokehModel(combine_events=True, render_bundle={'docs_json': {'08e95d58-0d3c-45e0-8f82-b85e6219cfe7': {'version…"
                        ]
                    },
                    "execution_count": 49,
                    "metadata": {},
                    "output_type": "execute_result"
                }
            ],
            "source": [
                "df.hvplot(\n",
                "    x=\"normalized_timestamp\",\n",
                "    y=[\"rating\", \"temperature\", \"eda_raw\", \"pupil\", \"cheek_raise\"],\n",
                "    groupby=\"trial_id\",\n",
                ")"
            ]
        },
        {
            "cell_type": "code",
            "execution_count": 50,
            "metadata": {},
            "outputs": [
                {
                    "data": {
                        "text/html": [
                            "<div><style>\n",
                            ".dataframe > thead > tr,\n",
                            ".dataframe > tbody > tr {\n",
                            "  text-align: right;\n",
                            "  white-space: pre-wrap;\n",
                            "}\n",
                            "</style>\n",
                            "<small>shape: (2_600, 2)</small><table border=\"1\" class=\"dataframe\"><thead><tr><th>sample_id</th><th>count</th></tr><tr><td>u16</td><td>u32</td></tr></thead><tbody><tr><td>2</td><td>70</td></tr><tr><td>4</td><td>70</td></tr><tr><td>5</td><td>70</td></tr><tr><td>9</td><td>70</td></tr><tr><td>10</td><td>70</td></tr><tr><td>12</td><td>70</td></tr><tr><td>&hellip;</td><td>&hellip;</td></tr><tr><td>3843</td><td>70</td></tr><tr><td>3844</td><td>70</td></tr><tr><td>3845</td><td>70</td></tr><tr><td>3846</td><td>70</td></tr><tr><td>3847</td><td>70</td></tr><tr><td>3848</td><td>70</td></tr></tbody></table></div>"
                        ],
                        "text/plain": [
                            "shape: (2_600, 2)\n",
                            "┌───────────┬───────┐\n",
                            "│ sample_id ┆ count │\n",
                            "│ ---       ┆ ---   │\n",
                            "│ u16       ┆ u32   │\n",
                            "╞═══════════╪═══════╡\n",
                            "│ 2         ┆ 70    │\n",
                            "│ 4         ┆ 70    │\n",
                            "│ 5         ┆ 70    │\n",
                            "│ 9         ┆ 70    │\n",
                            "│ 10        ┆ 70    │\n",
                            "│ 12        ┆ 70    │\n",
                            "│ …         ┆ …     │\n",
                            "│ 3843      ┆ 70    │\n",
                            "│ 3844      ┆ 70    │\n",
                            "│ 3845      ┆ 70    │\n",
                            "│ 3846      ┆ 70    │\n",
                            "│ 3847      ┆ 70    │\n",
                            "│ 3848      ┆ 70    │\n",
                            "└───────────┴───────┘"
                        ]
                    },
                    "execution_count": 50,
                    "metadata": {},
                    "output_type": "execute_result"
                }
            ],
            "source": [
                "samples.group_by(\"sample_id\").len(\"count\")"
            ]
        },
        {
            "cell_type": "code",
            "execution_count": 51,
            "metadata": {},
            "outputs": [
                {
                    "data": {
                        "text/html": [
                            "<div><style>\n",
                            ".dataframe > thead > tr,\n",
                            ".dataframe > tbody > tr {\n",
                            "  text-align: right;\n",
                            "  white-space: pre-wrap;\n",
                            "}\n",
                            "</style>\n",
                            "<small>shape: (2, 2)</small><table border=\"1\" class=\"dataframe\"><thead><tr><th>label</th><th>count</th></tr><tr><td>u8</td><td>u32</td></tr></thead><tbody><tr><td>0</td><td>1244</td></tr><tr><td>1</td><td>1244</td></tr></tbody></table></div>"
                        ],
                        "text/plain": [
                            "shape: (2, 2)\n",
                            "┌───────┬───────┐\n",
                            "│ label ┆ count │\n",
                            "│ ---   ┆ ---   │\n",
                            "│ u8    ┆ u32   │\n",
                            "╞═══════╪═══════╡\n",
                            "│ 0     ┆ 1244  │\n",
                            "│ 1     ┆ 1244  │\n",
                            "└───────┴───────┘"
                        ]
                    },
                    "execution_count": 51,
                    "metadata": {},
                    "output_type": "execute_result"
                }
            ],
            "source": [
                "samples = make_sample_set_balanced(samples)\n",
                "\n",
                "sample_ids = (\n",
                "    samples.group_by(\"sample_id\").agg(pl.all().first()).select(\"sample_id\", \"label\")\n",
                ")\n",
                "sample_ids_count = sample_ids.get_column(\"label\").value_counts()\n",
                "sample_ids_count"
            ]
        },
        {
            "cell_type": "code",
            "execution_count": 38,
            "metadata": {},
            "outputs": [
                {
                    "data": {
                        "application/vnd.jupyter.widget-view+json": {
                            "model_id": "aa65c41409754fa8a205d72ff204c001",
                            "version_major": 2,
                            "version_minor": 0
                        },
                        "text/plain": [
                            "BokehModel(combine_events=True, render_bundle={'docs_json': {'44850aea-4106-4e79-9cae-74f2185afc40': {'version…"
                        ]
                    },
                    "execution_count": 38,
                    "metadata": {},
                    "output_type": "execute_result"
                }
            ],
            "source": [
                "df.hvplot(\n",
                "    x=\"normalized_timestamp\", y=\"temperature\", groupby=\"trial_id\", height=300\n",
                ") * samples.hvplot(\n",
                "    x=\"normalized_timestamp\",\n",
                "    y=\"temperature\",\n",
                "    groupby=\"trial_id\",\n",
                "    height=300,\n",
                "    kind=\"scatter\",\n",
                "    color=\"red\",\n",
                ")"
            ]
        },
        {
            "cell_type": "code",
            "execution_count": 52,
            "metadata": {},
            "outputs": [
                {
                    "data": {
                        "application/vnd.jupyter.widget-view+json": {
                            "model_id": "fa855bdc7168432ea33a00594152edae",
                            "version_major": 2,
                            "version_minor": 0
                        },
                        "text/plain": [
                            "BokehModel(combine_events=True, render_bundle={'docs_json': {'b0352983-7c48-448e-b54c-af3bb35639cf': {'version…"
                        ]
                    },
                    "execution_count": 52,
                    "metadata": {},
                    "output_type": "execute_result"
                }
            ],
            "source": [
                "scale_min_max(samples).hvplot(\n",
                "    x=\"normalized_timestamp\",\n",
                "    y=[\"rating\", \"eda_raw\", \"pupil\"],\n",
                "    groupby=\"sample_id\",\n",
                ")"
            ]
        },
        {
            "cell_type": "code",
            "execution_count": 53,
            "metadata": {},
            "outputs": [
                {
                    "data": {
                        "text/html": [
                            "<div><style>\n",
                            ".dataframe > thead > tr,\n",
                            ".dataframe > tbody > tr {\n",
                            "  text-align: right;\n",
                            "  white-space: pre-wrap;\n",
                            "}\n",
                            "</style>\n",
                            "<small>shape: (174_160, 11)</small><table border=\"1\" class=\"dataframe\"><thead><tr><th>sample_id</th><th>trial_id</th><th>participant_id</th><th>normalized_timestamp</th><th>timestamp</th><th>rating</th><th>temperature</th><th>eda_raw</th><th>pupil</th><th>cheek_raise</th><th>label</th></tr><tr><td>u16</td><td>u16</td><td>u8</td><td>f64</td><td>f64</td><td>f64</td><td>f64</td><td>f64</td><td>f64</td><td>f64</td><td>u8</td></tr></thead><tbody><tr><td>2</td><td>1</td><td>1</td><td>27000.0</td><td>243743.5436</td><td>0.0</td><td>0.17205</td><td>37.453392</td><td>4.593487</td><td>0.000147</td><td>0</td></tr><tr><td>2</td><td>1</td><td>1</td><td>27100.0</td><td>243843.5436</td><td>0.0</td><td>0.172108</td><td>37.424159</td><td>4.594653</td><td>0.000144</td><td>0</td></tr><tr><td>2</td><td>1</td><td>1</td><td>27200.0</td><td>243943.5436</td><td>0.0</td><td>0.172292</td><td>37.400388</td><td>4.594157</td><td>0.000142</td><td>0</td></tr><tr><td>2</td><td>1</td><td>1</td><td>27300.0</td><td>244043.5436</td><td>0.0</td><td>0.172613</td><td>37.380407</td><td>4.594548</td><td>0.00014</td><td>0</td></tr><tr><td>2</td><td>1</td><td>1</td><td>27400.0</td><td>244143.5436</td><td>0.0</td><td>0.173067</td><td>37.338049</td><td>4.594175</td><td>0.000137</td><td>0</td></tr><tr><td>2</td><td>1</td><td>1</td><td>27500.0</td><td>244243.5436</td><td>0.0</td><td>0.173661</td><td>37.310459</td><td>4.595849</td><td>0.000137</td><td>0</td></tr><tr><td>&hellip;</td><td>&hellip;</td><td>&hellip;</td><td>&hellip;</td><td>&hellip;</td><td>&hellip;</td><td>&hellip;</td><td>&hellip;</td><td>&hellip;</td><td>&hellip;</td><td>&hellip;</td></tr><tr><td>3848</td><td>500</td><td>42</td><td>138400.0</td><td>2.8758e6</td><td>0.569916</td><td>0.716249</td><td>6.049321</td><td>3.742309</td><td>0.0004</td><td>1</td></tr><tr><td>3848</td><td>500</td><td>42</td><td>138500.0</td><td>2.8759e6</td><td>0.539784</td><td>0.709564</td><td>6.048434</td><td>3.722801</td><td>0.000398</td><td>1</td></tr><tr><td>3848</td><td>500</td><td>42</td><td>138600.0</td><td>2.8760e6</td><td>0.48749</td><td>0.702579</td><td>6.046803</td><td>3.690881</td><td>0.00041</td><td>1</td></tr><tr><td>3848</td><td>500</td><td>42</td><td>138700.0</td><td>2.8761e6</td><td>0.437668</td><td>0.695746</td><td>6.04385</td><td>3.649745</td><td>0.000423</td><td>1</td></tr><tr><td>3848</td><td>500</td><td>42</td><td>138800.0</td><td>2.8762e6</td><td>0.384754</td><td>0.688809</td><td>6.042977</td><td>3.597754</td><td>0.000424</td><td>1</td></tr><tr><td>3848</td><td>500</td><td>42</td><td>138900.0</td><td>2.8763e6</td><td>0.352002</td><td>0.681835</td><td>6.040952</td><td>3.541946</td><td>0.000422</td><td>1</td></tr></tbody></table></div>"
                        ],
                        "text/plain": [
                            "shape: (174_160, 11)\n",
                            "┌───────────┬──────────┬─────────────┬─────────────┬───┬───────────┬──────────┬────────────┬───────┐\n",
                            "│ sample_id ┆ trial_id ┆ participant ┆ normalized_ ┆ … ┆ eda_raw   ┆ pupil    ┆ cheek_rais ┆ label │\n",
                            "│ ---       ┆ ---      ┆ _id         ┆ timestamp   ┆   ┆ ---       ┆ ---      ┆ e          ┆ ---   │\n",
                            "│ u16       ┆ u16      ┆ ---         ┆ ---         ┆   ┆ f64       ┆ f64      ┆ ---        ┆ u8    │\n",
                            "│           ┆          ┆ u8          ┆ f64         ┆   ┆           ┆          ┆ f64        ┆       │\n",
                            "╞═══════════╪══════════╪═════════════╪═════════════╪═══╪═══════════╪══════════╪════════════╪═══════╡\n",
                            "│ 2         ┆ 1        ┆ 1           ┆ 27000.0     ┆ … ┆ 37.453392 ┆ 4.593487 ┆ 0.000147   ┆ 0     │\n",
                            "│ 2         ┆ 1        ┆ 1           ┆ 27100.0     ┆ … ┆ 37.424159 ┆ 4.594653 ┆ 0.000144   ┆ 0     │\n",
                            "│ 2         ┆ 1        ┆ 1           ┆ 27200.0     ┆ … ┆ 37.400388 ┆ 4.594157 ┆ 0.000142   ┆ 0     │\n",
                            "│ 2         ┆ 1        ┆ 1           ┆ 27300.0     ┆ … ┆ 37.380407 ┆ 4.594548 ┆ 0.00014    ┆ 0     │\n",
                            "│ 2         ┆ 1        ┆ 1           ┆ 27400.0     ┆ … ┆ 37.338049 ┆ 4.594175 ┆ 0.000137   ┆ 0     │\n",
                            "│ 2         ┆ 1        ┆ 1           ┆ 27500.0     ┆ … ┆ 37.310459 ┆ 4.595849 ┆ 0.000137   ┆ 0     │\n",
                            "│ …         ┆ …        ┆ …           ┆ …           ┆ … ┆ …         ┆ …        ┆ …          ┆ …     │\n",
                            "│ 3848      ┆ 500      ┆ 42          ┆ 138400.0    ┆ … ┆ 6.049321  ┆ 3.742309 ┆ 0.0004     ┆ 1     │\n",
                            "│ 3848      ┆ 500      ┆ 42          ┆ 138500.0    ┆ … ┆ 6.048434  ┆ 3.722801 ┆ 0.000398   ┆ 1     │\n",
                            "│ 3848      ┆ 500      ┆ 42          ┆ 138600.0    ┆ … ┆ 6.046803  ┆ 3.690881 ┆ 0.00041    ┆ 1     │\n",
                            "│ 3848      ┆ 500      ┆ 42          ┆ 138700.0    ┆ … ┆ 6.04385   ┆ 3.649745 ┆ 0.000423   ┆ 1     │\n",
                            "│ 3848      ┆ 500      ┆ 42          ┆ 138800.0    ┆ … ┆ 6.042977  ┆ 3.597754 ┆ 0.000424   ┆ 1     │\n",
                            "│ 3848      ┆ 500      ┆ 42          ┆ 138900.0    ┆ … ┆ 6.040952  ┆ 3.541946 ┆ 0.000422   ┆ 1     │\n",
                            "└───────────┴──────────┴─────────────┴─────────────┴───┴───────────┴──────────┴────────────┴───────┘"
                        ]
                    },
                    "execution_count": 53,
                    "metadata": {},
                    "output_type": "execute_result"
                }
            ],
            "source": [
                "samples"
            ]
        },
        {
            "cell_type": "code",
            "execution_count": 54,
            "metadata": {},
            "outputs": [],
            "source": [
                "X, y, groups = transform_sample_df_to_arrays(\n",
                "    (samples),\n",
                "    [\n",
                "        \"temperature\",  # only for visualization\n",
                "        \"rating\",\n",
                "        \"eda_raw\",\n",
                "        # \"eda_raw\",\n",
                "        # \"cheek_raise\",\n",
                "        # \"pupil\",\n",
                "    ],\n",
                ")\n"
            ]
        },
        {
            "cell_type": "code",
            "execution_count": 56,
            "metadata": {},
            "outputs": [
                {
                    "data": {
                        "application/vnd.jupyter.widget-view+json": {
                            "model_id": "6a5c5b62ed1b4fcd8e17b557d710e3a4",
                            "version_major": 2,
                            "version_minor": 0
                        },
                        "text/plain": [
                            "interactive(children=(IntSlider(value=1243, description='sample', max=2487), Output()), _dom_classes=('widget-…"
                        ]
                    },
                    "metadata": {},
                    "output_type": "display_data"
                }
            ],
            "source": [
                "X, y, groups = transform_sample_df_to_arrays(\n",
                "    (samples),\n",
                "    [\n",
                "        \"temperature\",  # only for visualization\n",
                "        \"rating\",\n",
                "        \"eda_raw\",\n",
                "        # \"cheek_raise\",\n",
                "        # \"pupil\",\n",
                "    ],\n",
                ")\n",
                "\n",
                "\n",
                "@ipywidgets.interact(sample=(0, X.shape[0] - 1))\n",
                "def plot_sample(sample):\n",
                "    # note that sample != sample id\n",
                "    for i in range(X.shape[2]):\n",
                "        plt.plot(X[sample, :, i])\n",
                "    plt.title(f\"Sample {sample} - {groups[sample]}\")\n",
                "    # plt.ylim(0, 1.05)"
            ]
        },
        {
            "cell_type": "code",
            "execution_count": 42,
            "metadata": {},
            "outputs": [
                {
                    "data": {
                        "application/vnd.jupyter.widget-view+json": {
                            "model_id": "bc3a2f4dfd644736944e035c68ecac8e",
                            "version_major": 2,
                            "version_minor": 0
                        },
                        "text/plain": [
                            "BokehModel(combine_events=True, render_bundle={'docs_json': {'0ac30dab-c5b5-4cab-b085-e72567ba3141': {'version…"
                        ]
                    },
                    "execution_count": 42,
                    "metadata": {},
                    "output_type": "execute_result"
                }
            ],
            "source": [
                "prepare_multiline_hvplot(\n",
                "    add_normalized_timestamp(\n",
                "        (samples),\n",
                "        time_column=\"normalized_timestamp\",\n",
                "        trial_column=\"sample_id\",\n",
                "    ),\n",
                "    time_column=\"normalized_timestamp\",\n",
                "    trial_column=\"sample_id\",\n",
                ").hvplot(\n",
                "    x=\"normalized_timestamp\",\n",
                "    y=[\n",
                "        \"rating\",\n",
                "        \"eda_raw\",\n",
                "        \"temperature\",\n",
                "    ],\n",
                "    groupby=\"label\",\n",
                "    height=300,\n",
                "    ylim=(0, 1.05),\n",
                "    color=[\"blue\", \"orange\"],\n",
                ")"
            ]
        },
        {
            "cell_type": "code",
            "execution_count": 43,
            "metadata": {},
            "outputs": [
                {
                    "data": {
                        "application/vnd.jupyter.widget-view+json": {
                            "model_id": "989eecf2ca2e41bcaec613d20f687bd3",
                            "version_major": 2,
                            "version_minor": 0
                        },
                        "text/plain": [
                            "BokehModel(combine_events=True, render_bundle={'docs_json': {'039e5e64-0e11-4fba-9296-ea9a5e3eba8b': {'version…"
                        ]
                    },
                    "execution_count": 43,
                    "metadata": {},
                    "output_type": "execute_result"
                }
            ],
            "source": [
                "prepare_multiline_hvplot(\n",
                "    add_normalized_timestamp(\n",
                "        (samples),\n",
                "        time_column=\"normalized_timestamp\",\n",
                "        trial_column=\"sample_id\",\n",
                "    ),\n",
                "    time_column=\"normalized_timestamp\",\n",
                "    trial_column=\"sample_id\",\n",
                ").hvplot(\n",
                "    x=\"normalized_timestamp\",\n",
                "    y=[\n",
                "        # \"rating\",\n",
                "        \"eda_raw\",\n",
                "        \"pupil\",\n",
                "        \"temperature\",\n",
                "    ],\n",
                "    groupby=\"label\",\n",
                "    height=300,\n",
                "    ylim=(0, 1.05),\n",
                ")"
            ]
        },
        {
            "cell_type": "code",
            "execution_count": null,
            "metadata": {},
            "outputs": [],
            "source": []
        },
        {
            "cell_type": "code",
            "execution_count": null,
            "metadata": {},
            "outputs": [],
            "source": []
        }
    ],
    "metadata": {
        "kernelspec": {
            "display_name": "pain",
            "language": "python",
            "name": "python3"
        },
        "language_info": {
            "codemirror_mode": {
                "name": "ipython",
                "version": 3
            },
            "file_extension": ".py",
            "mimetype": "text/x-python",
            "name": "python",
            "nbconvert_exporter": "python",
            "pygments_lexer": "ipython3",
            "version": "3.12.10"
        }
    },
    "nbformat": 4,
    "nbformat_minor": 2
}
