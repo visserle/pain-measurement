{
    "cells": [
        {
            "cell_type": "code",
            "execution_count": 1,
            "metadata": {},
            "outputs": [],
            "source": [
                "%%capture\n",
                "from pathlib import Path\n",
                "\n",
                "if Path.cwd().stem == \"notebooks\":\n",
                "    %cd ..\n",
                "    %load_ext autoreload\n",
                "    %autoreload 2"
            ]
        },
        {
            "cell_type": "code",
            "execution_count": 2,
            "metadata": {},
            "outputs": [
                {
                    "data": {
                        "text/html": [
                            "<script type=\"esms-options\">{\"shimMode\": true}</script><style>*[data-root-id],\n",
                            "*[data-root-id] > * {\n",
                            "  box-sizing: border-box;\n",
                            "  font-family: var(--jp-ui-font-family);\n",
                            "  font-size: var(--jp-ui-font-size1);\n",
                            "  color: var(--vscode-editor-foreground, var(--jp-ui-font-color1));\n",
                            "}\n",
                            "\n",
                            "/* Override VSCode background color */\n",
                            ".cell-output-ipywidget-background:has(\n",
                            "    > .cell-output-ipywidget-background > .lm-Widget > *[data-root-id]\n",
                            "  ),\n",
                            ".cell-output-ipywidget-background:has(> .lm-Widget > *[data-root-id]) {\n",
                            "  background-color: transparent !important;\n",
                            "}\n",
                            "</style>"
                        ]
                    },
                    "metadata": {},
                    "output_type": "display_data"
                },
                {
                    "data": {
                        "application/javascript": "(function(root) {\n  function now() {\n    return new Date();\n  }\n\n  const force = true;\n  const py_version = '3.7.2'.replace('rc', '-rc.').replace('.dev', '-dev.');\n  const reloading = false;\n  const Bokeh = root.Bokeh;\n\n  // Set a timeout for this load but only if we are not already initializing\n  if (typeof (root._bokeh_timeout) === \"undefined\" || (force || !root._bokeh_is_initializing)) {\n    root._bokeh_timeout = Date.now() + 5000;\n    root._bokeh_failed_load = false;\n  }\n\n  function run_callbacks() {\n    try {\n      root._bokeh_onload_callbacks.forEach(function(callback) {\n        if (callback != null)\n          callback();\n      });\n    } finally {\n      delete root._bokeh_onload_callbacks;\n    }\n    console.debug(\"Bokeh: all callbacks have finished\");\n  }\n\n  function load_libs(css_urls, js_urls, js_modules, js_exports, callback) {\n    if (css_urls == null) css_urls = [];\n    if (js_urls == null) js_urls = [];\n    if (js_modules == null) js_modules = [];\n    if (js_exports == null) js_exports = {};\n\n    root._bokeh_onload_callbacks.push(callback);\n\n    if (root._bokeh_is_loading > 0) {\n      // Don't load bokeh if it is still initializing\n      console.debug(\"Bokeh: BokehJS is being loaded, scheduling callback at\", now());\n      return null;\n    } else if (js_urls.length === 0 && js_modules.length === 0 && Object.keys(js_exports).length === 0) {\n      // There is nothing to load\n      run_callbacks();\n      return null;\n    }\n\n    function on_load() {\n      root._bokeh_is_loading--;\n      if (root._bokeh_is_loading === 0) {\n        console.debug(\"Bokeh: all BokehJS libraries/stylesheets loaded\");\n        run_callbacks()\n      }\n    }\n    window._bokeh_on_load = on_load\n\n    function on_error(e) {\n      const src_el = e.srcElement\n      console.error(\"failed to load \" + (src_el.href || src_el.src));\n    }\n\n    const skip = [];\n    if (window.requirejs) {\n      window.requirejs.config({'packages': {}, 'paths': {}, 'shim': {}});\n      root._bokeh_is_loading = css_urls.length + 0;\n    } else {\n      root._bokeh_is_loading = css_urls.length + js_urls.length + js_modules.length + Object.keys(js_exports).length;\n    }\n\n    const existing_stylesheets = []\n    const links = document.getElementsByTagName('link')\n    for (let i = 0; i < links.length; i++) {\n      const link = links[i]\n      if (link.href != null) {\n        existing_stylesheets.push(link.href)\n      }\n    }\n    for (let i = 0; i < css_urls.length; i++) {\n      const url = css_urls[i];\n      const escaped = encodeURI(url)\n      if (existing_stylesheets.indexOf(escaped) !== -1) {\n        on_load()\n        continue;\n      }\n      const element = document.createElement(\"link\");\n      element.onload = on_load;\n      element.onerror = on_error;\n      element.rel = \"stylesheet\";\n      element.type = \"text/css\";\n      element.href = url;\n      console.debug(\"Bokeh: injecting link tag for BokehJS stylesheet: \", url);\n      document.body.appendChild(element);\n    }    var existing_scripts = []\n    const scripts = document.getElementsByTagName('script')\n    for (let i = 0; i < scripts.length; i++) {\n      var script = scripts[i]\n      if (script.src != null) {\n        existing_scripts.push(script.src)\n      }\n    }\n    for (let i = 0; i < js_urls.length; i++) {\n      const url = js_urls[i];\n      const escaped = encodeURI(url)\n      if (skip.indexOf(escaped) !== -1 || existing_scripts.indexOf(escaped) !== -1) {\n        if (!window.requirejs) {\n          on_load();\n        }\n        continue;\n      }\n      const element = document.createElement('script');\n      element.onload = on_load;\n      element.onerror = on_error;\n      element.async = false;\n      element.src = url;\n      console.debug(\"Bokeh: injecting script tag for BokehJS library: \", url);\n      document.head.appendChild(element);\n    }\n    for (let i = 0; i < js_modules.length; i++) {\n      const url = js_modules[i];\n      const escaped = encodeURI(url)\n      if (skip.indexOf(escaped) !== -1 || existing_scripts.indexOf(escaped) !== -1) {\n        if (!window.requirejs) {\n          on_load();\n        }\n        continue;\n      }\n      var element = document.createElement('script');\n      element.onload = on_load;\n      element.onerror = on_error;\n      element.async = false;\n      element.src = url;\n      element.type = \"module\";\n      console.debug(\"Bokeh: injecting script tag for BokehJS library: \", url);\n      document.head.appendChild(element);\n    }\n    for (const name in js_exports) {\n      const url = js_exports[name];\n      const escaped = encodeURI(url)\n      if (skip.indexOf(escaped) >= 0 || root[name] != null) {\n        if (!window.requirejs) {\n          on_load();\n        }\n        continue;\n      }\n      var element = document.createElement('script');\n      element.onerror = on_error;\n      element.async = false;\n      element.type = \"module\";\n      console.debug(\"Bokeh: injecting script tag for BokehJS library: \", url);\n      element.textContent = `\n      import ${name} from \"${url}\"\n      window.${name} = ${name}\n      window._bokeh_on_load()\n      `\n      document.head.appendChild(element);\n    }\n    if (!js_urls.length && !js_modules.length) {\n      on_load()\n    }\n  };\n\n  function inject_raw_css(css) {\n    const element = document.createElement(\"style\");\n    element.appendChild(document.createTextNode(css));\n    document.body.appendChild(element);\n  }\n\n  const js_urls = [\"https://cdn.holoviz.org/panel/1.6.2/dist/bundled/reactiveesm/es-module-shims@^1.10.0/dist/es-module-shims.min.js\", \"https://cdn.bokeh.org/bokeh/release/bokeh-3.7.2.min.js\", \"https://cdn.bokeh.org/bokeh/release/bokeh-gl-3.7.2.min.js\", \"https://cdn.bokeh.org/bokeh/release/bokeh-widgets-3.7.2.min.js\", \"https://cdn.bokeh.org/bokeh/release/bokeh-tables-3.7.2.min.js\", \"https://cdn.holoviz.org/panel/1.6.2/dist/panel.min.js\"];\n  const js_modules = [];\n  const js_exports = {};\n  const css_urls = [];\n  const inline_js = [    function(Bokeh) {\n      Bokeh.set_log_level(\"info\");\n    },\nfunction(Bokeh) {} // ensure no trailing comma for IE\n  ];\n\n  function run_inline_js() {\n    if ((root.Bokeh !== undefined) || (force === true)) {\n      for (let i = 0; i < inline_js.length; i++) {\n        try {\n          inline_js[i].call(root, root.Bokeh);\n        } catch(e) {\n          if (!reloading) {\n            throw e;\n          }\n        }\n      }\n      // Cache old bokeh versions\n      if (Bokeh != undefined && !reloading) {\n        var NewBokeh = root.Bokeh;\n        if (Bokeh.versions === undefined) {\n          Bokeh.versions = new Map();\n        }\n        if (NewBokeh.version !== Bokeh.version) {\n          Bokeh.versions.set(NewBokeh.version, NewBokeh)\n        }\n        root.Bokeh = Bokeh;\n      }\n    } else if (Date.now() < root._bokeh_timeout) {\n      setTimeout(run_inline_js, 100);\n    } else if (!root._bokeh_failed_load) {\n      console.log(\"Bokeh: BokehJS failed to load within specified timeout.\");\n      root._bokeh_failed_load = true;\n    }\n    root._bokeh_is_initializing = false\n  }\n\n  function load_or_wait() {\n    // Implement a backoff loop that tries to ensure we do not load multiple\n    // versions of Bokeh and its dependencies at the same time.\n    // In recent versions we use the root._bokeh_is_initializing flag\n    // to determine whether there is an ongoing attempt to initialize\n    // bokeh, however for backward compatibility we also try to ensure\n    // that we do not start loading a newer (Panel>=1.0 and Bokeh>3) version\n    // before older versions are fully initialized.\n    if (root._bokeh_is_initializing && Date.now() > root._bokeh_timeout) {\n      // If the timeout and bokeh was not successfully loaded we reset\n      // everything and try loading again\n      root._bokeh_timeout = Date.now() + 5000;\n      root._bokeh_is_initializing = false;\n      root._bokeh_onload_callbacks = undefined;\n      root._bokeh_is_loading = 0\n      console.log(\"Bokeh: BokehJS was loaded multiple times but one version failed to initialize.\");\n      load_or_wait();\n    } else if (root._bokeh_is_initializing || (typeof root._bokeh_is_initializing === \"undefined\" && root._bokeh_onload_callbacks !== undefined)) {\n      setTimeout(load_or_wait, 100);\n    } else {\n      root._bokeh_is_initializing = true\n      root._bokeh_onload_callbacks = []\n      const bokeh_loaded = root.Bokeh != null && (root.Bokeh.version === py_version || (root.Bokeh.versions !== undefined && root.Bokeh.versions.has(py_version)));\n      if (!reloading && !bokeh_loaded) {\n        if (root.Bokeh) {\n          root.Bokeh = undefined;\n        }\n        console.debug(\"Bokeh: BokehJS not loaded, scheduling load and callback at\", now());\n      }\n      load_libs(css_urls, js_urls, js_modules, js_exports, function() {\n        console.debug(\"Bokeh: BokehJS plotting callback run at\", now());\n        run_inline_js();\n      });\n    }\n  }\n  // Give older versions of the autoload script a head-start to ensure\n  // they initialize before we start loading newer version.\n  setTimeout(load_or_wait, 100)\n}(window));",
                        "application/vnd.holoviews_load.v0+json": ""
                    },
                    "metadata": {},
                    "output_type": "display_data"
                },
                {
                    "data": {
                        "application/javascript": "\nif ((window.PyViz === undefined) || (window.PyViz instanceof HTMLElement)) {\n  window.PyViz = {comms: {}, comm_status:{}, kernels:{}, receivers: {}, plot_index: []}\n}\n\n\n    function JupyterCommManager() {\n    }\n\n    JupyterCommManager.prototype.register_target = function(plot_id, comm_id, msg_handler) {\n      if (window.comm_manager || ((window.Jupyter !== undefined) && (Jupyter.notebook.kernel != null))) {\n        var comm_manager = window.comm_manager || Jupyter.notebook.kernel.comm_manager;\n        comm_manager.register_target(comm_id, function(comm) {\n          comm.on_msg(msg_handler);\n        });\n      } else if ((plot_id in window.PyViz.kernels) && (window.PyViz.kernels[plot_id])) {\n        window.PyViz.kernels[plot_id].registerCommTarget(comm_id, function(comm) {\n          comm.onMsg = msg_handler;\n        });\n      } else if (typeof google != 'undefined' && google.colab.kernel != null) {\n        google.colab.kernel.comms.registerTarget(comm_id, (comm) => {\n          var messages = comm.messages[Symbol.asyncIterator]();\n          function processIteratorResult(result) {\n            var message = result.value;\n            console.log(message)\n            var content = {data: message.data, comm_id};\n            var buffers = []\n            for (var buffer of message.buffers || []) {\n              buffers.push(new DataView(buffer))\n            }\n            var metadata = message.metadata || {};\n            var msg = {content, buffers, metadata}\n            msg_handler(msg);\n            return messages.next().then(processIteratorResult);\n          }\n          return messages.next().then(processIteratorResult);\n        })\n      }\n    }\n\n    JupyterCommManager.prototype.get_client_comm = function(plot_id, comm_id, msg_handler) {\n      if (comm_id in window.PyViz.comms) {\n        return window.PyViz.comms[comm_id];\n      } else if (window.comm_manager || ((window.Jupyter !== undefined) && (Jupyter.notebook.kernel != null))) {\n        var comm_manager = window.comm_manager || Jupyter.notebook.kernel.comm_manager;\n        var comm = comm_manager.new_comm(comm_id, {}, {}, {}, comm_id);\n        if (msg_handler) {\n          comm.on_msg(msg_handler);\n        }\n      } else if ((plot_id in window.PyViz.kernels) && (window.PyViz.kernels[plot_id])) {\n        var comm = window.PyViz.kernels[plot_id].connectToComm(comm_id);\n        comm.open();\n        if (msg_handler) {\n          comm.onMsg = msg_handler;\n        }\n      } else if (typeof google != 'undefined' && google.colab.kernel != null) {\n        var comm_promise = google.colab.kernel.comms.open(comm_id)\n        comm_promise.then((comm) => {\n          window.PyViz.comms[comm_id] = comm;\n          if (msg_handler) {\n            var messages = comm.messages[Symbol.asyncIterator]();\n            function processIteratorResult(result) {\n              var message = result.value;\n              var content = {data: message.data};\n              var metadata = message.metadata || {comm_id};\n              var msg = {content, metadata}\n              msg_handler(msg);\n              return messages.next().then(processIteratorResult);\n            }\n            return messages.next().then(processIteratorResult);\n          }\n        })\n        var sendClosure = (data, metadata, buffers, disposeOnDone) => {\n          return comm_promise.then((comm) => {\n            comm.send(data, metadata, buffers, disposeOnDone);\n          });\n        };\n        var comm = {\n          send: sendClosure\n        };\n      }\n      window.PyViz.comms[comm_id] = comm;\n      return comm;\n    }\n    window.PyViz.comm_manager = new JupyterCommManager();\n    \n\n\nvar JS_MIME_TYPE = 'application/javascript';\nvar HTML_MIME_TYPE = 'text/html';\nvar EXEC_MIME_TYPE = 'application/vnd.holoviews_exec.v0+json';\nvar CLASS_NAME = 'output';\n\n/**\n * Render data to the DOM node\n */\nfunction render(props, node) {\n  var div = document.createElement(\"div\");\n  var script = document.createElement(\"script\");\n  node.appendChild(div);\n  node.appendChild(script);\n}\n\n/**\n * Handle when a new output is added\n */\nfunction handle_add_output(event, handle) {\n  var output_area = handle.output_area;\n  var output = handle.output;\n  if ((output.data == undefined) || (!output.data.hasOwnProperty(EXEC_MIME_TYPE))) {\n    return\n  }\n  var id = output.metadata[EXEC_MIME_TYPE][\"id\"];\n  var toinsert = output_area.element.find(\".\" + CLASS_NAME.split(' ')[0]);\n  if (id !== undefined) {\n    var nchildren = toinsert.length;\n    var html_node = toinsert[nchildren-1].children[0];\n    html_node.innerHTML = output.data[HTML_MIME_TYPE];\n    var scripts = [];\n    var nodelist = html_node.querySelectorAll(\"script\");\n    for (var i in nodelist) {\n      if (nodelist.hasOwnProperty(i)) {\n        scripts.push(nodelist[i])\n      }\n    }\n\n    scripts.forEach( function (oldScript) {\n      var newScript = document.createElement(\"script\");\n      var attrs = [];\n      var nodemap = oldScript.attributes;\n      for (var j in nodemap) {\n        if (nodemap.hasOwnProperty(j)) {\n          attrs.push(nodemap[j])\n        }\n      }\n      attrs.forEach(function(attr) { newScript.setAttribute(attr.name, attr.value) });\n      newScript.appendChild(document.createTextNode(oldScript.innerHTML));\n      oldScript.parentNode.replaceChild(newScript, oldScript);\n    });\n    if (JS_MIME_TYPE in output.data) {\n      toinsert[nchildren-1].children[1].textContent = output.data[JS_MIME_TYPE];\n    }\n    output_area._hv_plot_id = id;\n    if ((window.Bokeh !== undefined) && (id in Bokeh.index)) {\n      window.PyViz.plot_index[id] = Bokeh.index[id];\n    } else {\n      window.PyViz.plot_index[id] = null;\n    }\n  } else if (output.metadata[EXEC_MIME_TYPE][\"server_id\"] !== undefined) {\n    var bk_div = document.createElement(\"div\");\n    bk_div.innerHTML = output.data[HTML_MIME_TYPE];\n    var script_attrs = bk_div.children[0].attributes;\n    for (var i = 0; i < script_attrs.length; i++) {\n      toinsert[toinsert.length - 1].childNodes[1].setAttribute(script_attrs[i].name, script_attrs[i].value);\n    }\n    // store reference to server id on output_area\n    output_area._bokeh_server_id = output.metadata[EXEC_MIME_TYPE][\"server_id\"];\n  }\n}\n\n/**\n * Handle when an output is cleared or removed\n */\nfunction handle_clear_output(event, handle) {\n  var id = handle.cell.output_area._hv_plot_id;\n  var server_id = handle.cell.output_area._bokeh_server_id;\n  if (((id === undefined) || !(id in PyViz.plot_index)) && (server_id !== undefined)) { return; }\n  var comm = window.PyViz.comm_manager.get_client_comm(\"hv-extension-comm\", \"hv-extension-comm\", function () {});\n  if (server_id !== null) {\n    comm.send({event_type: 'server_delete', 'id': server_id});\n    return;\n  } else if (comm !== null) {\n    comm.send({event_type: 'delete', 'id': id});\n  }\n  delete PyViz.plot_index[id];\n  if ((window.Bokeh !== undefined) & (id in window.Bokeh.index)) {\n    var doc = window.Bokeh.index[id].model.document\n    doc.clear();\n    const i = window.Bokeh.documents.indexOf(doc);\n    if (i > -1) {\n      window.Bokeh.documents.splice(i, 1);\n    }\n  }\n}\n\n/**\n * Handle kernel restart event\n */\nfunction handle_kernel_cleanup(event, handle) {\n  delete PyViz.comms[\"hv-extension-comm\"];\n  window.PyViz.plot_index = {}\n}\n\n/**\n * Handle update_display_data messages\n */\nfunction handle_update_output(event, handle) {\n  handle_clear_output(event, {cell: {output_area: handle.output_area}})\n  handle_add_output(event, handle)\n}\n\nfunction register_renderer(events, OutputArea) {\n  function append_mime(data, metadata, element) {\n    // create a DOM node to render to\n    var toinsert = this.create_output_subarea(\n    metadata,\n    CLASS_NAME,\n    EXEC_MIME_TYPE\n    );\n    this.keyboard_manager.register_events(toinsert);\n    // Render to node\n    var props = {data: data, metadata: metadata[EXEC_MIME_TYPE]};\n    render(props, toinsert[0]);\n    element.append(toinsert);\n    return toinsert\n  }\n\n  events.on('output_added.OutputArea', handle_add_output);\n  events.on('output_updated.OutputArea', handle_update_output);\n  events.on('clear_output.CodeCell', handle_clear_output);\n  events.on('delete.Cell', handle_clear_output);\n  events.on('kernel_ready.Kernel', handle_kernel_cleanup);\n\n  OutputArea.prototype.register_mime_type(EXEC_MIME_TYPE, append_mime, {\n    safe: true,\n    index: 0\n  });\n}\n\nif (window.Jupyter !== undefined) {\n  try {\n    var events = require('base/js/events');\n    var OutputArea = require('notebook/js/outputarea').OutputArea;\n    if (OutputArea.prototype.mime_types().indexOf(EXEC_MIME_TYPE) == -1) {\n      register_renderer(events, OutputArea);\n    }\n  } catch(err) {\n  }\n}\n",
                        "application/vnd.holoviews_load.v0+json": ""
                    },
                    "metadata": {},
                    "output_type": "display_data"
                },
                {
                    "data": {
                        "application/vnd.holoviews_exec.v0+json": "",
                        "text/html": [
                            "<div id='977dff8f-b455-4fc1-8211-889bda6894cb'>\n",
                            "  <div id=\"c8699df3-0204-4f25-8cd7-ce9e9052a783\" data-root-id=\"977dff8f-b455-4fc1-8211-889bda6894cb\" style=\"display: contents;\"></div>\n",
                            "</div>\n",
                            "<script type=\"application/javascript\">(function(root) {\n",
                            "  var docs_json = {\"b6c61c97-1896-4f92-9248-7da203e4d2d0\":{\"version\":\"3.7.2\",\"title\":\"Bokeh Application\",\"roots\":[{\"type\":\"object\",\"name\":\"panel.models.browser.BrowserInfo\",\"id\":\"977dff8f-b455-4fc1-8211-889bda6894cb\"},{\"type\":\"object\",\"name\":\"panel.models.comm_manager.CommManager\",\"id\":\"dbf4073b-f866-40a3-91a0-e1f1ae7ee828\",\"attributes\":{\"plot_id\":\"977dff8f-b455-4fc1-8211-889bda6894cb\",\"comm_id\":\"602d2271c089401f84113d8f9baf4c32\",\"client_comm_id\":\"750e6ed4a84b40e7bb770c78114a7a24\"}}],\"defs\":[{\"type\":\"model\",\"name\":\"ReactiveHTML1\"},{\"type\":\"model\",\"name\":\"FlexBox1\",\"properties\":[{\"name\":\"align_content\",\"kind\":\"Any\",\"default\":\"flex-start\"},{\"name\":\"align_items\",\"kind\":\"Any\",\"default\":\"flex-start\"},{\"name\":\"flex_direction\",\"kind\":\"Any\",\"default\":\"row\"},{\"name\":\"flex_wrap\",\"kind\":\"Any\",\"default\":\"wrap\"},{\"name\":\"gap\",\"kind\":\"Any\",\"default\":\"\"},{\"name\":\"justify_content\",\"kind\":\"Any\",\"default\":\"flex-start\"}]},{\"type\":\"model\",\"name\":\"FloatPanel1\",\"properties\":[{\"name\":\"config\",\"kind\":\"Any\",\"default\":{\"type\":\"map\"}},{\"name\":\"contained\",\"kind\":\"Any\",\"default\":true},{\"name\":\"position\",\"kind\":\"Any\",\"default\":\"right-top\"},{\"name\":\"offsetx\",\"kind\":\"Any\",\"default\":null},{\"name\":\"offsety\",\"kind\":\"Any\",\"default\":null},{\"name\":\"theme\",\"kind\":\"Any\",\"default\":\"primary\"},{\"name\":\"status\",\"kind\":\"Any\",\"default\":\"normalized\"}]},{\"type\":\"model\",\"name\":\"GridStack1\",\"properties\":[{\"name\":\"ncols\",\"kind\":\"Any\",\"default\":null},{\"name\":\"nrows\",\"kind\":\"Any\",\"default\":null},{\"name\":\"allow_resize\",\"kind\":\"Any\",\"default\":true},{\"name\":\"allow_drag\",\"kind\":\"Any\",\"default\":true},{\"name\":\"state\",\"kind\":\"Any\",\"default\":[]}]},{\"type\":\"model\",\"name\":\"drag1\",\"properties\":[{\"name\":\"slider_width\",\"kind\":\"Any\",\"default\":5},{\"name\":\"slider_color\",\"kind\":\"Any\",\"default\":\"black\"},{\"name\":\"value\",\"kind\":\"Any\",\"default\":50}]},{\"type\":\"model\",\"name\":\"click1\",\"properties\":[{\"name\":\"terminal_output\",\"kind\":\"Any\",\"default\":\"\"},{\"name\":\"debug_name\",\"kind\":\"Any\",\"default\":\"\"},{\"name\":\"clears\",\"kind\":\"Any\",\"default\":0}]},{\"type\":\"model\",\"name\":\"FastWrapper1\",\"properties\":[{\"name\":\"object\",\"kind\":\"Any\",\"default\":null},{\"name\":\"style\",\"kind\":\"Any\",\"default\":null}]},{\"type\":\"model\",\"name\":\"NotificationArea1\",\"properties\":[{\"name\":\"js_events\",\"kind\":\"Any\",\"default\":{\"type\":\"map\"}},{\"name\":\"max_notifications\",\"kind\":\"Any\",\"default\":5},{\"name\":\"notifications\",\"kind\":\"Any\",\"default\":[]},{\"name\":\"position\",\"kind\":\"Any\",\"default\":\"bottom-right\"},{\"name\":\"_clear\",\"kind\":\"Any\",\"default\":0},{\"name\":\"types\",\"kind\":\"Any\",\"default\":[{\"type\":\"map\",\"entries\":[[\"type\",\"warning\"],[\"background\",\"#ffc107\"],[\"icon\",{\"type\":\"map\",\"entries\":[[\"className\",\"fas fa-exclamation-triangle\"],[\"tagName\",\"i\"],[\"color\",\"white\"]]}]]},{\"type\":\"map\",\"entries\":[[\"type\",\"info\"],[\"background\",\"#007bff\"],[\"icon\",{\"type\":\"map\",\"entries\":[[\"className\",\"fas fa-info-circle\"],[\"tagName\",\"i\"],[\"color\",\"white\"]]}]]}]}]},{\"type\":\"model\",\"name\":\"Notification\",\"properties\":[{\"name\":\"background\",\"kind\":\"Any\",\"default\":null},{\"name\":\"duration\",\"kind\":\"Any\",\"default\":3000},{\"name\":\"icon\",\"kind\":\"Any\",\"default\":null},{\"name\":\"message\",\"kind\":\"Any\",\"default\":\"\"},{\"name\":\"notification_type\",\"kind\":\"Any\",\"default\":null},{\"name\":\"_rendered\",\"kind\":\"Any\",\"default\":false},{\"name\":\"_destroyed\",\"kind\":\"Any\",\"default\":false}]},{\"type\":\"model\",\"name\":\"TemplateActions1\",\"properties\":[{\"name\":\"open_modal\",\"kind\":\"Any\",\"default\":0},{\"name\":\"close_modal\",\"kind\":\"Any\",\"default\":0}]},{\"type\":\"model\",\"name\":\"BootstrapTemplateActions1\",\"properties\":[{\"name\":\"open_modal\",\"kind\":\"Any\",\"default\":0},{\"name\":\"close_modal\",\"kind\":\"Any\",\"default\":0}]},{\"type\":\"model\",\"name\":\"TemplateEditor1\",\"properties\":[{\"name\":\"layout\",\"kind\":\"Any\",\"default\":[]}]},{\"type\":\"model\",\"name\":\"MaterialTemplateActions1\",\"properties\":[{\"name\":\"open_modal\",\"kind\":\"Any\",\"default\":0},{\"name\":\"close_modal\",\"kind\":\"Any\",\"default\":0}]},{\"type\":\"model\",\"name\":\"ReactiveESM1\",\"properties\":[{\"name\":\"esm_constants\",\"kind\":\"Any\",\"default\":{\"type\":\"map\"}}]},{\"type\":\"model\",\"name\":\"JSComponent1\",\"properties\":[{\"name\":\"esm_constants\",\"kind\":\"Any\",\"default\":{\"type\":\"map\"}}]},{\"type\":\"model\",\"name\":\"ReactComponent1\",\"properties\":[{\"name\":\"esm_constants\",\"kind\":\"Any\",\"default\":{\"type\":\"map\"}}]},{\"type\":\"model\",\"name\":\"AnyWidgetComponent1\",\"properties\":[{\"name\":\"esm_constants\",\"kind\":\"Any\",\"default\":{\"type\":\"map\"}}]},{\"type\":\"model\",\"name\":\"request_value1\",\"properties\":[{\"name\":\"fill\",\"kind\":\"Any\",\"default\":\"none\"},{\"name\":\"_synced\",\"kind\":\"Any\",\"default\":null},{\"name\":\"_request_sync\",\"kind\":\"Any\",\"default\":0}]}]}};\n",
                            "  var render_items = [{\"docid\":\"b6c61c97-1896-4f92-9248-7da203e4d2d0\",\"roots\":{\"977dff8f-b455-4fc1-8211-889bda6894cb\":\"c8699df3-0204-4f25-8cd7-ce9e9052a783\"},\"root_ids\":[\"977dff8f-b455-4fc1-8211-889bda6894cb\"]}];\n",
                            "  var docs = Object.values(docs_json)\n",
                            "  if (!docs) {\n",
                            "    return\n",
                            "  }\n",
                            "  const py_version = docs[0].version.replace('rc', '-rc.').replace('.dev', '-dev.')\n",
                            "  async function embed_document(root) {\n",
                            "    var Bokeh = get_bokeh(root)\n",
                            "    await Bokeh.embed.embed_items_notebook(docs_json, render_items);\n",
                            "    for (const render_item of render_items) {\n",
                            "      for (const root_id of render_item.root_ids) {\n",
                            "\tconst id_el = document.getElementById(root_id)\n",
                            "\tif (id_el.children.length && id_el.children[0].hasAttribute('data-root-id')) {\n",
                            "\t  const root_el = id_el.children[0]\n",
                            "\t  root_el.id = root_el.id + '-rendered'\n",
                            "\t  for (const child of root_el.children) {\n",
                            "            // Ensure JupyterLab does not capture keyboard shortcuts\n",
                            "            // see: https://jupyterlab.readthedocs.io/en/4.1.x/extension/notebook.html#keyboard-interaction-model\n",
                            "\t    child.setAttribute('data-lm-suppress-shortcuts', 'true')\n",
                            "\t  }\n",
                            "\t}\n",
                            "      }\n",
                            "    }\n",
                            "  }\n",
                            "  function get_bokeh(root) {\n",
                            "    if (root.Bokeh === undefined) {\n",
                            "      return null\n",
                            "    } else if (root.Bokeh.version !== py_version) {\n",
                            "      if (root.Bokeh.versions === undefined || !root.Bokeh.versions.has(py_version)) {\n",
                            "\treturn null\n",
                            "      }\n",
                            "      return root.Bokeh.versions.get(py_version);\n",
                            "    } else if (root.Bokeh.version === py_version) {\n",
                            "      return root.Bokeh\n",
                            "    }\n",
                            "    return null\n",
                            "  }\n",
                            "  function is_loaded(root) {\n",
                            "    var Bokeh = get_bokeh(root)\n",
                            "    return (Bokeh != null && Bokeh.Panel !== undefined)\n",
                            "  }\n",
                            "  if (is_loaded(root)) {\n",
                            "    embed_document(root);\n",
                            "  } else {\n",
                            "    var attempts = 0;\n",
                            "    var timer = setInterval(function(root) {\n",
                            "      if (is_loaded(root)) {\n",
                            "        clearInterval(timer);\n",
                            "        embed_document(root);\n",
                            "      } else if (document.readyState == \"complete\") {\n",
                            "        attempts++;\n",
                            "        if (attempts > 200) {\n",
                            "          clearInterval(timer);\n",
                            "\t  var Bokeh = get_bokeh(root)\n",
                            "\t  if (Bokeh == null || Bokeh.Panel == null) {\n",
                            "            console.warn(\"Panel: ERROR: Unable to run Panel code because Bokeh or Panel library is missing\");\n",
                            "\t  } else {\n",
                            "\t    console.warn(\"Panel: WARNING: Attempting to render but not all required libraries could be resolved.\")\n",
                            "\t    embed_document(root)\n",
                            "\t  }\n",
                            "        }\n",
                            "      }\n",
                            "    }, 25, root)\n",
                            "  }\n",
                            "})(window);</script>"
                        ]
                    },
                    "metadata": {
                        "application/vnd.holoviews_exec.v0+json": {
                            "id": "977dff8f-b455-4fc1-8211-889bda6894cb"
                        }
                    },
                    "output_type": "display_data"
                }
            ],
            "source": [
                "import logging\n",
                "from pathlib import Path\n",
                "\n",
                "import holoviews as hv\n",
                "import hvplot.polars  # noqa\n",
                "import ipywidgets\n",
                "import matplotlib.pyplot as plt\n",
                "import numpy as np\n",
                "import polars as pl\n",
                "from polars import col\n",
                "\n",
                "from src.data.database_manager import DatabaseManager\n",
                "from src.features.resampling import (\n",
                "    add_normalized_timestamp,\n",
                ")\n",
                "from src.features.scaling import scale_min_max\n",
                "from src.log_config import configure_logging\n",
                "from src.models.data_loader import transform_sample_df_to_arrays\n",
                "from src.models.sample_creation import create_samples, make_sample_set_balanced\n",
                "from src.plots.utils import prepare_multiline_hvplot\n",
                "\n",
                "configure_logging(\n",
                "    stream_level=logging.DEBUG,\n",
                "    ignore_libs=[\"matplotlib\", \"Comm\", \"bokeh\", \"tornado\"],\n",
                ")\n",
                "\n",
                "pl.Config.set_tbl_rows(12)  # for the 12 trials\n",
                "hv.output(widget_location=\"bottom\", size=130)\n",
                "\n",
                "db = DatabaseManager()"
            ]
        },
        {
            "cell_type": "code",
            "execution_count": null,
            "metadata": {},
            "outputs": [
                {
                    "name": "stdout",
                    "output_type": "stream",
                    "text": [
                        "19:12:59 | \u001b[36mDEBUG   \u001b[0m| sample_creation | Removed 80 samples with less than 29 data points\n"
                    ]
                },
                {
                    "data": {
                        "text/html": [
                            "<div><style>\n",
                            ".dataframe > thead > tr,\n",
                            ".dataframe > tbody > tr {\n",
                            "  text-align: right;\n",
                            "  white-space: pre-wrap;\n",
                            "}\n",
                            "</style>\n",
                            "<small>shape: (101_250, 13)</small><table border=\"1\" class=\"dataframe\"><thead><tr><th>sample_id</th><th>trial_id</th><th>participant_id</th><th>normalized_timestamp</th><th>timestamp</th><th>rating</th><th>temperature</th><th>eda_raw</th><th>eda_tonic</th><th>eda_phasic</th><th>pupil_mean</th><th>cheek_raise</th><th>label</th></tr><tr><td>u16</td><td>u16</td><td>u8</td><td>f64</td><td>f64</td><td>f64</td><td>f64</td><td>f64</td><td>f64</td><td>f64</td><td>f64</td><td>f64</td><td>u8</td></tr></thead><tbody><tr><td>1</td><td>1</td><td>1</td><td>24300.0</td><td>318498.9762</td><td>0.7325</td><td>0.463265</td><td>0.743605</td><td>0.743493</td><td>0.000113</td><td>4.87651</td><td>0.000514</td><td>0</td></tr><tr><td>1</td><td>1</td><td>1</td><td>24400.0</td><td>318598.9762</td><td>0.7325</td><td>0.467223</td><td>0.743493</td><td>0.743497</td><td>-0.000004</td><td>4.863735</td><td>0.000497</td><td>0</td></tr><tr><td>1</td><td>1</td><td>1</td><td>24500.0</td><td>318698.9762</td><td>0.7325</td><td>0.474557</td><td>0.743368</td><td>0.743503</td><td>-0.000135</td><td>4.846388</td><td>0.00048</td><td>0</td></tr><tr><td>1</td><td>1</td><td>1</td><td>24600.0</td><td>318798.9762</td><td>0.7325</td><td>0.481841</td><td>0.743551</td><td>0.743508</td><td>0.000044</td><td>4.831943</td><td>0.000462</td><td>0</td></tr><tr><td>1</td><td>1</td><td>1</td><td>24700.0</td><td>318898.9762</td><td>0.7325</td><td>0.489092</td><td>0.743676</td><td>0.743512</td><td>0.000163</td><td>4.790776</td><td>0.000445</td><td>0</td></tr><tr><td>1</td><td>1</td><td>1</td><td>24800.0</td><td>318998.9762</td><td>0.7325</td><td>0.496241</td><td>0.743597</td><td>0.743517</td><td>0.00008</td><td>4.713818</td><td>0.000425</td><td>0</td></tr><tr><td>&hellip;</td><td>&hellip;</td><td>&hellip;</td><td>&hellip;</td><td>&hellip;</td><td>&hellip;</td><td>&hellip;</td><td>&hellip;</td><td>&hellip;</td><td>&hellip;</td><td>&hellip;</td><td>&hellip;</td><td>&hellip;</td></tr><tr><td>4128</td><td>516</td><td>50</td><td>164400.0</td><td>2.6805e6</td><td>1.0</td><td>0.849148</td><td>27.118041</td><td>27.164955</td><td>-0.047986</td><td>5.547838</td><td>0.001395</td><td>1</td></tr><tr><td>4128</td><td>516</td><td>50</td><td>164500.0</td><td>2.6806e6</td><td>1.0</td><td>0.844366</td><td>27.111615</td><td>27.158746</td><td>-0.048233</td><td>5.554787</td><td>0.001397</td><td>1</td></tr><tr><td>4128</td><td>516</td><td>50</td><td>164600.0</td><td>2.6807e6</td><td>1.0</td><td>0.839607</td><td>27.113319</td><td>27.1518</td><td>-0.039617</td><td>5.563495</td><td>0.001845</td><td>1</td></tr><tr><td>4128</td><td>516</td><td>50</td><td>164700.0</td><td>2.6808e6</td><td>1.0</td><td>0.834724</td><td>27.102364</td><td>27.145387</td><td>-0.04419</td><td>5.569908</td><td>0.002404</td><td>1</td></tr><tr><td>4128</td><td>516</td><td>50</td><td>164800.0</td><td>2.6809e6</td><td>1.0</td><td>0.829728</td><td>27.094818</td><td>27.138585</td><td>-0.044968</td><td>5.597308</td><td>0.002379</td><td>1</td></tr><tr><td>4128</td><td>516</td><td>50</td><td>164900.0</td><td>2.6810e6</td><td>1.0</td><td>0.824704</td><td>27.087338</td><td>27.132684</td><td>-0.046576</td><td>5.66331</td><td>0.002158</td><td>1</td></tr></tbody></table></div>"
                        ],
                        "text/plain": [
                            "shape: (101_250, 13)\n",
                            "┌───────────┬──────────┬────────────┬────────────┬───┬────────────┬────────────┬───────────┬───────┐\n",
                            "│ sample_id ┆ trial_id ┆ participan ┆ normalized ┆ … ┆ eda_phasic ┆ pupil_mean ┆ cheek_rai ┆ label │\n",
                            "│ ---       ┆ ---      ┆ t_id       ┆ _timestamp ┆   ┆ ---        ┆ ---        ┆ se        ┆ ---   │\n",
                            "│ u16       ┆ u16      ┆ ---        ┆ ---        ┆   ┆ f64        ┆ f64        ┆ ---       ┆ u8    │\n",
                            "│           ┆          ┆ u8         ┆ f64        ┆   ┆            ┆            ┆ f64       ┆       │\n",
                            "╞═══════════╪══════════╪════════════╪════════════╪═══╪════════════╪════════════╪═══════════╪═══════╡\n",
                            "│ 1         ┆ 1        ┆ 1          ┆ 24300.0    ┆ … ┆ 0.000113   ┆ 4.87651    ┆ 0.000514  ┆ 0     │\n",
                            "│ 1         ┆ 1        ┆ 1          ┆ 24400.0    ┆ … ┆ -0.000004  ┆ 4.863735   ┆ 0.000497  ┆ 0     │\n",
                            "│ 1         ┆ 1        ┆ 1          ┆ 24500.0    ┆ … ┆ -0.000135  ┆ 4.846388   ┆ 0.00048   ┆ 0     │\n",
                            "│ 1         ┆ 1        ┆ 1          ┆ 24600.0    ┆ … ┆ 0.000044   ┆ 4.831943   ┆ 0.000462  ┆ 0     │\n",
                            "│ 1         ┆ 1        ┆ 1          ┆ 24700.0    ┆ … ┆ 0.000163   ┆ 4.790776   ┆ 0.000445  ┆ 0     │\n",
                            "│ 1         ┆ 1        ┆ 1          ┆ 24800.0    ┆ … ┆ 0.00008    ┆ 4.713818   ┆ 0.000425  ┆ 0     │\n",
                            "│ …         ┆ …        ┆ …          ┆ …          ┆ … ┆ …          ┆ …          ┆ …         ┆ …     │\n",
                            "│ 4128      ┆ 516      ┆ 50         ┆ 164400.0   ┆ … ┆ -0.047986  ┆ 5.547838   ┆ 0.001395  ┆ 1     │\n",
                            "│ 4128      ┆ 516      ┆ 50         ┆ 164500.0   ┆ … ┆ -0.048233  ┆ 5.554787   ┆ 0.001397  ┆ 1     │\n",
                            "│ 4128      ┆ 516      ┆ 50         ┆ 164600.0   ┆ … ┆ -0.039617  ┆ 5.563495   ┆ 0.001845  ┆ 1     │\n",
                            "│ 4128      ┆ 516      ┆ 50         ┆ 164700.0   ┆ … ┆ -0.04419   ┆ 5.569908   ┆ 0.002404  ┆ 1     │\n",
                            "│ 4128      ┆ 516      ┆ 50         ┆ 164800.0   ┆ … ┆ -0.044968  ┆ 5.597308   ┆ 0.002379  ┆ 1     │\n",
                            "│ 4128      ┆ 516      ┆ 50         ┆ 164900.0   ┆ … ┆ -0.046576  ┆ 5.66331    ┆ 0.002158  ┆ 1     │\n",
                            "└───────────┴──────────┴────────────┴────────────┴───┴────────────┴────────────┴───────────┴───────┘"
                        ]
                    },
                    "execution_count": 3,
                    "metadata": {},
                    "output_type": "execute_result"
                }
            ],
            "source": [
                "with db:\n",
                "    df = db.get_table(\n",
                "        \"Merged_and_Labeled_Data\",\n",
                "        exclude_trials_with_measurement_problems=True,\n",
                "    )\n",
                "\n",
                "intervals = {\n",
                "    \"increases\": \"strictly_increasing_intervals\",\n",
                "    \"decreases\": \"major_decreasing_intervals\",\n",
                "}\n",
                "label_mapping = {\n",
                "    \"increases\": 0,\n",
                "    \"decreases\": 1,\n",
                "}\n",
                "offsets_ms = {\n",
                "    \"increases\": 0,\n",
                "    \"decreases\": 2000,\n",
                "}\n",
                "\n",
                "sample_duration_ms = 3000\n",
                "samples = create_samples(\n",
                "    df,\n",
                "    intervals,\n",
                "    label_mapping,\n",
                "    sample_duration_ms,\n",
                "    offsets_ms,\n",
                ")\n",
                "samples = samples.select(\n",
                "    \"sample_id\",\n",
                "    \"trial_id\",\n",
                "    \"participant_id\",\n",
                "    \"normalized_timestamp\",\n",
                "    \"timestamp\",\n",
                "    \"rating\",\n",
                "    \"temperature\",\n",
                "    \"eda_raw\",\n",
                "    \"eda_tonic\",\n",
                "    \"eda_phasic\",\n",
                "    \"pupil\",\n",
                "    \"cheek_raise\",\n",
                "    \"label\",\n",
                ")\n",
                "samples\n"
            ]
        },
        {
            "cell_type": "code",
            "execution_count": 5,
            "metadata": {},
            "outputs": [
                {
                    "data": {
                        "text/html": [
                            "<div><style>\n",
                            ".dataframe > thead > tr,\n",
                            ".dataframe > tbody > tr {\n",
                            "  text-align: right;\n",
                            "  white-space: pre-wrap;\n",
                            "}\n",
                            "</style>\n",
                            "<small>shape: (3_375, 2)</small><table border=\"1\" class=\"dataframe\"><thead><tr><th>sample_id</th><th>count</th></tr><tr><td>u16</td><td>u32</td></tr></thead><tbody><tr><td>1</td><td>30</td></tr><tr><td>2</td><td>30</td></tr><tr><td>3</td><td>30</td></tr><tr><td>4</td><td>30</td></tr><tr><td>5</td><td>30</td></tr><tr><td>6</td><td>30</td></tr><tr><td>&hellip;</td><td>&hellip;</td></tr><tr><td>4123</td><td>30</td></tr><tr><td>4124</td><td>30</td></tr><tr><td>4125</td><td>30</td></tr><tr><td>4126</td><td>30</td></tr><tr><td>4127</td><td>30</td></tr><tr><td>4128</td><td>30</td></tr></tbody></table></div>"
                        ],
                        "text/plain": [
                            "shape: (3_375, 2)\n",
                            "┌───────────┬───────┐\n",
                            "│ sample_id ┆ count │\n",
                            "│ ---       ┆ ---   │\n",
                            "│ u16       ┆ u32   │\n",
                            "╞═══════════╪═══════╡\n",
                            "│ 1         ┆ 30    │\n",
                            "│ 2         ┆ 30    │\n",
                            "│ 3         ┆ 30    │\n",
                            "│ 4         ┆ 30    │\n",
                            "│ 5         ┆ 30    │\n",
                            "│ 6         ┆ 30    │\n",
                            "│ …         ┆ …     │\n",
                            "│ 4123      ┆ 30    │\n",
                            "│ 4124      ┆ 30    │\n",
                            "│ 4125      ┆ 30    │\n",
                            "│ 4126      ┆ 30    │\n",
                            "│ 4127      ┆ 30    │\n",
                            "│ 4128      ┆ 30    │\n",
                            "└───────────┴───────┘"
                        ]
                    },
                    "execution_count": 5,
                    "metadata": {},
                    "output_type": "execute_result"
                }
            ],
            "source": [
                "samples.group_by(\"sample_id\").len(\"count\")"
            ]
        },
        {
            "cell_type": "code",
            "execution_count": 6,
            "metadata": {},
            "outputs": [
                {
                    "data": {
                        "text/html": [
                            "<div><style>\n",
                            ".dataframe > thead > tr,\n",
                            ".dataframe > tbody > tr {\n",
                            "  text-align: right;\n",
                            "  white-space: pre-wrap;\n",
                            "}\n",
                            "</style>\n",
                            "<small>shape: (2, 2)</small><table border=\"1\" class=\"dataframe\"><thead><tr><th>label</th><th>count</th></tr><tr><td>u8</td><td>u32</td></tr></thead><tbody><tr><td>1</td><td>1413</td></tr><tr><td>0</td><td>1413</td></tr></tbody></table></div>"
                        ],
                        "text/plain": [
                            "shape: (2, 2)\n",
                            "┌───────┬───────┐\n",
                            "│ label ┆ count │\n",
                            "│ ---   ┆ ---   │\n",
                            "│ u8    ┆ u32   │\n",
                            "╞═══════╪═══════╡\n",
                            "│ 1     ┆ 1413  │\n",
                            "│ 0     ┆ 1413  │\n",
                            "└───────┴───────┘"
                        ]
                    },
                    "execution_count": 6,
                    "metadata": {},
                    "output_type": "execute_result"
                }
            ],
            "source": [
                "samples = make_sample_set_balanced(samples)\n",
                "\n",
                "sample_ids = (\n",
                "    samples.group_by(\"sample_id\").agg(pl.all().first()).select(\"sample_id\", \"label\")\n",
                ")\n",
                "sample_ids_count = sample_ids.get_column(\"label\").value_counts()\n",
                "sample_ids_count"
            ]
        },
        {
            "cell_type": "code",
            "execution_count": 7,
            "metadata": {},
            "outputs": [
                {
                    "data": {
                        "application/vnd.jupyter.widget-view+json": {
                            "model_id": "6a490f3c1eb54435ad408596eb3d6847",
                            "version_major": 2,
                            "version_minor": 0
                        },
                        "text/plain": [
                            "BokehModel(combine_events=True, render_bundle={'docs_json': {'f9206390-3128-43d5-b1f0-2bdc8c700d5b': {'version…"
                        ]
                    },
                    "execution_count": 7,
                    "metadata": {},
                    "output_type": "execute_result"
                }
            ],
            "source": [
                "df.hvplot(\n",
                "    x=\"normalized_timestamp\", y=\"temperature\", groupby=\"trial_id\", height=300\n",
                ") * samples.hvplot(\n",
                "    x=\"normalized_timestamp\",\n",
                "    y=\"temperature\",\n",
                "    groupby=\"trial_id\",\n",
                "    height=300,\n",
                "    kind=\"scatter\",\n",
                "    color=\"red\",\n",
                ")"
            ]
        },
        {
            "cell_type": "code",
            "execution_count": null,
            "metadata": {},
            "outputs": [],
            "source": [
                "samples"
            ]
        },
        {
            "cell_type": "code",
            "execution_count": null,
            "metadata": {},
            "outputs": [
                {
                    "data": {
                        "application/vnd.jupyter.widget-view+json": {
                            "model_id": "4e202c859a2b4ade97a659d311f663b7",
                            "version_major": 2,
                            "version_minor": 0
                        },
                        "text/plain": [
                            "interactive(children=(IntSlider(value=1412, description='sample', max=2825), Output()), _dom_classes=('widget-…"
                        ]
                    },
                    "metadata": {},
                    "output_type": "display_data"
                }
            ],
            "source": [
                "X, y, groups = transform_sample_df_to_arrays(\n",
                "    (samples),\n",
                "    [\n",
                "        \"temperature\",  # only for visualization\n",
                "        # \"rating\",\n",
                "        # \"eda_raw\",\n",
                "        # \"eda_raw\",\n",
                "        \"cheek_raise\",\n",
                "        # \"pupil\",\n",
                "    ],\n",
                ")\n",
                "\n",
                "\n",
                "@ipywidgets.interact(sample=(0, X.shape[0] - 1))\n",
                "def plot_sample(sample):\n",
                "    # note that sample != sample id\n",
                "    for i in range(X.shape[2]):\n",
                "        plt.plot(X[sample, :, i])\n",
                "    # plt.ylim(0, 1.05)"
            ]
        },
        {
            "cell_type": "code",
            "execution_count": 26,
            "metadata": {},
            "outputs": [
                {
                    "data": {
                        "text/plain": [
                            "(2826, 30, 2)"
                        ]
                    },
                    "execution_count": 26,
                    "metadata": {},
                    "output_type": "execute_result"
                }
            ],
            "source": [
                "X.shape"
            ]
        },
        {
            "cell_type": "code",
            "execution_count": null,
            "metadata": {},
            "outputs": [],
            "source": [
                "prepare_multiline_hvplot(\n",
                "    add_normalized_timestamp(\n",
                "        (samples),\n",
                "        time_column=\"normalized_timestamp\",\n",
                "        trial_column=\"sample_id\",\n",
                "    ),\n",
                "    time_column=\"normalized_timestamp\",\n",
                "    trial_column=\"sample_id\",\n",
                ").hvplot(\n",
                "    x=\"normalized_timestamp\",\n",
                "    y=[\n",
                "        # \"rating\",\n",
                "        \"eda_raw\",\n",
                "        \"temperature\",\n",
                "    ],\n",
                "    groupby=\"label\",\n",
                "    height=300,\n",
                "    ylim=(0, 1.05),\n",
                "    color=[\"blue\", \"orange\"],\n",
                ")"
            ]
        },
        {
            "cell_type": "code",
            "execution_count": null,
            "metadata": {},
            "outputs": [],
            "source": []
        },
        {
            "cell_type": "code",
            "execution_count": 4,
            "metadata": {},
            "outputs": [],
            "source": [
                "import argparse\n",
                "import logging\n",
                "from datetime import datetime\n",
                "from pathlib import Path\n",
                "\n",
                "import optuna.logging\n",
                "\n",
                "from src.data.database_manager import DatabaseManager\n",
                "from src.features.labels import add_labels\n",
                "from src.features.resampling import add_normalized_timestamp\n",
                "from src.log_config import configure_logging\n",
                "from src.models.data_loader import create_dataloaders\n",
                "from src.models.data_preparation import prepare_data\n",
                "from src.models.main_config import (\n",
                "    BATCH_SIZE,\n",
                "    INTERVALS,\n",
                "    LABEL_MAPPING,\n",
                "    N_EPOCHS,\n",
                "    N_TRIALS,\n",
                "    OFFSETS_MS,\n",
                "    RANDOM_SEED,\n",
                "    SAMPLE_DURATION_MS,\n",
                ")\n",
                "from src.models.model_selection import (\n",
                "    ExperimentTracker,\n",
                "    run_model_selection,\n",
                "    train_evaluate_and_save_best_model,\n",
                ")\n",
                "from src.models.models_config import MODELS\n",
                "from src.models.utils import get_device, set_seed\n"
            ]
        },
        {
            "cell_type": "code",
            "execution_count": 6,
            "metadata": {},
            "outputs": [
                {
                    "data": {
                        "application/vnd.jupyter.widget-view+json": {
                            "model_id": "b395c4cfefbc479296d4c9f61c11ed40",
                            "version_major": 2,
                            "version_minor": 0
                        },
                        "text/plain": [
                            "FloatProgress(value=0.0, layout=Layout(width='auto'), style=ProgressStyle(bar_color='black'))"
                        ]
                    },
                    "metadata": {},
                    "output_type": "display_data"
                }
            ],
            "source": [
                "import logging\n",
                "from pathlib import Path\n",
                "\n",
                "from src.data.database_manager import DatabaseManager\n",
                "from src.features.resampling import add_normalized_timestamp\n",
                "from src.log_config import configure_logging\n",
                "from src.models.sample_creation import create_samples, make_sample_set_balanced\n",
                "\n",
                "configure_logging(stream_level=logging.DEBUG)\n",
                "\n",
                "eeg_features = [\"f3\", \"f4\", \"c3\", \"c4\", \"cz\", \"p3\", \"p4\", \"oz\"]\n",
                "features = eeg_features\n",
                "# Load data from database\n",
                "db = DatabaseManager()\n",
                "with db:\n",
                "    eeg = db.get_table(\n",
                "        \"Preprocess_EEG\",\n",
                "        exclude_trials_with_measurement_problems=True,\n",
                "    )\n",
                "    trials = db.get_table(\n",
                "        \"Trials\",\n",
                "        exclude_trials_with_measurement_problems=True,\n",
                "    )\n",
                "    eeg = add_normalized_timestamp(eeg)\n",
                "    df = add_labels(eeg, trials)\n"
            ]
        },
        {
            "cell_type": "code",
            "execution_count": null,
            "metadata": {},
            "outputs": [
                {
                    "name": "stdout",
                    "output_type": "stream",
                    "text": [
                        "18:43:12 | \u001b[93mWARNING \u001b[0m| sample_creation | Sampling rate is not equidistant with 10 Hz.\n",
                        "shape: (5_283_250, 27)\n",
                        "┌──────────┬────────────┬────────────┬───────────┬───┬────────────┬────────────┬───────┬───────────┐\n",
                        "│ trial_id ┆ trial_numb ┆ participan ┆ rownumber ┆ … ┆ normalized ┆ normalized ┆ label ┆ sample_id │\n",
                        "│ ---      ┆ er         ┆ t_id       ┆ ---       ┆   ┆ _timestamp ┆ _timestamp ┆ ---   ┆ ---       │\n",
                        "│ u16      ┆ ---        ┆ ---        ┆ u32       ┆   ┆ _increases ┆ _decreases ┆ u8    ┆ u16       │\n",
                        "│          ┆ u8         ┆ u8         ┆           ┆   ┆ ---        ┆ ---        ┆       ┆           │\n",
                        "│          ┆            ┆            ┆           ┆   ┆ f64        ┆ f64        ┆       ┆           │\n",
                        "╞══════════╪════════════╪════════════╪═══════════╪═══╪════════════╪════════════╪═══════╪═══════════╡\n",
                        "│ 1        ┆ 1          ┆ 1          ┆ 159236    ┆ … ┆ 0.0        ┆ null       ┆ 0     ┆ 1         │\n",
                        "│ 1        ┆ 1          ┆ 1          ┆ 159238    ┆ … ┆ 4.0001     ┆ null       ┆ 0     ┆ 1         │\n",
                        "│ 1        ┆ 1          ┆ 1          ┆ 159240    ┆ … ┆ 7.8568     ┆ null       ┆ 0     ┆ 1         │\n",
                        "│ 1        ┆ 1          ┆ 1          ┆ 159242    ┆ … ┆ 12.0754    ┆ null       ┆ 0     ┆ 1         │\n",
                        "│ 1        ┆ 1          ┆ 1          ┆ 159244    ┆ … ┆ 16.0369    ┆ null       ┆ 0     ┆ 1         │\n",
                        "│ …        ┆ …          ┆ …          ┆ …         ┆ … ┆ …          ┆ …          ┆ …     ┆ …         │\n",
                        "│ 516      ┆ 12         ┆ 50         ┆ 1342488   ┆ … ┆ null       ┆ 8980.1709  ┆ 1     ┆ 3768      │\n",
                        "│ 516      ┆ 12         ┆ 50         ┆ 1342490   ┆ … ┆ null       ┆ 8984.0854  ┆ 1     ┆ 3768      │\n",
                        "│ 516      ┆ 12         ┆ 50         ┆ 1342492   ┆ … ┆ null       ┆ 8987.9038  ┆ 1     ┆ 3768      │\n",
                        "│ 516      ┆ 12         ┆ 50         ┆ 1342494   ┆ … ┆ null       ┆ 8991.8898  ┆ 1     ┆ 3768      │\n",
                        "│ 516      ┆ 12         ┆ 50         ┆ 1342496   ┆ … ┆ null       ┆ 8996.0702  ┆ 1     ┆ 3768      │\n",
                        "└──────────┴────────────┴────────────┴───────────┴───┴────────────┴────────────┴───────┴───────────┘\n",
                        "hello\n",
                        "shape: (1_750, 27)\n",
                        "┌──────────┬────────────┬────────────┬───────────┬───┬────────────┬────────────┬───────┬───────────┐\n",
                        "│ trial_id ┆ trial_numb ┆ participan ┆ rownumber ┆ … ┆ normalized ┆ normalized ┆ label ┆ sample_id │\n",
                        "│ ---      ┆ er         ┆ t_id       ┆ ---       ┆   ┆ _timestamp ┆ _timestamp ┆ ---   ┆ ---       │\n",
                        "│ u16      ┆ ---        ┆ ---        ┆ u32       ┆   ┆ _increases ┆ _decreases ┆ u8    ┆ u16       │\n",
                        "│          ┆ u8         ┆ u8         ┆           ┆   ┆ ---        ┆ ---        ┆       ┆           │\n",
                        "│          ┆            ┆            ┆           ┆   ┆ f64        ┆ f64        ┆       ┆           │\n",
                        "╞══════════╪════════════╪════════════╪═══════════╪═══╪════════════╪════════════╪═══════╪═══════════╡\n",
                        "│ 516      ┆ 12         ┆ 50         ┆ 1338998   ┆ … ┆ null       ┆ 2000.1016  ┆ 1     ┆ 3768      │\n",
                        "│ 516      ┆ 12         ┆ 50         ┆ 1339000   ┆ … ┆ null       ┆ 2004.0543  ┆ 1     ┆ 3768      │\n",
                        "│ 516      ┆ 12         ┆ 50         ┆ 1339002   ┆ … ┆ null       ┆ 2008.3209  ┆ 1     ┆ 3768      │\n",
                        "│ 516      ┆ 12         ┆ 50         ┆ 1339004   ┆ … ┆ null       ┆ 2015.3554  ┆ 1     ┆ 3768      │\n",
                        "│ 516      ┆ 12         ┆ 50         ┆ 1339006   ┆ … ┆ null       ┆ 2015.9446  ┆ 1     ┆ 3768      │\n",
                        "│ …        ┆ …          ┆ …          ┆ …         ┆ … ┆ …          ┆ …          ┆ …     ┆ …         │\n",
                        "│ 516      ┆ 12         ┆ 50         ┆ 1342488   ┆ … ┆ null       ┆ 8980.1709  ┆ 1     ┆ 3768      │\n",
                        "│ 516      ┆ 12         ┆ 50         ┆ 1342490   ┆ … ┆ null       ┆ 8984.0854  ┆ 1     ┆ 3768      │\n",
                        "│ 516      ┆ 12         ┆ 50         ┆ 1342492   ┆ … ┆ null       ┆ 8987.9038  ┆ 1     ┆ 3768      │\n",
                        "│ 516      ┆ 12         ┆ 50         ┆ 1342494   ┆ … ┆ null       ┆ 8991.8898  ┆ 1     ┆ 3768      │\n",
                        "│ 516      ┆ 12         ┆ 50         ┆ 1342496   ┆ … ┆ null       ┆ 8996.0702  ┆ 1     ┆ 3768      │\n",
                        "└──────────┴────────────┴────────────┴───────────┴───┴────────────┴────────────┴───────┴───────────┘\n"
                    ]
                }
            ],
            "source": [
                "intervals = {\n",
                "    \"increases\": \"strictly_increasing_intervals\",\n",
                "    \"decreases\": \"major_decreasing_intervals\",\n",
                "}\n",
                "label_mapping = {\n",
                "    \"increases\": 0,\n",
                "    \"decreases\": 1,\n",
                "}\n",
                "offsets_ms = {\n",
                "    \"increases\": 0,\n",
                "    \"decreases\": 2000,\n",
                "}\n",
                "\n",
                "sample_duration_ms = 7000\n",
                "\n",
                "# Create and balance samples\n",
                "samples = create_samples(df, intervals, label_mapping, sample_duration_ms, offsets_ms)\n",
                "samples = make_sample_set_balanced(samples, 1337)\n",
                "\n",
                "print(samples.filter(sample_id=3768))\n"
            ]
        },
        {
            "cell_type": "code",
            "execution_count": 8,
            "metadata": {},
            "outputs": [
                {
                    "data": {
                        "text/html": [
                            "<div><style>\n",
                            ".dataframe > thead > tr,\n",
                            ".dataframe > tbody > tr {\n",
                            "  text-align: right;\n",
                            "  white-space: pre-wrap;\n",
                            "}\n",
                            "</style>\n",
                            "<small>shape: (4_525_500, 27)</small><table border=\"1\" class=\"dataframe\"><thead><tr><th>trial_id</th><th>trial_number</th><th>participant_id</th><th>rownumber</th><th>timestamp</th><th>f3</th><th>f4</th><th>c3</th><th>cz</th><th>c4</th><th>p3</th><th>p4</th><th>oz</th><th>normalized_timestamp</th><th>stimulus_seed</th><th>skin_patch</th><th>decreasing_intervals</th><th>major_decreasing_intervals</th><th>increasing_intervals</th><th>strictly_increasing_intervals</th><th>strictly_increasing_intervals_without_plateaus</th><th>plateau_intervals</th><th>prolonged_minima_intervals</th><th>normalized_timestamp_increases</th><th>normalized_timestamp_decreases</th><th>label</th><th>sample_id</th></tr><tr><td>u16</td><td>u8</td><td>u8</td><td>u32</td><td>f64</td><td>f64</td><td>f64</td><td>f64</td><td>f64</td><td>f64</td><td>f64</td><td>f64</td><td>f64</td><td>f64</td><td>u16</td><td>u8</td><td>u16</td><td>u16</td><td>u16</td><td>u16</td><td>u16</td><td>u16</td><td>u16</td><td>f64</td><td>f64</td><td>u8</td><td>u16</td></tr></thead><tbody><tr><td>1</td><td>1</td><td>1</td><td>159236</td><td>318499.4498</td><td>4.864119</td><td>6.288388</td><td>6.12215</td><td>7.617009</td><td>7.544454</td><td>6.332759</td><td>2.572159</td><td>1.177451</td><td>24300.987</td><td>396</td><td>1</td><td>0</td><td>0</td><td>1</td><td>1</td><td>0</td><td>0</td><td>0</td><td>0.0</td><td>null</td><td>0</td><td>1</td></tr><tr><td>1</td><td>1</td><td>1</td><td>159238</td><td>318503.4499</td><td>12.33133</td><td>4.563441</td><td>9.251234</td><td>7.63424</td><td>2.469335</td><td>5.120281</td><td>-1.464273</td><td>0.130467</td><td>24304.9871</td><td>396</td><td>1</td><td>0</td><td>0</td><td>1</td><td>1</td><td>0</td><td>0</td><td>0</td><td>4.0001</td><td>null</td><td>0</td><td>1</td></tr><tr><td>1</td><td>1</td><td>1</td><td>159240</td><td>318507.3066</td><td>7.243493</td><td>5.995082</td><td>1.865997</td><td>6.598088</td><td>0.74527</td><td>2.344545</td><td>-2.692952</td><td>-0.893515</td><td>24308.8438</td><td>396</td><td>1</td><td>0</td><td>0</td><td>1</td><td>1</td><td>0</td><td>0</td><td>0</td><td>7.8568</td><td>null</td><td>0</td><td>1</td></tr><tr><td>1</td><td>1</td><td>1</td><td>159242</td><td>318511.5252</td><td>4.938367</td><td>12.478059</td><td>4.753045</td><td>11.44356</td><td>7.446143</td><td>5.917428</td><td>2.644361</td><td>4.426261</td><td>24313.0624</td><td>396</td><td>1</td><td>0</td><td>0</td><td>1</td><td>1</td><td>0</td><td>0</td><td>0</td><td>12.0754</td><td>null</td><td>0</td><td>1</td></tr><tr><td>1</td><td>1</td><td>1</td><td>159244</td><td>318515.4867</td><td>2.298745</td><td>4.902164</td><td>-0.454101</td><td>6.82498</td><td>-0.399314</td><td>-0.744325</td><td>-4.293437</td><td>-3.743488</td><td>24317.0239</td><td>396</td><td>1</td><td>0</td><td>0</td><td>1</td><td>1</td><td>0</td><td>0</td><td>0</td><td>16.0369</td><td>null</td><td>0</td><td>1</td></tr><tr><td>&hellip;</td><td>&hellip;</td><td>&hellip;</td><td>&hellip;</td><td>&hellip;</td><td>&hellip;</td><td>&hellip;</td><td>&hellip;</td><td>&hellip;</td><td>&hellip;</td><td>&hellip;</td><td>&hellip;</td><td>&hellip;</td><td>&hellip;</td><td>&hellip;</td><td>&hellip;</td><td>&hellip;</td><td>&hellip;</td><td>&hellip;</td><td>&hellip;</td><td>&hellip;</td><td>&hellip;</td><td>&hellip;</td><td>&hellip;</td><td>&hellip;</td><td>&hellip;</td><td>&hellip;</td></tr><tr><td>516</td><td>12</td><td>50</td><td>1342488</td><td>2.6851e6</td><td>-1.54988</td><td>4.180207</td><td>-1.171553</td><td>-5.029435</td><td>-3.385484</td><td>-1.16904</td><td>-8.909362</td><td>-9.70915</td><td>168981.0189</td><td>806</td><td>1</td><td>2355</td><td>1413</td><td>0</td><td>0</td><td>0</td><td>0</td><td>0</td><td>null</td><td>8980.1709</td><td>1</td><td>3768</td></tr><tr><td>516</td><td>12</td><td>50</td><td>1342490</td><td>2.6851e6</td><td>5.92358</td><td>-7.01102</td><td>-4.775418</td><td>-7.329566</td><td>-7.794008</td><td>-5.560546</td><td>-12.779723</td><td>-11.90354</td><td>168984.9334</td><td>806</td><td>1</td><td>2355</td><td>1413</td><td>0</td><td>0</td><td>0</td><td>0</td><td>0</td><td>null</td><td>8984.0854</td><td>1</td><td>3768</td></tr><tr><td>516</td><td>12</td><td>50</td><td>1342492</td><td>2.6851e6</td><td>18.902786</td><td>11.090164</td><td>4.968312</td><td>3.933333</td><td>5.664877</td><td>2.039669</td><td>-1.778671</td><td>-6.392546</td><td>168988.7518</td><td>806</td><td>1</td><td>2355</td><td>1413</td><td>0</td><td>0</td><td>0</td><td>0</td><td>0</td><td>null</td><td>8987.9038</td><td>1</td><td>3768</td></tr><tr><td>516</td><td>12</td><td>50</td><td>1342494</td><td>2.6851e6</td><td>-28.593637</td><td>-35.004465</td><td>-30.621879</td><td>-32.51721</td><td>-33.803537</td><td>-29.632569</td><td>-35.956862</td><td>-26.062611</td><td>168992.7378</td><td>806</td><td>1</td><td>2355</td><td>1413</td><td>0</td><td>0</td><td>0</td><td>0</td><td>0</td><td>null</td><td>8991.8898</td><td>1</td><td>3768</td></tr><tr><td>516</td><td>12</td><td>50</td><td>1342496</td><td>2.6851e6</td><td>1.10759</td><td>-2.177167</td><td>2.63125</td><td>1.681917</td><td>-1.163932</td><td>2.672665</td><td>-0.878427</td><td>-12.031517</td><td>168996.9182</td><td>806</td><td>1</td><td>2355</td><td>1413</td><td>0</td><td>0</td><td>0</td><td>0</td><td>0</td><td>null</td><td>8996.0702</td><td>1</td><td>3768</td></tr></tbody></table></div>"
                        ],
                        "text/plain": [
                            "shape: (4_525_500, 27)\n",
                            "┌──────────┬────────────┬────────────┬───────────┬───┬────────────┬────────────┬───────┬───────────┐\n",
                            "│ trial_id ┆ trial_numb ┆ participan ┆ rownumber ┆ … ┆ normalized ┆ normalized ┆ label ┆ sample_id │\n",
                            "│ ---      ┆ er         ┆ t_id       ┆ ---       ┆   ┆ _timestamp ┆ _timestamp ┆ ---   ┆ ---       │\n",
                            "│ u16      ┆ ---        ┆ ---        ┆ u32       ┆   ┆ _increases ┆ _decreases ┆ u8    ┆ u16       │\n",
                            "│          ┆ u8         ┆ u8         ┆           ┆   ┆ ---        ┆ ---        ┆       ┆           │\n",
                            "│          ┆            ┆            ┆           ┆   ┆ f64        ┆ f64        ┆       ┆           │\n",
                            "╞══════════╪════════════╪════════════╪═══════════╪═══╪════════════╪════════════╪═══════╪═══════════╡\n",
                            "│ 1        ┆ 1          ┆ 1          ┆ 159236    ┆ … ┆ 0.0        ┆ null       ┆ 0     ┆ 1         │\n",
                            "│ 1        ┆ 1          ┆ 1          ┆ 159238    ┆ … ┆ 4.0001     ┆ null       ┆ 0     ┆ 1         │\n",
                            "│ 1        ┆ 1          ┆ 1          ┆ 159240    ┆ … ┆ 7.8568     ┆ null       ┆ 0     ┆ 1         │\n",
                            "│ 1        ┆ 1          ┆ 1          ┆ 159242    ┆ … ┆ 12.0754    ┆ null       ┆ 0     ┆ 1         │\n",
                            "│ 1        ┆ 1          ┆ 1          ┆ 159244    ┆ … ┆ 16.0369    ┆ null       ┆ 0     ┆ 1         │\n",
                            "│ …        ┆ …          ┆ …          ┆ …         ┆ … ┆ …          ┆ …          ┆ …     ┆ …         │\n",
                            "│ 516      ┆ 12         ┆ 50         ┆ 1342488   ┆ … ┆ null       ┆ 8980.1709  ┆ 1     ┆ 3768      │\n",
                            "│ 516      ┆ 12         ┆ 50         ┆ 1342490   ┆ … ┆ null       ┆ 8984.0854  ┆ 1     ┆ 3768      │\n",
                            "│ 516      ┆ 12         ┆ 50         ┆ 1342492   ┆ … ┆ null       ┆ 8987.9038  ┆ 1     ┆ 3768      │\n",
                            "│ 516      ┆ 12         ┆ 50         ┆ 1342494   ┆ … ┆ null       ┆ 8991.8898  ┆ 1     ┆ 3768      │\n",
                            "│ 516      ┆ 12         ┆ 50         ┆ 1342496   ┆ … ┆ null       ┆ 8996.0702  ┆ 1     ┆ 3768      │\n",
                            "└──────────┴────────────┴────────────┴───────────┴───┴────────────┴────────────┴───────┴───────────┘"
                        ]
                    },
                    "execution_count": 8,
                    "metadata": {},
                    "output_type": "execute_result"
                }
            ],
            "source": [
                "samples"
            ]
        },
        {
            "cell_type": "code",
            "execution_count": null,
            "metadata": {},
            "outputs": [
                {
                    "data": {
                        "application/vnd.jupyter.widget-view+json": {
                            "model_id": "f0622fb45d024932818a036c7f3b034e",
                            "version_major": 2,
                            "version_minor": 0
                        },
                        "text/plain": [
                            "interactive(children=(IntSlider(value=1292, description='sample', max=2585), Output()), _dom_classes=('widget-…"
                        ]
                    },
                    "metadata": {},
                    "output_type": "display_data"
                }
            ],
            "source": [
                "X, y, groups = transform_sample_df_to_arrays(\n",
                "    (samples),\n",
                "    [\n",
                "        \"f3\",\n",
                "        \"f4\",\n",
                "        \"c3\",\n",
                "        # \"temperature\",  # only for visualization\n",
                "        # \"rating\",\n",
                "        # \"eda_raw\",\n",
                "        # \"eda_raw\",\n",
                "        # \"pupil\",\n",
                "    ],\n",
                ")\n",
                "\n",
                "\n",
                "@ipywidgets.interact(sample=(0, X.shape[0] - 1))\n",
                "def plot_sample(sample):\n",
                "    # note that sample != sample id\n",
                "    for i in range(X.shape[2]):\n",
                "        plt.plot(X[sample, :, i])\n",
                "    # plt.ylim(0, 1.05)"
            ]
        },
        {
            "cell_type": "code",
            "execution_count": 14,
            "metadata": {},
            "outputs": [
                {
                    "data": {
                        "text/html": [
                            "<div><style>\n",
                            ".dataframe > thead > tr,\n",
                            ".dataframe > tbody > tr {\n",
                            "  text-align: right;\n",
                            "  white-space: pre-wrap;\n",
                            "}\n",
                            "</style>\n",
                            "<small>shape: (21_196_588, 23)</small><table border=\"1\" class=\"dataframe\"><thead><tr><th>trial_id</th><th>trial_number</th><th>participant_id</th><th>rownumber</th><th>timestamp</th><th>f3</th><th>f4</th><th>c3</th><th>cz</th><th>c4</th><th>p3</th><th>p4</th><th>oz</th><th>normalized_timestamp</th><th>stimulus_seed</th><th>skin_patch</th><th>decreasing_intervals</th><th>major_decreasing_intervals</th><th>increasing_intervals</th><th>strictly_increasing_intervals</th><th>strictly_increasing_intervals_without_plateaus</th><th>plateau_intervals</th><th>prolonged_minima_intervals</th></tr><tr><td>u16</td><td>u8</td><td>u8</td><td>u32</td><td>f64</td><td>f64</td><td>f64</td><td>f64</td><td>f64</td><td>f64</td><td>f64</td><td>f64</td><td>f64</td><td>f64</td><td>u16</td><td>u8</td><td>u16</td><td>u16</td><td>u16</td><td>u16</td><td>u16</td><td>u16</td><td>u16</td></tr></thead><tbody><tr><td>1</td><td>1</td><td>1</td><td>147086</td><td>294198.4628</td><td>-1.5150e-12</td><td>1.6438e-12</td><td>1.9829e-12</td><td>2.2742e-12</td><td>1.5041e-12</td><td>1.5858e-12</td><td>5.2300e-12</td><td>1.3767e-14</td><td>0.0</td><td>396</td><td>1</td><td>0</td><td>0</td><td>1</td><td>0</td><td>0</td><td>0</td><td>0</td></tr><tr><td>1</td><td>1</td><td>1</td><td>147088</td><td>294202.5715</td><td>12.280578</td><td>15.555687</td><td>-13.694891</td><td>-7.270244</td><td>6.838309</td><td>-7.189818</td><td>-7.400425</td><td>-3.066208</td><td>4.1087</td><td>396</td><td>1</td><td>0</td><td>0</td><td>1</td><td>0</td><td>0</td><td>0</td><td>0</td></tr><tr><td>1</td><td>1</td><td>1</td><td>147090</td><td>294206.6215</td><td>45.497951</td><td>38.992184</td><td>-6.325961</td><td>-4.11582</td><td>22.614502</td><td>-7.301916</td><td>-11.448706</td><td>-5.534098</td><td>8.1587</td><td>396</td><td>1</td><td>0</td><td>0</td><td>1</td><td>0</td><td>0</td><td>0</td><td>0</td></tr><tr><td>1</td><td>1</td><td>1</td><td>147092</td><td>294210.5259</td><td>40.068399</td><td>35.789636</td><td>-20.612573</td><td>-10.737569</td><td>15.988759</td><td>-16.391113</td><td>-19.374253</td><td>-12.964259</td><td>12.0631</td><td>396</td><td>1</td><td>0</td><td>0</td><td>1</td><td>0</td><td>0</td><td>0</td><td>0</td></tr><tr><td>1</td><td>1</td><td>1</td><td>147094</td><td>294214.3388</td><td>11.701849</td><td>13.669035</td><td>-6.561412</td><td>-5.952719</td><td>4.902351</td><td>-6.972598</td><td>-8.792239</td><td>-5.146666</td><td>15.876</td><td>396</td><td>1</td><td>0</td><td>0</td><td>1</td><td>0</td><td>0</td><td>0</td><td>0</td></tr><tr><td>1</td><td>1</td><td>1</td><td>147096</td><td>294218.4235</td><td>6.53695</td><td>9.415504</td><td>2.014552</td><td>3.038253</td><td>6.160784</td><td>-0.709822</td><td>1.421809</td><td>1.055935</td><td>19.9607</td><td>396</td><td>1</td><td>0</td><td>0</td><td>1</td><td>0</td><td>0</td><td>0</td><td>0</td></tr><tr><td>&hellip;</td><td>&hellip;</td><td>&hellip;</td><td>&hellip;</td><td>&hellip;</td><td>&hellip;</td><td>&hellip;</td><td>&hellip;</td><td>&hellip;</td><td>&hellip;</td><td>&hellip;</td><td>&hellip;</td><td>&hellip;</td><td>&hellip;</td><td>&hellip;</td><td>&hellip;</td><td>&hellip;</td><td>&hellip;</td><td>&hellip;</td><td>&hellip;</td><td>&hellip;</td><td>&hellip;</td><td>&hellip;</td></tr><tr><td>516</td><td>12</td><td>50</td><td>1348000</td><td>2.6961e6</td><td>-54.799495</td><td>-63.96125</td><td>-64.616702</td><td>-64.723998</td><td>-70.628028</td><td>-70.927058</td><td>-78.414296</td><td>-75.352529</td><td>180004.6706</td><td>806</td><td>1</td><td>0</td><td>0</td><td>0</td><td>0</td><td>0</td><td>0</td><td>0</td></tr><tr><td>516</td><td>12</td><td>50</td><td>1348002</td><td>2.6961e6</td><td>6.490642</td><td>3.091599</td><td>-3.967783</td><td>2.572031</td><td>-2.170522</td><td>-9.43316</td><td>-7.011082</td><td>-36.066678</td><td>180008.9498</td><td>806</td><td>1</td><td>0</td><td>0</td><td>0</td><td>0</td><td>0</td><td>0</td><td>0</td></tr><tr><td>516</td><td>12</td><td>50</td><td>1348004</td><td>2.6961e6</td><td>41.000263</td><td>31.90239</td><td>21.288783</td><td>23.725805</td><td>21.564828</td><td>17.182849</td><td>16.581564</td><td>-1.351704</td><td>180017.7972</td><td>806</td><td>1</td><td>0</td><td>0</td><td>0</td><td>0</td><td>0</td><td>0</td><td>0</td></tr><tr><td>516</td><td>12</td><td>50</td><td>1348006</td><td>2.6961e6</td><td>-36.116624</td><td>-38.250781</td><td>-48.543827</td><td>-46.273849</td><td>-51.845367</td><td>-53.639429</td><td>-53.316809</td><td>-67.818367</td><td>180017.8918</td><td>806</td><td>1</td><td>0</td><td>0</td><td>0</td><td>0</td><td>0</td><td>0</td><td>0</td></tr><tr><td>516</td><td>12</td><td>50</td><td>1348008</td><td>2.6961e6</td><td>44.702197</td><td>50.094248</td><td>42.072032</td><td>41.343123</td><td>39.417402</td><td>36.061306</td><td>38.818703</td><td>7.084643</td><td>180020.7507</td><td>806</td><td>1</td><td>0</td><td>0</td><td>0</td><td>0</td><td>0</td><td>0</td><td>0</td></tr><tr><td>516</td><td>12</td><td>50</td><td>1348010</td><td>2.6961e6</td><td>-5.6430e-12</td><td>-2.8691e-12</td><td>-6.1088e-12</td><td>-2.6853e-12</td><td>-3.7867e-12</td><td>-3.1349e-12</td><td>-5.1610e-12</td><td>-1.5647e-12</td><td>180024.7356</td><td>806</td><td>1</td><td>0</td><td>0</td><td>0</td><td>0</td><td>0</td><td>0</td><td>0</td></tr></tbody></table></div>"
                        ],
                        "text/plain": [
                            "shape: (21_196_588, 23)\n",
                            "┌──────────┬───────────┬───────────┬───────────┬───┬───────────┬───────────┬───────────┬───────────┐\n",
                            "│ trial_id ┆ trial_num ┆ participa ┆ rownumber ┆ … ┆ strictly_ ┆ strictly_ ┆ plateau_i ┆ prolonged │\n",
                            "│ ---      ┆ ber       ┆ nt_id     ┆ ---       ┆   ┆ increasin ┆ increasin ┆ ntervals  ┆ _minima_i │\n",
                            "│ u16      ┆ ---       ┆ ---       ┆ u32       ┆   ┆ g_interva ┆ g_interva ┆ ---       ┆ ntervals  │\n",
                            "│          ┆ u8        ┆ u8        ┆           ┆   ┆ ls        ┆ ls_…      ┆ u16       ┆ ---       │\n",
                            "│          ┆           ┆           ┆           ┆   ┆ ---       ┆ ---       ┆           ┆ u16       │\n",
                            "│          ┆           ┆           ┆           ┆   ┆ u16       ┆ u16       ┆           ┆           │\n",
                            "╞══════════╪═══════════╪═══════════╪═══════════╪═══╪═══════════╪═══════════╪═══════════╪═══════════╡\n",
                            "│ 1        ┆ 1         ┆ 1         ┆ 147086    ┆ … ┆ 0         ┆ 0         ┆ 0         ┆ 0         │\n",
                            "│ 1        ┆ 1         ┆ 1         ┆ 147088    ┆ … ┆ 0         ┆ 0         ┆ 0         ┆ 0         │\n",
                            "│ 1        ┆ 1         ┆ 1         ┆ 147090    ┆ … ┆ 0         ┆ 0         ┆ 0         ┆ 0         │\n",
                            "│ 1        ┆ 1         ┆ 1         ┆ 147092    ┆ … ┆ 0         ┆ 0         ┆ 0         ┆ 0         │\n",
                            "│ 1        ┆ 1         ┆ 1         ┆ 147094    ┆ … ┆ 0         ┆ 0         ┆ 0         ┆ 0         │\n",
                            "│ 1        ┆ 1         ┆ 1         ┆ 147096    ┆ … ┆ 0         ┆ 0         ┆ 0         ┆ 0         │\n",
                            "│ …        ┆ …         ┆ …         ┆ …         ┆ … ┆ …         ┆ …         ┆ …         ┆ …         │\n",
                            "│ 516      ┆ 12        ┆ 50        ┆ 1348000   ┆ … ┆ 0         ┆ 0         ┆ 0         ┆ 0         │\n",
                            "│ 516      ┆ 12        ┆ 50        ┆ 1348002   ┆ … ┆ 0         ┆ 0         ┆ 0         ┆ 0         │\n",
                            "│ 516      ┆ 12        ┆ 50        ┆ 1348004   ┆ … ┆ 0         ┆ 0         ┆ 0         ┆ 0         │\n",
                            "│ 516      ┆ 12        ┆ 50        ┆ 1348006   ┆ … ┆ 0         ┆ 0         ┆ 0         ┆ 0         │\n",
                            "│ 516      ┆ 12        ┆ 50        ┆ 1348008   ┆ … ┆ 0         ┆ 0         ┆ 0         ┆ 0         │\n",
                            "│ 516      ┆ 12        ┆ 50        ┆ 1348010   ┆ … ┆ 0         ┆ 0         ┆ 0         ┆ 0         │\n",
                            "└──────────┴───────────┴───────────┴───────────┴───┴───────────┴───────────┴───────────┴───────────┘"
                        ]
                    },
                    "execution_count": 14,
                    "metadata": {},
                    "output_type": "execute_result"
                }
            ],
            "source": [
                "df"
            ]
        },
        {
            "cell_type": "code",
            "execution_count": 15,
            "metadata": {},
            "outputs": [
                {
                    "data": {
                        "application/vnd.jupyter.widget-view+json": {
                            "model_id": "e45eb5fa85dd41fda05cf18f5dd91abe",
                            "version_major": 2,
                            "version_minor": 0
                        },
                        "text/plain": [
                            "FloatProgress(value=0.0, layout=Layout(width='auto'), style=ProgressStyle(bar_color='black'))"
                        ]
                    },
                    "metadata": {},
                    "output_type": "display_data"
                }
            ],
            "source": [
                "# Load data from database\n",
                "db = DatabaseManager()\n",
                "with db:\n",
                "    eeg = db.get_table(\n",
                "        \"raw_EEG\",\n",
                "        exclude_trials_with_measurement_problems=True,\n",
                "    )\n",
                "    trials = db.get_table(\n",
                "        \"Trials\",\n",
                "        exclude_trials_with_measurement_problems=True,\n",
                "    )\n",
                "    eeg = add_normalized_timestamp(eeg)\n",
                "    df_raw = add_labels(eeg, trials)\n"
            ]
        },
        {
            "cell_type": "code",
            "execution_count": null,
            "metadata": {},
            "outputs": [],
            "source": []
        },
        {
            "cell_type": "code",
            "execution_count": null,
            "metadata": {},
            "outputs": [
                {
                    "name": "stdout",
                    "output_type": "stream",
                    "text": [
                        "train batch size: 256 , num of batch: 5\n"
                    ]
                }
            ],
            "source": [
                "from torch.utils.data import DataLoader, TensorDataset\n",
                "\n",
                "signal = torch.randn(1280, 1, 22, 200)\n",
                "label = torch.randint(2, (1280,))\n",
                "\n",
                "train_batch_size = 256\n",
                "\n",
                "dataset = TensorDataset(signal, label)\n",
                "\n",
                "data_loader = DataLoader(dataset, batch_size=train_batch_size, shuffle=True)\n",
                "\n",
                "print(\"train batch size:\", data_loader.batch_size, \", num of batch:\", len(data_loader))\n"
            ]
        },
        {
            "cell_type": "code",
            "execution_count": 6,
            "metadata": {},
            "outputs": [
                {
                    "data": {
                        "text/plain": [
                            "torch.Size([1280, 1, 22, 200])"
                        ]
                    },
                    "execution_count": 6,
                    "metadata": {},
                    "output_type": "execute_result"
                }
            ],
            "source": [
                "signal.shape"
            ]
        },
        {
            "cell_type": "code",
            "execution_count": null,
            "metadata": {},
            "outputs": [
                {
                    "ename": "TypeError",
                    "evalue": "EEGNet.__init__() got an unexpected keyword argument 'num_class'",
                    "output_type": "error",
                    "traceback": [
                        "\u001b[1;31m---------------------------------------------------------------------------\u001b[0m",
                        "\u001b[1;31mTypeError\u001b[0m                                 Traceback (most recent call last)",
                        "Cell \u001b[1;32mIn[14], line 7\u001b[0m\n\u001b[0;32m      3\u001b[0m \u001b[38;5;28;01mfrom\u001b[39;00m\u001b[38;5;250m \u001b[39m\u001b[38;5;21;01msrc\u001b[39;00m\u001b[38;5;21;01m.\u001b[39;00m\u001b[38;5;21;01mmodels\u001b[39;00m\u001b[38;5;21;01m.\u001b[39;00m\u001b[38;5;21;01marchitectures\u001b[39;00m\u001b[38;5;21;01m.\u001b[39;00m\u001b[38;5;21;01mEEGNet\u001b[39;00m\u001b[38;5;250m \u001b[39m\u001b[38;5;28;01mimport\u001b[39;00m EEGNet\n\u001b[0;32m      5\u001b[0m num_class \u001b[38;5;241m=\u001b[39m \u001b[38;5;241m2\u001b[39m  \u001b[38;5;66;03m# Number of classes in the dataset\u001b[39;00m\n\u001b[1;32m----> 7\u001b[0m model \u001b[38;5;241m=\u001b[39m \u001b[43mEEGNet\u001b[49m\u001b[43m(\u001b[49m\n\u001b[0;32m      8\u001b[0m \u001b[43m    \u001b[49m\u001b[43minput_len\u001b[49m\u001b[38;5;241;43m=\u001b[39;49m\u001b[38;5;241;43m200\u001b[39;49m\u001b[43m,\u001b[49m\n\u001b[0;32m      9\u001b[0m \u001b[43m    \u001b[49m\u001b[43mnum_channels\u001b[49m\u001b[38;5;241;43m=\u001b[39;49m\u001b[38;5;241;43m22\u001b[39;49m\u001b[43m,\u001b[49m\n\u001b[0;32m     10\u001b[0m \u001b[43m    \u001b[49m\u001b[43mfs\u001b[49m\u001b[38;5;241;43m=\u001b[39;49m\u001b[38;5;241;43m200\u001b[39;49m\u001b[43m,\u001b[49m\u001b[43m \u001b[49m\n\u001b[0;32m     11\u001b[0m \u001b[43m    \u001b[49m\u001b[43mdropout\u001b[49m\u001b[38;5;241;43m=\u001b[39;49m\u001b[38;5;241;43m0.5\u001b[39;49m\u001b[43m,\u001b[49m\n\u001b[0;32m     12\u001b[0m \u001b[43m    \u001b[49m\u001b[43mnum_class\u001b[49m\u001b[38;5;241;43m=\u001b[39;49m\u001b[43mnum_class\u001b[49m\u001b[43m,\u001b[49m\n\u001b[0;32m     13\u001b[0m \u001b[43m)\u001b[49m\n",
                        "\u001b[1;31mTypeError\u001b[0m: EEGNet.__init__() got an unexpected keyword argument 'num_class'"
                    ]
                }
            ],
            "source": [
                "import torch\n",
                "\n",
                "from src.models.architectures.EEGNet import EEGNet\n",
                "\n",
                "num_class = 2  # Number of classes in the dataset\n",
                "\n",
                "model = EEGNet(\n",
                "    input_len=200,\n",
                "    num_channels=22,\n",
                "    fs=200,\n",
                "    dropout=0.5,\n",
                "    num_class=num_class,\n",
                ")"
            ]
        },
        {
            "cell_type": "code",
            "execution_count": null,
            "metadata": {},
            "outputs": [],
            "source": [
                "import torch.nn as nn\n",
                "import torch.optim as optim\n",
                "from torch.utils.data import DataLoader, TensorDataset\n",
                "from torchmetrics import Accuracy\n"
            ]
        },
        {
            "cell_type": "code",
            "execution_count": 16,
            "metadata": {},
            "outputs": [],
            "source": [
                "def train_one_epoch(model, train_loader, loss_fn, optimizer):\n",
                "    model.train()\n",
                "    loss_train = AverageMeter()\n",
                "    acc_train = Accuracy(task=\"multiclass\", num_classes=num_class).to(device)\n",
                "\n",
                "    for i, (inputs, targets) in enumerate(data_loader):\n",
                "        inputs = inputs.to(device)\n",
                "        targets = targets.to(device)\n",
                "\n",
                "        outputs = model(inputs)\n",
                "        loss = loss_fn(outputs, targets)\n",
                "\n",
                "        loss.backward()\n",
                "        nn.utils.clip_grad_norm_(model.parameters(), 1)\n",
                "        optimizer.step()\n",
                "        optimizer.zero_grad()\n",
                "\n",
                "        loss_train.update(loss.item())\n",
                "        acc_train(outputs, targets.int())\n",
                "\n",
                "    return model, loss_train.avg, acc_train.compute().item()\n"
            ]
        },
        {
            "cell_type": "code",
            "execution_count": 17,
            "metadata": {},
            "outputs": [],
            "source": [
                "class AverageMeter(object):\n",
                "    \"\"\"Computes and stores the average and current value\"\"\"\n",
                "\n",
                "    def __init__(self):\n",
                "        self.reset()\n",
                "\n",
                "    def reset(self):\n",
                "        self.val = 0\n",
                "        self.avg = 0\n",
                "        self.sum = 0\n",
                "        self.count = 0\n",
                "\n",
                "    def update(self, val, n=1):\n",
                "        self.val = val\n",
                "        self.sum += val * n\n",
                "        self.count += n\n",
                "        self.avg = self.sum / self.count\n"
            ]
        },
        {
            "cell_type": "code",
            "execution_count": 19,
            "metadata": {},
            "outputs": [
                {
                    "name": "stdout",
                    "output_type": "stream",
                    "text": [
                        "epoch 0:\n",
                        " Loss= 0.6987, Accuracy= 50% \n",
                        "\n",
                        "epoch 5:\n",
                        " Loss= 0.6778, Accuracy= 57% \n",
                        "\n",
                        "epoch 10:\n",
                        " Loss= 0.6535, Accuracy= 61% \n",
                        "\n",
                        "epoch 15:\n",
                        " Loss= 0.6189, Accuracy= 66% \n",
                        "\n",
                        "epoch 20:\n",
                        " Loss= 0.5922, Accuracy= 71% \n",
                        "\n",
                        "epoch 25:\n",
                        " Loss= 0.5659, Accuracy= 73% \n",
                        "\n",
                        "epoch 30:\n",
                        " Loss= 0.5437, Accuracy= 75% \n",
                        "\n",
                        "epoch 35:\n",
                        " Loss= 0.5317, Accuracy= 76% \n",
                        "\n",
                        "epoch 40:\n",
                        " Loss= 0.5181, Accuracy= 78% \n",
                        "\n",
                        "epoch 45:\n",
                        " Loss= 0.504, Accuracy= 80% \n",
                        "\n",
                        "epoch 50:\n",
                        " Loss= 0.5066, Accuracy= 79% \n",
                        "\n",
                        "epoch 55:\n",
                        " Loss= 0.489, Accuracy= 81% \n",
                        "\n",
                        "epoch 60:\n",
                        " Loss= 0.475, Accuracy= 83% \n",
                        "\n",
                        "epoch 65:\n",
                        " Loss= 0.4741, Accuracy= 83% \n",
                        "\n",
                        "epoch 70:\n",
                        " Loss= 0.4596, Accuracy= 85% \n",
                        "\n",
                        "epoch 75:\n",
                        " Loss= 0.4721, Accuracy= 82% \n",
                        "\n",
                        "epoch 80:\n",
                        " Loss= 0.4618, Accuracy= 84% \n",
                        "\n",
                        "epoch 85:\n",
                        " Loss= 0.4521, Accuracy= 85% \n",
                        "\n",
                        "epoch 90:\n",
                        " Loss= 0.4624, Accuracy= 85% \n",
                        "\n",
                        "epoch 95:\n",
                        " Loss= 0.4475, Accuracy= 86% \n",
                        "\n",
                        "epoch 100:\n",
                        " Loss= 0.4554, Accuracy= 84% \n",
                        "\n"
                    ]
                }
            ],
            "source": [
                "num_epochs = 101\n",
                "device = \"cpu\"\n",
                "loss_fn = nn.CrossEntropyLoss().to(\"cpu\")\n",
                "optimizer = optim.NAdam(model.parameters(), lr=0.01)\n",
                "\n",
                "loss_train_hist = []\n",
                "acc_train_hist = []\n",
                "\n",
                "\n",
                "for epoch in range(num_epochs):\n",
                "    model, loss_train, acc_train = train_one_epoch(\n",
                "        model, data_loader, loss_fn, optimizer\n",
                "    )\n",
                "\n",
                "    loss_train_hist.append(loss_train)\n",
                "    acc_train_hist.append(acc_train)\n",
                "\n",
                "    if (epoch % 10 == 5) or (epoch % 10 == 0):\n",
                "        print(f\"epoch {epoch}:\")\n",
                "        print(f\" Loss= {loss_train:.4}, Accuracy= {int(acc_train * 100)}% \\n\")\n"
            ]
        },
        {
            "cell_type": "code",
            "execution_count": 20,
            "metadata": {},
            "outputs": [
                {
                    "data": {
                        "text/plain": [
                            "<matplotlib.legend.Legend at 0x2064e5daf30>"
                        ]
                    },
                    "execution_count": 20,
                    "metadata": {},
                    "output_type": "execute_result"
                },
                {
                    "data": {
                        "image/png": "[encoded data removed]",
                        "text/plain": [
                            "<Figure size 640x480 with 1 Axes>"
                        ]
                    },
                    "metadata": {},
                    "output_type": "display_data"
                }
            ],
            "source": [
                "plt.plot(range(num_epochs), acc_train_hist, \"b-\", label=\"Train\")\n",
                "plt.xlabel(\"Epoch\")\n",
                "plt.ylabel(\"Acc\")\n",
                "plt.grid(True)\n",
                "plt.legend()\n"
            ]
        },
        {
            "cell_type": "code",
            "execution_count": null,
            "metadata": {},
            "outputs": [],
            "source": []
        }
    ],
    "metadata": {
        "kernelspec": {
            "display_name": "pain",
            "language": "python",
            "name": "python3"
        },
        "language_info": {
            "codemirror_mode": {
                "name": "ipython",
                "version": 3
            },
            "file_extension": ".py",
            "mimetype": "text/x-python",
            "name": "python",
            "nbconvert_exporter": "python",
            "pygments_lexer": "ipython3",
            "version": "3.12.10"
        }
    },
    "nbformat": 4,
    "nbformat_minor": 2
}
