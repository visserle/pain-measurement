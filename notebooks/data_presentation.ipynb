{
    "cells": [
        {
            "cell_type": "code",
            "execution_count": 2,
            "metadata": {},
            "outputs": [],
            "source": [
                "%%capture\n",
                "from pathlib import Path\n",
                "\n",
                "if Path.cwd().stem == \"notebooks\":\n",
                "    %cd ..\n",
                "    %load_ext autoreload\n",
                "    %autoreload 2"
            ]
        },
        {
            "cell_type": "code",
            "execution_count": 3,
            "metadata": {},
            "outputs": [
                {
                    "data": {
                        "application/javascript": "(function(root) {\n  function now() {\n    return new Date();\n  }\n\n  var force = true;\n  var py_version = '3.4.2'.replace('rc', '-rc.').replace('.dev', '-dev.');\n  var reloading = false;\n  var Bokeh = root.Bokeh;\n\n  if (typeof (root._bokeh_timeout) === \"undefined\" || force) {\n    root._bokeh_timeout = Date.now() + 5000;\n    root._bokeh_failed_load = false;\n  }\n\n  function run_callbacks() {\n    try {\n      root._bokeh_onload_callbacks.forEach(function(callback) {\n        if (callback != null)\n          callback();\n      });\n    } finally {\n      delete root._bokeh_onload_callbacks;\n    }\n    console.debug(\"Bokeh: all callbacks have finished\");\n  }\n\n  function load_libs(css_urls, js_urls, js_modules, js_exports, callback) {\n    if (css_urls == null) css_urls = [];\n    if (js_urls == null) js_urls = [];\n    if (js_modules == null) js_modules = [];\n    if (js_exports == null) js_exports = {};\n\n    root._bokeh_onload_callbacks.push(callback);\n\n    if (root._bokeh_is_loading > 0) {\n      console.debug(\"Bokeh: BokehJS is being loaded, scheduling callback at\", now());\n      return null;\n    }\n    if (js_urls.length === 0 && js_modules.length === 0 && Object.keys(js_exports).length === 0) {\n      run_callbacks();\n      return null;\n    }\n    if (!reloading) {\n      console.debug(\"Bokeh: BokehJS not loaded, scheduling load and callback at\", now());\n    }\n\n    function on_load() {\n      root._bokeh_is_loading--;\n      if (root._bokeh_is_loading === 0) {\n        console.debug(\"Bokeh: all BokehJS libraries/stylesheets loaded\");\n        run_callbacks()\n      }\n    }\n    window._bokeh_on_load = on_load\n\n    function on_error() {\n      console.error(\"failed to load \" + url);\n    }\n\n    var skip = [];\n    if (window.requirejs) {\n      window.requirejs.config({'packages': {}, 'paths': {}, 'shim': {}});\n      root._bokeh_is_loading = css_urls.length + 0;\n    } else {\n      root._bokeh_is_loading = css_urls.length + js_urls.length + js_modules.length + Object.keys(js_exports).length;\n    }\n\n    var existing_stylesheets = []\n    var links = document.getElementsByTagName('link')\n    for (var i = 0; i < links.length; i++) {\n      var link = links[i]\n      if (link.href != null) {\n\texisting_stylesheets.push(link.href)\n      }\n    }\n    for (var i = 0; i < css_urls.length; i++) {\n      var url = css_urls[i];\n      if (existing_stylesheets.indexOf(url) !== -1) {\n\ton_load()\n\tcontinue;\n      }\n      const element = document.createElement(\"link\");\n      element.onload = on_load;\n      element.onerror = on_error;\n      element.rel = \"stylesheet\";\n      element.type = \"text/css\";\n      element.href = url;\n      console.debug(\"Bokeh: injecting link tag for BokehJS stylesheet: \", url);\n      document.body.appendChild(element);\n    }    var existing_scripts = []\n    var scripts = document.getElementsByTagName('script')\n    for (var i = 0; i < scripts.length; i++) {\n      var script = scripts[i]\n      if (script.src != null) {\n\texisting_scripts.push(script.src)\n      }\n    }\n    for (var i = 0; i < js_urls.length; i++) {\n      var url = js_urls[i];\n      if (skip.indexOf(url) !== -1 || existing_scripts.indexOf(url) !== -1) {\n\tif (!window.requirejs) {\n\t  on_load();\n\t}\n\tcontinue;\n      }\n      var element = document.createElement('script');\n      element.onload = on_load;\n      element.onerror = on_error;\n      element.async = false;\n      element.src = url;\n      console.debug(\"Bokeh: injecting script tag for BokehJS library: \", url);\n      document.head.appendChild(element);\n    }\n    for (var i = 0; i < js_modules.length; i++) {\n      var url = js_modules[i];\n      if (skip.indexOf(url) !== -1 || existing_scripts.indexOf(url) !== -1) {\n\tif (!window.requirejs) {\n\t  on_load();\n\t}\n\tcontinue;\n      }\n      var element = document.createElement('script');\n      element.onload = on_load;\n      element.onerror = on_error;\n      element.async = false;\n      element.src = url;\n      element.type = \"module\";\n      console.debug(\"Bokeh: injecting script tag for BokehJS library: \", url);\n      document.head.appendChild(element);\n    }\n    for (const name in js_exports) {\n      var url = js_exports[name];\n      if (skip.indexOf(url) >= 0 || root[name] != null) {\n\tif (!window.requirejs) {\n\t  on_load();\n\t}\n\tcontinue;\n      }\n      var element = document.createElement('script');\n      element.onerror = on_error;\n      element.async = false;\n      element.type = \"module\";\n      console.debug(\"Bokeh: injecting script tag for BokehJS library: \", url);\n      element.textContent = `\n      import ${name} from \"${url}\"\n      window.${name} = ${name}\n      window._bokeh_on_load()\n      `\n      document.head.appendChild(element);\n    }\n    if (!js_urls.length && !js_modules.length) {\n      on_load()\n    }\n  };\n\n  function inject_raw_css(css) {\n    const element = document.createElement(\"style\");\n    element.appendChild(document.createTextNode(css));\n    document.body.appendChild(element);\n  }\n\n  var js_urls = [\"https://cdn.bokeh.org/bokeh/release/bokeh-3.4.2.min.js\", \"https://cdn.bokeh.org/bokeh/release/bokeh-gl-3.4.2.min.js\", \"https://cdn.bokeh.org/bokeh/release/bokeh-widgets-3.4.2.min.js\", \"https://cdn.bokeh.org/bokeh/release/bokeh-tables-3.4.2.min.js\", \"https://cdn.holoviz.org/panel/1.4.4/dist/panel.min.js\"];\n  var js_modules = [];\n  var js_exports = {};\n  var css_urls = [];\n  var inline_js = [    function(Bokeh) {\n      Bokeh.set_log_level(\"info\");\n    },\nfunction(Bokeh) {} // ensure no trailing comma for IE\n  ];\n\n  function run_inline_js() {\n    if ((root.Bokeh !== undefined) || (force === true)) {\n      for (var i = 0; i < inline_js.length; i++) {\n\ttry {\n          inline_js[i].call(root, root.Bokeh);\n\t} catch(e) {\n\t  if (!reloading) {\n\t    throw e;\n\t  }\n\t}\n      }\n      // Cache old bokeh versions\n      if (Bokeh != undefined && !reloading) {\n\tvar NewBokeh = root.Bokeh;\n\tif (Bokeh.versions === undefined) {\n\t  Bokeh.versions = new Map();\n\t}\n\tif (NewBokeh.version !== Bokeh.version) {\n\t  Bokeh.versions.set(NewBokeh.version, NewBokeh)\n\t}\n\troot.Bokeh = Bokeh;\n      }} else if (Date.now() < root._bokeh_timeout) {\n      setTimeout(run_inline_js, 100);\n    } else if (!root._bokeh_failed_load) {\n      console.log(\"Bokeh: BokehJS failed to load within specified timeout.\");\n      root._bokeh_failed_load = true;\n    }\n    root._bokeh_is_initializing = false\n  }\n\n  function load_or_wait() {\n    // Implement a backoff loop that tries to ensure we do not load multiple\n    // versions of Bokeh and its dependencies at the same time.\n    // In recent versions we use the root._bokeh_is_initializing flag\n    // to determine whether there is an ongoing attempt to initialize\n    // bokeh, however for backward compatibility we also try to ensure\n    // that we do not start loading a newer (Panel>=1.0 and Bokeh>3) version\n    // before older versions are fully initialized.\n    if (root._bokeh_is_initializing && Date.now() > root._bokeh_timeout) {\n      root._bokeh_is_initializing = false;\n      root._bokeh_onload_callbacks = undefined;\n      console.log(\"Bokeh: BokehJS was loaded multiple times but one version failed to initialize.\");\n      load_or_wait();\n    } else if (root._bokeh_is_initializing || (typeof root._bokeh_is_initializing === \"undefined\" && root._bokeh_onload_callbacks !== undefined)) {\n      setTimeout(load_or_wait, 100);\n    } else {\n      root._bokeh_is_initializing = true\n      root._bokeh_onload_callbacks = []\n      var bokeh_loaded = Bokeh != null && (Bokeh.version === py_version || (Bokeh.versions !== undefined && Bokeh.versions.has(py_version)));\n      if (!reloading && !bokeh_loaded) {\n\troot.Bokeh = undefined;\n      }\n      load_libs(css_urls, js_urls, js_modules, js_exports, function() {\n\tconsole.debug(\"Bokeh: BokehJS plotting callback run at\", now());\n\trun_inline_js();\n      });\n    }\n  }\n  // Give older versions of the autoload script a head-start to ensure\n  // they initialize before we start loading newer version.\n  setTimeout(load_or_wait, 100)\n}(window));",
                        "application/vnd.holoviews_load.v0+json": ""
                    },
                    "metadata": {},
                    "output_type": "display_data"
                },
                {
                    "data": {
                        "application/javascript": "\nif ((window.PyViz === undefined) || (window.PyViz instanceof HTMLElement)) {\n  window.PyViz = {comms: {}, comm_status:{}, kernels:{}, receivers: {}, plot_index: []}\n}\n\n\n    function JupyterCommManager() {\n    }\n\n    JupyterCommManager.prototype.register_target = function(plot_id, comm_id, msg_handler) {\n      if (window.comm_manager || ((window.Jupyter !== undefined) && (Jupyter.notebook.kernel != null))) {\n        var comm_manager = window.comm_manager || Jupyter.notebook.kernel.comm_manager;\n        comm_manager.register_target(comm_id, function(comm) {\n          comm.on_msg(msg_handler);\n        });\n      } else if ((plot_id in window.PyViz.kernels) && (window.PyViz.kernels[plot_id])) {\n        window.PyViz.kernels[plot_id].registerCommTarget(comm_id, function(comm) {\n          comm.onMsg = msg_handler;\n        });\n      } else if (typeof google != 'undefined' && google.colab.kernel != null) {\n        google.colab.kernel.comms.registerTarget(comm_id, (comm) => {\n          var messages = comm.messages[Symbol.asyncIterator]();\n          function processIteratorResult(result) {\n            var message = result.value;\n            console.log(message)\n            var content = {data: message.data, comm_id};\n            var buffers = []\n            for (var buffer of message.buffers || []) {\n              buffers.push(new DataView(buffer))\n            }\n            var metadata = message.metadata || {};\n            var msg = {content, buffers, metadata}\n            msg_handler(msg);\n            return messages.next().then(processIteratorResult);\n          }\n          return messages.next().then(processIteratorResult);\n        })\n      }\n    }\n\n    JupyterCommManager.prototype.get_client_comm = function(plot_id, comm_id, msg_handler) {\n      if (comm_id in window.PyViz.comms) {\n        return window.PyViz.comms[comm_id];\n      } else if (window.comm_manager || ((window.Jupyter !== undefined) && (Jupyter.notebook.kernel != null))) {\n        var comm_manager = window.comm_manager || Jupyter.notebook.kernel.comm_manager;\n        var comm = comm_manager.new_comm(comm_id, {}, {}, {}, comm_id);\n        if (msg_handler) {\n          comm.on_msg(msg_handler);\n        }\n      } else if ((plot_id in window.PyViz.kernels) && (window.PyViz.kernels[plot_id])) {\n        var comm = window.PyViz.kernels[plot_id].connectToComm(comm_id);\n        comm.open();\n        if (msg_handler) {\n          comm.onMsg = msg_handler;\n        }\n      } else if (typeof google != 'undefined' && google.colab.kernel != null) {\n        var comm_promise = google.colab.kernel.comms.open(comm_id)\n        comm_promise.then((comm) => {\n          window.PyViz.comms[comm_id] = comm;\n          if (msg_handler) {\n            var messages = comm.messages[Symbol.asyncIterator]();\n            function processIteratorResult(result) {\n              var message = result.value;\n              var content = {data: message.data};\n              var metadata = message.metadata || {comm_id};\n              var msg = {content, metadata}\n              msg_handler(msg);\n              return messages.next().then(processIteratorResult);\n            }\n            return messages.next().then(processIteratorResult);\n          }\n        }) \n        var sendClosure = (data, metadata, buffers, disposeOnDone) => {\n          return comm_promise.then((comm) => {\n            comm.send(data, metadata, buffers, disposeOnDone);\n          });\n        };\n        var comm = {\n          send: sendClosure\n        };\n      }\n      window.PyViz.comms[comm_id] = comm;\n      return comm;\n    }\n    window.PyViz.comm_manager = new JupyterCommManager();\n    \n\n\nvar JS_MIME_TYPE = 'application/javascript';\nvar HTML_MIME_TYPE = 'text/html';\nvar EXEC_MIME_TYPE = 'application/vnd.holoviews_exec.v0+json';\nvar CLASS_NAME = 'output';\n\n/**\n * Render data to the DOM node\n */\nfunction render(props, node) {\n  var div = document.createElement(\"div\");\n  var script = document.createElement(\"script\");\n  node.appendChild(div);\n  node.appendChild(script);\n}\n\n/**\n * Handle when a new output is added\n */\nfunction handle_add_output(event, handle) {\n  var output_area = handle.output_area;\n  var output = handle.output;\n  if ((output.data == undefined) || (!output.data.hasOwnProperty(EXEC_MIME_TYPE))) {\n    return\n  }\n  var id = output.metadata[EXEC_MIME_TYPE][\"id\"];\n  var toinsert = output_area.element.find(\".\" + CLASS_NAME.split(' ')[0]);\n  if (id !== undefined) {\n    var nchildren = toinsert.length;\n    var html_node = toinsert[nchildren-1].children[0];\n    html_node.innerHTML = output.data[HTML_MIME_TYPE];\n    var scripts = [];\n    var nodelist = html_node.querySelectorAll(\"script\");\n    for (var i in nodelist) {\n      if (nodelist.hasOwnProperty(i)) {\n        scripts.push(nodelist[i])\n      }\n    }\n\n    scripts.forEach( function (oldScript) {\n      var newScript = document.createElement(\"script\");\n      var attrs = [];\n      var nodemap = oldScript.attributes;\n      for (var j in nodemap) {\n        if (nodemap.hasOwnProperty(j)) {\n          attrs.push(nodemap[j])\n        }\n      }\n      attrs.forEach(function(attr) { newScript.setAttribute(attr.name, attr.value) });\n      newScript.appendChild(document.createTextNode(oldScript.innerHTML));\n      oldScript.parentNode.replaceChild(newScript, oldScript);\n    });\n    if (JS_MIME_TYPE in output.data) {\n      toinsert[nchildren-1].children[1].textContent = output.data[JS_MIME_TYPE];\n    }\n    output_area._hv_plot_id = id;\n    if ((window.Bokeh !== undefined) && (id in Bokeh.index)) {\n      window.PyViz.plot_index[id] = Bokeh.index[id];\n    } else {\n      window.PyViz.plot_index[id] = null;\n    }\n  } else if (output.metadata[EXEC_MIME_TYPE][\"server_id\"] !== undefined) {\n    var bk_div = document.createElement(\"div\");\n    bk_div.innerHTML = output.data[HTML_MIME_TYPE];\n    var script_attrs = bk_div.children[0].attributes;\n    for (var i = 0; i < script_attrs.length; i++) {\n      toinsert[toinsert.length - 1].childNodes[1].setAttribute(script_attrs[i].name, script_attrs[i].value);\n    }\n    // store reference to server id on output_area\n    output_area._bokeh_server_id = output.metadata[EXEC_MIME_TYPE][\"server_id\"];\n  }\n}\n\n/**\n * Handle when an output is cleared or removed\n */\nfunction handle_clear_output(event, handle) {\n  var id = handle.cell.output_area._hv_plot_id;\n  var server_id = handle.cell.output_area._bokeh_server_id;\n  if (((id === undefined) || !(id in PyViz.plot_index)) && (server_id !== undefined)) { return; }\n  var comm = window.PyViz.comm_manager.get_client_comm(\"hv-extension-comm\", \"hv-extension-comm\", function () {});\n  if (server_id !== null) {\n    comm.send({event_type: 'server_delete', 'id': server_id});\n    return;\n  } else if (comm !== null) {\n    comm.send({event_type: 'delete', 'id': id});\n  }\n  delete PyViz.plot_index[id];\n  if ((window.Bokeh !== undefined) & (id in window.Bokeh.index)) {\n    var doc = window.Bokeh.index[id].model.document\n    doc.clear();\n    const i = window.Bokeh.documents.indexOf(doc);\n    if (i > -1) {\n      window.Bokeh.documents.splice(i, 1);\n    }\n  }\n}\n\n/**\n * Handle kernel restart event\n */\nfunction handle_kernel_cleanup(event, handle) {\n  delete PyViz.comms[\"hv-extension-comm\"];\n  window.PyViz.plot_index = {}\n}\n\n/**\n * Handle update_display_data messages\n */\nfunction handle_update_output(event, handle) {\n  handle_clear_output(event, {cell: {output_area: handle.output_area}})\n  handle_add_output(event, handle)\n}\n\nfunction register_renderer(events, OutputArea) {\n  function append_mime(data, metadata, element) {\n    // create a DOM node to render to\n    var toinsert = this.create_output_subarea(\n    metadata,\n    CLASS_NAME,\n    EXEC_MIME_TYPE\n    );\n    this.keyboard_manager.register_events(toinsert);\n    // Render to node\n    var props = {data: data, metadata: metadata[EXEC_MIME_TYPE]};\n    render(props, toinsert[0]);\n    element.append(toinsert);\n    return toinsert\n  }\n\n  events.on('output_added.OutputArea', handle_add_output);\n  events.on('output_updated.OutputArea', handle_update_output);\n  events.on('clear_output.CodeCell', handle_clear_output);\n  events.on('delete.Cell', handle_clear_output);\n  events.on('kernel_ready.Kernel', handle_kernel_cleanup);\n\n  OutputArea.prototype.register_mime_type(EXEC_MIME_TYPE, append_mime, {\n    safe: true,\n    index: 0\n  });\n}\n\nif (window.Jupyter !== undefined) {\n  try {\n    var events = require('base/js/events');\n    var OutputArea = require('notebook/js/outputarea').OutputArea;\n    if (OutputArea.prototype.mime_types().indexOf(EXEC_MIME_TYPE) == -1) {\n      register_renderer(events, OutputArea);\n    }\n  } catch(err) {\n  }\n}\n",
                        "application/vnd.holoviews_load.v0+json": ""
                    },
                    "metadata": {},
                    "output_type": "display_data"
                },
                {
                    "data": {
                        "text/html": [
                            "<style>*[data-root-id],\n",
                            "*[data-root-id] > * {\n",
                            "  box-sizing: border-box;\n",
                            "  font-family: var(--jp-ui-font-family);\n",
                            "  font-size: var(--jp-ui-font-size1);\n",
                            "  color: var(--vscode-editor-foreground, var(--jp-ui-font-color1));\n",
                            "}\n",
                            "\n",
                            "/* Override VSCode background color */\n",
                            ".cell-output-ipywidget-background:has(\n",
                            "    > .cell-output-ipywidget-background > .lm-Widget > *[data-root-id]\n",
                            "  ),\n",
                            ".cell-output-ipywidget-background:has(> .lm-Widget > *[data-root-id]) {\n",
                            "  background-color: transparent !important;\n",
                            "}\n",
                            "</style>"
                        ]
                    },
                    "metadata": {},
                    "output_type": "display_data"
                },
                {
                    "data": {
                        "application/vnd.holoviews_exec.v0+json": "",
                        "text/html": [
                            "<div id='p1002'>\n",
                            "  <div id=\"beeb5b47-a3d1-4d0e-93f5-72cdc5741236\" data-root-id=\"p1002\" style=\"display: contents;\"></div>\n",
                            "</div>\n",
                            "<script type=\"application/javascript\">(function(root) {\n",
                            "  var docs_json = {\"ef6a4a5e-8a6e-4f34-8405-e07e68a7577e\":{\"version\":\"3.4.2\",\"title\":\"Bokeh Application\",\"roots\":[{\"type\":\"object\",\"name\":\"panel.models.browser.BrowserInfo\",\"id\":\"p1002\"},{\"type\":\"object\",\"name\":\"panel.models.comm_manager.CommManager\",\"id\":\"p1003\",\"attributes\":{\"plot_id\":\"p1002\",\"comm_id\":\"fbfaf0730317411e8e40fc97c021a0f9\",\"client_comm_id\":\"18a55b1223bb4ad3bd92e36e8c0d15ec\"}}],\"defs\":[{\"type\":\"model\",\"name\":\"ReactiveHTML1\"},{\"type\":\"model\",\"name\":\"FlexBox1\",\"properties\":[{\"name\":\"align_content\",\"kind\":\"Any\",\"default\":\"flex-start\"},{\"name\":\"align_items\",\"kind\":\"Any\",\"default\":\"flex-start\"},{\"name\":\"flex_direction\",\"kind\":\"Any\",\"default\":\"row\"},{\"name\":\"flex_wrap\",\"kind\":\"Any\",\"default\":\"wrap\"},{\"name\":\"gap\",\"kind\":\"Any\",\"default\":\"\"},{\"name\":\"justify_content\",\"kind\":\"Any\",\"default\":\"flex-start\"}]},{\"type\":\"model\",\"name\":\"FloatPanel1\",\"properties\":[{\"name\":\"config\",\"kind\":\"Any\",\"default\":{\"type\":\"map\"}},{\"name\":\"contained\",\"kind\":\"Any\",\"default\":true},{\"name\":\"position\",\"kind\":\"Any\",\"default\":\"right-top\"},{\"name\":\"offsetx\",\"kind\":\"Any\",\"default\":null},{\"name\":\"offsety\",\"kind\":\"Any\",\"default\":null},{\"name\":\"theme\",\"kind\":\"Any\",\"default\":\"primary\"},{\"name\":\"status\",\"kind\":\"Any\",\"default\":\"normalized\"}]},{\"type\":\"model\",\"name\":\"GridStack1\",\"properties\":[{\"name\":\"mode\",\"kind\":\"Any\",\"default\":\"warn\"},{\"name\":\"ncols\",\"kind\":\"Any\",\"default\":null},{\"name\":\"nrows\",\"kind\":\"Any\",\"default\":null},{\"name\":\"allow_resize\",\"kind\":\"Any\",\"default\":true},{\"name\":\"allow_drag\",\"kind\":\"Any\",\"default\":true},{\"name\":\"state\",\"kind\":\"Any\",\"default\":[]}]},{\"type\":\"model\",\"name\":\"drag1\",\"properties\":[{\"name\":\"slider_width\",\"kind\":\"Any\",\"default\":5},{\"name\":\"slider_color\",\"kind\":\"Any\",\"default\":\"black\"},{\"name\":\"value\",\"kind\":\"Any\",\"default\":50}]},{\"type\":\"model\",\"name\":\"click1\",\"properties\":[{\"name\":\"terminal_output\",\"kind\":\"Any\",\"default\":\"\"},{\"name\":\"debug_name\",\"kind\":\"Any\",\"default\":\"\"},{\"name\":\"clears\",\"kind\":\"Any\",\"default\":0}]},{\"type\":\"model\",\"name\":\"FastWrapper1\",\"properties\":[{\"name\":\"object\",\"kind\":\"Any\",\"default\":null},{\"name\":\"style\",\"kind\":\"Any\",\"default\":null}]},{\"type\":\"model\",\"name\":\"NotificationAreaBase1\",\"properties\":[{\"name\":\"js_events\",\"kind\":\"Any\",\"default\":{\"type\":\"map\"}},{\"name\":\"position\",\"kind\":\"Any\",\"default\":\"bottom-right\"},{\"name\":\"_clear\",\"kind\":\"Any\",\"default\":0}]},{\"type\":\"model\",\"name\":\"NotificationArea1\",\"properties\":[{\"name\":\"js_events\",\"kind\":\"Any\",\"default\":{\"type\":\"map\"}},{\"name\":\"notifications\",\"kind\":\"Any\",\"default\":[]},{\"name\":\"position\",\"kind\":\"Any\",\"default\":\"bottom-right\"},{\"name\":\"_clear\",\"kind\":\"Any\",\"default\":0},{\"name\":\"types\",\"kind\":\"Any\",\"default\":[{\"type\":\"map\",\"entries\":[[\"type\",\"warning\"],[\"background\",\"#ffc107\"],[\"icon\",{\"type\":\"map\",\"entries\":[[\"className\",\"fas fa-exclamation-triangle\"],[\"tagName\",\"i\"],[\"color\",\"white\"]]}]]},{\"type\":\"map\",\"entries\":[[\"type\",\"info\"],[\"background\",\"#007bff\"],[\"icon\",{\"type\":\"map\",\"entries\":[[\"className\",\"fas fa-info-circle\"],[\"tagName\",\"i\"],[\"color\",\"white\"]]}]]}]}]},{\"type\":\"model\",\"name\":\"Notification\",\"properties\":[{\"name\":\"background\",\"kind\":\"Any\",\"default\":null},{\"name\":\"duration\",\"kind\":\"Any\",\"default\":3000},{\"name\":\"icon\",\"kind\":\"Any\",\"default\":null},{\"name\":\"message\",\"kind\":\"Any\",\"default\":\"\"},{\"name\":\"notification_type\",\"kind\":\"Any\",\"default\":null},{\"name\":\"_destroyed\",\"kind\":\"Any\",\"default\":false}]},{\"type\":\"model\",\"name\":\"TemplateActions1\",\"properties\":[{\"name\":\"open_modal\",\"kind\":\"Any\",\"default\":0},{\"name\":\"close_modal\",\"kind\":\"Any\",\"default\":0}]},{\"type\":\"model\",\"name\":\"BootstrapTemplateActions1\",\"properties\":[{\"name\":\"open_modal\",\"kind\":\"Any\",\"default\":0},{\"name\":\"close_modal\",\"kind\":\"Any\",\"default\":0}]},{\"type\":\"model\",\"name\":\"TemplateEditor1\",\"properties\":[{\"name\":\"layout\",\"kind\":\"Any\",\"default\":[]}]},{\"type\":\"model\",\"name\":\"MaterialTemplateActions1\",\"properties\":[{\"name\":\"open_modal\",\"kind\":\"Any\",\"default\":0},{\"name\":\"close_modal\",\"kind\":\"Any\",\"default\":0}]},{\"type\":\"model\",\"name\":\"copy_to_clipboard1\",\"properties\":[{\"name\":\"fill\",\"kind\":\"Any\",\"default\":\"none\"},{\"name\":\"value\",\"kind\":\"Any\",\"default\":null}]}]}};\n",
                            "  var render_items = [{\"docid\":\"ef6a4a5e-8a6e-4f34-8405-e07e68a7577e\",\"roots\":{\"p1002\":\"beeb5b47-a3d1-4d0e-93f5-72cdc5741236\"},\"root_ids\":[\"p1002\"]}];\n",
                            "  var docs = Object.values(docs_json)\n",
                            "  if (!docs) {\n",
                            "    return\n",
                            "  }\n",
                            "  const py_version = docs[0].version.replace('rc', '-rc.').replace('.dev', '-dev.')\n",
                            "  async function embed_document(root) {\n",
                            "    var Bokeh = get_bokeh(root)\n",
                            "    await Bokeh.embed.embed_items_notebook(docs_json, render_items);\n",
                            "    for (const render_item of render_items) {\n",
                            "      for (const root_id of render_item.root_ids) {\n",
                            "\tconst id_el = document.getElementById(root_id)\n",
                            "\tif (id_el.children.length && id_el.children[0].hasAttribute('data-root-id')) {\n",
                            "\t  const root_el = id_el.children[0]\n",
                            "\t  root_el.id = root_el.id + '-rendered'\n",
                            "\t  for (const child of root_el.children) {\n",
                            "            // Ensure JupyterLab does not capture keyboard shortcuts\n",
                            "            // see: https://jupyterlab.readthedocs.io/en/4.1.x/extension/notebook.html#keyboard-interaction-model\n",
                            "\t    child.setAttribute('data-lm-suppress-shortcuts', 'true')\n",
                            "\t  }\n",
                            "\t}\n",
                            "      }\n",
                            "    }\n",
                            "  }\n",
                            "  function get_bokeh(root) {\n",
                            "    if (root.Bokeh === undefined) {\n",
                            "      return null\n",
                            "    } else if (root.Bokeh.version !== py_version) {\n",
                            "      if (root.Bokeh.versions === undefined || !root.Bokeh.versions.has(py_version)) {\n",
                            "\treturn null\n",
                            "      }\n",
                            "      return root.Bokeh.versions.get(py_version);\n",
                            "    } else if (root.Bokeh.version === py_version) {\n",
                            "      return root.Bokeh\n",
                            "    }\n",
                            "    return null\n",
                            "  }\n",
                            "  function is_loaded(root) {\n",
                            "    var Bokeh = get_bokeh(root)\n",
                            "    return (Bokeh != null && Bokeh.Panel !== undefined)\n",
                            "  }\n",
                            "  if (is_loaded(root)) {\n",
                            "    embed_document(root);\n",
                            "  } else {\n",
                            "    var attempts = 0;\n",
                            "    var timer = setInterval(function(root) {\n",
                            "      if (is_loaded(root)) {\n",
                            "        clearInterval(timer);\n",
                            "        embed_document(root);\n",
                            "      } else if (document.readyState == \"complete\") {\n",
                            "        attempts++;\n",
                            "        if (attempts > 200) {\n",
                            "          clearInterval(timer);\n",
                            "\t  var Bokeh = get_bokeh(root)\n",
                            "\t  if (Bokeh == null || Bokeh.Panel == null) {\n",
                            "            console.warn(\"Panel: ERROR: Unable to run Panel code because Bokeh or Panel library is missing\");\n",
                            "\t  } else {\n",
                            "\t    console.warn(\"Panel: WARNING: Attempting to render but not all required libraries could be resolved.\")\n",
                            "\t    embed_document(root)\n",
                            "\t  }\n",
                            "        }\n",
                            "      }\n",
                            "    }, 25, root)\n",
                            "  }\n",
                            "})(window);</script>"
                        ]
                    },
                    "metadata": {
                        "application/vnd.holoviews_exec.v0+json": {
                            "id": "p1002"
                        }
                    },
                    "output_type": "display_data"
                }
            ],
            "source": [
                "import holoviews as hv\n",
                "import hvplot.polars  # noqa\n",
                "import matplotlib.pyplot as plt\n",
                "import polars as pl\n",
                "from polars import col\n",
                "\n",
                "from src.data.database_manager import DatabaseManager\n",
                "from src.features.scaling import scale_min_max\n",
                "from src.features.transforming import map_by_group\n",
                "from src.log_config import configure_logging\n",
                "from src.plots.averages import (\n",
                "    add_ci_to_averages,\n",
                "    average_over_stimulus_seeds,\n",
                "    calculate_max_crosscorr_lag_over_averages,\n",
                "    plot_averages_with_ci,\n",
                ")\n",
                "\n",
                "configure_logging(\n",
                "    ignore_libs=(\"Comm\", \"bokeh\", \"tornado\", \"matplotlib\"),\n",
                ")\n",
                "\n",
                "pl.Config.set_tbl_rows(12)  # for 12 seeds\n",
                "hv.output(widget_location=\"bottom\", size=150)"
            ]
        },
        {
            "cell_type": "code",
            "execution_count": 4,
            "metadata": {},
            "outputs": [],
            "source": [
                "db = DatabaseManager()"
            ]
        },
        {
            "cell_type": "code",
            "execution_count": 5,
            "metadata": {},
            "outputs": [],
            "source": [
                "with db:\n",
                "    df = db.get_table(\n",
                "        \"Merged_and_labeled_data\", exclude_trials_with_measurement_problems=False\n",
                "    )"
            ]
        },
        {
            "cell_type": "code",
            "execution_count": 6,
            "metadata": {},
            "outputs": [
                {
                    "data": {
                        "text/html": [
                            "<div><style>\n",
                            ".dataframe > thead > tr,\n",
                            ".dataframe > tbody > tr {\n",
                            "  text-align: right;\n",
                            "  white-space: pre-wrap;\n",
                            "}\n",
                            "</style>\n",
                            "<small>shape: (952_729, 33)</small><table border=\"1\" class=\"dataframe\"><thead><tr><th>trial_id</th><th>trial_number</th><th>participant_id</th><th>timestamp</th><th>temperature</th><th>rating</th><th>eda_raw</th><th>eda_tonic</th><th>eda_phasic</th><th>ppg_raw</th><th>ppg_ibi_shimmer</th><th>heart_rate</th><th>pupil_l_raw</th><th>pupil_r_raw</th><th>pupil_r</th><th>pupil_l</th><th>pupil</th><th>pupil_tonic</th><th>brow_furrow</th><th>cheek_raise</th><th>mouth_open</th><th>upper_lip_raise</th><th>nose_wrinkle</th><th>normalized_timestamp</th><th>stimulus_seed</th><th>skin_patch</th><th>decreasing_intervals</th><th>major_decreasing_intervals</th><th>increasing_intervals</th><th>strictly_increasing_intervals</th><th>strictly_increasing_intervals_without_plateaus</th><th>plateau_intervals</th><th>prolonged_minima_intervals</th></tr><tr><td>u16</td><td>u8</td><td>u8</td><td>f64</td><td>f64</td><td>f64</td><td>f64</td><td>f64</td><td>f64</td><td>f64</td><td>f64</td><td>f64</td><td>f64</td><td>f64</td><td>f64</td><td>f64</td><td>f64</td><td>f64</td><td>f64</td><td>f64</td><td>f64</td><td>f64</td><td>f64</td><td>f64</td><td>u16</td><td>u8</td><td>u16</td><td>u16</td><td>u16</td><td>u16</td><td>u16</td><td>u16</td><td>u16</td></tr></thead><tbody><tr><td>1</td><td>1</td><td>1</td><td>294198.9762</td><td>0.0</td><td>0.425</td><td>0.743774</td><td>0.743503</td><td>0.000271</td><td>1408.404382</td><td>-1.062977</td><td>65.243881</td><td>5.670313</td><td>6.173421</td><td>5.641376</td><td>5.15944</td><td>5.400408</td><td>5.350094</td><td>0.00036</td><td>0.00286</td><td>0.0048</td><td>0.0</td><td>0.00007</td><td>0.0</td><td>396</td><td>1</td><td>0</td><td>0</td><td>1</td><td>0</td><td>0</td><td>0</td><td>0</td></tr><tr><td>1</td><td>1</td><td>1</td><td>294298.9762</td><td>0.000039</td><td>0.425</td><td>0.744641</td><td>0.743517</td><td>0.001124</td><td>1372.864366</td><td>-0.131651</td><td>65.242949</td><td>5.602895</td><td>6.142564</td><td>5.639922</td><td>5.157792</td><td>5.398857</td><td>5.343983</td><td>0.00036</td><td>0.00286</td><td>0.0048</td><td>0.0</td><td>0.00007</td><td>100.0</td><td>396</td><td>1</td><td>0</td><td>0</td><td>1</td><td>0</td><td>0</td><td>0</td><td>0</td></tr><tr><td>1</td><td>1</td><td>1</td><td>294398.9762</td><td>0.000154</td><td>0.395798</td><td>0.74488</td><td>0.743537</td><td>0.001343</td><td>1397.15563</td><td>-2.948082</td><td>65.241069</td><td>5.518026</td><td>6.072123</td><td>5.643301</td><td>5.160338</td><td>5.401819</td><td>5.337462</td><td>0.000341</td><td>0.002327</td><td>0.004199</td><td>0.0</td><td>0.000065</td><td>200.0</td><td>396</td><td>1</td><td>0</td><td>0</td><td>1</td><td>0</td><td>0</td><td>0</td><td>0</td></tr><tr><td>1</td><td>1</td><td>1</td><td>294498.9762</td><td>0.000417</td><td>0.270286</td><td>0.744808</td><td>0.743557</td><td>0.001252</td><td>1485.360361</td><td>1.488009</td><td>65.238629</td><td>5.399583</td><td>5.947853</td><td>5.638149</td><td>5.156922</td><td>5.397535</td><td>5.330919</td><td>0.000512</td><td>0.00122</td><td>0.002504</td><td>0.0</td><td>0.000065</td><td>300.0</td><td>396</td><td>1</td><td>0</td><td>0</td><td>1</td><td>0</td><td>0</td><td>0</td><td>0</td></tr><tr><td>1</td><td>1</td><td>1</td><td>294598.9762</td><td>0.000818</td><td>0.129521</td><td>0.74487</td><td>0.743578</td><td>0.001293</td><td>1496.64849</td><td>-4.735116</td><td>65.235505</td><td>5.276378</td><td>5.796069</td><td>5.646014</td><td>5.1618</td><td>5.403907</td><td>5.324177</td><td>0.001059</td><td>0.000701</td><td>0.002202</td><td>0.000006</td><td>0.000093</td><td>400.0</td><td>396</td><td>1</td><td>0</td><td>0</td><td>1</td><td>0</td><td>0</td><td>0</td><td>0</td></tr><tr><td>1</td><td>1</td><td>1</td><td>294698.9762</td><td>0.001358</td><td>0.152477</td><td>0.744957</td><td>0.743594</td><td>0.001363</td><td>1456.946658</td><td>1.28125</td><td>65.233139</td><td>5.158002</td><td>5.642459</td><td>5.62452</td><td>5.146081</td><td>5.3853</td><td>5.317484</td><td>0.001138</td><td>0.000565</td><td>0.001937</td><td>0.000017</td><td>0.00009</td><td>500.0</td><td>396</td><td>1</td><td>0</td><td>0</td><td>1</td><td>0</td><td>0</td><td>0</td><td>0</td></tr><tr><td>&hellip;</td><td>&hellip;</td><td>&hellip;</td><td>&hellip;</td><td>&hellip;</td><td>&hellip;</td><td>&hellip;</td><td>&hellip;</td><td>&hellip;</td><td>&hellip;</td><td>&hellip;</td><td>&hellip;</td><td>&hellip;</td><td>&hellip;</td><td>&hellip;</td><td>&hellip;</td><td>&hellip;</td><td>&hellip;</td><td>&hellip;</td><td>&hellip;</td><td>&hellip;</td><td>&hellip;</td><td>&hellip;</td><td>&hellip;</td><td>&hellip;</td><td>&hellip;</td><td>&hellip;</td><td>&hellip;</td><td>&hellip;</td><td>&hellip;</td><td>&hellip;</td><td>&hellip;</td><td>&hellip;</td></tr><tr><td>529</td><td>12</td><td>50</td><td>2.6956e6</td><td>0.031312</td><td>0.0</td><td>26.688608</td><td>26.716225</td><td>0.003169</td><td>1323.813266</td><td>-5.036073</td><td>59.279672</td><td>5.166699</td><td>4.766597</td><td>4.768156</td><td>5.167254</td><td>4.967705</td><td>5.180142</td><td>0.000465</td><td>0.001124</td><td>0.007081</td><td>0.00022</td><td>0.004168</td><td>179500.0</td><td>806</td><td>1</td><td>2645</td><td>1587</td><td>0</td><td>0</td><td>0</td><td>0</td><td>0</td></tr><tr><td>529</td><td>12</td><td>50</td><td>2.6957e6</td><td>0.030874</td><td>0.0</td><td>26.68499</td><td>26.716212</td><td>0.000389</td><td>1244.871959</td><td>44.337204</td><td>58.673362</td><td>5.026438</td><td>4.683481</td><td>4.690238</td><td>5.025632</td><td>4.857935</td><td>5.174284</td><td>0.000698</td><td>0.000846</td><td>0.007044</td><td>0.000348</td><td>0.004289</td><td>179600.0</td><td>806</td><td>1</td><td>2645</td><td>1587</td><td>0</td><td>0</td><td>0</td><td>0</td><td>0</td></tr><tr><td>529</td><td>12</td><td>50</td><td>2.6958e6</td><td>0.030555</td><td>0.0</td><td>26.683944</td><td>26.716204</td><td>0.000132</td><td>1223.099413</td><td>55.805969</td><td>58.073701</td><td>4.929092</td><td>4.633568</td><td>4.655852</td><td>4.930955</td><td>4.793404</td><td>5.169684</td><td>0.001266</td><td>0.000706</td><td>0.011259</td><td>0.000379</td><td>0.006841</td><td>179700.0</td><td>806</td><td>1</td><td>2645</td><td>1587</td><td>0</td><td>0</td><td>0</td><td>0</td><td>0</td></tr><tr><td>529</td><td>12</td><td>50</td><td>2.6959e6</td><td>0.030355</td><td>0.0</td><td>26.67662</td><td>26.716199</td><td>-0.006472</td><td>1209.194684</td><td>3.987454</td><td>57.589289</td><td>4.892469</td><td>4.615016</td><td>4.639233</td><td>4.892883</td><td>4.766058</td><td>5.166363</td><td>0.000538</td><td>0.000713</td><td>0.007119</td><td>0.000194</td><td>0.004404</td><td>179800.0</td><td>806</td><td>1</td><td>2645</td><td>1587</td><td>0</td><td>0</td><td>0</td><td>0</td><td>0</td></tr><tr><td>529</td><td>12</td><td>50</td><td>2.6960e6</td><td>0.030266</td><td>0.0</td><td>26.673635</td><td>26.716196</td><td>-0.008718</td><td>1185.269861</td><td>-8.486648</td><td>57.260022</td><td>4.884521</td><td>4.629964</td><td>4.622166</td><td>4.886672</td><td>4.754419</td><td>5.164178</td><td>0.000372</td><td>0.00049</td><td>0.006667</td><td>0.000138</td><td>0.003204</td><td>179900.0</td><td>806</td><td>1</td><td>2645</td><td>1587</td><td>0</td><td>0</td><td>0</td><td>0</td><td>0</td></tr><tr><td>529</td><td>12</td><td>50</td><td>2.6961e6</td><td>0.030251</td><td>0.0</td><td>26.676667</td><td>26.716195</td><td>-0.005103</td><td>1176.373587</td><td>8.110077</td><td>57.105773</td><td>4.882422</td><td>4.648883</td><td>4.610538</td><td>4.884064</td><td>4.747301</td><td>5.16335</td><td>0.000121</td><td>0.00074</td><td>0.015191</td><td>0.000349</td><td>0.001363</td><td>180000.0</td><td>806</td><td>1</td><td>2645</td><td>1587</td><td>0</td><td>0</td><td>0</td><td>0</td><td>0</td></tr></tbody></table></div>"
                        ],
                        "text/plain": [
                            "shape: (952_729, 33)\n",
                            "┌──────────┬───────────┬───────────┬───────────┬───┬───────────┬───────────┬───────────┬───────────┐\n",
                            "│ trial_id ┆ trial_num ┆ participa ┆ timestamp ┆ … ┆ strictly_ ┆ strictly_ ┆ plateau_i ┆ prolonged │\n",
                            "│ ---      ┆ ber       ┆ nt_id     ┆ ---       ┆   ┆ increasin ┆ increasin ┆ ntervals  ┆ _minima_i │\n",
                            "│ u16      ┆ ---       ┆ ---       ┆ f64       ┆   ┆ g_interva ┆ g_interva ┆ ---       ┆ ntervals  │\n",
                            "│          ┆ u8        ┆ u8        ┆           ┆   ┆ ls        ┆ ls_…      ┆ u16       ┆ ---       │\n",
                            "│          ┆           ┆           ┆           ┆   ┆ ---       ┆ ---       ┆           ┆ u16       │\n",
                            "│          ┆           ┆           ┆           ┆   ┆ u16       ┆ u16       ┆           ┆           │\n",
                            "╞══════════╪═══════════╪═══════════╪═══════════╪═══╪═══════════╪═══════════╪═══════════╪═══════════╡\n",
                            "│ 1        ┆ 1         ┆ 1         ┆ 294198.97 ┆ … ┆ 0         ┆ 0         ┆ 0         ┆ 0         │\n",
                            "│          ┆           ┆           ┆ 62        ┆   ┆           ┆           ┆           ┆           │\n",
                            "│ 1        ┆ 1         ┆ 1         ┆ 294298.97 ┆ … ┆ 0         ┆ 0         ┆ 0         ┆ 0         │\n",
                            "│          ┆           ┆           ┆ 62        ┆   ┆           ┆           ┆           ┆           │\n",
                            "│ 1        ┆ 1         ┆ 1         ┆ 294398.97 ┆ … ┆ 0         ┆ 0         ┆ 0         ┆ 0         │\n",
                            "│          ┆           ┆           ┆ 62        ┆   ┆           ┆           ┆           ┆           │\n",
                            "│ 1        ┆ 1         ┆ 1         ┆ 294498.97 ┆ … ┆ 0         ┆ 0         ┆ 0         ┆ 0         │\n",
                            "│          ┆           ┆           ┆ 62        ┆   ┆           ┆           ┆           ┆           │\n",
                            "│ 1        ┆ 1         ┆ 1         ┆ 294598.97 ┆ … ┆ 0         ┆ 0         ┆ 0         ┆ 0         │\n",
                            "│          ┆           ┆           ┆ 62        ┆   ┆           ┆           ┆           ┆           │\n",
                            "│ 1        ┆ 1         ┆ 1         ┆ 294698.97 ┆ … ┆ 0         ┆ 0         ┆ 0         ┆ 0         │\n",
                            "│          ┆           ┆           ┆ 62        ┆   ┆           ┆           ┆           ┆           │\n",
                            "│ …        ┆ …         ┆ …         ┆ …         ┆ … ┆ …         ┆ …         ┆ …         ┆ …         │\n",
                            "│ 529      ┆ 12        ┆ 50        ┆ 2.6956e6  ┆ … ┆ 0         ┆ 0         ┆ 0         ┆ 0         │\n",
                            "│ 529      ┆ 12        ┆ 50        ┆ 2.6957e6  ┆ … ┆ 0         ┆ 0         ┆ 0         ┆ 0         │\n",
                            "│ 529      ┆ 12        ┆ 50        ┆ 2.6958e6  ┆ … ┆ 0         ┆ 0         ┆ 0         ┆ 0         │\n",
                            "│ 529      ┆ 12        ┆ 50        ┆ 2.6959e6  ┆ … ┆ 0         ┆ 0         ┆ 0         ┆ 0         │\n",
                            "│ 529      ┆ 12        ┆ 50        ┆ 2.6960e6  ┆ … ┆ 0         ┆ 0         ┆ 0         ┆ 0         │\n",
                            "│ 529      ┆ 12        ┆ 50        ┆ 2.6961e6  ┆ … ┆ 0         ┆ 0         ┆ 0         ┆ 0         │\n",
                            "└──────────┴───────────┴───────────┴───────────┴───┴───────────┴───────────┴───────────┴───────────┘"
                        ]
                    },
                    "execution_count": 6,
                    "metadata": {},
                    "output_type": "execute_result"
                }
            ],
            "source": [
                "df"
            ]
        },
        {
            "cell_type": "code",
            "execution_count": 7,
            "metadata": {},
            "outputs": [
                {
                    "data": {
                        "application/vnd.jupyter.widget-view+json": {
                            "model_id": "324386417e414743b9b4c3a8121e2c37",
                            "version_major": 2,
                            "version_minor": 0
                        },
                        "text/plain": [
                            "BokehModel(combine_events=True, render_bundle={'docs_json': {'8c8fb177-f235-406f-ad57-b4c8a65f1505': {'version…"
                        ]
                    },
                    "execution_count": 7,
                    "metadata": {},
                    "output_type": "execute_result"
                }
            ],
            "source": [
                "scale_min_max(df).hvplot(\n",
                "    x=\"timestamp\",\n",
                "    y=[\"pupil_l\"],\n",
                "    groupby=[\"participant_id\", \"trial_number\"],\n",
                "    muted_alpha=0,\n",
                ")"
            ]
        },
        {
            "cell_type": "code",
            "execution_count": 8,
            "metadata": {},
            "outputs": [],
            "source": [
                "with db:\n",
                "    raw = db.get_table(\"Raw_Pupil\")\n",
                "    process = db.get_table(\"Preprocess_Pupil\")\n"
            ]
        },
        {
            "cell_type": "code",
            "execution_count": 9,
            "metadata": {},
            "outputs": [
                {
                    "data": {
                        "text/html": [
                            "<div><style>\n",
                            ".dataframe > thead > tr,\n",
                            ".dataframe > tbody > tr {\n",
                            "  text-align: right;\n",
                            "  white-space: pre-wrap;\n",
                            "}\n",
                            "</style>\n",
                            "<small>shape: (5_124_617, 7)</small><table border=\"1\" class=\"dataframe\"><thead><tr><th>trial_id</th><th>trial_number</th><th>participant_id</th><th>rownumber</th><th>timestamp</th><th>pupil_l_raw</th><th>pupil_r_raw</th></tr><tr><td>u16</td><td>u8</td><td>u8</td><td>u32</td><td>f64</td><td>f64</td><td>f64</td></tr></thead><tbody><tr><td>1</td><td>1</td><td>1</td><td>17631</td><td>294198.9762</td><td>5.73628</td><td>6.245389</td></tr><tr><td>1</td><td>1</td><td>1</td><td>17632</td><td>294215.605</td><td>5.726105</td><td>6.240875</td></tr><tr><td>1</td><td>1</td><td>1</td><td>17633</td><td>294232.4178</td><td>5.710716</td><td>6.233272</td></tr><tr><td>1</td><td>1</td><td>1</td><td>17634</td><td>294248.9778</td><td>5.703059</td><td>6.225731</td></tr><tr><td>1</td><td>1</td><td>1</td><td>17635</td><td>294265.7282</td><td>5.693711</td><td>6.221862</td></tr><tr><td>1</td><td>1</td><td>1</td><td>17636</td><td>294282.4034</td><td>5.679268</td><td>6.218964</td></tr><tr><td>&hellip;</td><td>&hellip;</td><td>&hellip;</td><td>&hellip;</td><td>&hellip;</td><td>&hellip;</td><td>&hellip;</td></tr><tr><td>529</td><td>12</td><td>50</td><td>161529</td><td>2.6960e6</td><td>4.940831</td><td>4.702713</td></tr><tr><td>529</td><td>12</td><td>50</td><td>161530</td><td>2.6961e6</td><td>4.942234</td><td>4.707606</td></tr><tr><td>529</td><td>12</td><td>50</td><td>161531</td><td>2.6961e6</td><td>4.945201</td><td>4.71266</td></tr><tr><td>529</td><td>12</td><td>50</td><td>161532</td><td>2.6961e6</td><td>4.944442</td><td>4.719083</td></tr><tr><td>529</td><td>12</td><td>50</td><td>161533</td><td>2.6961e6</td><td>4.947656</td><td>4.726616</td></tr><tr><td>529</td><td>12</td><td>50</td><td>161534</td><td>2.6961e6</td><td>4.944747</td><td>4.728182</td></tr></tbody></table></div>"
                        ],
                        "text/plain": [
                            "shape: (5_124_617, 7)\n",
                            "┌──────────┬──────────────┬────────────────┬───────────┬─────────────┬─────────────┬─────────────┐\n",
                            "│ trial_id ┆ trial_number ┆ participant_id ┆ rownumber ┆ timestamp   ┆ pupil_l_raw ┆ pupil_r_raw │\n",
                            "│ ---      ┆ ---          ┆ ---            ┆ ---       ┆ ---         ┆ ---         ┆ ---         │\n",
                            "│ u16      ┆ u8           ┆ u8             ┆ u32       ┆ f64         ┆ f64         ┆ f64         │\n",
                            "╞══════════╪══════════════╪════════════════╪═══════════╪═════════════╪═════════════╪═════════════╡\n",
                            "│ 1        ┆ 1            ┆ 1              ┆ 17631     ┆ 294198.9762 ┆ 5.73628     ┆ 6.245389    │\n",
                            "│ 1        ┆ 1            ┆ 1              ┆ 17632     ┆ 294215.605  ┆ 5.726105    ┆ 6.240875    │\n",
                            "│ 1        ┆ 1            ┆ 1              ┆ 17633     ┆ 294232.4178 ┆ 5.710716    ┆ 6.233272    │\n",
                            "│ 1        ┆ 1            ┆ 1              ┆ 17634     ┆ 294248.9778 ┆ 5.703059    ┆ 6.225731    │\n",
                            "│ 1        ┆ 1            ┆ 1              ┆ 17635     ┆ 294265.7282 ┆ 5.693711    ┆ 6.221862    │\n",
                            "│ 1        ┆ 1            ┆ 1              ┆ 17636     ┆ 294282.4034 ┆ 5.679268    ┆ 6.218964    │\n",
                            "│ …        ┆ …            ┆ …              ┆ …         ┆ …           ┆ …           ┆ …           │\n",
                            "│ 529      ┆ 12           ┆ 50             ┆ 161529    ┆ 2.6960e6    ┆ 4.940831    ┆ 4.702713    │\n",
                            "│ 529      ┆ 12           ┆ 50             ┆ 161530    ┆ 2.6961e6    ┆ 4.942234    ┆ 4.707606    │\n",
                            "│ 529      ┆ 12           ┆ 50             ┆ 161531    ┆ 2.6961e6    ┆ 4.945201    ┆ 4.71266     │\n",
                            "│ 529      ┆ 12           ┆ 50             ┆ 161532    ┆ 2.6961e6    ┆ 4.944442    ┆ 4.719083    │\n",
                            "│ 529      ┆ 12           ┆ 50             ┆ 161533    ┆ 2.6961e6    ┆ 4.947656    ┆ 4.726616    │\n",
                            "│ 529      ┆ 12           ┆ 50             ┆ 161534    ┆ 2.6961e6    ┆ 4.944747    ┆ 4.728182    │\n",
                            "└──────────┴──────────────┴────────────────┴───────────┴─────────────┴─────────────┴─────────────┘"
                        ]
                    },
                    "execution_count": 9,
                    "metadata": {},
                    "output_type": "execute_result"
                }
            ],
            "source": [
                "raw"
            ]
        },
        {
            "cell_type": "code",
            "execution_count": 10,
            "metadata": {},
            "outputs": [
                {
                    "data": {
                        "application/vnd.jupyter.widget-view+json": {
                            "model_id": "afd81be33eb74a5ebe843152c85e348c",
                            "version_major": 2,
                            "version_minor": 0
                        },
                        "text/plain": [
                            "BokehModel(combine_events=True, render_bundle={'docs_json': {'56e67789-9fe2-4fe6-89ae-067df27b6fb9': {'version…"
                        ]
                    },
                    "execution_count": 10,
                    "metadata": {},
                    "output_type": "execute_result"
                }
            ],
            "source": [
                "raw.hvplot(\n",
                "    x=\"timestamp\",\n",
                "    y=[\"pupil_l_raw\", \"pupil_r_raw\"],\n",
                "    groupby=[\"participant_id\", \"trial_number\"],\n",
                "    muted_alpha=0,\n",
                ")"
            ]
        },
        {
            "cell_type": "code",
            "execution_count": 11,
            "metadata": {},
            "outputs": [
                {
                    "data": {
                        "application/vnd.jupyter.widget-view+json": {
                            "model_id": "24a2bb0e839b4b8d8a008a5391b9ca8c",
                            "version_major": 2,
                            "version_minor": 0
                        },
                        "text/plain": [
                            "BokehModel(combine_events=True, render_bundle={'docs_json': {'874d6086-7be8-424b-ba8d-41b8a7dc4456': {'version…"
                        ]
                    },
                    "execution_count": 11,
                    "metadata": {},
                    "output_type": "execute_result"
                }
            ],
            "source": [
                "df.hvplot(\n",
                "    x=\"timestamp\",\n",
                "    y=[\"pupil\", \"pupil_tonic\"],\n",
                "    groupby=[\"participant_id\", \"trial_number\"],\n",
                "    muted_alpha=0,\n",
                ")"
            ]
        },
        {
            "cell_type": "code",
            "execution_count": null,
            "metadata": {},
            "outputs": [],
            "source": [
                "with db:\n",
                "    raw = db.get_table(\"Raw_PPG\")\n",
                "    process = db.get_table(\"Preprocess_PPG\")\n",
                "    feature = db.get_table(\"Feature_PPG\")\n"
            ]
        },
        {
            "cell_type": "code",
            "execution_count": null,
            "metadata": {},
            "outputs": [],
            "source": []
        },
        {
            "cell_type": "code",
            "execution_count": null,
            "metadata": {},
            "outputs": [
                {
                    "data": {
                        "application/vnd.jupyter.widget-view+json": {
                            "model_id": "8f7ad63d2d1840a2897b1b2547c3e944",
                            "version_major": 2,
                            "version_minor": 0
                        },
                        "text/plain": [
                            "BokehModel(combine_events=True, render_bundle={'docs_json': {'1d7d15dc-867b-4bc3-b0d5-cf8bf930e9fe': {'version…"
                        ]
                    },
                    "execution_count": 14,
                    "metadata": {},
                    "output_type": "execute_result"
                }
            ],
            "source": [
                "raw.hvplot(\n",
                "    x=\"timestamp\",\n",
                "    y=[\"ppg_heart_rate_shimmer\"],\n",
                "    groupby=[\"participant_id\", \"trial_number\"],\n",
                "    muted_alpha=0,\n",
                ")"
            ]
        },
        {
            "cell_type": "code",
            "execution_count": null,
            "metadata": {},
            "outputs": [
                {
                    "data": {
                        "application/vnd.jupyter.widget-view+json": {
                            "model_id": "02a330cc9e1e4d51aedbabf5a48af7dc",
                            "version_major": 2,
                            "version_minor": 0
                        },
                        "text/plain": [
                            "BokehModel(combine_events=True, render_bundle={'docs_json': {'51e37e40-dcfb-4cb9-a22b-fde046cb53fb': {'version…"
                        ]
                    },
                    "execution_count": 16,
                    "metadata": {},
                    "output_type": "execute_result"
                }
            ],
            "source": [
                "feature.hvplot(\n",
                "    x=\"timestamp\",\n",
                "    y=[\"heart_rate\"],\n",
                "    groupby=[\"participant_id\", \"trial_number\"],\n",
                "    muted_alpha=0,\n",
                ")"
            ]
        }
    ],
    "metadata": {
        "kernelspec": {
            "display_name": "pain",
            "language": "python",
            "name": "python3"
        },
        "language_info": {
            "codemirror_mode": {
                "name": "ipython",
                "version": 3
            },
            "file_extension": ".py",
            "mimetype": "text/x-python",
            "name": "python",
            "nbconvert_exporter": "python",
            "pygments_lexer": "ipython3",
            "version": "3.12.10"
        }
    },
    "nbformat": 4,
    "nbformat_minor": 2
}