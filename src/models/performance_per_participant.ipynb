{
    "cells": [
        {
            "cell_type": "code",
            "execution_count": 1,
            "metadata": {},
            "outputs": [],
            "source": [
                "%%capture\n",
                "from pathlib import Path\n",
                "\n",
                "if Path.cwd().stem == \"models\":\n",
                "    %cd ../..\n",
                "    %load_ext autoreload\n",
                "    %autoreload 2"
            ]
        },
        {
            "cell_type": "code",
            "execution_count": 2,
            "metadata": {},
            "outputs": [
                {
                    "name": "stdout",
                    "output_type": "stream",
                    "text": [
                        "13:50:19 | \u001b[92mINFO    \u001b[0m| utils | Using device: mps\n",
                        "13:50:19 | \u001b[92mINFO    \u001b[0m| utils | Set seed to 42\n"
                    ]
                },
                {
                    "data": {
                        "text/plain": [
                            "polars.config.Config"
                        ]
                    },
                    "execution_count": 2,
                    "metadata": {},
                    "output_type": "execute_result"
                }
            ],
            "source": [
                "import logging\n",
                "from pathlib import Path\n",
                "\n",
                "import numpy as np\n",
                "import polars as pl\n",
                "\n",
                "from src.data.database_manager import DatabaseManager\n",
                "from src.log_config import configure_logging\n",
                "from src.models.data_loader import create_dataloaders\n",
                "from src.models.data_preparation import prepare_data\n",
                "from src.models.main import RANDOM_SEED\n",
                "from src.models.utils import load_model\n",
                "from src.plots.model_performance_per_participant import (\n",
                "    analyze_per_participant,\n",
                "    plot_participant_performance,\n",
                ")\n",
                "\n",
                "configure_logging(\n",
                "    stream_level=logging.DEBUG,\n",
                "    ignore_libs=[\"matplotlib\", \"Comm\", \"bokeh\", \"tornado\"],\n",
                ")\n",
                "\n",
                "pl.Config.set_tbl_rows(12)  # for the 12 trials"
            ]
        },
        {
            "cell_type": "code",
            "execution_count": 3,
            "metadata": {},
            "outputs": [
                {
                    "name": "stdout",
                    "output_type": "stream",
                    "text": [
                        "13:50:19 | \u001b[92mINFO    \u001b[0m| utils | Loaded PatchTST model with test accuracy 0.77% to cpu.\n",
                        "13:50:19 | \u001b[92mINFO    \u001b[0m| utils | Input shape: (50, 4) | Features: ['eda_phasic', 'eda_tonic', 'heartrate', 'pupil_mean']\n"
                    ]
                }
            ],
            "source": [
                "model, features = load_model(\n",
                "    \"results/experiment_eda_phasic_eda_tonic_heartrate_pupil_mean/model/PatchTST_20250429-141311.pt\",\n",
                "    device=\"cpu\",  # only for inference\n",
                ")"
            ]
        },
        {
            "cell_type": "code",
            "execution_count": 4,
            "metadata": {},
            "outputs": [
                {
                    "name": "stdout",
                    "output_type": "stream",
                    "text": [
                        "13:50:19 | \u001b[92mINFO    \u001b[0m| data_preparation | Number of unique participants in training set: 24\n",
                        "13:50:19 | \u001b[92mINFO    \u001b[0m| data_preparation | Number of unique participants in validation set: 9\n",
                        "13:50:19 | \u001b[92mINFO    \u001b[0m| data_preparation | Number of unique participants in test set: 9\n",
                        "13:50:19 | \u001b[36mDEBUG   \u001b[0m| data_preparation | Participant IDs in test set: [ 7 11 17 24 30 33 36 37 48]\n",
                        "13:50:19 | \u001b[36mDEBUG   \u001b[0m| data_loader | Dataset summary: Train: 2220 samples, Test: 606 samples | Input shape: (2220, 50, 4), Label shape: (2220, 2)\n"
                    ]
                }
            ],
            "source": [
                "# Load data from database\n",
                "db = DatabaseManager()\n",
                "with db:\n",
                "    df = db.get_table(\n",
                "        \"Merged_and_Labeled_Data\",\n",
                "        exclude_trials_with_measurement_problems=True,\n",
                "    )\n",
                "\n",
                "# Prepare data\n",
                "X_train, y_train, X_val, y_val, X_train_val, y_train_val, X_test, y_test = prepare_data(\n",
                "    df, features, 5000, RANDOM_SEED\n",
                ")\n",
                "\n",
                "train_val_loader, test_loader = create_dataloaders(\n",
                "    X_train_val, y_train_val, X_test, y_test, batch_size=64\n",
                ")\n"
            ]
        },
        {
            "cell_type": "code",
            "execution_count": 5,
            "metadata": {},
            "outputs": [],
            "source": [
                "test_groups = prepare_data(\n",
                "    df, features, 5000, RANDOM_SEED, only_return_test_groups=True\n",
                ")"
            ]
        },
        {
            "cell_type": "code",
            "execution_count": 6,
            "metadata": {},
            "outputs": [
                {
                    "name": "stdout",
                    "output_type": "stream",
                    "text": [
                        "shape: (10, 5)\n",
                        "┌─────────────┬──────────┬─────────┬───────────────┬───────────────┐\n",
                        "│ participant ┆ accuracy ┆ samples ┆ class_0_count ┆ class_1_count │\n",
                        "│ ---         ┆ ---      ┆ ---     ┆ ---           ┆ ---           │\n",
                        "│ str         ┆ f64      ┆ i64     ┆ i64           ┆ i64           │\n",
                        "╞═════════════╪══════════╪═════════╪═══════════════╪═══════════════╡\n",
                        "│ 1           ┆ 0.916667 ┆ 72      ┆ 36            ┆ 36            │\n",
                        "│ 2           ┆ 0.819444 ┆ 72      ┆ 36            ┆ 36            │\n",
                        "│ 3           ┆ 0.666667 ┆ 72      ┆ 36            ┆ 36            │\n",
                        "│ 4           ┆ 0.694444 ┆ 72      ┆ 36            ┆ 36            │\n",
                        "│ 5           ┆ 0.583333 ┆ 72      ┆ 36            ┆ 36            │\n",
                        "│ 6           ┆ 0.888889 ┆ 36      ┆ 18            ┆ 18            │\n",
                        "│ 7           ┆ 0.878788 ┆ 66      ┆ 33            ┆ 33            │\n",
                        "│ 8           ┆ 0.75     ┆ 72      ┆ 36            ┆ 36            │\n",
                        "│ 9           ┆ 0.833333 ┆ 72      ┆ 36            ┆ 36            │\n",
                        "│ overall     ┆ 0.773927 ┆ 606     ┆ 303           ┆ 303           │\n",
                        "└─────────────┴──────────┴─────────┴───────────────┴───────────────┘\n"
                    ]
                }
            ],
            "source": [
                "results_df = analyze_per_participant(\n",
                "    model,\n",
                "    X_test,\n",
                "    y_test,\n",
                "    test_groups,\n",
                "    batch_size=64,\n",
                "    threshold=0.5,\n",
                "    pseudonymize=True,\n",
                ")\n",
                "\n",
                "# Display results\n",
                "print(results_df)\n"
            ]
        },
        {
            "cell_type": "code",
            "execution_count": 9,
            "metadata": {},
            "outputs": [
                {
                    "data": {
                        "image/png": "[encoded data removed]",
                        "text/plain": [
                            "<Figure size 800x500 with 1 Axes>"
                        ]
                    },
                    "metadata": {},
                    "output_type": "display_data"
                }
            ],
            "source": [
                "plot_participant_performance(results_df)"
            ]
        },
        {
            "cell_type": "code",
            "execution_count": 8,
            "metadata": {},
            "outputs": [
                {
                    "name": "stdout",
                    "output_type": "stream",
                    "text": [
                        "Table 1: Summary of classification accuracy across participants\n",
                        "shape: (5, 2)\n",
                        "┌─────────────────────────────────┬───────────────┐\n",
                        "│ Measure                         ┆ Value         │\n",
                        "│ ---                             ┆ ---           │\n",
                        "│ str                             ┆ str           │\n",
                        "╞═════════════════════════════════╪═══════════════╡\n",
                        "│ Overall accuracy                ┆ 77.4%         │\n",
                        "│ Participants above chance leve… ┆ 9 out of 9    │\n",
                        "│ Participants above overall acc… ┆ 5 out of 9    │\n",
                        "│ Highest accuracy (Participant … ┆ 91.7% (ID: 1) │\n",
                        "│ Lowest accuracy (Participant I… ┆ 58.3% (ID: 5) │\n",
                        "└─────────────────────────────────┴───────────────┘\n"
                    ]
                }
            ],
            "source": [
                "# Extract overall accuracy and create a DataFrame without the overall row\n",
                "overall_row = results_df.filter(pl.col(\"participant\") == \"overall\")\n",
                "overall_accuracy = overall_row[\"accuracy\"][0]\n",
                "participants_df = results_df.filter(pl.col(\"participant\") != \"overall\")\n",
                "\n",
                "# Generate the table with cleaner code\n",
                "stat_df = pl.DataFrame(\n",
                "    {\n",
                "        \"Measure\": [\n",
                "            \"Overall accuracy\",\n",
                "            \"Participants above chance level\",\n",
                "            \"Participants above overall accuracy\",\n",
                "            \"Highest accuracy (Participant ID)\",\n",
                "            \"Lowest accuracy (Participant ID)\",\n",
                "        ],\n",
                "        \"Value\": [\n",
                "            f\"{overall_accuracy:.1%}\",\n",
                "            f\"{participants_df.filter(pl.col('accuracy') > 0.5).height} out of {participants_df.height}\",\n",
                "            f\"{participants_df.filter(pl.col('accuracy') > overall_accuracy).height} out of {participants_df.height}\",\n",
                "            f\"{participants_df['accuracy'].max():.1%} (ID: {participants_df.filter(pl.col('accuracy') == participants_df['accuracy'].max())['participant'][0]})\",\n",
                "            f\"{participants_df['accuracy'].min():.1%} (ID: {participants_df.filter(pl.col('accuracy') == participants_df['accuracy'].min())['participant'][0]})\",\n",
                "        ],\n",
                "    }\n",
                ")\n",
                "\n",
                "print(\"Table 1: Summary of classification accuracy across participants\")\n",
                "print(stat_df)"
            ]
        }
    ],
    "metadata": {
        "kernelspec": {
            "display_name": "pain",
            "language": "python",
            "name": "python3"
        },
        "language_info": {
            "codemirror_mode": {
                "name": "ipython",
                "version": 3
            },
            "file_extension": ".py",
            "mimetype": "text/x-python",
            "name": "python",
            "nbconvert_exporter": "python",
            "pygments_lexer": "ipython3",
            "version": "3.12.10"
        }
    },
    "nbformat": 4,
    "nbformat_minor": 2
}
