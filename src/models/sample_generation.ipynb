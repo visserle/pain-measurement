{
    "cells": [
        {
            "cell_type": "code",
            "execution_count": 11,
            "metadata": {},
            "outputs": [],
            "source": [
                "%%capture\n",
                "from pathlib import Path\n",
                "\n",
                "if Path.cwd().stem == \"models\":\n",
                "    %cd ../..\n",
                "    %load_ext autoreload\n",
                "    %autoreload 2"
            ]
        },
        {
            "cell_type": "code",
            "execution_count": null,
            "metadata": {},
            "outputs": [
                {
                    "data": {
                        "text/html": [
                            "<script type=\"esms-options\">{\"shimMode\": true}</script><style>*[data-root-id],\n",
                            "*[data-root-id] > * {\n",
                            "  box-sizing: border-box;\n",
                            "  font-family: var(--jp-ui-font-family);\n",
                            "  font-size: var(--jp-ui-font-size1);\n",
                            "  color: var(--vscode-editor-foreground, var(--jp-ui-font-color1));\n",
                            "}\n",
                            "\n",
                            "/* Override VSCode background color */\n",
                            ".cell-output-ipywidget-background:has(\n",
                            "    > .cell-output-ipywidget-background > .lm-Widget > *[data-root-id]\n",
                            "  ),\n",
                            ".cell-output-ipywidget-background:has(> .lm-Widget > *[data-root-id]) {\n",
                            "  background-color: transparent !important;\n",
                            "}\n",
                            "</style>"
                        ]
                    },
                    "metadata": {},
                    "output_type": "display_data"
                },
                {
                    "data": {
                        "application/javascript": "(function(root) {\n  function now() {\n    return new Date();\n  }\n\n  const force = true;\n  const py_version = '3.7.2'.replace('rc', '-rc.').replace('.dev', '-dev.');\n  const reloading = false;\n  const Bokeh = root.Bokeh;\n\n  // Set a timeout for this load but only if we are not already initializing\n  if (typeof (root._bokeh_timeout) === \"undefined\" || (force || !root._bokeh_is_initializing)) {\n    root._bokeh_timeout = Date.now() + 5000;\n    root._bokeh_failed_load = false;\n  }\n\n  function run_callbacks() {\n    try {\n      root._bokeh_onload_callbacks.forEach(function(callback) {\n        if (callback != null)\n          callback();\n      });\n    } finally {\n      delete root._bokeh_onload_callbacks;\n    }\n    console.debug(\"Bokeh: all callbacks have finished\");\n  }\n\n  function load_libs(css_urls, js_urls, js_modules, js_exports, callback) {\n    if (css_urls == null) css_urls = [];\n    if (js_urls == null) js_urls = [];\n    if (js_modules == null) js_modules = [];\n    if (js_exports == null) js_exports = {};\n\n    root._bokeh_onload_callbacks.push(callback);\n\n    if (root._bokeh_is_loading > 0) {\n      // Don't load bokeh if it is still initializing\n      console.debug(\"Bokeh: BokehJS is being loaded, scheduling callback at\", now());\n      return null;\n    } else if (js_urls.length === 0 && js_modules.length === 0 && Object.keys(js_exports).length === 0) {\n      // There is nothing to load\n      run_callbacks();\n      return null;\n    }\n\n    function on_load() {\n      root._bokeh_is_loading--;\n      if (root._bokeh_is_loading === 0) {\n        console.debug(\"Bokeh: all BokehJS libraries/stylesheets loaded\");\n        run_callbacks()\n      }\n    }\n    window._bokeh_on_load = on_load\n\n    function on_error(e) {\n      const src_el = e.srcElement\n      console.error(\"failed to load \" + (src_el.href || src_el.src));\n    }\n\n    const skip = [];\n    if (window.requirejs) {\n      window.requirejs.config({'packages': {}, 'paths': {}, 'shim': {}});\n      root._bokeh_is_loading = css_urls.length + 0;\n    } else {\n      root._bokeh_is_loading = css_urls.length + js_urls.length + js_modules.length + Object.keys(js_exports).length;\n    }\n\n    const existing_stylesheets = []\n    const links = document.getElementsByTagName('link')\n    for (let i = 0; i < links.length; i++) {\n      const link = links[i]\n      if (link.href != null) {\n        existing_stylesheets.push(link.href)\n      }\n    }\n    for (let i = 0; i < css_urls.length; i++) {\n      const url = css_urls[i];\n      const escaped = encodeURI(url)\n      if (existing_stylesheets.indexOf(escaped) !== -1) {\n        on_load()\n        continue;\n      }\n      const element = document.createElement(\"link\");\n      element.onload = on_load;\n      element.onerror = on_error;\n      element.rel = \"stylesheet\";\n      element.type = \"text/css\";\n      element.href = url;\n      console.debug(\"Bokeh: injecting link tag for BokehJS stylesheet: \", url);\n      document.body.appendChild(element);\n    }    var existing_scripts = []\n    const scripts = document.getElementsByTagName('script')\n    for (let i = 0; i < scripts.length; i++) {\n      var script = scripts[i]\n      if (script.src != null) {\n        existing_scripts.push(script.src)\n      }\n    }\n    for (let i = 0; i < js_urls.length; i++) {\n      const url = js_urls[i];\n      const escaped = encodeURI(url)\n      if (skip.indexOf(escaped) !== -1 || existing_scripts.indexOf(escaped) !== -1) {\n        if (!window.requirejs) {\n          on_load();\n        }\n        continue;\n      }\n      const element = document.createElement('script');\n      element.onload = on_load;\n      element.onerror = on_error;\n      element.async = false;\n      element.src = url;\n      console.debug(\"Bokeh: injecting script tag for BokehJS library: \", url);\n      document.head.appendChild(element);\n    }\n    for (let i = 0; i < js_modules.length; i++) {\n      const url = js_modules[i];\n      const escaped = encodeURI(url)\n      if (skip.indexOf(escaped) !== -1 || existing_scripts.indexOf(escaped) !== -1) {\n        if (!window.requirejs) {\n          on_load();\n        }\n        continue;\n      }\n      var element = document.createElement('script');\n      element.onload = on_load;\n      element.onerror = on_error;\n      element.async = false;\n      element.src = url;\n      element.type = \"module\";\n      console.debug(\"Bokeh: injecting script tag for BokehJS library: \", url);\n      document.head.appendChild(element);\n    }\n    for (const name in js_exports) {\n      const url = js_exports[name];\n      const escaped = encodeURI(url)\n      if (skip.indexOf(escaped) >= 0 || root[name] != null) {\n        if (!window.requirejs) {\n          on_load();\n        }\n        continue;\n      }\n      var element = document.createElement('script');\n      element.onerror = on_error;\n      element.async = false;\n      element.type = \"module\";\n      console.debug(\"Bokeh: injecting script tag for BokehJS library: \", url);\n      element.textContent = `\n      import ${name} from \"${url}\"\n      window.${name} = ${name}\n      window._bokeh_on_load()\n      `\n      document.head.appendChild(element);\n    }\n    if (!js_urls.length && !js_modules.length) {\n      on_load()\n    }\n  };\n\n  function inject_raw_css(css) {\n    const element = document.createElement(\"style\");\n    element.appendChild(document.createTextNode(css));\n    document.body.appendChild(element);\n  }\n\n  const js_urls = [\"https://cdn.holoviz.org/panel/1.6.2/dist/bundled/reactiveesm/es-module-shims@^1.10.0/dist/es-module-shims.min.js\", \"https://cdn.bokeh.org/bokeh/release/bokeh-3.7.2.min.js\", \"https://cdn.bokeh.org/bokeh/release/bokeh-gl-3.7.2.min.js\", \"https://cdn.bokeh.org/bokeh/release/bokeh-widgets-3.7.2.min.js\", \"https://cdn.bokeh.org/bokeh/release/bokeh-tables-3.7.2.min.js\", \"https://cdn.holoviz.org/panel/1.6.2/dist/panel.min.js\"];\n  const js_modules = [];\n  const js_exports = {};\n  const css_urls = [];\n  const inline_js = [    function(Bokeh) {\n      Bokeh.set_log_level(\"info\");\n    },\nfunction(Bokeh) {} // ensure no trailing comma for IE\n  ];\n\n  function run_inline_js() {\n    if ((root.Bokeh !== undefined) || (force === true)) {\n      for (let i = 0; i < inline_js.length; i++) {\n        try {\n          inline_js[i].call(root, root.Bokeh);\n        } catch(e) {\n          if (!reloading) {\n            throw e;\n          }\n        }\n      }\n      // Cache old bokeh versions\n      if (Bokeh != undefined && !reloading) {\n        var NewBokeh = root.Bokeh;\n        if (Bokeh.versions === undefined) {\n          Bokeh.versions = new Map();\n        }\n        if (NewBokeh.version !== Bokeh.version) {\n          Bokeh.versions.set(NewBokeh.version, NewBokeh)\n        }\n        root.Bokeh = Bokeh;\n      }\n    } else if (Date.now() < root._bokeh_timeout) {\n      setTimeout(run_inline_js, 100);\n    } else if (!root._bokeh_failed_load) {\n      console.log(\"Bokeh: BokehJS failed to load within specified timeout.\");\n      root._bokeh_failed_load = true;\n    }\n    root._bokeh_is_initializing = false\n  }\n\n  function load_or_wait() {\n    // Implement a backoff loop that tries to ensure we do not load multiple\n    // versions of Bokeh and its dependencies at the same time.\n    // In recent versions we use the root._bokeh_is_initializing flag\n    // to determine whether there is an ongoing attempt to initialize\n    // bokeh, however for backward compatibility we also try to ensure\n    // that we do not start loading a newer (Panel>=1.0 and Bokeh>3) version\n    // before older versions are fully initialized.\n    if (root._bokeh_is_initializing && Date.now() > root._bokeh_timeout) {\n      // If the timeout and bokeh was not successfully loaded we reset\n      // everything and try loading again\n      root._bokeh_timeout = Date.now() + 5000;\n      root._bokeh_is_initializing = false;\n      root._bokeh_onload_callbacks = undefined;\n      root._bokeh_is_loading = 0\n      console.log(\"Bokeh: BokehJS was loaded multiple times but one version failed to initialize.\");\n      load_or_wait();\n    } else if (root._bokeh_is_initializing || (typeof root._bokeh_is_initializing === \"undefined\" && root._bokeh_onload_callbacks !== undefined)) {\n      setTimeout(load_or_wait, 100);\n    } else {\n      root._bokeh_is_initializing = true\n      root._bokeh_onload_callbacks = []\n      const bokeh_loaded = root.Bokeh != null && (root.Bokeh.version === py_version || (root.Bokeh.versions !== undefined && root.Bokeh.versions.has(py_version)));\n      if (!reloading && !bokeh_loaded) {\n        if (root.Bokeh) {\n          root.Bokeh = undefined;\n        }\n        console.debug(\"Bokeh: BokehJS not loaded, scheduling load and callback at\", now());\n      }\n      load_libs(css_urls, js_urls, js_modules, js_exports, function() {\n        console.debug(\"Bokeh: BokehJS plotting callback run at\", now());\n        run_inline_js();\n      });\n    }\n  }\n  // Give older versions of the autoload script a head-start to ensure\n  // they initialize before we start loading newer version.\n  setTimeout(load_or_wait, 100)\n}(window));",
                        "application/vnd.holoviews_load.v0+json": ""
                    },
                    "metadata": {},
                    "output_type": "display_data"
                },
                {
                    "data": {
                        "application/javascript": "\nif ((window.PyViz === undefined) || (window.PyViz instanceof HTMLElement)) {\n  window.PyViz = {comms: {}, comm_status:{}, kernels:{}, receivers: {}, plot_index: []}\n}\n\n\n    function JupyterCommManager() {\n    }\n\n    JupyterCommManager.prototype.register_target = function(plot_id, comm_id, msg_handler) {\n      if (window.comm_manager || ((window.Jupyter !== undefined) && (Jupyter.notebook.kernel != null))) {\n        var comm_manager = window.comm_manager || Jupyter.notebook.kernel.comm_manager;\n        comm_manager.register_target(comm_id, function(comm) {\n          comm.on_msg(msg_handler);\n        });\n      } else if ((plot_id in window.PyViz.kernels) && (window.PyViz.kernels[plot_id])) {\n        window.PyViz.kernels[plot_id].registerCommTarget(comm_id, function(comm) {\n          comm.onMsg = msg_handler;\n        });\n      } else if (typeof google != 'undefined' && google.colab.kernel != null) {\n        google.colab.kernel.comms.registerTarget(comm_id, (comm) => {\n          var messages = comm.messages[Symbol.asyncIterator]();\n          function processIteratorResult(result) {\n            var message = result.value;\n            console.log(message)\n            var content = {data: message.data, comm_id};\n            var buffers = []\n            for (var buffer of message.buffers || []) {\n              buffers.push(new DataView(buffer))\n            }\n            var metadata = message.metadata || {};\n            var msg = {content, buffers, metadata}\n            msg_handler(msg);\n            return messages.next().then(processIteratorResult);\n          }\n          return messages.next().then(processIteratorResult);\n        })\n      }\n    }\n\n    JupyterCommManager.prototype.get_client_comm = function(plot_id, comm_id, msg_handler) {\n      if (comm_id in window.PyViz.comms) {\n        return window.PyViz.comms[comm_id];\n      } else if (window.comm_manager || ((window.Jupyter !== undefined) && (Jupyter.notebook.kernel != null))) {\n        var comm_manager = window.comm_manager || Jupyter.notebook.kernel.comm_manager;\n        var comm = comm_manager.new_comm(comm_id, {}, {}, {}, comm_id);\n        if (msg_handler) {\n          comm.on_msg(msg_handler);\n        }\n      } else if ((plot_id in window.PyViz.kernels) && (window.PyViz.kernels[plot_id])) {\n        var comm = window.PyViz.kernels[plot_id].connectToComm(comm_id);\n        comm.open();\n        if (msg_handler) {\n          comm.onMsg = msg_handler;\n        }\n      } else if (typeof google != 'undefined' && google.colab.kernel != null) {\n        var comm_promise = google.colab.kernel.comms.open(comm_id)\n        comm_promise.then((comm) => {\n          window.PyViz.comms[comm_id] = comm;\n          if (msg_handler) {\n            var messages = comm.messages[Symbol.asyncIterator]();\n            function processIteratorResult(result) {\n              var message = result.value;\n              var content = {data: message.data};\n              var metadata = message.metadata || {comm_id};\n              var msg = {content, metadata}\n              msg_handler(msg);\n              return messages.next().then(processIteratorResult);\n            }\n            return messages.next().then(processIteratorResult);\n          }\n        })\n        var sendClosure = (data, metadata, buffers, disposeOnDone) => {\n          return comm_promise.then((comm) => {\n            comm.send(data, metadata, buffers, disposeOnDone);\n          });\n        };\n        var comm = {\n          send: sendClosure\n        };\n      }\n      window.PyViz.comms[comm_id] = comm;\n      return comm;\n    }\n    window.PyViz.comm_manager = new JupyterCommManager();\n    \n\n\nvar JS_MIME_TYPE = 'application/javascript';\nvar HTML_MIME_TYPE = 'text/html';\nvar EXEC_MIME_TYPE = 'application/vnd.holoviews_exec.v0+json';\nvar CLASS_NAME = 'output';\n\n/**\n * Render data to the DOM node\n */\nfunction render(props, node) {\n  var div = document.createElement(\"div\");\n  var script = document.createElement(\"script\");\n  node.appendChild(div);\n  node.appendChild(script);\n}\n\n/**\n * Handle when a new output is added\n */\nfunction handle_add_output(event, handle) {\n  var output_area = handle.output_area;\n  var output = handle.output;\n  if ((output.data == undefined) || (!output.data.hasOwnProperty(EXEC_MIME_TYPE))) {\n    return\n  }\n  var id = output.metadata[EXEC_MIME_TYPE][\"id\"];\n  var toinsert = output_area.element.find(\".\" + CLASS_NAME.split(' ')[0]);\n  if (id !== undefined) {\n    var nchildren = toinsert.length;\n    var html_node = toinsert[nchildren-1].children[0];\n    html_node.innerHTML = output.data[HTML_MIME_TYPE];\n    var scripts = [];\n    var nodelist = html_node.querySelectorAll(\"script\");\n    for (var i in nodelist) {\n      if (nodelist.hasOwnProperty(i)) {\n        scripts.push(nodelist[i])\n      }\n    }\n\n    scripts.forEach( function (oldScript) {\n      var newScript = document.createElement(\"script\");\n      var attrs = [];\n      var nodemap = oldScript.attributes;\n      for (var j in nodemap) {\n        if (nodemap.hasOwnProperty(j)) {\n          attrs.push(nodemap[j])\n        }\n      }\n      attrs.forEach(function(attr) { newScript.setAttribute(attr.name, attr.value) });\n      newScript.appendChild(document.createTextNode(oldScript.innerHTML));\n      oldScript.parentNode.replaceChild(newScript, oldScript);\n    });\n    if (JS_MIME_TYPE in output.data) {\n      toinsert[nchildren-1].children[1].textContent = output.data[JS_MIME_TYPE];\n    }\n    output_area._hv_plot_id = id;\n    if ((window.Bokeh !== undefined) && (id in Bokeh.index)) {\n      window.PyViz.plot_index[id] = Bokeh.index[id];\n    } else {\n      window.PyViz.plot_index[id] = null;\n    }\n  } else if (output.metadata[EXEC_MIME_TYPE][\"server_id\"] !== undefined) {\n    var bk_div = document.createElement(\"div\");\n    bk_div.innerHTML = output.data[HTML_MIME_TYPE];\n    var script_attrs = bk_div.children[0].attributes;\n    for (var i = 0; i < script_attrs.length; i++) {\n      toinsert[toinsert.length - 1].childNodes[1].setAttribute(script_attrs[i].name, script_attrs[i].value);\n    }\n    // store reference to server id on output_area\n    output_area._bokeh_server_id = output.metadata[EXEC_MIME_TYPE][\"server_id\"];\n  }\n}\n\n/**\n * Handle when an output is cleared or removed\n */\nfunction handle_clear_output(event, handle) {\n  var id = handle.cell.output_area._hv_plot_id;\n  var server_id = handle.cell.output_area._bokeh_server_id;\n  if (((id === undefined) || !(id in PyViz.plot_index)) && (server_id !== undefined)) { return; }\n  var comm = window.PyViz.comm_manager.get_client_comm(\"hv-extension-comm\", \"hv-extension-comm\", function () {});\n  if (server_id !== null) {\n    comm.send({event_type: 'server_delete', 'id': server_id});\n    return;\n  } else if (comm !== null) {\n    comm.send({event_type: 'delete', 'id': id});\n  }\n  delete PyViz.plot_index[id];\n  if ((window.Bokeh !== undefined) & (id in window.Bokeh.index)) {\n    var doc = window.Bokeh.index[id].model.document\n    doc.clear();\n    const i = window.Bokeh.documents.indexOf(doc);\n    if (i > -1) {\n      window.Bokeh.documents.splice(i, 1);\n    }\n  }\n}\n\n/**\n * Handle kernel restart event\n */\nfunction handle_kernel_cleanup(event, handle) {\n  delete PyViz.comms[\"hv-extension-comm\"];\n  window.PyViz.plot_index = {}\n}\n\n/**\n * Handle update_display_data messages\n */\nfunction handle_update_output(event, handle) {\n  handle_clear_output(event, {cell: {output_area: handle.output_area}})\n  handle_add_output(event, handle)\n}\n\nfunction register_renderer(events, OutputArea) {\n  function append_mime(data, metadata, element) {\n    // create a DOM node to render to\n    var toinsert = this.create_output_subarea(\n    metadata,\n    CLASS_NAME,\n    EXEC_MIME_TYPE\n    );\n    this.keyboard_manager.register_events(toinsert);\n    // Render to node\n    var props = {data: data, metadata: metadata[EXEC_MIME_TYPE]};\n    render(props, toinsert[0]);\n    element.append(toinsert);\n    return toinsert\n  }\n\n  events.on('output_added.OutputArea', handle_add_output);\n  events.on('output_updated.OutputArea', handle_update_output);\n  events.on('clear_output.CodeCell', handle_clear_output);\n  events.on('delete.Cell', handle_clear_output);\n  events.on('kernel_ready.Kernel', handle_kernel_cleanup);\n\n  OutputArea.prototype.register_mime_type(EXEC_MIME_TYPE, append_mime, {\n    safe: true,\n    index: 0\n  });\n}\n\nif (window.Jupyter !== undefined) {\n  try {\n    var events = require('base/js/events');\n    var OutputArea = require('notebook/js/outputarea').OutputArea;\n    if (OutputArea.prototype.mime_types().indexOf(EXEC_MIME_TYPE) == -1) {\n      register_renderer(events, OutputArea);\n    }\n  } catch(err) {\n  }\n}\n",
                        "application/vnd.holoviews_load.v0+json": ""
                    },
                    "metadata": {},
                    "output_type": "display_data"
                },
                {
                    "data": {
                        "application/vnd.holoviews_exec.v0+json": "",
                        "text/html": [
                            "<div id='3386f946-def2-4522-9e06-e486cdc914af'>\n",
                            "  <div id=\"ead5c4e0-4efb-4108-bb85-4acf50f30891\" data-root-id=\"3386f946-def2-4522-9e06-e486cdc914af\" style=\"display: contents;\"></div>\n",
                            "</div>\n",
                            "<script type=\"application/javascript\">(function(root) {\n",
                            "  var docs_json = {\"8daa2d07-e801-4635-a74c-ca6a6abff58f\":{\"version\":\"3.7.2\",\"title\":\"Bokeh Application\",\"roots\":[{\"type\":\"object\",\"name\":\"panel.models.browser.BrowserInfo\",\"id\":\"3386f946-def2-4522-9e06-e486cdc914af\"},{\"type\":\"object\",\"name\":\"panel.models.comm_manager.CommManager\",\"id\":\"5866883c-60d9-4b62-b235-623560776ac2\",\"attributes\":{\"plot_id\":\"3386f946-def2-4522-9e06-e486cdc914af\",\"comm_id\":\"f01c02fe02dc4e9d837cca6e8f942371\",\"client_comm_id\":\"1181bc0e4758472b94b12c9288520c61\"}}],\"defs\":[{\"type\":\"model\",\"name\":\"ReactiveHTML1\"},{\"type\":\"model\",\"name\":\"FlexBox1\",\"properties\":[{\"name\":\"align_content\",\"kind\":\"Any\",\"default\":\"flex-start\"},{\"name\":\"align_items\",\"kind\":\"Any\",\"default\":\"flex-start\"},{\"name\":\"flex_direction\",\"kind\":\"Any\",\"default\":\"row\"},{\"name\":\"flex_wrap\",\"kind\":\"Any\",\"default\":\"wrap\"},{\"name\":\"gap\",\"kind\":\"Any\",\"default\":\"\"},{\"name\":\"justify_content\",\"kind\":\"Any\",\"default\":\"flex-start\"}]},{\"type\":\"model\",\"name\":\"FloatPanel1\",\"properties\":[{\"name\":\"config\",\"kind\":\"Any\",\"default\":{\"type\":\"map\"}},{\"name\":\"contained\",\"kind\":\"Any\",\"default\":true},{\"name\":\"position\",\"kind\":\"Any\",\"default\":\"right-top\"},{\"name\":\"offsetx\",\"kind\":\"Any\",\"default\":null},{\"name\":\"offsety\",\"kind\":\"Any\",\"default\":null},{\"name\":\"theme\",\"kind\":\"Any\",\"default\":\"primary\"},{\"name\":\"status\",\"kind\":\"Any\",\"default\":\"normalized\"}]},{\"type\":\"model\",\"name\":\"GridStack1\",\"properties\":[{\"name\":\"ncols\",\"kind\":\"Any\",\"default\":null},{\"name\":\"nrows\",\"kind\":\"Any\",\"default\":null},{\"name\":\"allow_resize\",\"kind\":\"Any\",\"default\":true},{\"name\":\"allow_drag\",\"kind\":\"Any\",\"default\":true},{\"name\":\"state\",\"kind\":\"Any\",\"default\":[]}]},{\"type\":\"model\",\"name\":\"drag1\",\"properties\":[{\"name\":\"slider_width\",\"kind\":\"Any\",\"default\":5},{\"name\":\"slider_color\",\"kind\":\"Any\",\"default\":\"black\"},{\"name\":\"value\",\"kind\":\"Any\",\"default\":50}]},{\"type\":\"model\",\"name\":\"click1\",\"properties\":[{\"name\":\"terminal_output\",\"kind\":\"Any\",\"default\":\"\"},{\"name\":\"debug_name\",\"kind\":\"Any\",\"default\":\"\"},{\"name\":\"clears\",\"kind\":\"Any\",\"default\":0}]},{\"type\":\"model\",\"name\":\"FastWrapper1\",\"properties\":[{\"name\":\"object\",\"kind\":\"Any\",\"default\":null},{\"name\":\"style\",\"kind\":\"Any\",\"default\":null}]},{\"type\":\"model\",\"name\":\"NotificationArea1\",\"properties\":[{\"name\":\"js_events\",\"kind\":\"Any\",\"default\":{\"type\":\"map\"}},{\"name\":\"max_notifications\",\"kind\":\"Any\",\"default\":5},{\"name\":\"notifications\",\"kind\":\"Any\",\"default\":[]},{\"name\":\"position\",\"kind\":\"Any\",\"default\":\"bottom-right\"},{\"name\":\"_clear\",\"kind\":\"Any\",\"default\":0},{\"name\":\"types\",\"kind\":\"Any\",\"default\":[{\"type\":\"map\",\"entries\":[[\"type\",\"warning\"],[\"background\",\"#ffc107\"],[\"icon\",{\"type\":\"map\",\"entries\":[[\"className\",\"fas fa-exclamation-triangle\"],[\"tagName\",\"i\"],[\"color\",\"white\"]]}]]},{\"type\":\"map\",\"entries\":[[\"type\",\"info\"],[\"background\",\"#007bff\"],[\"icon\",{\"type\":\"map\",\"entries\":[[\"className\",\"fas fa-info-circle\"],[\"tagName\",\"i\"],[\"color\",\"white\"]]}]]}]}]},{\"type\":\"model\",\"name\":\"Notification\",\"properties\":[{\"name\":\"background\",\"kind\":\"Any\",\"default\":null},{\"name\":\"duration\",\"kind\":\"Any\",\"default\":3000},{\"name\":\"icon\",\"kind\":\"Any\",\"default\":null},{\"name\":\"message\",\"kind\":\"Any\",\"default\":\"\"},{\"name\":\"notification_type\",\"kind\":\"Any\",\"default\":null},{\"name\":\"_rendered\",\"kind\":\"Any\",\"default\":false},{\"name\":\"_destroyed\",\"kind\":\"Any\",\"default\":false}]},{\"type\":\"model\",\"name\":\"TemplateActions1\",\"properties\":[{\"name\":\"open_modal\",\"kind\":\"Any\",\"default\":0},{\"name\":\"close_modal\",\"kind\":\"Any\",\"default\":0}]},{\"type\":\"model\",\"name\":\"BootstrapTemplateActions1\",\"properties\":[{\"name\":\"open_modal\",\"kind\":\"Any\",\"default\":0},{\"name\":\"close_modal\",\"kind\":\"Any\",\"default\":0}]},{\"type\":\"model\",\"name\":\"TemplateEditor1\",\"properties\":[{\"name\":\"layout\",\"kind\":\"Any\",\"default\":[]}]},{\"type\":\"model\",\"name\":\"MaterialTemplateActions1\",\"properties\":[{\"name\":\"open_modal\",\"kind\":\"Any\",\"default\":0},{\"name\":\"close_modal\",\"kind\":\"Any\",\"default\":0}]},{\"type\":\"model\",\"name\":\"ReactiveESM1\",\"properties\":[{\"name\":\"esm_constants\",\"kind\":\"Any\",\"default\":{\"type\":\"map\"}}]},{\"type\":\"model\",\"name\":\"JSComponent1\",\"properties\":[{\"name\":\"esm_constants\",\"kind\":\"Any\",\"default\":{\"type\":\"map\"}}]},{\"type\":\"model\",\"name\":\"ReactComponent1\",\"properties\":[{\"name\":\"esm_constants\",\"kind\":\"Any\",\"default\":{\"type\":\"map\"}}]},{\"type\":\"model\",\"name\":\"AnyWidgetComponent1\",\"properties\":[{\"name\":\"esm_constants\",\"kind\":\"Any\",\"default\":{\"type\":\"map\"}}]},{\"type\":\"model\",\"name\":\"request_value1\",\"properties\":[{\"name\":\"fill\",\"kind\":\"Any\",\"default\":\"none\"},{\"name\":\"_synced\",\"kind\":\"Any\",\"default\":null},{\"name\":\"_request_sync\",\"kind\":\"Any\",\"default\":0}]}]}};\n",
                            "  var render_items = [{\"docid\":\"8daa2d07-e801-4635-a74c-ca6a6abff58f\",\"roots\":{\"3386f946-def2-4522-9e06-e486cdc914af\":\"ead5c4e0-4efb-4108-bb85-4acf50f30891\"},\"root_ids\":[\"3386f946-def2-4522-9e06-e486cdc914af\"]}];\n",
                            "  var docs = Object.values(docs_json)\n",
                            "  if (!docs) {\n",
                            "    return\n",
                            "  }\n",
                            "  const py_version = docs[0].version.replace('rc', '-rc.').replace('.dev', '-dev.')\n",
                            "  async function embed_document(root) {\n",
                            "    var Bokeh = get_bokeh(root)\n",
                            "    await Bokeh.embed.embed_items_notebook(docs_json, render_items);\n",
                            "    for (const render_item of render_items) {\n",
                            "      for (const root_id of render_item.root_ids) {\n",
                            "\tconst id_el = document.getElementById(root_id)\n",
                            "\tif (id_el.children.length && id_el.children[0].hasAttribute('data-root-id')) {\n",
                            "\t  const root_el = id_el.children[0]\n",
                            "\t  root_el.id = root_el.id + '-rendered'\n",
                            "\t  for (const child of root_el.children) {\n",
                            "            // Ensure JupyterLab does not capture keyboard shortcuts\n",
                            "            // see: https://jupyterlab.readthedocs.io/en/4.1.x/extension/notebook.html#keyboard-interaction-model\n",
                            "\t    child.setAttribute('data-lm-suppress-shortcuts', 'true')\n",
                            "\t  }\n",
                            "\t}\n",
                            "      }\n",
                            "    }\n",
                            "  }\n",
                            "  function get_bokeh(root) {\n",
                            "    if (root.Bokeh === undefined) {\n",
                            "      return null\n",
                            "    } else if (root.Bokeh.version !== py_version) {\n",
                            "      if (root.Bokeh.versions === undefined || !root.Bokeh.versions.has(py_version)) {\n",
                            "\treturn null\n",
                            "      }\n",
                            "      return root.Bokeh.versions.get(py_version);\n",
                            "    } else if (root.Bokeh.version === py_version) {\n",
                            "      return root.Bokeh\n",
                            "    }\n",
                            "    return null\n",
                            "  }\n",
                            "  function is_loaded(root) {\n",
                            "    var Bokeh = get_bokeh(root)\n",
                            "    return (Bokeh != null && Bokeh.Panel !== undefined)\n",
                            "  }\n",
                            "  if (is_loaded(root)) {\n",
                            "    embed_document(root);\n",
                            "  } else {\n",
                            "    var attempts = 0;\n",
                            "    var timer = setInterval(function(root) {\n",
                            "      if (is_loaded(root)) {\n",
                            "        clearInterval(timer);\n",
                            "        embed_document(root);\n",
                            "      } else if (document.readyState == \"complete\") {\n",
                            "        attempts++;\n",
                            "        if (attempts > 200) {\n",
                            "          clearInterval(timer);\n",
                            "\t  var Bokeh = get_bokeh(root)\n",
                            "\t  if (Bokeh == null || Bokeh.Panel == null) {\n",
                            "            console.warn(\"Panel: ERROR: Unable to run Panel code because Bokeh or Panel library is missing\");\n",
                            "\t  } else {\n",
                            "\t    console.warn(\"Panel: WARNING: Attempting to render but not all required libraries could be resolved.\")\n",
                            "\t    embed_document(root)\n",
                            "\t  }\n",
                            "        }\n",
                            "      }\n",
                            "    }, 25, root)\n",
                            "  }\n",
                            "})(window);</script>"
                        ]
                    },
                    "metadata": {
                        "application/vnd.holoviews_exec.v0+json": {
                            "id": "3386f946-def2-4522-9e06-e486cdc914af"
                        }
                    },
                    "output_type": "display_data"
                }
            ],
            "source": [
                "import logging\n",
                "from pathlib import Path\n",
                "\n",
                "import holoviews as hv\n",
                "import hvplot.polars  # noqa\n",
                "import ipywidgets\n",
                "import matplotlib.pyplot as plt\n",
                "import numpy as np\n",
                "import polars as pl\n",
                "\n",
                "from src.data.database_manager import DatabaseManager\n",
                "from src.features.resampling import (\n",
                "    add_normalized_timestamp,\n",
                ")\n",
                "from src.log_config import configure_logging\n",
                "from src.models.data_loader import transform_sample_df_to_arrays\n",
                "from src.models.sample_creation import create_samples, make_sample_set_balanced\n",
                "\n",
                "configure_logging(\n",
                "    stream_level=logging.DEBUG,\n",
                "    ignore_libs=[\"matplotlib\", \"Comm\", \"bokeh\", \"tornado\"],\n",
                ")\n",
                "\n",
                "pl.Config.set_tbl_rows(12)  # for the 12 trials\n",
                "hv.output(widget_location=\"bottom\", size=130)\n",
                "\n",
                "db = DatabaseManager()"
            ]
        },
        {
            "cell_type": "code",
            "execution_count": 26,
            "metadata": {},
            "outputs": [
                {
                    "name": "stdout",
                    "output_type": "stream",
                    "text": [
                        "16:39:58 | \u001b[36mDEBUG   \u001b[0m| sample_creation | Removed 157 samples that were shorter than 4900.0 ms\n"
                    ]
                },
                {
                    "data": {
                        "text/html": [
                            "<div><style>\n",
                            ".dataframe > thead > tr,\n",
                            ".dataframe > tbody > tr {\n",
                            "  text-align: right;\n",
                            "  white-space: pre-wrap;\n",
                            "}\n",
                            "</style>\n",
                            "<small>shape: (164_900, 12)</small><table border=\"1\" class=\"dataframe\"><thead><tr><th>sample_id</th><th>trial_id</th><th>participant_id</th><th>normalized_timestamp</th><th>timestamp</th><th>rating</th><th>temperature</th><th>eda_raw</th><th>eda_tonic</th><th>eda_phasic</th><th>pupil_mean</th><th>label</th></tr><tr><td>u16</td><td>u16</td><td>u8</td><td>f64</td><td>f64</td><td>f64</td><td>f64</td><td>f64</td><td>f64</td><td>f64</td><td>f64</td><td>u8</td></tr></thead><tbody><tr><td>1</td><td>1</td><td>1</td><td>72000.0</td><td>366198.9762</td><td>1.0</td><td>0.917611</td><td>0.744076</td><td>0.744163</td><td>-0.000086</td><td>3.770929</td><td>0</td></tr><tr><td>1</td><td>1</td><td>1</td><td>72100.0</td><td>366298.9762</td><td>1.0</td><td>0.91422</td><td>0.744136</td><td>0.744152</td><td>-0.000016</td><td>3.882127</td><td>0</td></tr><tr><td>1</td><td>1</td><td>1</td><td>72200.0</td><td>366398.9762</td><td>1.0</td><td>0.910721</td><td>0.744199</td><td>0.744139</td><td>0.00006</td><td>4.125996</td><td>0</td></tr><tr><td>1</td><td>1</td><td>1</td><td>72300.0</td><td>366498.9762</td><td>1.0</td><td>0.907126</td><td>0.744092</td><td>0.744125</td><td>-0.000033</td><td>4.309097</td><td>0</td></tr><tr><td>1</td><td>1</td><td>1</td><td>72400.0</td><td>366598.9762</td><td>1.0</td><td>0.90347</td><td>0.743948</td><td>0.744111</td><td>-0.000163</td><td>4.334012</td><td>0</td></tr><tr><td>1</td><td>1</td><td>1</td><td>72500.0</td><td>366698.9762</td><td>1.0</td><td>0.899683</td><td>0.744093</td><td>0.744097</td><td>-0.000004</td><td>4.326256</td><td>0</td></tr><tr><td>&hellip;</td><td>&hellip;</td><td>&hellip;</td><td>&hellip;</td><td>&hellip;</td><td>&hellip;</td><td>&hellip;</td><td>&hellip;</td><td>&hellip;</td><td>&hellip;</td><td>&hellip;</td><td>&hellip;</td></tr><tr><td>4128</td><td>516</td><td>50</td><td>151600.0</td><td>2.6677e6</td><td>0.994389</td><td>0.598511</td><td>27.490637</td><td>27.440795</td><td>0.049909</td><td>5.482657</td><td>1</td></tr><tr><td>4128</td><td>516</td><td>50</td><td>151700.0</td><td>2.6678e6</td><td>0.995</td><td>0.60579</td><td>27.473472</td><td>27.440962</td><td>0.032578</td><td>5.483765</td><td>1</td></tr><tr><td>4128</td><td>516</td><td>50</td><td>151800.0</td><td>2.6679e6</td><td>0.995</td><td>0.61283</td><td>27.463892</td><td>27.441078</td><td>0.022883</td><td>5.48144</td><td>1</td></tr><tr><td>4128</td><td>516</td><td>50</td><td>151900.0</td><td>2.6680e6</td><td>0.995</td><td>0.620108</td><td>27.461336</td><td>27.441146</td><td>0.020262</td><td>5.493556</td><td>1</td></tr><tr><td>4128</td><td>516</td><td>50</td><td>152000.0</td><td>2.6681e6</td><td>0.995</td><td>0.627159</td><td>27.437892</td><td>27.441199</td><td>-0.003234</td><td>5.525218</td><td>1</td></tr><tr><td>4128</td><td>516</td><td>50</td><td>152100.0</td><td>2.6682e6</td><td>0.995</td><td>0.634243</td><td>27.426063</td><td>27.441198</td><td>-0.015061</td><td>5.564805</td><td>1</td></tr></tbody></table></div>"
                        ],
                        "text/plain": [
                            "shape: (164_900, 12)\n",
                            "┌───────────┬──────────┬────────────┬────────────┬───┬───────────┬────────────┬────────────┬───────┐\n",
                            "│ sample_id ┆ trial_id ┆ participan ┆ normalized ┆ … ┆ eda_tonic ┆ eda_phasic ┆ pupil_mean ┆ label │\n",
                            "│ ---       ┆ ---      ┆ t_id       ┆ _timestamp ┆   ┆ ---       ┆ ---        ┆ ---        ┆ ---   │\n",
                            "│ u16       ┆ u16      ┆ ---        ┆ ---        ┆   ┆ f64       ┆ f64        ┆ f64        ┆ u8    │\n",
                            "│           ┆          ┆ u8         ┆ f64        ┆   ┆           ┆            ┆            ┆       │\n",
                            "╞═══════════╪══════════╪════════════╪════════════╪═══╪═══════════╪════════════╪════════════╪═══════╡\n",
                            "│ 1         ┆ 1        ┆ 1          ┆ 72000.0    ┆ … ┆ 0.744163  ┆ -0.000086  ┆ 3.770929   ┆ 0     │\n",
                            "│ 1         ┆ 1        ┆ 1          ┆ 72100.0    ┆ … ┆ 0.744152  ┆ -0.000016  ┆ 3.882127   ┆ 0     │\n",
                            "│ 1         ┆ 1        ┆ 1          ┆ 72200.0    ┆ … ┆ 0.744139  ┆ 0.00006    ┆ 4.125996   ┆ 0     │\n",
                            "│ 1         ┆ 1        ┆ 1          ┆ 72300.0    ┆ … ┆ 0.744125  ┆ -0.000033  ┆ 4.309097   ┆ 0     │\n",
                            "│ 1         ┆ 1        ┆ 1          ┆ 72400.0    ┆ … ┆ 0.744111  ┆ -0.000163  ┆ 4.334012   ┆ 0     │\n",
                            "│ 1         ┆ 1        ┆ 1          ┆ 72500.0    ┆ … ┆ 0.744097  ┆ -0.000004  ┆ 4.326256   ┆ 0     │\n",
                            "│ …         ┆ …        ┆ …          ┆ …          ┆ … ┆ …         ┆ …          ┆ …          ┆ …     │\n",
                            "│ 4128      ┆ 516      ┆ 50         ┆ 151600.0   ┆ … ┆ 27.440795 ┆ 0.049909   ┆ 5.482657   ┆ 1     │\n",
                            "│ 4128      ┆ 516      ┆ 50         ┆ 151700.0   ┆ … ┆ 27.440962 ┆ 0.032578   ┆ 5.483765   ┆ 1     │\n",
                            "│ 4128      ┆ 516      ┆ 50         ┆ 151800.0   ┆ … ┆ 27.441078 ┆ 0.022883   ┆ 5.48144    ┆ 1     │\n",
                            "│ 4128      ┆ 516      ┆ 50         ┆ 151900.0   ┆ … ┆ 27.441146 ┆ 0.020262   ┆ 5.493556   ┆ 1     │\n",
                            "│ 4128      ┆ 516      ┆ 50         ┆ 152000.0   ┆ … ┆ 27.441199 ┆ -0.003234  ┆ 5.525218   ┆ 1     │\n",
                            "│ 4128      ┆ 516      ┆ 50         ┆ 152100.0   ┆ … ┆ 27.441198 ┆ -0.015061  ┆ 5.564805   ┆ 1     │\n",
                            "└───────────┴──────────┴────────────┴────────────┴───┴───────────┴────────────┴────────────┴───────┘"
                        ]
                    },
                    "execution_count": 26,
                    "metadata": {},
                    "output_type": "execute_result"
                }
            ],
            "source": [
                "with db:\n",
                "    df = db.get_table(\n",
                "        \"Merged_and_Labeled_Data\",\n",
                "        exclude_trials_with_measurement_problems=True,\n",
                "    )\n",
                "\n",
                "intervals = {\n",
                "    # \"decreases\": \"decreasing_intervals\",\n",
                "    \"decreases\": \"major_decreasing_intervals\",\n",
                "    # \"increases\": \"strictly_increasing_intervals_without_plateaus\",\n",
                "    \"increases\": \"strictly_increasing_intervals\",\n",
                "    # \"plateaus\": \"plateau_intervals\",\n",
                "}\n",
                "label_mapping = {\n",
                "    \"decreases\": 0,\n",
                "    \"increases\": 1,\n",
                "    # \"plateaus\": 1,\n",
                "}\n",
                "offsets_ms = {\n",
                "    \"decreases\": 3000,\n",
                "    \"increases\": 0,\n",
                "}\n",
                "\n",
                "sample_duration_ms = 5000\n",
                "samples = create_samples(\n",
                "    df,\n",
                "    intervals,\n",
                "    label_mapping,\n",
                "    sample_duration_ms,\n",
                "    offsets_ms,\n",
                ")\n",
                "# samples = make_sample_set_balanced(samples, random_seed=42)\n",
                "samples = samples.select(\n",
                "    \"sample_id\",\n",
                "    \"trial_id\",\n",
                "    \"participant_id\",\n",
                "    \"normalized_timestamp\",\n",
                "    \"timestamp\",\n",
                "    \"rating\",\n",
                "    \"temperature\",\n",
                "    \"eda_raw\",\n",
                "    \"eda_tonic\",\n",
                "    \"eda_phasic\",\n",
                "    \"pupil_mean\",\n",
                "    \"label\",\n",
                ")\n",
                "feature_list = [\n",
                "    # \"temperature\",  # only for visualization\n",
                "    # \"rating\"\n",
                "    # \"eda_raw\",\n",
                "    \"eda_tonic\",\n",
                "    \"eda_phasic\",\n",
                "    \"pupil_mean\",\n",
                "]\n",
                "samples\n"
            ]
        },
        {
            "cell_type": "code",
            "execution_count": 29,
            "metadata": {},
            "outputs": [
                {
                    "data": {
                        "text/html": [
                            "<div><style>\n",
                            ".dataframe > thead > tr,\n",
                            ".dataframe > tbody > tr {\n",
                            "  text-align: right;\n",
                            "  white-space: pre-wrap;\n",
                            "}\n",
                            "</style>\n",
                            "<small>shape: (2, 2)</small><table border=\"1\" class=\"dataframe\"><thead><tr><th>label</th><th>count</th></tr><tr><td>u8</td><td>u32</td></tr></thead><tbody><tr><td>1</td><td>1885</td></tr><tr><td>0</td><td>1413</td></tr></tbody></table></div>"
                        ],
                        "text/plain": [
                            "shape: (2, 2)\n",
                            "┌───────┬───────┐\n",
                            "│ label ┆ count │\n",
                            "│ ---   ┆ ---   │\n",
                            "│ u8    ┆ u32   │\n",
                            "╞═══════╪═══════╡\n",
                            "│ 1     ┆ 1885  │\n",
                            "│ 0     ┆ 1413  │\n",
                            "└───────┴───────┘"
                        ]
                    },
                    "execution_count": 29,
                    "metadata": {},
                    "output_type": "execute_result"
                }
            ],
            "source": [
                "sample_ids = (\n",
                "    samples.group_by(\"sample_id\").agg(pl.all().first()).select(\"sample_id\", \"label\")\n",
                ")\n",
                "sample_ids_count = sample_ids.get_column(\"label\").value_counts()\n",
                "sample_ids_count"
            ]
        },
        {
            "cell_type": "code",
            "execution_count": 30,
            "metadata": {},
            "outputs": [],
            "source": [
                "samples = make_sample_set_balanced(samples)"
            ]
        },
        {
            "cell_type": "code",
            "execution_count": 31,
            "metadata": {},
            "outputs": [
                {
                    "data": {
                        "application/vnd.jupyter.widget-view+json": {
                            "model_id": "e62db5e8b6784b77ad693f62fe938306",
                            "version_major": 2,
                            "version_minor": 0
                        },
                        "text/plain": [
                            "BokehModel(combine_events=True, render_bundle={'docs_json': {'cc333566-87a7-4719-b8ba-7e713fa5e629': {'version…"
                        ]
                    },
                    "execution_count": 31,
                    "metadata": {},
                    "output_type": "execute_result"
                }
            ],
            "source": [
                "df.hvplot(\n",
                "    x=\"timestamp\", y=\"temperature\", groupby=\"trial_id\", height=300\n",
                ") * samples.hvplot(\n",
                "    x=\"timestamp\",\n",
                "    y=\"temperature\",\n",
                "    groupby=\"trial_id\",\n",
                "    height=300,\n",
                "    kind=\"scatter\",\n",
                "    color=\"red\",\n",
                ")"
            ]
        },
        {
            "cell_type": "code",
            "execution_count": 32,
            "metadata": {},
            "outputs": [
                {
                    "data": {
                        "application/vnd.jupyter.widget-view+json": {
                            "model_id": "97c3a8426c504cc3809b60b6f6d25c7d",
                            "version_major": 2,
                            "version_minor": 0
                        },
                        "text/plain": [
                            "BokehModel(combine_events=True, render_bundle={'docs_json': {'e2eca0fa-5fa1-4830-83c7-c6a601a35526': {'version…"
                        ]
                    },
                    "execution_count": 32,
                    "metadata": {},
                    "output_type": "execute_result"
                }
            ],
            "source": [
                "from src.plots.utils import prepare_multiline_hvplot\n",
                "\n",
                "prepare_multiline_hvplot(\n",
                "    add_normalized_timestamp(\n",
                "        samples,\n",
                "        time_column=\"normalized_timestamp\",\n",
                "        trial_column=\"sample_id\",\n",
                "    ),\n",
                "    time_column=\"normalized_timestamp\",\n",
                "    trial_column=\"sample_id\",\n",
                ").hvplot(\n",
                "    x=\"normalized_timestamp\",\n",
                "    y=[\"rating\", \"temperature\"],\n",
                "    groupby=\"label\",\n",
                "    height=300,\n",
                "    ylim=(0, 1.05),\n",
                "    color=[\"blue\", \"orange\"],\n",
                ")"
            ]
        },
        {
            "cell_type": "code",
            "execution_count": null,
            "metadata": {},
            "outputs": [
                {
                    "data": {
                        "application/vnd.jupyter.widget-view+json": {
                            "model_id": "630a1e7e45874e10b2b9b79f69b842ca",
                            "version_major": 2,
                            "version_minor": 0
                        },
                        "text/plain": [
                            "interactive(children=(IntSlider(value=1412, description='trial', max=2825), Output()), _dom_classes=('widget-i…"
                        ]
                    },
                    "metadata": {},
                    "output_type": "display_data"
                }
            ],
            "source": [
                "X, y, groups = transform_sample_df_to_arrays(\n",
                "    samples,\n",
                "    [\n",
                "        \"temperature\",  # only for visualization\n",
                "        \"rating\",\n",
                "        # \"eda_raw\",\n",
                "        # \"eda_tonic\",\n",
                "        # \"pupil_mean\",\n",
                "    ],\n",
                ")\n",
                "\n",
                "\n",
                "@ipywidgets.interact(trial=(0, X.shape[0] - 1))\n",
                "def plot_trial(trial):\n",
                "    for i in range(X.shape[2]):\n",
                "        plt.plot(X[trial, :, i])\n",
                "    # plt.ylim(0, 1.05)"
            ]
        }
    ],
    "metadata": {
        "kernelspec": {
            "display_name": "pain",
            "language": "python",
            "name": "python3"
        },
        "language_info": {
            "codemirror_mode": {
                "name": "ipython",
                "version": 3
            },
            "file_extension": ".py",
            "mimetype": "text/x-python",
            "name": "python",
            "nbconvert_exporter": "python",
            "pygments_lexer": "ipython3",
            "version": "3.12.10"
        }
    },
    "nbformat": 4,
    "nbformat_minor": 2
}
