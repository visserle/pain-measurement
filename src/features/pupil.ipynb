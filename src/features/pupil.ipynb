{
    "cells": [
        {
            "cell_type": "markdown",
            "metadata": {},
            "source": [
                "- median filter pupil\n",
                "- pupil: blink_threshold, interpolation, median filter, low pass filter (maybe in that order)\n",
                "- irgendetwas ließ sich auch nicht plotten für trials über 1?! -> add_blink_threshold might be the problem\n"
            ]
        },
        {
            "cell_type": "code",
            "execution_count": 5,
            "metadata": {},
            "outputs": [],
            "source": [
                "# TODO: trial 28 is invalid, half of pupil missing -> to be removed FIXME TODO\n",
                "# -> maybe trial 28 can be saved when we only only use the right eye,\n",
                "# maybe this can be implemented in the final mean calculation"
            ]
        },
        {
            "cell_type": "code",
            "execution_count": 6,
            "metadata": {},
            "outputs": [],
            "source": [
                "%%capture\n",
                "from pathlib import Path\n",
                "\n",
                "if Path.cwd().stem == \"features\":\n",
                "    %cd ../..\n",
                "    %load_ext autoreload\n",
                "    %autoreload 2"
            ]
        },
        {
            "cell_type": "code",
            "execution_count": 8,
            "metadata": {},
            "outputs": [],
            "source": [
                "import logging\n",
                "from pathlib import Path\n",
                "\n",
                "import holoviews as hv\n",
                "import hvplot.polars  # noqa\n",
                "import matplotlib.pyplot as plt\n",
                "import numpy as np\n",
                "import polars as pl\n",
                "import scipy.signal as signal\n",
                "from icecream import ic\n",
                "from polars import col\n",
                "\n",
                "from src.data.database_manager import DatabaseManager\n",
                "from src.data.quality_checks import check_sample_rate\n",
                "from src.features.pupil import (\n",
                "    _get_blink_segments,\n",
                "    add_blink_threshold,\n",
                "    average_pupils,\n",
                "    extend_periods_around_blinks,\n",
                "    low_pass_filter_pupil_tonic,\n",
                "    median_filter_pupil,\n",
                ")\n",
                "from src.features.resampling import interpolate_and_fill_nulls\n",
                "from src.features.scaling import scale_min_max\n",
                "from src.features.transforming import map_trials, merge_dfs\n",
                "from src.features.utils import to_describe\n",
                "from src.log_config import configure_logging\n",
                "from src.plots.confidence_intervals import plot_confidence_intervals\n",
                "from src.plots.utils import prepare_multiline_hvplot\n",
                "\n",
                "logger = logging.getLogger(__name__.rsplit(\".\", maxsplit=1)[-1])\n",
                "configure_logging(\n",
                "    stream_level=logging.DEBUG,\n",
                "    ignore_libs=[\"matplotlib\", \"Comm\", \"bokeh\", \"tornado\", \"param\", \"numba\"],\n",
                ")\n",
                "\n",
                "pl.Config.set_tbl_rows(12)  # for the 12 trials\n",
                "hv.output(widget_location=\"bottom\", size=130)"
            ]
        },
        {
            "cell_type": "code",
            "execution_count": 9,
            "metadata": {},
            "outputs": [],
            "source": [
                "db = DatabaseManager()"
            ]
        },
        {
            "cell_type": "code",
            "execution_count": 10,
            "metadata": {},
            "outputs": [],
            "source": [
                "exclude_trials_with_measurement_problems = True\n",
                "with db:\n",
                "    pupil = db.get_table(\"Feature_Pupil\", exclude_trials_with_measurement_problems)\n",
                "    stimulus = db.get_table(\n",
                "        \"Feature_Stimulus\", exclude_trials_with_measurement_problems\n",
                "    )\n",
                "    trials = db.get_table(\"Trials\", exclude_trials_with_measurement_problems)\n",
                "\n",
                "\n",
                "df = merge_dfs([pupil, stimulus])\n",
                "df = merge_dfs(\n",
                "    dfs=[df, trials],\n",
                "    on=[\"trial_id\", \"participant_id\", \"trial_number\"],\n",
                ")\n",
                "df = interpolate_and_fill_nulls(df)"
            ]
        },
        {
            "cell_type": "code",
            "execution_count": 11,
            "metadata": {},
            "outputs": [
                {
                    "data": {
                        "text/html": [
                            "<div><style>\n",
                            ".dataframe > thead > tr,\n",
                            ".dataframe > tbody > tr {\n",
                            "  text-align: right;\n",
                            "  white-space: pre-wrap;\n",
                            "}\n",
                            "</style>\n",
                            "<small>shape: (840_007, 11)</small><table border=\"1\" class=\"dataframe\"><thead><tr><th>trial_id</th><th>trial_number</th><th>participant_id</th><th>rownumber</th><th>timestamp</th><th>pupil_l_raw</th><th>pupil_r_raw</th><th>pupil_r</th><th>pupil_l</th><th>pupil_mean</th><th>pupil_mean_tonic</th></tr><tr><td>u16</td><td>u8</td><td>u8</td><td>u32</td><td>f64</td><td>f64</td><td>f64</td><td>f64</td><td>f64</td><td>f64</td><td>f64</td></tr></thead><tbody><tr><td>23</td><td>1</td><td>3</td><td>11073</td><td>184810.9923</td><td>4.021351</td><td>4.492471</td><td>4.491222</td><td>4.022056</td><td>4.256639</td><td>4.309533</td></tr><tr><td>23</td><td>1</td><td>3</td><td>11079</td><td>184911.0835</td><td>4.042243</td><td>4.502328</td><td>4.50289</td><td>4.041127</td><td>4.272009</td><td>4.31615</td></tr><tr><td>23</td><td>1</td><td>3</td><td>11085</td><td>185011.2371</td><td>4.060301</td><td>4.527627</td><td>4.527639</td><td>4.061712</td><td>4.294675</td><td>4.32272</td></tr><tr><td>23</td><td>1</td><td>3</td><td>11091</td><td>185111.1811</td><td>4.087508</td><td>4.564853</td><td>4.5643</td><td>4.086058</td><td>4.325179</td><td>4.328876</td></tr><tr><td>23</td><td>1</td><td>3</td><td>11097</td><td>185211.3139</td><td>4.128739</td><td>4.582082</td><td>4.582937</td><td>4.12982</td><td>4.356379</td><td>4.334678</td></tr><tr><td>23</td><td>1</td><td>3</td><td>11103</td><td>185311.4403</td><td>4.187119</td><td>4.589672</td><td>4.589475</td><td>4.187547</td><td>4.388511</td><td>4.339869</td></tr><tr><td>&hellip;</td><td>&hellip;</td><td>&hellip;</td><td>&hellip;</td><td>&hellip;</td><td>&hellip;</td><td>&hellip;</td><td>&hellip;</td><td>&hellip;</td><td>&hellip;</td><td>&hellip;</td></tr><tr><td>513</td><td>12</td><td>50</td><td>161500</td><td>2.6956e6</td><td>5.227889</td><td>4.806865</td><td>4.809087</td><td>5.231606</td><td>5.020346</td><td>5.182727</td></tr><tr><td>513</td><td>12</td><td>50</td><td>161506</td><td>2.6957e6</td><td>5.078326</td><td>4.70844</td><td>4.709043</td><td>5.074315</td><td>4.891679</td><td>5.176408</td></tr><tr><td>513</td><td>12</td><td>50</td><td>161512</td><td>2.6958e6</td><td>4.951214</td><td>4.647297</td><td>4.662976</td><td>4.955056</td><td>4.809016</td><td>5.171205</td></tr><tr><td>513</td><td>12</td><td>50</td><td>161518</td><td>2.6959e6</td><td>4.896935</td><td>4.61361</td><td>4.645496</td><td>4.895921</td><td>4.770708</td><td>5.167473</td></tr><tr><td>513</td><td>12</td><td>50</td><td>161524</td><td>2.6960e6</td><td>4.885952</td><td>4.617067</td><td>4.630092</td><td>4.88845</td><td>4.759271</td><td>5.164742</td></tr><tr><td>513</td><td>12</td><td>50</td><td>161530</td><td>2.6961e6</td><td>4.882422</td><td>4.648883</td><td>4.610538</td><td>4.884064</td><td>4.747301</td><td>5.16335</td></tr></tbody></table></div>"
                        ],
                        "text/plain": [
                            "shape: (840_007, 11)\n",
                            "┌──────────┬────────────┬────────────┬───────────┬───┬──────────┬──────────┬───────────┬───────────┐\n",
                            "│ trial_id ┆ trial_numb ┆ participan ┆ rownumber ┆ … ┆ pupil_r  ┆ pupil_l  ┆ pupil_mea ┆ pupil_mea │\n",
                            "│ ---      ┆ er         ┆ t_id       ┆ ---       ┆   ┆ ---      ┆ ---      ┆ n         ┆ n_tonic   │\n",
                            "│ u16      ┆ ---        ┆ ---        ┆ u32       ┆   ┆ f64      ┆ f64      ┆ ---       ┆ ---       │\n",
                            "│          ┆ u8         ┆ u8         ┆           ┆   ┆          ┆          ┆ f64       ┆ f64       │\n",
                            "╞══════════╪════════════╪════════════╪═══════════╪═══╪══════════╪══════════╪═══════════╪═══════════╡\n",
                            "│ 23       ┆ 1          ┆ 3          ┆ 11073     ┆ … ┆ 4.491222 ┆ 4.022056 ┆ 4.256639  ┆ 4.309533  │\n",
                            "│ 23       ┆ 1          ┆ 3          ┆ 11079     ┆ … ┆ 4.50289  ┆ 4.041127 ┆ 4.272009  ┆ 4.31615   │\n",
                            "│ 23       ┆ 1          ┆ 3          ┆ 11085     ┆ … ┆ 4.527639 ┆ 4.061712 ┆ 4.294675  ┆ 4.32272   │\n",
                            "│ 23       ┆ 1          ┆ 3          ┆ 11091     ┆ … ┆ 4.5643   ┆ 4.086058 ┆ 4.325179  ┆ 4.328876  │\n",
                            "│ 23       ┆ 1          ┆ 3          ┆ 11097     ┆ … ┆ 4.582937 ┆ 4.12982  ┆ 4.356379  ┆ 4.334678  │\n",
                            "│ 23       ┆ 1          ┆ 3          ┆ 11103     ┆ … ┆ 4.589475 ┆ 4.187547 ┆ 4.388511  ┆ 4.339869  │\n",
                            "│ …        ┆ …          ┆ …          ┆ …         ┆ … ┆ …        ┆ …        ┆ …         ┆ …         │\n",
                            "│ 513      ┆ 12         ┆ 50         ┆ 161500    ┆ … ┆ 4.809087 ┆ 5.231606 ┆ 5.020346  ┆ 5.182727  │\n",
                            "│ 513      ┆ 12         ┆ 50         ┆ 161506    ┆ … ┆ 4.709043 ┆ 5.074315 ┆ 4.891679  ┆ 5.176408  │\n",
                            "│ 513      ┆ 12         ┆ 50         ┆ 161512    ┆ … ┆ 4.662976 ┆ 4.955056 ┆ 4.809016  ┆ 5.171205  │\n",
                            "│ 513      ┆ 12         ┆ 50         ┆ 161518    ┆ … ┆ 4.645496 ┆ 4.895921 ┆ 4.770708  ┆ 5.167473  │\n",
                            "│ 513      ┆ 12         ┆ 50         ┆ 161524    ┆ … ┆ 4.630092 ┆ 4.88845  ┆ 4.759271  ┆ 5.164742  │\n",
                            "│ 513      ┆ 12         ┆ 50         ┆ 161530    ┆ … ┆ 4.610538 ┆ 4.884064 ┆ 4.747301  ┆ 5.16335   │\n",
                            "└──────────┴────────────┴────────────┴───────────┴───┴──────────┴──────────┴───────────┴───────────┘"
                        ]
                    },
                    "execution_count": 11,
                    "metadata": {},
                    "output_type": "execute_result"
                }
            ],
            "source": [
                "pupil"
            ]
        },
        {
            "cell_type": "code",
            "execution_count": 12,
            "metadata": {},
            "outputs": [
                {
                    "data": {
                        "application/vnd.jupyter.widget-view+json": {
                            "model_id": "5ba0bf3e925446e883a496fae0f54557",
                            "version_major": 2,
                            "version_minor": 0
                        },
                        "text/plain": [
                            "BokehModel(combine_events=True, render_bundle={'docs_json': {'aa4312ca-f947-41eb-9f1e-9547a1ea89a3': {'version…"
                        ]
                    },
                    "execution_count": 12,
                    "metadata": {},
                    "output_type": "execute_result"
                }
            ],
            "source": [
                "df.hvplot(\n",
                "    x=\"timestamp\", y=[\"pupil_r\", \"pupil_mean\", \"pupil_mean_tonic\"], groupby=\"trial_id\"\n",
                ")"
            ]
        },
        {
            "cell_type": "code",
            "execution_count": 48,
            "metadata": {},
            "outputs": [],
            "source": [
                "@map_trials\n",
                "def low_pass_filter_pupil(\n",
                "    df: pl.DataFrame,\n",
                "    sample_rate: float = SAMPLE_RATE,\n",
                "    lowcut: float | None = None,\n",
                "    highcut: float | None = None,\n",
                "    order: int = 2,\n",
                "    pupil_columns: list[str] = [\"pupil_r\", \"pupil_l\"],\n",
                ") -> pl.DataFrame:\n",
                "    return df.with_columns(\n",
                "        pl.col(\n",
                "            pupil_columns\n",
                "        ).map_batches(  # map_batches to apply the filter to each column\n",
                "            lambda x: butterworth_filter(\n",
                "                x,\n",
                "                SAMPLE_RATE,\n",
                "                lowcut=lowcut,\n",
                "                highcut=highcut,\n",
                "                order=order,\n",
                "            )\n",
                "        )\n",
                "    )\n",
                "\n",
                "\n",
                "df = low_pass_filter_pupil(df, sample_rate=10, highcut=0.2)"
            ]
        },
        {
            "cell_type": "code",
            "execution_count": 7,
            "metadata": {},
            "outputs": [
                {
                    "data": {
                        "text/html": [
                            "<div><style>\n",
                            ".dataframe > thead > tr,\n",
                            ".dataframe > tbody > tr {\n",
                            "  text-align: right;\n",
                            "  white-space: pre-wrap;\n",
                            "}\n",
                            "</style>\n",
                            "<small>shape: (9, 2)</small><table border=\"1\" class=\"dataframe\"><thead><tr><th>statistic</th><th>pupil_mean</th></tr><tr><td>str</td><td>f64</td></tr></thead><tbody><tr><td>&quot;count&quot;</td><td>1.681041e6</td></tr><tr><td>&quot;null_count&quot;</td><td>0.0</td></tr><tr><td>&quot;mean&quot;</td><td>3.740733</td></tr><tr><td>&quot;std&quot;</td><td>0.586672</td></tr><tr><td>&quot;min&quot;</td><td>1.898888</td></tr><tr><td>&quot;25%&quot;</td><td>3.328454</td></tr><tr><td>&quot;50%&quot;</td><td>3.69181</td></tr><tr><td>&quot;75%&quot;</td><td>4.088993</td></tr><tr><td>&quot;max&quot;</td><td>6.116632</td></tr></tbody></table></div>"
                        ],
                        "text/plain": [
                            "shape: (9, 2)\n",
                            "┌────────────┬────────────┐\n",
                            "│ statistic  ┆ pupil_mean │\n",
                            "│ ---        ┆ ---        │\n",
                            "│ str        ┆ f64        │\n",
                            "╞════════════╪════════════╡\n",
                            "│ count      ┆ 1.681041e6 │\n",
                            "│ null_count ┆ 0.0        │\n",
                            "│ mean       ┆ 3.740733   │\n",
                            "│ std        ┆ 0.586672   │\n",
                            "│ min        ┆ 1.898888   │\n",
                            "│ 25%        ┆ 3.328454   │\n",
                            "│ 50%        ┆ 3.69181    │\n",
                            "│ 75%        ┆ 4.088993   │\n",
                            "│ max        ┆ 6.116632   │\n",
                            "└────────────┴────────────┘"
                        ]
                    },
                    "execution_count": 7,
                    "metadata": {},
                    "output_type": "execute_result"
                }
            ],
            "source": [
                "df.select(\"pupil_mean\").describe()"
            ]
        },
        {
            "cell_type": "code",
            "execution_count": null,
            "metadata": {},
            "outputs": [],
            "source": []
        },
        {
            "cell_type": "code",
            "execution_count": 8,
            "metadata": {},
            "outputs": [],
            "source": [
                "with db:\n",
                "    pre_pupil = db.get_table(\n",
                "        \"Preprocess_Pupil\", exclude_trials_with_measurement_problems\n",
                "    )\n",
                "    pupil = db.get_table(\"Feature_Pupil\", exclude_trials_with_measurement_problems)"
            ]
        },
        {
            "cell_type": "code",
            "execution_count": 9,
            "metadata": {},
            "outputs": [
                {
                    "data": {
                        "text/html": [
                            "<div><style>\n",
                            ".dataframe > thead > tr,\n",
                            ".dataframe > tbody > tr {\n",
                            "  text-align: right;\n",
                            "  white-space: pre-wrap;\n",
                            "}\n",
                            "</style>\n",
                            "<small>shape: (5_038_313, 9)</small><table border=\"1\" class=\"dataframe\"><thead><tr><th>trial_id</th><th>trial_number</th><th>participant_id</th><th>rownumber</th><th>timestamp</th><th>pupil_l_raw</th><th>pupil_r_raw</th><th>pupil_r</th><th>pupil_l</th></tr><tr><td>u16</td><td>u8</td><td>u8</td><td>u32</td><td>f64</td><td>f64</td><td>f64</td><td>f64</td><td>f64</td></tr></thead><tbody><tr><td>23</td><td>1</td><td>3</td><td>11073</td><td>184810.9923</td><td>4.068285</td><td>4.544422</td><td>4.544422</td><td>4.068285</td></tr><tr><td>23</td><td>1</td><td>3</td><td>11074</td><td>184827.5539</td><td>4.071086</td><td>4.546643</td><td>4.546643</td><td>4.071086</td></tr><tr><td>23</td><td>1</td><td>3</td><td>11075</td><td>184844.3091</td><td>4.07493</td><td>4.545161</td><td>4.545161</td><td>4.07493</td></tr><tr><td>23</td><td>1</td><td>3</td><td>11076</td><td>184860.9299</td><td>4.081421</td><td>4.543365</td><td>4.543365</td><td>4.081421</td></tr><tr><td>23</td><td>1</td><td>3</td><td>11077</td><td>184877.6867</td><td>4.080965</td><td>4.552524</td><td>4.552524</td><td>4.080965</td></tr><tr><td>23</td><td>1</td><td>3</td><td>11078</td><td>184894.3395</td><td>4.086535</td><td>4.555312</td><td>4.555312</td><td>4.086535</td></tr><tr><td>&hellip;</td><td>&hellip;</td><td>&hellip;</td><td>&hellip;</td><td>&hellip;</td><td>&hellip;</td><td>&hellip;</td><td>&hellip;</td><td>&hellip;</td></tr><tr><td>513</td><td>12</td><td>50</td><td>161529</td><td>2.6960e6</td><td>4.940831</td><td>4.702713</td><td>4.702713</td><td>4.940831</td></tr><tr><td>513</td><td>12</td><td>50</td><td>161530</td><td>2.6961e6</td><td>4.942234</td><td>4.707606</td><td>4.707606</td><td>4.942234</td></tr><tr><td>513</td><td>12</td><td>50</td><td>161531</td><td>2.6961e6</td><td>4.945201</td><td>4.71266</td><td>4.71266</td><td>4.945201</td></tr><tr><td>513</td><td>12</td><td>50</td><td>161532</td><td>2.6961e6</td><td>4.944442</td><td>4.719083</td><td>4.719083</td><td>4.944442</td></tr><tr><td>513</td><td>12</td><td>50</td><td>161533</td><td>2.6961e6</td><td>4.947656</td><td>4.726616</td><td>4.726616</td><td>4.947656</td></tr><tr><td>513</td><td>12</td><td>50</td><td>161534</td><td>2.6961e6</td><td>4.944747</td><td>4.728182</td><td>4.728182</td><td>4.944747</td></tr></tbody></table></div>"
                        ],
                        "text/plain": [
                            "shape: (5_038_313, 9)\n",
                            "┌──────────┬────────────┬────────────┬───────────┬───┬───────────┬───────────┬──────────┬──────────┐\n",
                            "│ trial_id ┆ trial_numb ┆ participan ┆ rownumber ┆ … ┆ pupil_l_r ┆ pupil_r_r ┆ pupil_r  ┆ pupil_l  │\n",
                            "│ ---      ┆ er         ┆ t_id       ┆ ---       ┆   ┆ aw        ┆ aw        ┆ ---      ┆ ---      │\n",
                            "│ u16      ┆ ---        ┆ ---        ┆ u32       ┆   ┆ ---       ┆ ---       ┆ f64      ┆ f64      │\n",
                            "│          ┆ u8         ┆ u8         ┆           ┆   ┆ f64       ┆ f64       ┆          ┆          │\n",
                            "╞══════════╪════════════╪════════════╪═══════════╪═══╪═══════════╪═══════════╪══════════╪══════════╡\n",
                            "│ 23       ┆ 1          ┆ 3          ┆ 11073     ┆ … ┆ 4.068285  ┆ 4.544422  ┆ 4.544422 ┆ 4.068285 │\n",
                            "│ 23       ┆ 1          ┆ 3          ┆ 11074     ┆ … ┆ 4.071086  ┆ 4.546643  ┆ 4.546643 ┆ 4.071086 │\n",
                            "│ 23       ┆ 1          ┆ 3          ┆ 11075     ┆ … ┆ 4.07493   ┆ 4.545161  ┆ 4.545161 ┆ 4.07493  │\n",
                            "│ 23       ┆ 1          ┆ 3          ┆ 11076     ┆ … ┆ 4.081421  ┆ 4.543365  ┆ 4.543365 ┆ 4.081421 │\n",
                            "│ 23       ┆ 1          ┆ 3          ┆ 11077     ┆ … ┆ 4.080965  ┆ 4.552524  ┆ 4.552524 ┆ 4.080965 │\n",
                            "│ 23       ┆ 1          ┆ 3          ┆ 11078     ┆ … ┆ 4.086535  ┆ 4.555312  ┆ 4.555312 ┆ 4.086535 │\n",
                            "│ …        ┆ …          ┆ …          ┆ …         ┆ … ┆ …         ┆ …         ┆ …        ┆ …        │\n",
                            "│ 513      ┆ 12         ┆ 50         ┆ 161529    ┆ … ┆ 4.940831  ┆ 4.702713  ┆ 4.702713 ┆ 4.940831 │\n",
                            "│ 513      ┆ 12         ┆ 50         ┆ 161530    ┆ … ┆ 4.942234  ┆ 4.707606  ┆ 4.707606 ┆ 4.942234 │\n",
                            "│ 513      ┆ 12         ┆ 50         ┆ 161531    ┆ … ┆ 4.945201  ┆ 4.71266   ┆ 4.71266  ┆ 4.945201 │\n",
                            "│ 513      ┆ 12         ┆ 50         ┆ 161532    ┆ … ┆ 4.944442  ┆ 4.719083  ┆ 4.719083 ┆ 4.944442 │\n",
                            "│ 513      ┆ 12         ┆ 50         ┆ 161533    ┆ … ┆ 4.947656  ┆ 4.726616  ┆ 4.726616 ┆ 4.947656 │\n",
                            "│ 513      ┆ 12         ┆ 50         ┆ 161534    ┆ … ┆ 4.944747  ┆ 4.728182  ┆ 4.728182 ┆ 4.944747 │\n",
                            "└──────────┴────────────┴────────────┴───────────┴───┴───────────┴───────────┴──────────┴──────────┘"
                        ]
                    },
                    "execution_count": 9,
                    "metadata": {},
                    "output_type": "execute_result"
                }
            ],
            "source": [
                "pre_pupil"
            ]
        },
        {
            "cell_type": "code",
            "execution_count": 10,
            "metadata": {},
            "outputs": [],
            "source": [
                "median_pupil = median_filter_pupil(pre_pupil, size_in_seconds=1)"
            ]
        },
        {
            "cell_type": "code",
            "execution_count": 33,
            "metadata": {},
            "outputs": [
                {
                    "data": {
                        "text/html": [
                            "<div><style>\n",
                            ".dataframe > thead > tr,\n",
                            ".dataframe > tbody > tr {\n",
                            "  text-align: right;\n",
                            "  white-space: pre-wrap;\n",
                            "}\n",
                            "</style>\n",
                            "<small>shape: (5_038_313, 10)</small><table border=\"1\" class=\"dataframe\"><thead><tr><th>trial_id</th><th>trial_number</th><th>participant_id</th><th>rownumber</th><th>timestamp</th><th>pupil_l_raw</th><th>pupil_r_raw</th><th>pupil_r</th><th>pupil_l</th><th>pupil_tonic</th></tr><tr><td>u16</td><td>u8</td><td>u8</td><td>u32</td><td>f64</td><td>f64</td><td>f64</td><td>f64</td><td>f64</td><td>f64</td></tr></thead><tbody><tr><td>23</td><td>1</td><td>3</td><td>11073</td><td>184810.9923</td><td>4.068285</td><td>4.544422</td><td>4.543365</td><td>4.068285</td><td>4.543365</td></tr><tr><td>23</td><td>1</td><td>3</td><td>11074</td><td>184827.5539</td><td>4.071086</td><td>4.546643</td><td>4.544422</td><td>4.071086</td><td>4.544422</td></tr><tr><td>23</td><td>1</td><td>3</td><td>11075</td><td>184844.3091</td><td>4.07493</td><td>4.545161</td><td>4.545161</td><td>4.07493</td><td>4.545161</td></tr><tr><td>23</td><td>1</td><td>3</td><td>11076</td><td>184860.9299</td><td>4.081421</td><td>4.543365</td><td>4.546643</td><td>4.080965</td><td>4.546643</td></tr><tr><td>23</td><td>1</td><td>3</td><td>11077</td><td>184877.6867</td><td>4.080965</td><td>4.552524</td><td>4.552524</td><td>4.081421</td><td>4.552524</td></tr><tr><td>23</td><td>1</td><td>3</td><td>11078</td><td>184894.3395</td><td>4.086535</td><td>4.555312</td><td>4.553684</td><td>4.086535</td><td>4.553684</td></tr><tr><td>&hellip;</td><td>&hellip;</td><td>&hellip;</td><td>&hellip;</td><td>&hellip;</td><td>&hellip;</td><td>&hellip;</td><td>&hellip;</td><td>&hellip;</td><td>&hellip;</td></tr><tr><td>513</td><td>12</td><td>50</td><td>161529</td><td>2.6960e6</td><td>4.940831</td><td>4.702713</td><td>4.665311</td><td>4.943935</td><td>4.665311</td></tr><tr><td>513</td><td>12</td><td>50</td><td>161530</td><td>2.6961e6</td><td>4.942234</td><td>4.707606</td><td>4.664813</td><td>4.942978</td><td>4.664813</td></tr><tr><td>513</td><td>12</td><td>50</td><td>161531</td><td>2.6961e6</td><td>4.945201</td><td>4.71266</td><td>4.664537</td><td>4.942234</td><td>4.664537</td></tr><tr><td>513</td><td>12</td><td>50</td><td>161532</td><td>2.6961e6</td><td>4.944442</td><td>4.719083</td><td>4.664318</td><td>4.940831</td><td>4.664318</td></tr><tr><td>513</td><td>12</td><td>50</td><td>161533</td><td>2.6961e6</td><td>4.947656</td><td>4.726616</td><td>4.663873</td><td>4.94073</td><td>4.663873</td></tr><tr><td>513</td><td>12</td><td>50</td><td>161534</td><td>2.6961e6</td><td>4.944747</td><td>4.728182</td><td>4.661644</td><td>4.936884</td><td>4.661644</td></tr></tbody></table></div>"
                        ],
                        "text/plain": [
                            "shape: (5_038_313, 10)\n",
                            "┌──────────┬────────────┬────────────┬───────────┬───┬───────────┬──────────┬──────────┬───────────┐\n",
                            "│ trial_id ┆ trial_numb ┆ participan ┆ rownumber ┆ … ┆ pupil_r_r ┆ pupil_r  ┆ pupil_l  ┆ pupil_ton │\n",
                            "│ ---      ┆ er         ┆ t_id       ┆ ---       ┆   ┆ aw        ┆ ---      ┆ ---      ┆ ic        │\n",
                            "│ u16      ┆ ---        ┆ ---        ┆ u32       ┆   ┆ ---       ┆ f64      ┆ f64      ┆ ---       │\n",
                            "│          ┆ u8         ┆ u8         ┆           ┆   ┆ f64       ┆          ┆          ┆ f64       │\n",
                            "╞══════════╪════════════╪════════════╪═══════════╪═══╪═══════════╪══════════╪══════════╪═══════════╡\n",
                            "│ 23       ┆ 1          ┆ 3          ┆ 11073     ┆ … ┆ 4.544422  ┆ 4.543365 ┆ 4.068285 ┆ 4.543365  │\n",
                            "│ 23       ┆ 1          ┆ 3          ┆ 11074     ┆ … ┆ 4.546643  ┆ 4.544422 ┆ 4.071086 ┆ 4.544422  │\n",
                            "│ 23       ┆ 1          ┆ 3          ┆ 11075     ┆ … ┆ 4.545161  ┆ 4.545161 ┆ 4.07493  ┆ 4.545161  │\n",
                            "│ 23       ┆ 1          ┆ 3          ┆ 11076     ┆ … ┆ 4.543365  ┆ 4.546643 ┆ 4.080965 ┆ 4.546643  │\n",
                            "│ 23       ┆ 1          ┆ 3          ┆ 11077     ┆ … ┆ 4.552524  ┆ 4.552524 ┆ 4.081421 ┆ 4.552524  │\n",
                            "│ 23       ┆ 1          ┆ 3          ┆ 11078     ┆ … ┆ 4.555312  ┆ 4.553684 ┆ 4.086535 ┆ 4.553684  │\n",
                            "│ …        ┆ …          ┆ …          ┆ …         ┆ … ┆ …         ┆ …        ┆ …        ┆ …         │\n",
                            "│ 513      ┆ 12         ┆ 50         ┆ 161529    ┆ … ┆ 4.702713  ┆ 4.665311 ┆ 4.943935 ┆ 4.665311  │\n",
                            "│ 513      ┆ 12         ┆ 50         ┆ 161530    ┆ … ┆ 4.707606  ┆ 4.664813 ┆ 4.942978 ┆ 4.664813  │\n",
                            "│ 513      ┆ 12         ┆ 50         ┆ 161531    ┆ … ┆ 4.71266   ┆ 4.664537 ┆ 4.942234 ┆ 4.664537  │\n",
                            "│ 513      ┆ 12         ┆ 50         ┆ 161532    ┆ … ┆ 4.719083  ┆ 4.664318 ┆ 4.940831 ┆ 4.664318  │\n",
                            "│ 513      ┆ 12         ┆ 50         ┆ 161533    ┆ … ┆ 4.726616  ┆ 4.663873 ┆ 4.94073  ┆ 4.663873  │\n",
                            "│ 513      ┆ 12         ┆ 50         ┆ 161534    ┆ … ┆ 4.728182  ┆ 4.661644 ┆ 4.936884 ┆ 4.661644  │\n",
                            "└──────────┴────────────┴────────────┴───────────┴───┴───────────┴──────────┴──────────┴───────────┘"
                        ]
                    },
                    "execution_count": 33,
                    "metadata": {},
                    "output_type": "execute_result"
                }
            ],
            "source": [
                "median_pupil.with_columns(pupil_tonic=col(\"pupil_r\"))"
            ]
        },
        {
            "cell_type": "code",
            "execution_count": 31,
            "metadata": {},
            "outputs": [
                {
                    "data": {
                        "application/vnd.jupyter.widget-view+json": {
                            "model_id": "a48638bae26840a587595c0b2f0687a5",
                            "version_major": 2,
                            "version_minor": 0
                        },
                        "text/plain": [
                            "BokehModel(combine_events=True, render_bundle={'docs_json': {'ea81b5fc-2fdc-4ca9-b44d-9bc03687df32': {'version…"
                        ]
                    },
                    "execution_count": 31,
                    "metadata": {},
                    "output_type": "execute_result"
                }
            ],
            "source": [
                "from src.features.filtering import butterworth_filter\n",
                "\n",
                "SAMPLE_RATE = 60\n",
                "\n",
                "\n",
                "@map_trials\n",
                "def low_pass_filter_pupil(\n",
                "    df: pl.DataFrame,\n",
                "    sample_rate: float = SAMPLE_RATE,\n",
                "    lowcut: float | None = None,\n",
                "    highcut: float | None = None,\n",
                "    order: int = 2,\n",
                "    pupil_columns: list[str] = [\"pupil_r\", \"pupil_l\"],\n",
                ") -> pl.DataFrame:\n",
                "    return df.with_columns(\n",
                "        pl.col(\n",
                "            pupil_columns\n",
                "        ).map_batches(  # map_batches to apply the filter to each column\n",
                "            lambda x: butterworth_filter(\n",
                "                x,\n",
                "                SAMPLE_RATE,\n",
                "                lowcut=lowcut,\n",
                "                highcut=highcut,\n",
                "                order=order,\n",
                "            )\n",
                "        )\n",
                "    )\n",
                "\n",
                "\n",
                "smooth_pupil = low_pass_filter_pupil(median_pupil, highcut=4)\n",
                "\n",
                "median_pupil.hvplot(\n",
                "    x=\"timestamp\", y=[\"pupil_r\"], groupby=\"trial_id\"\n",
                ") * smooth_pupil.hvplot(x=\"timestamp\", y=[\"pupil_r\"], groupby=\"trial_id\")\n"
            ]
        },
        {
            "cell_type": "code",
            "execution_count": null,
            "metadata": {},
            "outputs": [],
            "source": []
        },
        {
            "cell_type": "code",
            "execution_count": null,
            "metadata": {},
            "outputs": [],
            "source": []
        }
    ],
    "metadata": {
        "kernelspec": {
            "display_name": "pain",
            "language": "python",
            "name": "python3"
        },
        "language_info": {
            "codemirror_mode": {
                "name": "ipython",
                "version": 3
            },
            "file_extension": ".py",
            "mimetype": "text/x-python",
            "name": "python",
            "nbconvert_exporter": "python",
            "pygments_lexer": "ipython3",
            "version": "3.12.4"
        },
        "orig_nbformat": 4
    },
    "nbformat": 4,
    "nbformat_minor": 2
}
